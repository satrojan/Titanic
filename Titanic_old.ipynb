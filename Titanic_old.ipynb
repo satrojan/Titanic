{
 "cells": [
  {
   "cell_type": "markdown",
   "metadata": {},
   "source": [
    "| Variable | Definition                                 | Key                                                                                                                                                                                                |\n",
    "|----------|--------------------------------------------|----------------------------------------------------------------------------------------------------------------------------------------------------------------------------------------------------|\n",
    "| survival | Survival                                   | 0 = No, 1 = Yes                                                                                                                                                                                    |\n",
    "| pclass   | Ticket class                               | 1 = 1st, 2 = 2nd, 3 = 3rd  pclass : A proxy for socio-economic status (SES)  1st = Upper  2nd = Middle  3rd = Lower                                                                                |\n",
    "| sex      | Sex                                        |                                                                                                                                                                                                    |\n",
    "| Age      | Age in years                               | Age is fractional if less than 1. If the age is estimated, is it in the form of xx.5                                                                                                               |\n",
    "| sibsp    | # of siblings / spouses aboard the Titanic | The dataset defines family relations in this way...  Sibling = brother, sister, stepbrother, stepsister  Spouse = husband, wife (mistresses and fiancés were ignored)                              |\n",
    "| parch    | # of parents / children aboard the Titanic | The dataset defines family relations in this way...  Parent = mother, father  Child = daughter, son, stepdaughter, stepson  Some children travelled only with a nanny, therefore parch=0 for them. |\n",
    "| ticket   | Ticket number                              |                                                                                                                                                                                                    |\n",
    "| fare     | Passenger fare                             |                                                                                                                                                                                                    |\n",
    "| cabin    | Cabin number                               |                                                                                                                                                                                                    |\n",
    "| embarked | Port of Embarkation                        | C = Cherbourg, Q = Queenstown, S = Southampton                                                                                                                                                     |"
   ]
  },
  {
   "cell_type": "code",
   "execution_count": 1,
   "metadata": {},
   "outputs": [],
   "source": [
    "import pandas as pd\n",
    "import numpy as np\n",
    "import missingno as msno\n",
    "\n",
    "import matplotlib.pyplot as plt\n",
    "import seaborn as sns\n",
    "sns.set(style=\"darkgrid\")\n",
    "\n",
    "from sklearn.ensemble import RandomForestClassifier\n",
    "from sklearn.model_selection import cross_val_score\n",
    "\n",
    "from sklearn.model_selection import train_test_split\n",
    "\n",
    "from sklearn.preprocessing import StandardScaler\n",
    "\n",
    "from sklearn.metrics import confusion_matrix\n",
    "\n",
    "from IPython.core.interactiveshell import InteractiveShell\n",
    "InteractiveShell.ast_node_interactivity = \"all\""
   ]
  },
  {
   "cell_type": "code",
   "execution_count": 8,
   "metadata": {},
   "outputs": [],
   "source": [
    "df_test = pd.read_csv('./data/test.csv')\n",
    "df_train = pd.read_csv('./data/train.csv')"
   ]
  },
  {
   "cell_type": "code",
   "execution_count": 9,
   "metadata": {
    "scrolled": true
   },
   "outputs": [
    {
     "name": "stdout",
     "output_type": "stream",
     "text": [
      "<class 'pandas.core.frame.DataFrame'>\n",
      "RangeIndex: 418 entries, 0 to 417\n",
      "Data columns (total 11 columns):\n",
      "PassengerId    418 non-null int64\n",
      "Pclass         418 non-null int64\n",
      "Name           418 non-null object\n",
      "Sex            418 non-null object\n",
      "Age            332 non-null float64\n",
      "SibSp          418 non-null int64\n",
      "Parch          418 non-null int64\n",
      "Ticket         418 non-null object\n",
      "Fare           417 non-null float64\n",
      "Cabin          91 non-null object\n",
      "Embarked       418 non-null object\n",
      "dtypes: float64(2), int64(4), object(5)\n",
      "memory usage: 36.0+ KB\n"
     ]
    }
   ],
   "source": [
    "df_test.info()"
   ]
  },
  {
   "cell_type": "code",
   "execution_count": 10,
   "metadata": {},
   "outputs": [
    {
     "name": "stdout",
     "output_type": "stream",
     "text": [
      "<class 'pandas.core.frame.DataFrame'>\n",
      "RangeIndex: 891 entries, 0 to 890\n",
      "Data columns (total 12 columns):\n",
      "PassengerId    891 non-null int64\n",
      "Survived       891 non-null int64\n",
      "Pclass         891 non-null int64\n",
      "Name           891 non-null object\n",
      "Sex            891 non-null object\n",
      "Age            714 non-null float64\n",
      "SibSp          891 non-null int64\n",
      "Parch          891 non-null int64\n",
      "Ticket         891 non-null object\n",
      "Fare           891 non-null float64\n",
      "Cabin          204 non-null object\n",
      "Embarked       889 non-null object\n",
      "dtypes: float64(2), int64(5), object(5)\n",
      "memory usage: 83.6+ KB\n"
     ]
    }
   ],
   "source": [
    "df_train.info()"
   ]
  },
  {
   "cell_type": "markdown",
   "metadata": {},
   "source": [
    "I want to extract the titles of the passengers on the ship. To do this I created a simple regex function that got all the values between ', and '.' This should have created a column that contains all the titles from the name category."
   ]
  },
  {
   "cell_type": "code",
   "execution_count": 11,
   "metadata": {},
   "outputs": [],
   "source": [
    "import re\n",
    "str_srch = r',\\s(.*?)\\.' #get all values between ', ' and '.' "
   ]
  },
  {
   "cell_type": "code",
   "execution_count": 12,
   "metadata": {},
   "outputs": [],
   "source": [
    "df_train['title'] = [re.findall(str_srch,i) for i in df_train.Name.values]\n",
    "df_train.title = [df_train.title.values[i][0] for i in range(df_train.shape[0])] "
   ]
  },
  {
   "cell_type": "code",
   "execution_count": 13,
   "metadata": {},
   "outputs": [
    {
     "data": {
      "text/html": [
       "<div>\n",
       "<style scoped>\n",
       "    .dataframe tbody tr th:only-of-type {\n",
       "        vertical-align: middle;\n",
       "    }\n",
       "\n",
       "    .dataframe tbody tr th {\n",
       "        vertical-align: top;\n",
       "    }\n",
       "\n",
       "    .dataframe thead th {\n",
       "        text-align: right;\n",
       "    }\n",
       "</style>\n",
       "<table border=\"1\" class=\"dataframe\">\n",
       "  <thead>\n",
       "    <tr style=\"text-align: right;\">\n",
       "      <th></th>\n",
       "      <th>PassengerId</th>\n",
       "      <th>Survived</th>\n",
       "      <th>Pclass</th>\n",
       "      <th>Name</th>\n",
       "      <th>Sex</th>\n",
       "      <th>Age</th>\n",
       "      <th>SibSp</th>\n",
       "      <th>Parch</th>\n",
       "      <th>Ticket</th>\n",
       "      <th>Fare</th>\n",
       "      <th>Cabin</th>\n",
       "      <th>Embarked</th>\n",
       "      <th>title</th>\n",
       "    </tr>\n",
       "  </thead>\n",
       "  <tbody>\n",
       "    <tr>\n",
       "      <th>0</th>\n",
       "      <td>1</td>\n",
       "      <td>0</td>\n",
       "      <td>3</td>\n",
       "      <td>Braund, Mr. Owen Harris</td>\n",
       "      <td>male</td>\n",
       "      <td>22.0</td>\n",
       "      <td>1</td>\n",
       "      <td>0</td>\n",
       "      <td>A/5 21171</td>\n",
       "      <td>7.2500</td>\n",
       "      <td>NaN</td>\n",
       "      <td>S</td>\n",
       "      <td>Mr</td>\n",
       "    </tr>\n",
       "    <tr>\n",
       "      <th>1</th>\n",
       "      <td>2</td>\n",
       "      <td>1</td>\n",
       "      <td>1</td>\n",
       "      <td>Cumings, Mrs. John Bradley (Florence Briggs Th...</td>\n",
       "      <td>female</td>\n",
       "      <td>38.0</td>\n",
       "      <td>1</td>\n",
       "      <td>0</td>\n",
       "      <td>PC 17599</td>\n",
       "      <td>71.2833</td>\n",
       "      <td>C85</td>\n",
       "      <td>C</td>\n",
       "      <td>Mrs</td>\n",
       "    </tr>\n",
       "    <tr>\n",
       "      <th>2</th>\n",
       "      <td>3</td>\n",
       "      <td>1</td>\n",
       "      <td>3</td>\n",
       "      <td>Heikkinen, Miss. Laina</td>\n",
       "      <td>female</td>\n",
       "      <td>26.0</td>\n",
       "      <td>0</td>\n",
       "      <td>0</td>\n",
       "      <td>STON/O2. 3101282</td>\n",
       "      <td>7.9250</td>\n",
       "      <td>NaN</td>\n",
       "      <td>S</td>\n",
       "      <td>Miss</td>\n",
       "    </tr>\n",
       "    <tr>\n",
       "      <th>3</th>\n",
       "      <td>4</td>\n",
       "      <td>1</td>\n",
       "      <td>1</td>\n",
       "      <td>Futrelle, Mrs. Jacques Heath (Lily May Peel)</td>\n",
       "      <td>female</td>\n",
       "      <td>35.0</td>\n",
       "      <td>1</td>\n",
       "      <td>0</td>\n",
       "      <td>113803</td>\n",
       "      <td>53.1000</td>\n",
       "      <td>C123</td>\n",
       "      <td>S</td>\n",
       "      <td>Mrs</td>\n",
       "    </tr>\n",
       "    <tr>\n",
       "      <th>4</th>\n",
       "      <td>5</td>\n",
       "      <td>0</td>\n",
       "      <td>3</td>\n",
       "      <td>Allen, Mr. William Henry</td>\n",
       "      <td>male</td>\n",
       "      <td>35.0</td>\n",
       "      <td>0</td>\n",
       "      <td>0</td>\n",
       "      <td>373450</td>\n",
       "      <td>8.0500</td>\n",
       "      <td>NaN</td>\n",
       "      <td>S</td>\n",
       "      <td>Mr</td>\n",
       "    </tr>\n",
       "  </tbody>\n",
       "</table>\n",
       "</div>"
      ],
      "text/plain": [
       "   PassengerId  Survived  Pclass  \\\n",
       "0            1         0       3   \n",
       "1            2         1       1   \n",
       "2            3         1       3   \n",
       "3            4         1       1   \n",
       "4            5         0       3   \n",
       "\n",
       "                                                Name     Sex   Age  SibSp  \\\n",
       "0                            Braund, Mr. Owen Harris    male  22.0      1   \n",
       "1  Cumings, Mrs. John Bradley (Florence Briggs Th...  female  38.0      1   \n",
       "2                             Heikkinen, Miss. Laina  female  26.0      0   \n",
       "3       Futrelle, Mrs. Jacques Heath (Lily May Peel)  female  35.0      1   \n",
       "4                           Allen, Mr. William Henry    male  35.0      0   \n",
       "\n",
       "   Parch            Ticket     Fare Cabin Embarked title  \n",
       "0      0         A/5 21171   7.2500   NaN        S    Mr  \n",
       "1      0          PC 17599  71.2833   C85        C   Mrs  \n",
       "2      0  STON/O2. 3101282   7.9250   NaN        S  Miss  \n",
       "3      0            113803  53.1000  C123        S   Mrs  \n",
       "4      0            373450   8.0500   NaN        S    Mr  "
      ]
     },
     "execution_count": 13,
     "metadata": {},
     "output_type": "execute_result"
    }
   ],
   "source": [
    "df_train.head()"
   ]
  },
  {
   "cell_type": "code",
   "execution_count": 14,
   "metadata": {},
   "outputs": [],
   "source": [
    "#df_train.title.values #got 'em all"
   ]
  },
  {
   "cell_type": "code",
   "execution_count": 15,
   "metadata": {},
   "outputs": [],
   "source": [
    "df_test['title'] = [re.findall(str_srch,i) for i in df_test.Name.values]\n",
    "df_test.title = [df_test.title.values[i][0] for i in range(df_test.shape[0])] "
   ]
  },
  {
   "cell_type": "code",
   "execution_count": 16,
   "metadata": {},
   "outputs": [],
   "source": [
    "#df_test.title.values #here too"
   ]
  },
  {
   "cell_type": "markdown",
   "metadata": {},
   "source": [
    "Time to look at missing values"
   ]
  },
  {
   "cell_type": "code",
   "execution_count": 19,
   "metadata": {},
   "outputs": [
    {
     "data": {
      "text/plain": [
       "<matplotlib.axes._subplots.AxesSubplot at 0x7f581fb2f240>"
      ]
     },
     "execution_count": 19,
     "metadata": {},
     "output_type": "execute_result"
    },
    {
     "data": {
      "image/png": "[encoded data removed]",
      "text/plain": [
       "<Figure size 1800x720 with 2 Axes>"
      ]
     },
     "metadata": {},
     "output_type": "display_data"
    }
   ],
   "source": [
    "msno.matrix(df_test)"
   ]
  },
  {
   "cell_type": "markdown",
   "metadata": {},
   "source": [
    "This is a problem. We have missing values in Fare, Age and Cabin and we will have to deal with all of them. We will look at Fare first since there is only one value. "
   ]
  },
  {
   "cell_type": "code",
   "execution_count": 23,
   "metadata": {},
   "outputs": [
    {
     "data": {
      "text/html": [
       "<div>\n",
       "<style scoped>\n",
       "    .dataframe tbody tr th:only-of-type {\n",
       "        vertical-align: middle;\n",
       "    }\n",
       "\n",
       "    .dataframe tbody tr th {\n",
       "        vertical-align: top;\n",
       "    }\n",
       "\n",
       "    .dataframe thead th {\n",
       "        text-align: right;\n",
       "    }\n",
       "</style>\n",
       "<table border=\"1\" class=\"dataframe\">\n",
       "  <thead>\n",
       "    <tr style=\"text-align: right;\">\n",
       "      <th></th>\n",
       "      <th>PassengerId</th>\n",
       "      <th>Pclass</th>\n",
       "      <th>Name</th>\n",
       "      <th>Sex</th>\n",
       "      <th>Age</th>\n",
       "      <th>SibSp</th>\n",
       "      <th>Parch</th>\n",
       "      <th>Ticket</th>\n",
       "      <th>Fare</th>\n",
       "      <th>Cabin</th>\n",
       "      <th>Embarked</th>\n",
       "      <th>title</th>\n",
       "    </tr>\n",
       "  </thead>\n",
       "  <tbody>\n",
       "    <tr>\n",
       "      <th>152</th>\n",
       "      <td>1044</td>\n",
       "      <td>3</td>\n",
       "      <td>Storey, Mr. Thomas</td>\n",
       "      <td>male</td>\n",
       "      <td>60.5</td>\n",
       "      <td>0</td>\n",
       "      <td>0</td>\n",
       "      <td>3701</td>\n",
       "      <td>NaN</td>\n",
       "      <td>NaN</td>\n",
       "      <td>S</td>\n",
       "      <td>Mr</td>\n",
       "    </tr>\n",
       "  </tbody>\n",
       "</table>\n",
       "</div>"
      ],
      "text/plain": [
       "     PassengerId  Pclass                Name   Sex   Age  SibSp  Parch Ticket  \\\n",
       "152         1044       3  Storey, Mr. Thomas  male  60.5      0      0   3701   \n",
       "\n",
       "     Fare Cabin Embarked title  \n",
       "152   NaN   NaN        S    Mr  "
      ]
     },
     "execution_count": 23,
     "metadata": {},
     "output_type": "execute_result"
    }
   ],
   "source": [
    "df_test[df_test.Fare.isnull()]"
   ]
  },
  {
   "cell_type": "markdown",
   "metadata": {},
   "source": [
    "Mr. Thomas Storey. A third class passenger who embarked from Southampton. \n",
    "We have his age but not his cabin. Given that this is the only passenger that we do not have a value for Fare I can be sure that this is MCAR (Missing Completely at Random) data. To fill this I'm going to be using deductive imputation and get the average value of a ticket for third class and replace the NaN value."
   ]
  },
  {
   "cell_type": "code",
   "execution_count": 26,
   "metadata": {},
   "outputs": [
    {
     "data": {
      "text/plain": [
       "(1309, 13)"
      ]
     },
     "execution_count": 26,
     "metadata": {},
     "output_type": "execute_result"
    }
   ],
   "source": [
    "df_merge=pd.concat([df_train,df_test],sort=False)\n",
    "df_merge.shape"
   ]
  },
  {
   "cell_type": "markdown",
   "metadata": {},
   "source": [
    "Plugging in what we know about Mr. Storey we get a value of 9.77 for his ticket. "
   ]
  },
  {
   "cell_type": "code",
   "execution_count": 33,
   "metadata": {},
   "outputs": [
    {
     "data": {
      "text/plain": [
       "9.767447552447553"
      ]
     },
     "execution_count": 33,
     "metadata": {},
     "output_type": "execute_result"
    }
   ],
   "source": [
    "df_merge[(df_merge.Pclass==3)&(df_merge.Embarked=='S')&(df_merge.Sex=='male')&(df_merge.SibSp==0&(df_merge.Parch==0))].Fare.mean()"
   ]
  },
  {
   "cell_type": "code",
   "execution_count": 36,
   "metadata": {},
   "outputs": [],
   "source": [
    "df_test.Fare.fillna(9.77, inplace=True) # place the value"
   ]
  },
  {
   "cell_type": "markdown",
   "metadata": {},
   "source": []
  },
  {
   "cell_type": "code",
   "execution_count": 20,
   "metadata": {},
   "outputs": [],
   "source": []
  },
  {
   "cell_type": "markdown",
   "metadata": {},
   "source": [
    "The problem with the Cabin column is the opposite. Only 19% of the data is valid in the test dataframe and 23% is valid in the train dataframe. The solution here is to drop the entire column."
   ]
  },
  {
   "cell_type": "code",
   "execution_count": 21,
   "metadata": {},
   "outputs": [],
   "source": [
    "df_test.drop('Cabin', axis=1, inplace=True)\n",
    "df_train.drop('Cabin', axis=1, inplace=True)"
   ]
  },
  {
   "cell_type": "markdown",
   "metadata": {},
   "source": [
    "The age column is the most interesting. The test data and train sets both have about 80% of the data intact. This is enough to attempt to make valid guesses with the data to attempt to fill in the missing values. "
   ]
  },
  {
   "cell_type": "code",
   "execution_count": 22,
   "metadata": {},
   "outputs": [
    {
     "data": {
      "image/png": "[encoded data removed]",
      "text/plain": [
       "<Figure size 1800x720 with 2 Axes>"
      ]
     },
     "metadata": {},
     "output_type": "display_data"
    }
   ],
   "source": [
    "msno.matrix(df_test);"
   ]
  },
  {
   "cell_type": "code",
   "execution_count": 23,
   "metadata": {},
   "outputs": [
    {
     "data": {
      "image/png": "[encoded data removed]",
      "text/plain": [
       "<Figure size 1800x720 with 2 Axes>"
      ]
     },
     "metadata": {},
     "output_type": "display_data"
    }
   ],
   "source": [
    "msno.matrix(df_train);"
   ]
  },
  {
   "cell_type": "markdown",
   "metadata": {},
   "source": [
    "Looking at the mean values in both the test and train sets we see that the age values are almost identical coming in at about 30 years."
   ]
  },
  {
   "cell_type": "code",
   "execution_count": 24,
   "metadata": {},
   "outputs": [
    {
     "name": "stdout",
     "output_type": "stream",
     "text": [
      "30.181268882175228\n",
      "29.64209269662921\n"
     ]
    }
   ],
   "source": [
    "print(df_test.Age.mean())\n",
    "print(df_train.Age.mean())"
   ]
  },
  {
   "cell_type": "markdown",
   "metadata": {},
   "source": [
    "This does not appear when we seperate the data based on the passanger class. In both the test and train sets the mean age is abou 25 for trird class, 29 for second class and about 40 for third class."
   ]
  },
  {
   "cell_type": "code",
   "execution_count": 25,
   "metadata": {},
   "outputs": [
    {
     "name": "stdout",
     "output_type": "stream",
     "text": [
      "23.776413793103448\n",
      "28.7775\n",
      "40.91836734693877\n"
     ]
    }
   ],
   "source": [
    "print(df_test[df_test.Pclass==3].Age.mean())\n",
    "print(df_test[df_test.Pclass==2].Age.mean())\n",
    "print(df_test[df_test.Pclass==1].Age.mean())"
   ]
  },
  {
   "cell_type": "code",
   "execution_count": 26,
   "metadata": {},
   "outputs": [
    {
     "name": "stdout",
     "output_type": "stream",
     "text": [
      "25.14061971830986\n",
      "29.87763005780347\n",
      "38.10554347826087\n"
     ]
    }
   ],
   "source": [
    "print(df_train[df_train.Pclass==3].Age.mean())\n",
    "print(df_train[df_train.Pclass==2].Age.mean())\n",
    "print(df_train[df_train.Pclass==1].Age.mean())"
   ]
  },
  {
   "cell_type": "markdown",
   "metadata": {},
   "source": [
    "Looking at the mean age based on title we see that the test and train sets also show a string corrilation with people with the title of Master averaging under 10, people with the title of Miss appearing at about 21, people with the title of Ms and Mr appearing at about 32 and 37 respectively. "
   ]
  },
  {
   "cell_type": "code",
   "execution_count": 27,
   "metadata": {},
   "outputs": [
    {
     "name": "stdout",
     "output_type": "stream",
     "text": [
      "7.406470588235294\n",
      "31.843406593406595\n",
      "38.903225806451616\n",
      "21.774843750000002\n"
     ]
    }
   ],
   "source": [
    "print(df_test[df_test.title=='Master'].Age.mean())\n",
    "print(df_test[df_test.title=='Mr'].Age.mean())\n",
    "print(df_test[df_test.title=='Mrs'].Age.mean())\n",
    "print(df_test[df_test.title=='Miss'].Age.mean())"
   ]
  },
  {
   "cell_type": "code",
   "execution_count": 28,
   "metadata": {},
   "outputs": [
    {
     "name": "stdout",
     "output_type": "stream",
     "text": [
      "4.574166666666667\n",
      "32.368090452261306\n",
      "35.654205607476634\n",
      "21.662068965517243\n"
     ]
    }
   ],
   "source": [
    "print(df_train[df_train.title=='Master'].Age.mean())\n",
    "print(df_train[df_train.title=='Mr'].Age.mean())\n",
    "print(df_train[df_train.title=='Mrs'].Age.mean())\n",
    "print(df_train[df_train.title=='Miss'].Age.mean())"
   ]
  },
  {
   "cell_type": "markdown",
   "metadata": {},
   "source": [
    "The average age for location of people based on when they embarked is slightly higher from Cherbourg. I'm not sure it's signifigant for the model."
   ]
  },
  {
   "cell_type": "code",
   "execution_count": 29,
   "metadata": {},
   "outputs": [
    {
     "name": "stdout",
     "output_type": "stream",
     "text": [
      "29.318181818181817\n",
      "34.73780487804878\n",
      "28.61894273127753\n"
     ]
    }
   ],
   "source": [
    "print(df_test[df_test.Embarked=='Q'].Age.mean())\n",
    "print(df_test[df_test.Embarked=='C'].Age.mean())\n",
    "print(df_test[df_test.Embarked=='S'].Age.mean())"
   ]
  },
  {
   "cell_type": "markdown",
   "metadata": {},
   "source": [
    "I assume that the missing data is MCAR. I'm sure that there is no possibility that the missing data is not NMAR. There is no reason that the data would be purposefully hidden from us so the options are MCAR, where the data is missing simply because it was lost to time or the disaster, or MAR, the data is missing but it may be missing more from certain groups."
   ]
  },
  {
   "cell_type": "markdown",
   "metadata": {},
   "source": [
    "To check the type of missing data we will see if the variables we have are randomly distributed evenly between a dataset that has all values for age missing and a dataset that has all values filled. If both sets are approximately equal then we have MCAR. If not then we have MAR and must use imputation."
   ]
  },
  {
   "cell_type": "markdown",
   "metadata": {},
   "source": [
    "Let's create a new column to see if we have an age value and then run the data through seaborn to look at our data."
   ]
  },
  {
   "cell_type": "code",
   "execution_count": 30,
   "metadata": {},
   "outputs": [],
   "source": [
    "df_train.Age.fillna(0,inplace=True)\n",
    "df_test.Age.fillna(0,inplace=True)\n",
    "df_train['known_age']= np.where(df_train.Age==0,False,True)\n",
    "df_test['known_age']= np.where(df_test.Age==0,False,True)"
   ]
  },
  {
   "cell_type": "markdown",
   "metadata": {},
   "source": [
    "Merging the data togther. This is kept in a seperate dataframe to avoid conaminating the models."
   ]
  },
  {
   "cell_type": "code",
   "execution_count": 31,
   "metadata": {},
   "outputs": [
    {
     "data": {
      "text/plain": [
       "(1306, 13)"
      ]
     },
     "execution_count": 31,
     "metadata": {},
     "output_type": "execute_result"
    }
   ],
   "source": [
    "df_graph = pd.concat([df_train,df_test], sort = False)\n",
    "df_graph.shape"
   ]
  },
  {
   "cell_type": "code",
   "execution_count": 32,
   "metadata": {},
   "outputs": [],
   "source": [
    "df_graph.drop('Survived',axis =1,inplace=True)"
   ]
  },
  {
   "cell_type": "code",
   "execution_count": 33,
   "metadata": {},
   "outputs": [],
   "source": [
    "#df = df.drop(df[(df.score < 50) & (df.score > 20)].index)\n",
    "\n",
    "#df_graph.drop(df_graph[~(df_graph.title=='Mr')|~(df_graph.title=='Miss')|~(df_graph.title=='Mrs')|~(df_graph.title=='Master')].index)"
   ]
  },
  {
   "cell_type": "code",
   "execution_count": 34,
   "metadata": {},
   "outputs": [
    {
     "data": {
      "image/png": "[encoded data removed]",
      "text/plain": [
       "<Figure size 432x288 with 1 Axes>"
      ]
     },
     "metadata": {},
     "output_type": "display_data"
    }
   ],
   "source": [
    "sns.set(style=\"darkgrid\")\n",
    "ax =sns.countplot(x = 'Sex', hue = 'known_age',data = df_graph, orient='v')\n",
    "#ax =sns.countplot(x = 'Embarked', hue = 'known_age',data = df_graph, orient='v')"
   ]
  },
  {
   "cell_type": "code",
   "execution_count": 35,
   "metadata": {},
   "outputs": [
    {
     "data": {
      "image/png": "[encoded data removed]",
      "text/plain": [
       "<Figure size 432x288 with 1 Axes>"
      ]
     },
     "metadata": {},
     "output_type": "display_data"
    }
   ],
   "source": [
    "sns.set(style=\"darkgrid\")\n",
    "ax =sns.countplot(x = 'Pclass', hue = 'known_age',data = df_graph, orient='v')"
   ]
  },
  {
   "cell_type": "code",
   "execution_count": 36,
   "metadata": {},
   "outputs": [
    {
     "data": {
      "image/png": "[encoded data removed]",
      "text/plain": [
       "<Figure size 432x288 with 1 Axes>"
      ]
     },
     "metadata": {},
     "output_type": "display_data"
    }
   ],
   "source": [
    "sns.set(style=\"darkgrid\")\n",
    "ax =sns.countplot(x = 'title', hue = 'known_age',data = df_graph, orient='v')"
   ]
  },
  {
   "cell_type": "code",
   "execution_count": 37,
   "metadata": {},
   "outputs": [
    {
     "data": {
      "image/png": "[encoded data removed]",
      "text/plain": [
       "<Figure size 432x288 with 1 Axes>"
      ]
     },
     "metadata": {},
     "output_type": "display_data"
    }
   ],
   "source": [
    "sns.set(style=\"darkgrid\")\n",
    "ax =sns.countplot(x = 'Embarked', hue = 'known_age',data = df_graph, orient='v')"
   ]
  },
  {
   "cell_type": "markdown",
   "metadata": {},
   "source": [
    "Based on the above graphs the missing data does not appear to be completely random. In fact it appears to be strongly correlated with the values in Pclass, specifically with third class passengers. Given that the highest mortality rate was also in this group there is almost certainly a correlation that survival also factored into our knowledge of age."
   ]
  },
  {
   "cell_type": "markdown",
   "metadata": {},
   "source": [
    "I am going to create a model with Random Forest and dropping the age column. This will give us a baseline to work from. All models will have random state set to 42 to ensure that all models preform evenly. "
   ]
  },
  {
   "cell_type": "code",
   "execution_count": 38,
   "metadata": {},
   "outputs": [
    {
     "data": {
      "text/html": [
       "<div>\n",
       "<style scoped>\n",
       "    .dataframe tbody tr th:only-of-type {\n",
       "        vertical-align: middle;\n",
       "    }\n",
       "\n",
       "    .dataframe tbody tr th {\n",
       "        vertical-align: top;\n",
       "    }\n",
       "\n",
       "    .dataframe thead th {\n",
       "        text-align: right;\n",
       "    }\n",
       "</style>\n",
       "<table border=\"1\" class=\"dataframe\">\n",
       "  <thead>\n",
       "    <tr style=\"text-align: right;\">\n",
       "      <th></th>\n",
       "      <th>PassengerId</th>\n",
       "      <th>Survived</th>\n",
       "      <th>Pclass</th>\n",
       "      <th>Name</th>\n",
       "      <th>Sex</th>\n",
       "      <th>Age</th>\n",
       "      <th>SibSp</th>\n",
       "      <th>Parch</th>\n",
       "      <th>Ticket</th>\n",
       "      <th>Fare</th>\n",
       "      <th>Embarked</th>\n",
       "      <th>title</th>\n",
       "      <th>known_age</th>\n",
       "    </tr>\n",
       "  </thead>\n",
       "  <tbody>\n",
       "    <tr>\n",
       "      <th>0</th>\n",
       "      <td>1</td>\n",
       "      <td>0</td>\n",
       "      <td>3</td>\n",
       "      <td>Braund, Mr. Owen Harris</td>\n",
       "      <td>male</td>\n",
       "      <td>22.0</td>\n",
       "      <td>1</td>\n",
       "      <td>0</td>\n",
       "      <td>A/5 21171</td>\n",
       "      <td>7.2500</td>\n",
       "      <td>S</td>\n",
       "      <td>Mr</td>\n",
       "      <td>True</td>\n",
       "    </tr>\n",
       "    <tr>\n",
       "      <th>1</th>\n",
       "      <td>2</td>\n",
       "      <td>1</td>\n",
       "      <td>1</td>\n",
       "      <td>Cumings, Mrs. John Bradley (Florence Briggs Th...</td>\n",
       "      <td>female</td>\n",
       "      <td>38.0</td>\n",
       "      <td>1</td>\n",
       "      <td>0</td>\n",
       "      <td>PC 17599</td>\n",
       "      <td>71.2833</td>\n",
       "      <td>C</td>\n",
       "      <td>Mrs</td>\n",
       "      <td>True</td>\n",
       "    </tr>\n",
       "    <tr>\n",
       "      <th>2</th>\n",
       "      <td>3</td>\n",
       "      <td>1</td>\n",
       "      <td>3</td>\n",
       "      <td>Heikkinen, Miss. Laina</td>\n",
       "      <td>female</td>\n",
       "      <td>26.0</td>\n",
       "      <td>0</td>\n",
       "      <td>0</td>\n",
       "      <td>STON/O2. 3101282</td>\n",
       "      <td>7.9250</td>\n",
       "      <td>S</td>\n",
       "      <td>Miss</td>\n",
       "      <td>True</td>\n",
       "    </tr>\n",
       "    <tr>\n",
       "      <th>3</th>\n",
       "      <td>4</td>\n",
       "      <td>1</td>\n",
       "      <td>1</td>\n",
       "      <td>Futrelle, Mrs. Jacques Heath (Lily May Peel)</td>\n",
       "      <td>female</td>\n",
       "      <td>35.0</td>\n",
       "      <td>1</td>\n",
       "      <td>0</td>\n",
       "      <td>113803</td>\n",
       "      <td>53.1000</td>\n",
       "      <td>S</td>\n",
       "      <td>Mrs</td>\n",
       "      <td>True</td>\n",
       "    </tr>\n",
       "    <tr>\n",
       "      <th>4</th>\n",
       "      <td>5</td>\n",
       "      <td>0</td>\n",
       "      <td>3</td>\n",
       "      <td>Allen, Mr. William Henry</td>\n",
       "      <td>male</td>\n",
       "      <td>35.0</td>\n",
       "      <td>0</td>\n",
       "      <td>0</td>\n",
       "      <td>373450</td>\n",
       "      <td>8.0500</td>\n",
       "      <td>S</td>\n",
       "      <td>Mr</td>\n",
       "      <td>True</td>\n",
       "    </tr>\n",
       "  </tbody>\n",
       "</table>\n",
       "</div>"
      ],
      "text/plain": [
       "   PassengerId  Survived  Pclass  \\\n",
       "0            1         0       3   \n",
       "1            2         1       1   \n",
       "2            3         1       3   \n",
       "3            4         1       1   \n",
       "4            5         0       3   \n",
       "\n",
       "                                                Name     Sex   Age  SibSp  \\\n",
       "0                            Braund, Mr. Owen Harris    male  22.0      1   \n",
       "1  Cumings, Mrs. John Bradley (Florence Briggs Th...  female  38.0      1   \n",
       "2                             Heikkinen, Miss. Laina  female  26.0      0   \n",
       "3       Futrelle, Mrs. Jacques Heath (Lily May Peel)  female  35.0      1   \n",
       "4                           Allen, Mr. William Henry    male  35.0      0   \n",
       "\n",
       "   Parch            Ticket     Fare Embarked title  known_age  \n",
       "0      0         A/5 21171   7.2500        S    Mr       True  \n",
       "1      0          PC 17599  71.2833        C   Mrs       True  \n",
       "2      0  STON/O2. 3101282   7.9250        S  Miss       True  \n",
       "3      0            113803  53.1000        S   Mrs       True  \n",
       "4      0            373450   8.0500        S    Mr       True  "
      ]
     },
     "execution_count": 38,
     "metadata": {},
     "output_type": "execute_result"
    }
   ],
   "source": [
    "df_train.head()"
   ]
  },
  {
   "cell_type": "code",
   "execution_count": 39,
   "metadata": {},
   "outputs": [],
   "source": [
    "df_model=df_train.copy()"
   ]
  },
  {
   "cell_type": "code",
   "execution_count": 40,
   "metadata": {},
   "outputs": [],
   "source": [
    "def make_model_df(drop_names=[]):\n",
    "    df_model=df_train.copy()\n",
    "    df_model.drop(drop_names,axis=1,inplace=True)\n",
    "    df_model=pd.get_dummies(df_model, columns=df_model.select_dtypes('object').columns.values)\n",
    "    return df_model\n",
    "    "
   ]
  },
  {
   "cell_type": "code",
   "execution_count": 41,
   "metadata": {},
   "outputs": [],
   "source": [
    "df_model = make_model_df(['Name','Ticket','Age','known_age'])"
   ]
  },
  {
   "cell_type": "code",
   "execution_count": 42,
   "metadata": {},
   "outputs": [
    {
     "data": {
      "text/html": [
       "<div>\n",
       "<style scoped>\n",
       "    .dataframe tbody tr th:only-of-type {\n",
       "        vertical-align: middle;\n",
       "    }\n",
       "\n",
       "    .dataframe tbody tr th {\n",
       "        vertical-align: top;\n",
       "    }\n",
       "\n",
       "    .dataframe thead th {\n",
       "        text-align: right;\n",
       "    }\n",
       "</style>\n",
       "<table border=\"1\" class=\"dataframe\">\n",
       "  <thead>\n",
       "    <tr style=\"text-align: right;\">\n",
       "      <th></th>\n",
       "      <th>PassengerId</th>\n",
       "      <th>Survived</th>\n",
       "      <th>Pclass</th>\n",
       "      <th>SibSp</th>\n",
       "      <th>Parch</th>\n",
       "      <th>Fare</th>\n",
       "      <th>Sex_female</th>\n",
       "      <th>Sex_male</th>\n",
       "      <th>Embarked_C</th>\n",
       "      <th>Embarked_Q</th>\n",
       "      <th>...</th>\n",
       "      <th>title_Master</th>\n",
       "      <th>title_Miss</th>\n",
       "      <th>title_Mlle</th>\n",
       "      <th>title_Mme</th>\n",
       "      <th>title_Mr</th>\n",
       "      <th>title_Mrs</th>\n",
       "      <th>title_Ms</th>\n",
       "      <th>title_Rev</th>\n",
       "      <th>title_Sir</th>\n",
       "      <th>title_the Countess</th>\n",
       "    </tr>\n",
       "  </thead>\n",
       "  <tbody>\n",
       "    <tr>\n",
       "      <th>0</th>\n",
       "      <td>1</td>\n",
       "      <td>0</td>\n",
       "      <td>3</td>\n",
       "      <td>1</td>\n",
       "      <td>0</td>\n",
       "      <td>7.2500</td>\n",
       "      <td>0</td>\n",
       "      <td>1</td>\n",
       "      <td>0</td>\n",
       "      <td>0</td>\n",
       "      <td>...</td>\n",
       "      <td>0</td>\n",
       "      <td>0</td>\n",
       "      <td>0</td>\n",
       "      <td>0</td>\n",
       "      <td>1</td>\n",
       "      <td>0</td>\n",
       "      <td>0</td>\n",
       "      <td>0</td>\n",
       "      <td>0</td>\n",
       "      <td>0</td>\n",
       "    </tr>\n",
       "    <tr>\n",
       "      <th>1</th>\n",
       "      <td>2</td>\n",
       "      <td>1</td>\n",
       "      <td>1</td>\n",
       "      <td>1</td>\n",
       "      <td>0</td>\n",
       "      <td>71.2833</td>\n",
       "      <td>1</td>\n",
       "      <td>0</td>\n",
       "      <td>1</td>\n",
       "      <td>0</td>\n",
       "      <td>...</td>\n",
       "      <td>0</td>\n",
       "      <td>0</td>\n",
       "      <td>0</td>\n",
       "      <td>0</td>\n",
       "      <td>0</td>\n",
       "      <td>1</td>\n",
       "      <td>0</td>\n",
       "      <td>0</td>\n",
       "      <td>0</td>\n",
       "      <td>0</td>\n",
       "    </tr>\n",
       "    <tr>\n",
       "      <th>2</th>\n",
       "      <td>3</td>\n",
       "      <td>1</td>\n",
       "      <td>3</td>\n",
       "      <td>0</td>\n",
       "      <td>0</td>\n",
       "      <td>7.9250</td>\n",
       "      <td>1</td>\n",
       "      <td>0</td>\n",
       "      <td>0</td>\n",
       "      <td>0</td>\n",
       "      <td>...</td>\n",
       "      <td>0</td>\n",
       "      <td>1</td>\n",
       "      <td>0</td>\n",
       "      <td>0</td>\n",
       "      <td>0</td>\n",
       "      <td>0</td>\n",
       "      <td>0</td>\n",
       "      <td>0</td>\n",
       "      <td>0</td>\n",
       "      <td>0</td>\n",
       "    </tr>\n",
       "    <tr>\n",
       "      <th>3</th>\n",
       "      <td>4</td>\n",
       "      <td>1</td>\n",
       "      <td>1</td>\n",
       "      <td>1</td>\n",
       "      <td>0</td>\n",
       "      <td>53.1000</td>\n",
       "      <td>1</td>\n",
       "      <td>0</td>\n",
       "      <td>0</td>\n",
       "      <td>0</td>\n",
       "      <td>...</td>\n",
       "      <td>0</td>\n",
       "      <td>0</td>\n",
       "      <td>0</td>\n",
       "      <td>0</td>\n",
       "      <td>0</td>\n",
       "      <td>1</td>\n",
       "      <td>0</td>\n",
       "      <td>0</td>\n",
       "      <td>0</td>\n",
       "      <td>0</td>\n",
       "    </tr>\n",
       "    <tr>\n",
       "      <th>4</th>\n",
       "      <td>5</td>\n",
       "      <td>0</td>\n",
       "      <td>3</td>\n",
       "      <td>0</td>\n",
       "      <td>0</td>\n",
       "      <td>8.0500</td>\n",
       "      <td>0</td>\n",
       "      <td>1</td>\n",
       "      <td>0</td>\n",
       "      <td>0</td>\n",
       "      <td>...</td>\n",
       "      <td>0</td>\n",
       "      <td>0</td>\n",
       "      <td>0</td>\n",
       "      <td>0</td>\n",
       "      <td>1</td>\n",
       "      <td>0</td>\n",
       "      <td>0</td>\n",
       "      <td>0</td>\n",
       "      <td>0</td>\n",
       "      <td>0</td>\n",
       "    </tr>\n",
       "  </tbody>\n",
       "</table>\n",
       "<p>5 rows × 28 columns</p>\n",
       "</div>"
      ],
      "text/plain": [
       "   PassengerId  Survived  Pclass  SibSp  Parch     Fare  Sex_female  Sex_male  \\\n",
       "0            1         0       3      1      0   7.2500           0         1   \n",
       "1            2         1       1      1      0  71.2833           1         0   \n",
       "2            3         1       3      0      0   7.9250           1         0   \n",
       "3            4         1       1      1      0  53.1000           1         0   \n",
       "4            5         0       3      0      0   8.0500           0         1   \n",
       "\n",
       "   Embarked_C  Embarked_Q         ...          title_Master  title_Miss  \\\n",
       "0           0           0         ...                     0           0   \n",
       "1           1           0         ...                     0           0   \n",
       "2           0           0         ...                     0           1   \n",
       "3           0           0         ...                     0           0   \n",
       "4           0           0         ...                     0           0   \n",
       "\n",
       "   title_Mlle  title_Mme  title_Mr  title_Mrs  title_Ms  title_Rev  title_Sir  \\\n",
       "0           0          0         1          0         0          0          0   \n",
       "1           0          0         0          1         0          0          0   \n",
       "2           0          0         0          0         0          0          0   \n",
       "3           0          0         0          1         0          0          0   \n",
       "4           0          0         1          0         0          0          0   \n",
       "\n",
       "   title_the Countess  \n",
       "0                   0  \n",
       "1                   0  \n",
       "2                   0  \n",
       "3                   0  \n",
       "4                   0  \n",
       "\n",
       "[5 rows x 28 columns]"
      ]
     },
     "execution_count": 42,
     "metadata": {},
     "output_type": "execute_result"
    }
   ],
   "source": [
    "df_model.head()"
   ]
  },
  {
   "cell_type": "code",
   "execution_count": 43,
   "metadata": {},
   "outputs": [],
   "source": [
    "X_train, X_test, y_train, y_test = train_test_split(df_model.drop(\"Survived\",1),df_model.Survived, random_state = 42)"
   ]
  },
  {
   "cell_type": "code",
   "execution_count": 44,
   "metadata": {},
   "outputs": [],
   "source": [
    "sc = StandardScaler()\n",
    "X_train = sc.fit_transform(X_train)\n",
    "X_test = sc.transform(X_test)"
   ]
  },
  {
   "cell_type": "code",
   "execution_count": 45,
   "metadata": {},
   "outputs": [
    {
     "data": {
      "text/plain": [
       "0.7623318385650224"
      ]
     },
     "execution_count": 45,
     "metadata": {},
     "output_type": "execute_result"
    }
   ],
   "source": [
    "rfc = RandomForestClassifier()\n",
    "\n",
    "model=rfc.fit(X_train,y_train)\n",
    "pred_rfc = rfc.predict(X_test)\n",
    "pred_rfc_train = rfc.predict(X_train)\n",
    "model.score(X_test,y_test)"
   ]
  },
  {
   "cell_type": "code",
   "execution_count": 46,
   "metadata": {},
   "outputs": [],
   "source": [
    "data = confusion_matrix(y_test,pred_rfc)"
   ]
  },
  {
   "cell_type": "code",
   "execution_count": 47,
   "metadata": {},
   "outputs": [],
   "source": [
    "tn, fp, fn, tp = a=data.ravel()"
   ]
  },
  {
   "cell_type": "code",
   "execution_count": 48,
   "metadata": {},
   "outputs": [
    {
     "name": "stdout",
     "output_type": "stream",
     "text": [
      "116 25 28 54\n"
     ]
    }
   ],
   "source": [
    "print(tn, fp, fn, tp)"
   ]
  },
  {
   "cell_type": "code",
   "execution_count": 49,
   "metadata": {},
   "outputs": [
    {
     "data": {
      "text/plain": [
       "<matplotlib.axes._subplots.AxesSubplot at 0x7fbce7802128>"
      ]
     },
     "execution_count": 49,
     "metadata": {},
     "output_type": "execute_result"
    },
    {
     "data": {
      "image/png": "[encoded data removed]",
      "text/plain": [
       "<Figure size 432x288 with 1 Axes>"
      ]
     },
     "metadata": {},
     "output_type": "display_data"
    }
   ],
   "source": [
    "sns.set(style=\"darkgrid\")\n",
    "sns.heatmap(data,annot = True, fmt='g', cbar=False)"
   ]
  },
  {
   "cell_type": "markdown",
   "metadata": {},
   "source": [
    "This is our base with Mean Accuracy Score of .78, 25 false positives and 24 false negatives. "
   ]
  },
  {
   "cell_type": "markdown",
   "metadata": {},
   "source": [
    "The next step is to do a very simple form of impudence and applying the mean value to missing data."
   ]
  },
  {
   "cell_type": "code",
   "execution_count": 50,
   "metadata": {},
   "outputs": [],
   "source": [
    "df_model = make_model_df(['Name','Ticket','known_age'])"
   ]
  },
  {
   "cell_type": "code",
   "execution_count": 51,
   "metadata": {},
   "outputs": [],
   "source": [
    "df_model.Age.where(df_model.Age>0,np.NaN,inplace=True) "
   ]
  },
  {
   "cell_type": "code",
   "execution_count": 52,
   "metadata": {},
   "outputs": [
    {
     "data": {
      "text/plain": [
       "0    22.0\n",
       "1    38.0\n",
       "2    26.0\n",
       "3    35.0\n",
       "4    35.0\n",
       "5     NaN\n",
       "6    54.0\n",
       "Name: Age, dtype: float64"
      ]
     },
     "execution_count": 52,
     "metadata": {},
     "output_type": "execute_result"
    }
   ],
   "source": [
    "df_model.Age.head(7)"
   ]
  },
  {
   "cell_type": "code",
   "execution_count": 53,
   "metadata": {},
   "outputs": [
    {
     "name": "stderr",
     "output_type": "stream",
     "text": [
      "/home/steven/anaconda3/lib/python3.6/site-packages/h5py/__init__.py:36: FutureWarning: Conversion of the second argument of issubdtype from `float` to `np.floating` is deprecated. In future, it will be treated as `np.float64 == np.dtype(float).type`.\n",
      "  from ._conv import register_converters as _register_converters\n",
      "Using TensorFlow backend.\n"
     ]
    },
    {
     "name": "stdout",
     "output_type": "stream",
     "text": [
      "Couldn't import dot_parser, loading of dot files will not be possible.\n"
     ]
    }
   ],
   "source": [
    "from fancyimpute import SimpleFill"
   ]
  },
  {
   "cell_type": "code",
   "execution_count": 54,
   "metadata": {},
   "outputs": [],
   "source": [
    "fill = SimpleFill('mean',min_value=df_model.Age.min(),max_value=df_model.Age.max())"
   ]
  },
  {
   "cell_type": "code",
   "execution_count": 55,
   "metadata": {},
   "outputs": [],
   "source": [
    "filled = fill.fit_transform(df_model)"
   ]
  },
  {
   "cell_type": "code",
   "execution_count": 56,
   "metadata": {},
   "outputs": [],
   "source": [
    "df_model = pd.DataFrame(filled, columns=df_model.columns.values)"
   ]
  },
  {
   "cell_type": "code",
   "execution_count": 57,
   "metadata": {},
   "outputs": [
    {
     "data": {
      "text/html": [
       "<div>\n",
       "<style scoped>\n",
       "    .dataframe tbody tr th:only-of-type {\n",
       "        vertical-align: middle;\n",
       "    }\n",
       "\n",
       "    .dataframe tbody tr th {\n",
       "        vertical-align: top;\n",
       "    }\n",
       "\n",
       "    .dataframe thead th {\n",
       "        text-align: right;\n",
       "    }\n",
       "</style>\n",
       "<table border=\"1\" class=\"dataframe\">\n",
       "  <thead>\n",
       "    <tr style=\"text-align: right;\">\n",
       "      <th></th>\n",
       "      <th>PassengerId</th>\n",
       "      <th>Survived</th>\n",
       "      <th>Pclass</th>\n",
       "      <th>Age</th>\n",
       "      <th>SibSp</th>\n",
       "      <th>Parch</th>\n",
       "      <th>Fare</th>\n",
       "      <th>Sex_female</th>\n",
       "      <th>Sex_male</th>\n",
       "      <th>Embarked_C</th>\n",
       "      <th>...</th>\n",
       "      <th>title_Master</th>\n",
       "      <th>title_Miss</th>\n",
       "      <th>title_Mlle</th>\n",
       "      <th>title_Mme</th>\n",
       "      <th>title_Mr</th>\n",
       "      <th>title_Mrs</th>\n",
       "      <th>title_Ms</th>\n",
       "      <th>title_Rev</th>\n",
       "      <th>title_Sir</th>\n",
       "      <th>title_the Countess</th>\n",
       "    </tr>\n",
       "  </thead>\n",
       "  <tbody>\n",
       "    <tr>\n",
       "      <th>0</th>\n",
       "      <td>1.0</td>\n",
       "      <td>0.0</td>\n",
       "      <td>3.0</td>\n",
       "      <td>22.000000</td>\n",
       "      <td>1.0</td>\n",
       "      <td>0.0</td>\n",
       "      <td>7.2500</td>\n",
       "      <td>0.0</td>\n",
       "      <td>1.0</td>\n",
       "      <td>0.0</td>\n",
       "      <td>...</td>\n",
       "      <td>0.0</td>\n",
       "      <td>0.0</td>\n",
       "      <td>0.0</td>\n",
       "      <td>0.0</td>\n",
       "      <td>1.0</td>\n",
       "      <td>0.0</td>\n",
       "      <td>0.0</td>\n",
       "      <td>0.0</td>\n",
       "      <td>0.0</td>\n",
       "      <td>0.0</td>\n",
       "    </tr>\n",
       "    <tr>\n",
       "      <th>1</th>\n",
       "      <td>2.0</td>\n",
       "      <td>1.0</td>\n",
       "      <td>1.0</td>\n",
       "      <td>38.000000</td>\n",
       "      <td>1.0</td>\n",
       "      <td>0.0</td>\n",
       "      <td>71.2833</td>\n",
       "      <td>1.0</td>\n",
       "      <td>0.0</td>\n",
       "      <td>1.0</td>\n",
       "      <td>...</td>\n",
       "      <td>0.0</td>\n",
       "      <td>0.0</td>\n",
       "      <td>0.0</td>\n",
       "      <td>0.0</td>\n",
       "      <td>0.0</td>\n",
       "      <td>1.0</td>\n",
       "      <td>0.0</td>\n",
       "      <td>0.0</td>\n",
       "      <td>0.0</td>\n",
       "      <td>0.0</td>\n",
       "    </tr>\n",
       "    <tr>\n",
       "      <th>2</th>\n",
       "      <td>3.0</td>\n",
       "      <td>1.0</td>\n",
       "      <td>3.0</td>\n",
       "      <td>26.000000</td>\n",
       "      <td>0.0</td>\n",
       "      <td>0.0</td>\n",
       "      <td>7.9250</td>\n",
       "      <td>1.0</td>\n",
       "      <td>0.0</td>\n",
       "      <td>0.0</td>\n",
       "      <td>...</td>\n",
       "      <td>0.0</td>\n",
       "      <td>1.0</td>\n",
       "      <td>0.0</td>\n",
       "      <td>0.0</td>\n",
       "      <td>0.0</td>\n",
       "      <td>0.0</td>\n",
       "      <td>0.0</td>\n",
       "      <td>0.0</td>\n",
       "      <td>0.0</td>\n",
       "      <td>0.0</td>\n",
       "    </tr>\n",
       "    <tr>\n",
       "      <th>3</th>\n",
       "      <td>4.0</td>\n",
       "      <td>1.0</td>\n",
       "      <td>1.0</td>\n",
       "      <td>35.000000</td>\n",
       "      <td>1.0</td>\n",
       "      <td>0.0</td>\n",
       "      <td>53.1000</td>\n",
       "      <td>1.0</td>\n",
       "      <td>0.0</td>\n",
       "      <td>0.0</td>\n",
       "      <td>...</td>\n",
       "      <td>0.0</td>\n",
       "      <td>0.0</td>\n",
       "      <td>0.0</td>\n",
       "      <td>0.0</td>\n",
       "      <td>0.0</td>\n",
       "      <td>1.0</td>\n",
       "      <td>0.0</td>\n",
       "      <td>0.0</td>\n",
       "      <td>0.0</td>\n",
       "      <td>0.0</td>\n",
       "    </tr>\n",
       "    <tr>\n",
       "      <th>4</th>\n",
       "      <td>5.0</td>\n",
       "      <td>0.0</td>\n",
       "      <td>3.0</td>\n",
       "      <td>35.000000</td>\n",
       "      <td>0.0</td>\n",
       "      <td>0.0</td>\n",
       "      <td>8.0500</td>\n",
       "      <td>0.0</td>\n",
       "      <td>1.0</td>\n",
       "      <td>0.0</td>\n",
       "      <td>...</td>\n",
       "      <td>0.0</td>\n",
       "      <td>0.0</td>\n",
       "      <td>0.0</td>\n",
       "      <td>0.0</td>\n",
       "      <td>1.0</td>\n",
       "      <td>0.0</td>\n",
       "      <td>0.0</td>\n",
       "      <td>0.0</td>\n",
       "      <td>0.0</td>\n",
       "      <td>0.0</td>\n",
       "    </tr>\n",
       "    <tr>\n",
       "      <th>5</th>\n",
       "      <td>6.0</td>\n",
       "      <td>0.0</td>\n",
       "      <td>3.0</td>\n",
       "      <td>29.642093</td>\n",
       "      <td>0.0</td>\n",
       "      <td>0.0</td>\n",
       "      <td>8.4583</td>\n",
       "      <td>0.0</td>\n",
       "      <td>1.0</td>\n",
       "      <td>0.0</td>\n",
       "      <td>...</td>\n",
       "      <td>0.0</td>\n",
       "      <td>0.0</td>\n",
       "      <td>0.0</td>\n",
       "      <td>0.0</td>\n",
       "      <td>1.0</td>\n",
       "      <td>0.0</td>\n",
       "      <td>0.0</td>\n",
       "      <td>0.0</td>\n",
       "      <td>0.0</td>\n",
       "      <td>0.0</td>\n",
       "    </tr>\n",
       "    <tr>\n",
       "      <th>6</th>\n",
       "      <td>7.0</td>\n",
       "      <td>0.0</td>\n",
       "      <td>1.0</td>\n",
       "      <td>54.000000</td>\n",
       "      <td>0.0</td>\n",
       "      <td>0.0</td>\n",
       "      <td>51.8625</td>\n",
       "      <td>0.0</td>\n",
       "      <td>1.0</td>\n",
       "      <td>0.0</td>\n",
       "      <td>...</td>\n",
       "      <td>0.0</td>\n",
       "      <td>0.0</td>\n",
       "      <td>0.0</td>\n",
       "      <td>0.0</td>\n",
       "      <td>1.0</td>\n",
       "      <td>0.0</td>\n",
       "      <td>0.0</td>\n",
       "      <td>0.0</td>\n",
       "      <td>0.0</td>\n",
       "      <td>0.0</td>\n",
       "    </tr>\n",
       "  </tbody>\n",
       "</table>\n",
       "<p>7 rows × 29 columns</p>\n",
       "</div>"
      ],
      "text/plain": [
       "   PassengerId  Survived  Pclass        Age  SibSp  Parch     Fare  \\\n",
       "0          1.0       0.0     3.0  22.000000    1.0    0.0   7.2500   \n",
       "1          2.0       1.0     1.0  38.000000    1.0    0.0  71.2833   \n",
       "2          3.0       1.0     3.0  26.000000    0.0    0.0   7.9250   \n",
       "3          4.0       1.0     1.0  35.000000    1.0    0.0  53.1000   \n",
       "4          5.0       0.0     3.0  35.000000    0.0    0.0   8.0500   \n",
       "5          6.0       0.0     3.0  29.642093    0.0    0.0   8.4583   \n",
       "6          7.0       0.0     1.0  54.000000    0.0    0.0  51.8625   \n",
       "\n",
       "   Sex_female  Sex_male  Embarked_C         ...          title_Master  \\\n",
       "0         0.0       1.0         0.0         ...                   0.0   \n",
       "1         1.0       0.0         1.0         ...                   0.0   \n",
       "2         1.0       0.0         0.0         ...                   0.0   \n",
       "3         1.0       0.0         0.0         ...                   0.0   \n",
       "4         0.0       1.0         0.0         ...                   0.0   \n",
       "5         0.0       1.0         0.0         ...                   0.0   \n",
       "6         0.0       1.0         0.0         ...                   0.0   \n",
       "\n",
       "   title_Miss  title_Mlle  title_Mme  title_Mr  title_Mrs  title_Ms  \\\n",
       "0         0.0         0.0        0.0       1.0        0.0       0.0   \n",
       "1         0.0         0.0        0.0       0.0        1.0       0.0   \n",
       "2         1.0         0.0        0.0       0.0        0.0       0.0   \n",
       "3         0.0         0.0        0.0       0.0        1.0       0.0   \n",
       "4         0.0         0.0        0.0       1.0        0.0       0.0   \n",
       "5         0.0         0.0        0.0       1.0        0.0       0.0   \n",
       "6         0.0         0.0        0.0       1.0        0.0       0.0   \n",
       "\n",
       "   title_Rev  title_Sir  title_the Countess  \n",
       "0        0.0        0.0                 0.0  \n",
       "1        0.0        0.0                 0.0  \n",
       "2        0.0        0.0                 0.0  \n",
       "3        0.0        0.0                 0.0  \n",
       "4        0.0        0.0                 0.0  \n",
       "5        0.0        0.0                 0.0  \n",
       "6        0.0        0.0                 0.0  \n",
       "\n",
       "[7 rows x 29 columns]"
      ]
     },
     "execution_count": 57,
     "metadata": {},
     "output_type": "execute_result"
    }
   ],
   "source": [
    "df_model.head(7)"
   ]
  },
  {
   "cell_type": "code",
   "execution_count": 58,
   "metadata": {},
   "outputs": [
    {
     "data": {
      "text/plain": [
       "0.7892376681614349"
      ]
     },
     "execution_count": 58,
     "metadata": {},
     "output_type": "execute_result"
    }
   ],
   "source": [
    "X_train, X_test, y_train, y_test = train_test_split(df_model.drop(\"Survived\",1),df_model.Survived, random_state = 42)\n",
    "sc = StandardScaler()\n",
    "X_train = sc.fit_transform(X_train)\n",
    "X_test = sc.transform(X_test)\n",
    "\n",
    "rfc = RandomForestClassifier()\n",
    "\n",
    "model=rfc.fit(X_train,y_train)\n",
    "pred_rfc = rfc.predict(X_test)\n",
    "pred_rfc_train = rfc.predict(X_train)\n",
    "model.score(X_test,y_test)"
   ]
  },
  {
   "cell_type": "code",
   "execution_count": 59,
   "metadata": {},
   "outputs": [
    {
     "data": {
      "text/plain": [
       "<matplotlib.axes._subplots.AxesSubplot at 0x7fbcd982e6d8>"
      ]
     },
     "execution_count": 59,
     "metadata": {},
     "output_type": "execute_result"
    },
    {
     "data": {
      "image/png": "[encoded data removed]",
      "text/plain": [
       "<Figure size 432x288 with 1 Axes>"
      ]
     },
     "metadata": {},
     "output_type": "display_data"
    }
   ],
   "source": [
    "sns.set(style=\"darkgrid\")\n",
    "data = confusion_matrix(y_test,pred_rfc)\n",
    "sns.heatmap(data,annot = True, fmt='g', cbar=False)"
   ]
  },
  {
   "cell_type": "code",
   "execution_count": 60,
   "metadata": {},
   "outputs": [],
   "source": [
    "df_model = make_model_df(['Name','Ticket','known_age'])\n",
    "df_model.Age.where(df_model.Age>0,np.NaN,inplace=True) "
   ]
  },
  {
   "cell_type": "code",
   "execution_count": 61,
   "metadata": {},
   "outputs": [],
   "source": [
    "from fancyimpute import IterativeImputer"
   ]
  },
  {
   "cell_type": "code",
   "execution_count": 62,
   "metadata": {},
   "outputs": [],
   "source": [
    "def impute_data(df):\n",
    "    fill = IterativeImputer(min_value=df.Age.min(),\n",
    "                            max_value=df.Age.max(), \n",
    "                            sample_posterior=True,\n",
    "                            random_state=42)\n",
    "    filled = fill.fit_transform(df)\n",
    "    df = pd.DataFrame(filled, columns=df.columns.values)\n",
    "    #df_model.head(7)\n",
    "    return df"
   ]
  },
  {
   "cell_type": "code",
   "execution_count": 63,
   "metadata": {},
   "outputs": [],
   "source": [
    "df_0 = impute_data(df_model)\n",
    "df_1 = impute_data(df_model)\n",
    "df_2 = impute_data(df_model)\n",
    "df_3 = impute_data(df_model)\n",
    "df_4 = impute_data(df_model)\n",
    "df_5 = impute_data(df_model)\n",
    "df_6 = impute_data(df_model)\n",
    "df_7 = impute_data(df_model)\n",
    "df_8 = impute_data(df_model)\n",
    "df_9 = impute_data(df_model)"
   ]
  },
  {
   "cell_type": "code",
   "execution_count": 64,
   "metadata": {},
   "outputs": [],
   "source": [
    "def s_scale(df):\n",
    "    X_train, X_test, y_train, y_test = train_test_split(df.drop(\"Survived\",1),\n",
    "                                                        df.Survived, \n",
    "                                                        random_state = 42)\n",
    "    sc = StandardScaler()\n",
    "    X_train = sc.fit_transform(X_train)\n",
    "    X_test = sc.transform(X_test)\n",
    "    return X_train, X_test, y_train, y_test"
   ]
  },
  {
   "cell_type": "code",
   "execution_count": 65,
   "metadata": {},
   "outputs": [],
   "source": [
    "pred_rfc = []"
   ]
  },
  {
   "cell_type": "code",
   "execution_count": 66,
   "metadata": {},
   "outputs": [
    {
     "data": {
      "text/plain": [
       "0.8071748878923767"
      ]
     },
     "execution_count": 66,
     "metadata": {},
     "output_type": "execute_result"
    }
   ],
   "source": [
    "X_train, X_test, y_train, y_test = s_scale(df_0)\n",
    "rfc0 = RandomForestClassifier()\n",
    "model0=rfc0.fit(X_train,y_train)\n",
    "pred_rfc.append(rfc0.predict(X_test))\n",
    "model0.score(X_test,y_test)"
   ]
  },
  {
   "cell_type": "code",
   "execution_count": 67,
   "metadata": {},
   "outputs": [
    {
     "data": {
      "text/plain": [
       "0.7937219730941704"
      ]
     },
     "execution_count": 67,
     "metadata": {},
     "output_type": "execute_result"
    }
   ],
   "source": [
    "X_train, X_test, y_train, y_test = s_scale(df_1)\n",
    "rfc1 = RandomForestClassifier()\n",
    "model1=rfc1.fit(X_train,y_train)\n",
    "pred_rfc.append(rfc1.predict(X_test))\n",
    "model1.score(X_test,y_test)"
   ]
  },
  {
   "cell_type": "code",
   "execution_count": 68,
   "metadata": {},
   "outputs": [
    {
     "data": {
      "text/plain": [
       "0.7847533632286996"
      ]
     },
     "execution_count": 68,
     "metadata": {},
     "output_type": "execute_result"
    }
   ],
   "source": [
    "X_train, X_test, y_train, y_test = s_scale(df_2)\n",
    "rfc2 = RandomForestClassifier()\n",
    "model2=rfc2.fit(X_train,y_train)\n",
    "pred_rfc.append(rfc2.predict(X_test))\n",
    "model2.score(X_test,y_test)"
   ]
  },
  {
   "cell_type": "code",
   "execution_count": 69,
   "metadata": {},
   "outputs": [
    {
     "data": {
      "text/plain": [
       "0.7892376681614349"
      ]
     },
     "execution_count": 69,
     "metadata": {},
     "output_type": "execute_result"
    }
   ],
   "source": [
    "X_train, X_test, y_train, y_test = s_scale(df_3)\n",
    "rfc3 = RandomForestClassifier()\n",
    "model3=rfc3.fit(X_train,y_train)\n",
    "pred_rfc.append(rfc3.predict(X_test))\n",
    "model3.score(X_test,y_test)"
   ]
  },
  {
   "cell_type": "code",
   "execution_count": 70,
   "metadata": {},
   "outputs": [
    {
     "data": {
      "text/plain": [
       "0.8071748878923767"
      ]
     },
     "execution_count": 70,
     "metadata": {},
     "output_type": "execute_result"
    }
   ],
   "source": [
    "X_train, X_test, y_train, y_test = s_scale(df_4)\n",
    "rfc4 = RandomForestClassifier()\n",
    "model4=rfc4.fit(X_train,y_train)\n",
    "pred_rfc.append(rfc4.predict(X_test))\n",
    "model4.score(X_test,y_test)"
   ]
  },
  {
   "cell_type": "code",
   "execution_count": 71,
   "metadata": {},
   "outputs": [
    {
     "data": {
      "text/plain": [
       "0.7802690582959642"
      ]
     },
     "execution_count": 71,
     "metadata": {},
     "output_type": "execute_result"
    }
   ],
   "source": [
    "X_train, X_test, y_train, y_test = s_scale(df_5)\n",
    "rfc5 = RandomForestClassifier()\n",
    "model5=rfc5.fit(X_train,y_train)\n",
    "pred_rfc.append(rfc5.predict(X_test))\n",
    "model5.score(X_test,y_test)"
   ]
  },
  {
   "cell_type": "code",
   "execution_count": 72,
   "metadata": {},
   "outputs": [
    {
     "data": {
      "text/plain": [
       "0.7982062780269058"
      ]
     },
     "execution_count": 72,
     "metadata": {},
     "output_type": "execute_result"
    }
   ],
   "source": [
    "X_train, X_test, y_train, y_test = s_scale(df_6)\n",
    "rfc6 = RandomForestClassifier()\n",
    "model6=rfc6.fit(X_train,y_train)\n",
    "pred_rfc.append(rfc6.predict(X_test))\n",
    "model6.score(X_test,y_test)"
   ]
  },
  {
   "cell_type": "code",
   "execution_count": 73,
   "metadata": {},
   "outputs": [
    {
     "data": {
      "text/plain": [
       "0.7937219730941704"
      ]
     },
     "execution_count": 73,
     "metadata": {},
     "output_type": "execute_result"
    }
   ],
   "source": [
    "X_train, X_test, y_train, y_test = s_scale(df_7)\n",
    "rfc7 = RandomForestClassifier()\n",
    "model7=rfc7.fit(X_train,y_train)\n",
    "pred_rfc.append(rfc7.predict(X_test))\n",
    "model7.score(X_test,y_test)"
   ]
  },
  {
   "cell_type": "code",
   "execution_count": 74,
   "metadata": {},
   "outputs": [
    {
     "data": {
      "text/plain": [
       "0.8026905829596412"
      ]
     },
     "execution_count": 74,
     "metadata": {},
     "output_type": "execute_result"
    }
   ],
   "source": [
    "X_train, X_test, y_train, y_test = s_scale(df_8)\n",
    "rfc8 = RandomForestClassifier()\n",
    "model8=rfc8.fit(X_train,y_train)\n",
    "pred_rfc.append(rfc8.predict(X_test))\n",
    "model8.score(X_test,y_test)"
   ]
  },
  {
   "cell_type": "code",
   "execution_count": 75,
   "metadata": {},
   "outputs": [
    {
     "data": {
      "text/plain": [
       "0.8161434977578476"
      ]
     },
     "execution_count": 75,
     "metadata": {},
     "output_type": "execute_result"
    }
   ],
   "source": [
    "X_train, X_test, y_train, y_test = s_scale(df_9)\n",
    "rfc9 = RandomForestClassifier()\n",
    "model9=rfc9.fit(X_train,y_train)\n",
    "pred_rfc.append(rfc9.predict(X_test))\n",
    "model9.score(X_test,y_test)"
   ]
  },
  {
   "cell_type": "code",
   "execution_count": 79,
   "metadata": {},
   "outputs": [
    {
     "data": {
      "text/plain": [
       "[array([0., 1., 1., 0., 1., 0., 0., 0., 1., 1., 0., 1., 0., 0., 0., 0., 0.,\n",
       "        0., 0., 0., 1., 1., 0., 0., 0., 1., 0., 1., 0., 0., 0., 1., 0., 0.,\n",
       "        0., 0., 1., 0., 0., 0., 0., 0., 0., 0., 1., 0., 1., 0., 0., 1., 1.,\n",
       "        1., 0., 0., 1., 1., 1., 0., 0., 0., 0., 1., 1., 0., 1., 0., 0., 0.,\n",
       "        1., 1., 0., 1., 1., 0., 1., 1., 0., 0., 1., 0., 0., 1., 1., 0., 0.,\n",
       "        0., 0., 0., 0., 1., 0., 0., 0., 0., 1., 0., 0., 0., 1., 0., 0., 1.,\n",
       "        0., 0., 0., 0., 0., 1., 0., 0., 0., 0., 0., 1., 0., 0., 0., 0., 0.,\n",
       "        0., 1., 1., 0., 0., 1., 1., 0., 1., 1., 0., 1., 0., 0., 0., 0., 1.,\n",
       "        0., 1., 0., 1., 1., 0., 1., 0., 1., 0., 0., 1., 0., 1., 0., 1., 0.,\n",
       "        1., 0., 1., 0., 1., 0., 1., 0., 1., 0., 0., 0., 0., 1., 0., 0., 1.,\n",
       "        1., 1., 1., 0., 1., 0., 0., 1., 1., 1., 0., 0., 0., 0., 0., 0., 0.,\n",
       "        0., 0., 0., 0., 0., 1., 0., 0., 0., 0., 1., 0., 0., 0., 0., 0., 0.,\n",
       "        0., 1., 0., 0., 1., 0., 0., 1., 0., 1., 0., 0., 1., 0., 0., 0., 0.,\n",
       "        1., 1.]),\n",
       " array([0., 1., 1., 0., 1., 0., 0., 0., 1., 1., 0., 0., 0., 0., 0., 0., 0.,\n",
       "        0., 0., 0., 0., 1., 0., 0., 0., 1., 0., 1., 0., 0., 0., 1., 0., 0.,\n",
       "        0., 0., 1., 0., 0., 0., 0., 0., 0., 0., 1., 0., 1., 0., 0., 1., 1.,\n",
       "        1., 0., 0., 1., 1., 1., 0., 0., 0., 0., 1., 1., 0., 1., 0., 0., 1.,\n",
       "        1., 1., 0., 1., 1., 0., 0., 1., 0., 0., 1., 1., 0., 1., 1., 1., 0.,\n",
       "        0., 0., 0., 0., 0., 0., 0., 0., 0., 0., 1., 0., 0., 1., 0., 0., 1.,\n",
       "        0., 0., 0., 0., 0., 1., 0., 0., 0., 0., 0., 1., 0., 0., 1., 0., 0.,\n",
       "        0., 1., 1., 0., 0., 1., 1., 0., 1., 1., 0., 1., 0., 0., 0., 0., 1.,\n",
       "        0., 1., 0., 1., 1., 0., 1., 0., 1., 0., 0., 1., 0., 1., 0., 1., 0.,\n",
       "        1., 0., 1., 0., 1., 0., 1., 0., 1., 0., 0., 0., 1., 1., 0., 0., 1.,\n",
       "        1., 1., 1., 0., 1., 0., 0., 1., 1., 1., 0., 0., 0., 0., 0., 0., 0.,\n",
       "        0., 0., 0., 0., 0., 1., 0., 0., 0., 0., 1., 0., 0., 0., 0., 0., 0.,\n",
       "        0., 0., 0., 0., 1., 1., 0., 1., 0., 1., 0., 0., 1., 0., 0., 0., 0.,\n",
       "        1., 1.]),\n",
       " array([0., 1., 1., 0., 1., 0., 0., 0., 1., 1., 0., 1., 0., 0., 0., 0., 0.,\n",
       "        0., 0., 0., 0., 1., 0., 0., 0., 0., 0., 1., 0., 0., 0., 1., 0., 0.,\n",
       "        0., 0., 1., 0., 0., 0., 0., 0., 0., 0., 1., 0., 1., 0., 0., 1., 1.,\n",
       "        1., 1., 0., 1., 1., 0., 0., 0., 0., 0., 1., 1., 1., 1., 0., 0., 1.,\n",
       "        1., 1., 0., 1., 1., 0., 1., 1., 0., 0., 1., 1., 0., 1., 1., 0., 0.,\n",
       "        0., 0., 0., 0., 1., 0., 0., 0., 0., 1., 1., 1., 0., 1., 0., 0., 1.,\n",
       "        0., 0., 0., 0., 0., 1., 0., 0., 0., 0., 0., 1., 0., 0., 0., 0., 0.,\n",
       "        0., 1., 1., 0., 0., 1., 1., 0., 1., 1., 0., 1., 0., 0., 0., 0., 1.,\n",
       "        0., 1., 0., 1., 1., 0., 1., 0., 1., 0., 0., 1., 0., 1., 0., 1., 0.,\n",
       "        1., 0., 1., 0., 1., 0., 1., 0., 1., 0., 0., 0., 1., 1., 0., 0., 1.,\n",
       "        1., 1., 1., 0., 1., 0., 0., 1., 1., 1., 0., 0., 0., 0., 0., 0., 0.,\n",
       "        0., 0., 0., 0., 0., 1., 0., 0., 0., 0., 1., 0., 0., 0., 0., 0., 0.,\n",
       "        0., 0., 0., 0., 1., 1., 0., 1., 0., 1., 0., 0., 1., 0., 0., 0., 1.,\n",
       "        1., 1.]),\n",
       " array([0., 1., 1., 0., 1., 0., 0., 0., 1., 1., 0., 1., 0., 0., 0., 0., 1.,\n",
       "        0., 0., 0., 0., 1., 0., 0., 0., 1., 0., 1., 0., 0., 0., 1., 0., 0.,\n",
       "        0., 0., 1., 1., 0., 0., 0., 0., 0., 0., 1., 0., 1., 0., 0., 1., 1.,\n",
       "        1., 1., 0., 1., 1., 1., 0., 0., 0., 0., 1., 1., 1., 1., 0., 0., 0.,\n",
       "        1., 1., 0., 1., 1., 0., 0., 1., 0., 0., 1., 1., 0., 1., 1., 1., 0.,\n",
       "        0., 0., 0., 0., 0., 0., 1., 0., 0., 1., 0., 0., 0., 1., 0., 0., 1.,\n",
       "        0., 0., 0., 0., 0., 1., 0., 0., 0., 0., 0., 1., 0., 0., 0., 0., 0.,\n",
       "        0., 1., 1., 0., 0., 1., 1., 0., 1., 1., 0., 1., 0., 0., 0., 0., 1.,\n",
       "        0., 1., 1., 1., 1., 0., 1., 0., 1., 0., 0., 1., 0., 1., 0., 1., 0.,\n",
       "        1., 0., 1., 0., 0., 0., 1., 0., 1., 0., 0., 0., 1., 1., 0., 0., 1.,\n",
       "        1., 1., 1., 0., 1., 0., 0., 0., 1., 1., 0., 0., 0., 0., 0., 0., 0.,\n",
       "        0., 0., 0., 0., 0., 1., 0., 0., 0., 0., 1., 0., 0., 0., 0., 0., 0.,\n",
       "        0., 0., 0., 0., 1., 0., 0., 0., 0., 1., 0., 0., 1., 0., 0., 0., 0.,\n",
       "        1., 1.]),\n",
       " array([0., 1., 1., 0., 1., 0., 0., 0., 1., 1., 0., 1., 0., 0., 0., 0., 0.,\n",
       "        0., 0., 0., 0., 1., 0., 0., 0., 0., 0., 1., 0., 0., 0., 1., 0., 1.,\n",
       "        0., 0., 1., 1., 0., 0., 0., 0., 0., 0., 1., 0., 1., 0., 0., 1., 1.,\n",
       "        1., 1., 0., 1., 1., 0., 0., 0., 0., 0., 1., 1., 1., 1., 0., 0., 0.,\n",
       "        1., 1., 0., 1., 1., 0., 0., 1., 0., 0., 1., 0., 0., 1., 1., 0., 0.,\n",
       "        0., 0., 0., 0., 0., 0., 0., 0., 0., 0., 0., 0., 0., 1., 0., 0., 1.,\n",
       "        0., 0., 0., 0., 0., 1., 0., 0., 0., 0., 0., 1., 0., 0., 0., 0., 0.,\n",
       "        0., 1., 1., 0., 0., 1., 1., 0., 1., 1., 0., 1., 0., 0., 0., 0., 1.,\n",
       "        0., 1., 0., 1., 1., 0., 1., 0., 1., 0., 0., 1., 0., 1., 0., 1., 0.,\n",
       "        1., 0., 1., 0., 1., 0., 1., 0., 1., 0., 0., 0., 1., 1., 0., 0., 1.,\n",
       "        1., 1., 1., 0., 0., 0., 0., 1., 1., 0., 0., 0., 0., 0., 0., 0., 1.,\n",
       "        0., 0., 0., 0., 0., 1., 0., 0., 0., 0., 1., 0., 0., 0., 0., 0., 0.,\n",
       "        0., 0., 0., 1., 1., 0., 0., 1., 0., 1., 0., 0., 1., 0., 0., 0., 0.,\n",
       "        1., 1.]),\n",
       " array([0., 1., 1., 0., 1., 0., 0., 0., 1., 1., 0., 0., 0., 0., 0., 0., 0.,\n",
       "        0., 0., 0., 0., 1., 0., 0., 0., 0., 0., 1., 0., 0., 0., 1., 0., 1.,\n",
       "        0., 0., 1., 0., 0., 0., 0., 0., 0., 0., 1., 0., 1., 0., 0., 1., 1.,\n",
       "        1., 1., 0., 1., 1., 1., 0., 1., 0., 0., 1., 1., 1., 1., 0., 0., 1.,\n",
       "        1., 1., 0., 1., 1., 0., 0., 1., 0., 0., 1., 1., 0., 1., 1., 0., 0.,\n",
       "        0., 0., 0., 0., 1., 0., 0., 0., 0., 1., 1., 0., 0., 1., 0., 0., 1.,\n",
       "        0., 0., 0., 0., 0., 1., 0., 0., 0., 0., 0., 1., 0., 0., 0., 0., 1.,\n",
       "        0., 1., 1., 0., 0., 1., 1., 0., 1., 1., 0., 1., 0., 0., 0., 0., 1.,\n",
       "        0., 1., 0., 1., 1., 0., 1., 0., 1., 0., 0., 1., 0., 1., 0., 1., 0.,\n",
       "        1., 0., 1., 0., 1., 0., 1., 0., 1., 0., 0., 0., 1., 1., 0., 0., 1.,\n",
       "        1., 1., 1., 0., 1., 0., 0., 1., 1., 1., 0., 0., 0., 0., 0., 0., 0.,\n",
       "        0., 0., 0., 0., 0., 1., 0., 0., 0., 0., 1., 0., 0., 0., 0., 0., 0.,\n",
       "        0., 0., 0., 0., 1., 1., 0., 0., 0., 1., 0., 0., 1., 0., 0., 0., 0.,\n",
       "        1., 1.]),\n",
       " array([0., 1., 1., 0., 1., 0., 0., 0., 1., 1., 0., 1., 0., 0., 0., 0., 1.,\n",
       "        0., 0., 0., 0., 1., 0., 0., 0., 1., 0., 1., 0., 0., 0., 1., 0., 0.,\n",
       "        0., 0., 1., 0., 0., 0., 0., 0., 0., 0., 1., 0., 1., 0., 0., 1., 1.,\n",
       "        1., 0., 0., 1., 1., 1., 0., 0., 0., 0., 1., 1., 0., 1., 0., 0., 0.,\n",
       "        1., 1., 0., 1., 1., 0., 1., 1., 0., 0., 1., 1., 0., 1., 1., 0., 0.,\n",
       "        0., 0., 0., 0., 0., 0., 0., 0., 0., 1., 0., 0., 0., 1., 0., 0., 1.,\n",
       "        0., 0., 0., 0., 0., 1., 0., 0., 0., 0., 0., 1., 0., 0., 0., 0., 0.,\n",
       "        0., 1., 1., 0., 0., 1., 1., 0., 1., 1., 1., 1., 0., 0., 0., 0., 1.,\n",
       "        0., 1., 0., 1., 1., 0., 1., 0., 1., 0., 0., 1., 0., 1., 0., 1., 0.,\n",
       "        1., 0., 1., 0., 0., 0., 1., 0., 1., 0., 0., 0., 1., 1., 0., 0., 1.,\n",
       "        1., 1., 1., 0., 1., 0., 0., 1., 1., 1., 0., 0., 0., 0., 0., 0., 0.,\n",
       "        0., 0., 0., 0., 0., 1., 0., 0., 0., 0., 1., 0., 0., 0., 0., 0., 0.,\n",
       "        0., 0., 0., 0., 1., 0., 0., 1., 0., 1., 0., 0., 1., 0., 0., 0., 0.,\n",
       "        1., 1.]),\n",
       " array([0., 1., 1., 0., 1., 0., 0., 0., 1., 1., 0., 0., 0., 0., 0., 0., 0.,\n",
       "        0., 0., 0., 0., 1., 0., 0., 0., 1., 0., 1., 0., 0., 0., 1., 0., 1.,\n",
       "        0., 0., 1., 1., 0., 0., 0., 0., 0., 0., 1., 0., 1., 0., 0., 1., 1.,\n",
       "        1., 0., 0., 1., 1., 1., 0., 0., 0., 0., 1., 1., 1., 1., 0., 0., 0.,\n",
       "        1., 1., 0., 1., 1., 0., 0., 1., 0., 0., 1., 1., 0., 1., 1., 0., 0.,\n",
       "        0., 0., 0., 0., 1., 0., 0., 0., 0., 0., 1., 0., 0., 1., 0., 0., 1.,\n",
       "        0., 0., 0., 0., 0., 1., 0., 0., 0., 0., 0., 1., 0., 0., 0., 0., 0.,\n",
       "        0., 1., 1., 0., 0., 1., 1., 0., 1., 1., 1., 1., 0., 0., 0., 0., 1.,\n",
       "        0., 1., 1., 1., 1., 0., 1., 0., 1., 0., 0., 1., 0., 1., 0., 1., 0.,\n",
       "        1., 0., 1., 0., 0., 0., 1., 0., 1., 0., 0., 0., 1., 1., 0., 0., 1.,\n",
       "        1., 1., 1., 0., 1., 0., 0., 1., 1., 1., 0., 0., 0., 0., 0., 0., 0.,\n",
       "        0., 0., 0., 0., 0., 1., 0., 0., 0., 0., 1., 1., 0., 0., 0., 0., 0.,\n",
       "        0., 0., 0., 0., 1., 1., 0., 0., 0., 1., 0., 0., 1., 0., 0., 0., 0.,\n",
       "        1., 1.]),\n",
       " array([0., 1., 1., 0., 1., 0., 0., 0., 1., 1., 0., 0., 0., 0., 0., 0., 1.,\n",
       "        0., 0., 0., 0., 1., 0., 0., 0., 0., 0., 1., 0., 0., 0., 1., 0., 1.,\n",
       "        0., 0., 1., 0., 0., 0., 0., 0., 0., 0., 1., 0., 1., 0., 0., 1., 1.,\n",
       "        1., 0., 0., 1., 1., 1., 0., 0., 0., 0., 1., 1., 1., 1., 0., 0., 0.,\n",
       "        1., 1., 0., 1., 1., 0., 1., 1., 0., 0., 1., 1., 0., 1., 1., 1., 0.,\n",
       "        0., 0., 0., 0., 0., 0., 1., 0., 0., 1., 1., 0., 0., 1., 0., 0., 1.,\n",
       "        0., 0., 0., 0., 1., 1., 0., 0., 0., 0., 0., 1., 0., 0., 0., 0., 0.,\n",
       "        0., 1., 1., 0., 0., 1., 1., 0., 1., 1., 0., 1., 0., 0., 0., 0., 1.,\n",
       "        0., 1., 0., 1., 1., 0., 1., 0., 1., 0., 0., 1., 0., 1., 0., 1., 0.,\n",
       "        1., 0., 1., 0., 0., 0., 1., 0., 1., 0., 0., 0., 1., 1., 0., 0., 1.,\n",
       "        1., 1., 1., 0., 1., 0., 0., 1., 1., 1., 0., 0., 0., 0., 0., 0., 0.,\n",
       "        0., 0., 0., 0., 0., 1., 0., 0., 0., 0., 1., 0., 0., 0., 0., 0., 0.,\n",
       "        0., 0., 0., 0., 1., 1., 0., 0., 0., 1., 0., 0., 1., 0., 0., 0., 0.,\n",
       "        1., 1.]),\n",
       " array([0., 1., 1., 0., 1., 0., 0., 0., 1., 1., 0., 1., 0., 0., 0., 0., 0.,\n",
       "        0., 0., 0., 0., 1., 0., 0., 0., 0., 0., 1., 0., 0., 0., 1., 0., 1.,\n",
       "        0., 0., 1., 1., 0., 0., 0., 0., 0., 0., 1., 0., 1., 0., 0., 1., 1.,\n",
       "        1., 1., 0., 1., 1., 1., 0., 0., 0., 0., 1., 1., 0., 1., 0., 0., 1.,\n",
       "        1., 1., 0., 1., 1., 0., 1., 1., 0., 0., 1., 0., 0., 1., 1., 1., 0.,\n",
       "        0., 0., 0., 0., 1., 0., 0., 0., 0., 0., 1., 0., 0., 1., 0., 0., 1.,\n",
       "        0., 0., 0., 0., 1., 1., 0., 0., 0., 0., 0., 1., 0., 0., 0., 0., 1.,\n",
       "        0., 1., 1., 0., 0., 1., 1., 0., 1., 1., 1., 1., 0., 0., 0., 1., 1.,\n",
       "        0., 1., 0., 1., 1., 0., 1., 0., 1., 0., 0., 1., 0., 1., 0., 1., 0.,\n",
       "        1., 0., 1., 0., 1., 0., 1., 0., 1., 0., 0., 0., 1., 1., 0., 0., 1.,\n",
       "        1., 1., 1., 0., 1., 0., 1., 1., 1., 1., 0., 0., 0., 0., 0., 0., 0.,\n",
       "        0., 0., 0., 0., 0., 1., 0., 0., 0., 0., 1., 0., 0., 0., 0., 0., 0.,\n",
       "        0., 0., 0., 0., 1., 0., 0., 1., 0., 1., 0., 0., 1., 0., 0., 0., 0.,\n",
       "        1., 1.])]"
      ]
     },
     "execution_count": 79,
     "metadata": {},
     "output_type": "execute_result"
    }
   ],
   "source": [
    "pred_rfc"
   ]
  },
  {
   "cell_type": "code",
   "execution_count": 183,
   "metadata": {},
   "outputs": [
    {
     "data": {
      "text/plain": [
       "1"
      ]
     },
     "execution_count": 183,
     "metadata": {},
     "output_type": "execute_result"
    }
   ],
   "source": [
    "np.random.randint(0,2)"
   ]
  },
  {
   "cell_type": "code",
   "execution_count": 190,
   "metadata": {},
   "outputs": [],
   "source": [
    "preds=[]\n",
    "for i in range(len(pred_rfc[0])):\n",
    "    #print(i)\n",
    "    new_pred=0\n",
    "    for j in range(len(pred_rfc)):\n",
    "        new_pred +=pred_rfc[j][i]\n",
    "    if new_pred>5:\n",
    "        preds.append(1)\n",
    "    elif new_pred<5:\n",
    "        preds.append(0)\n",
    "    else:\n",
    "        preds.append(np.random.randint(0,2))\n",
    "preds = np.array(preds)"
   ]
  },
  {
   "cell_type": "code",
   "execution_count": 191,
   "metadata": {},
   "outputs": [
    {
     "data": {
      "text/plain": [
       "array([0, 1, 1, 0, 1, 0, 0, 0, 1, 1, 0, 1, 0, 0, 0, 0, 0, 0, 0, 0, 0, 1,\n",
       "       0, 0, 0, 0, 0, 1, 0, 0, 0, 1, 0, 0, 0, 0, 1, 0, 0, 0, 0, 0, 0, 0,\n",
       "       1, 0, 1, 0, 0, 1, 1, 1, 0, 0, 1, 1, 1, 0, 0, 0, 0, 1, 1, 1, 1, 0,\n",
       "       0, 0, 1, 1, 0, 1, 1, 0, 0, 1, 0, 0, 1, 1, 0, 1, 1, 0, 0, 0, 0, 0,\n",
       "       0, 0, 0, 0, 0, 0, 1, 1, 0, 0, 1, 0, 0, 1, 0, 0, 0, 0, 0, 1, 0, 0,\n",
       "       0, 0, 0, 1, 0, 0, 0, 0, 0, 0, 1, 1, 0, 0, 1, 1, 0, 1, 1, 0, 1, 0,\n",
       "       0, 0, 0, 1, 0, 1, 0, 1, 1, 0, 1, 0, 1, 0, 0, 1, 0, 1, 0, 1, 0, 1,\n",
       "       0, 1, 0, 1, 0, 1, 0, 1, 0, 0, 0, 1, 1, 0, 0, 1, 1, 1, 1, 0, 1, 0,\n",
       "       0, 1, 1, 1, 0, 0, 0, 0, 0, 0, 0, 0, 0, 0, 0, 0, 1, 0, 0, 0, 0, 1,\n",
       "       0, 0, 0, 0, 0, 0, 0, 0, 0, 0, 1, 1, 0, 1, 0, 1, 0, 0, 1, 0, 0, 0,\n",
       "       0, 1, 1])"
      ]
     },
     "execution_count": 191,
     "metadata": {},
     "output_type": "execute_result"
    }
   ],
   "source": [
    "preds"
   ]
  },
  {
   "cell_type": "code",
   "execution_count": 192,
   "metadata": {},
   "outputs": [
    {
     "data": {
      "text/plain": [
       "<matplotlib.axes._subplots.AxesSubplot at 0x7fbcd7d6c860>"
      ]
     },
     "execution_count": 192,
     "metadata": {},
     "output_type": "execute_result"
    },
    {
     "data": {
      "image/png": "[encoded data removed]",
      "text/plain": [
       "<Figure size 432x288 with 1 Axes>"
      ]
     },
     "metadata": {},
     "output_type": "display_data"
    }
   ],
   "source": [
    "sns.set(style=\"darkgrid\")\n",
    "data = confusion_matrix(y_test,preds)\n",
    "sns.heatmap(data,annot = True, fmt='g', cbar=False)"
   ]
  },
  {
   "cell_type": "code",
   "execution_count": 204,
   "metadata": {},
   "outputs": [
    {
     "data": {
      "text/plain": [
       "0.7892376681614349"
      ]
     },
     "execution_count": 204,
     "metadata": {},
     "output_type": "execute_result"
    }
   ],
   "source": [
    "X_train, X_test, y_train, y_test = train_test_split(df_model.drop(\"Survived\",1),df_model.Survived, random_state = 42)\n",
    "sc = StandardScaler()\n",
    "X_train = sc.fit_transform(X_train)\n",
    "X_test = sc.transform(X_test)\n",
    "\n",
    "rfc = RandomForestClassifier()\n",
    "\n",
    "model=rfc.fit(X_train,y_train)\n",
    "pred_rfc = rfc.predict(X_test)\n",
    "pred_rfc_train = rfc.predict(X_train)\n",
    "model.score(X_test,y_test)"
   ]
  },
  {
   "cell_type": "code",
   "execution_count": 205,
   "metadata": {},
   "outputs": [
    {
     "data": {
      "text/plain": [
       "<matplotlib.axes._subplots.AxesSubplot at 0x7f62f452cac8>"
      ]
     },
     "execution_count": 205,
     "metadata": {},
     "output_type": "execute_result"
    },
    {
     "data": {
      "image/png": "[encoded data removed]",
      "text/plain": [
       "<Figure size 432x288 with 1 Axes>"
      ]
     },
     "metadata": {},
     "output_type": "display_data"
    }
   ],
   "source": [
    "sns.set(style=\"darkgrid\")\n",
    "data = confusion_matrix(y_test,pred_rfc)\n",
    "sns.heatmap(data,annot = True, fmt='g', cbar=False)"
   ]
  },
  {
   "cell_type": "code",
   "execution_count": 206,
   "metadata": {},
   "outputs": [],
   "source": [
    "df_model = make_model_df(['Name','Ticket','known_age'])\n",
    "df_model.Age.where(df_model.Age>0,np.NaN,inplace=True) "
   ]
  },
  {
   "cell_type": "code",
   "execution_count": 207,
   "metadata": {},
   "outputs": [],
   "source": [
    "from fancyimpute import SoftImpute"
   ]
  },
  {
   "cell_type": "code",
   "execution_count": 208,
   "metadata": {},
   "outputs": [
    {
     "name": "stdout",
     "output_type": "stream",
     "text": [
      "[SoftImpute] Max Singular Value of X_init = 15381.554173\n",
      "[SoftImpute] Iter 1: observed MAE=0.913454 rank=3\n",
      "[SoftImpute] Iter 2: observed MAE=0.926779 rank=3\n",
      "[SoftImpute] Iter 3: observed MAE=0.932875 rank=3\n",
      "[SoftImpute] Iter 4: observed MAE=0.935271 rank=3\n",
      "[SoftImpute] Iter 5: observed MAE=0.936062 rank=3\n",
      "[SoftImpute] Iter 6: observed MAE=0.936320 rank=3\n",
      "[SoftImpute] Iter 7: observed MAE=0.936405 rank=3\n",
      "[SoftImpute] Iter 8: observed MAE=0.936436 rank=3\n",
      "[SoftImpute] Iter 9: observed MAE=0.936449 rank=3\n",
      "[SoftImpute] Iter 10: observed MAE=0.936455 rank=3\n",
      "[SoftImpute] Iter 11: observed MAE=0.936458 rank=3\n",
      "[SoftImpute] Stopped after iteration 11 for lambda=307.631083\n"
     ]
    },
    {
     "data": {
      "text/html": [
       "<div>\n",
       "<style scoped>\n",
       "    .dataframe tbody tr th:only-of-type {\n",
       "        vertical-align: middle;\n",
       "    }\n",
       "\n",
       "    .dataframe tbody tr th {\n",
       "        vertical-align: top;\n",
       "    }\n",
       "\n",
       "    .dataframe thead th {\n",
       "        text-align: right;\n",
       "    }\n",
       "</style>\n",
       "<table border=\"1\" class=\"dataframe\">\n",
       "  <thead>\n",
       "    <tr style=\"text-align: right;\">\n",
       "      <th></th>\n",
       "      <th>PassengerId</th>\n",
       "      <th>Survived</th>\n",
       "      <th>Pclass</th>\n",
       "      <th>Age</th>\n",
       "      <th>SibSp</th>\n",
       "      <th>Parch</th>\n",
       "      <th>Fare</th>\n",
       "      <th>Sex_female</th>\n",
       "      <th>Sex_male</th>\n",
       "      <th>Embarked_C</th>\n",
       "      <th>...</th>\n",
       "      <th>title_Master</th>\n",
       "      <th>title_Miss</th>\n",
       "      <th>title_Mlle</th>\n",
       "      <th>title_Mme</th>\n",
       "      <th>title_Mr</th>\n",
       "      <th>title_Mrs</th>\n",
       "      <th>title_Ms</th>\n",
       "      <th>title_Rev</th>\n",
       "      <th>title_Sir</th>\n",
       "      <th>title_the Countess</th>\n",
       "    </tr>\n",
       "  </thead>\n",
       "  <tbody>\n",
       "    <tr>\n",
       "      <th>0</th>\n",
       "      <td>1.0</td>\n",
       "      <td>0.0</td>\n",
       "      <td>3.0</td>\n",
       "      <td>22.000000</td>\n",
       "      <td>1.0</td>\n",
       "      <td>0.0</td>\n",
       "      <td>7.2500</td>\n",
       "      <td>0.0</td>\n",
       "      <td>1.0</td>\n",
       "      <td>0.0</td>\n",
       "      <td>...</td>\n",
       "      <td>0.0</td>\n",
       "      <td>0.0</td>\n",
       "      <td>0.0</td>\n",
       "      <td>0.0</td>\n",
       "      <td>1.0</td>\n",
       "      <td>0.0</td>\n",
       "      <td>0.0</td>\n",
       "      <td>0.0</td>\n",
       "      <td>0.0</td>\n",
       "      <td>0.0</td>\n",
       "    </tr>\n",
       "    <tr>\n",
       "      <th>1</th>\n",
       "      <td>2.0</td>\n",
       "      <td>1.0</td>\n",
       "      <td>1.0</td>\n",
       "      <td>38.000000</td>\n",
       "      <td>1.0</td>\n",
       "      <td>0.0</td>\n",
       "      <td>71.2833</td>\n",
       "      <td>1.0</td>\n",
       "      <td>0.0</td>\n",
       "      <td>1.0</td>\n",
       "      <td>...</td>\n",
       "      <td>0.0</td>\n",
       "      <td>0.0</td>\n",
       "      <td>0.0</td>\n",
       "      <td>0.0</td>\n",
       "      <td>0.0</td>\n",
       "      <td>1.0</td>\n",
       "      <td>0.0</td>\n",
       "      <td>0.0</td>\n",
       "      <td>0.0</td>\n",
       "      <td>0.0</td>\n",
       "    </tr>\n",
       "    <tr>\n",
       "      <th>2</th>\n",
       "      <td>3.0</td>\n",
       "      <td>1.0</td>\n",
       "      <td>3.0</td>\n",
       "      <td>26.000000</td>\n",
       "      <td>0.0</td>\n",
       "      <td>0.0</td>\n",
       "      <td>7.9250</td>\n",
       "      <td>1.0</td>\n",
       "      <td>0.0</td>\n",
       "      <td>0.0</td>\n",
       "      <td>...</td>\n",
       "      <td>0.0</td>\n",
       "      <td>1.0</td>\n",
       "      <td>0.0</td>\n",
       "      <td>0.0</td>\n",
       "      <td>0.0</td>\n",
       "      <td>0.0</td>\n",
       "      <td>0.0</td>\n",
       "      <td>0.0</td>\n",
       "      <td>0.0</td>\n",
       "      <td>0.0</td>\n",
       "    </tr>\n",
       "    <tr>\n",
       "      <th>3</th>\n",
       "      <td>4.0</td>\n",
       "      <td>1.0</td>\n",
       "      <td>1.0</td>\n",
       "      <td>35.000000</td>\n",
       "      <td>1.0</td>\n",
       "      <td>0.0</td>\n",
       "      <td>53.1000</td>\n",
       "      <td>1.0</td>\n",
       "      <td>0.0</td>\n",
       "      <td>0.0</td>\n",
       "      <td>...</td>\n",
       "      <td>0.0</td>\n",
       "      <td>0.0</td>\n",
       "      <td>0.0</td>\n",
       "      <td>0.0</td>\n",
       "      <td>0.0</td>\n",
       "      <td>1.0</td>\n",
       "      <td>0.0</td>\n",
       "      <td>0.0</td>\n",
       "      <td>0.0</td>\n",
       "      <td>0.0</td>\n",
       "    </tr>\n",
       "    <tr>\n",
       "      <th>4</th>\n",
       "      <td>5.0</td>\n",
       "      <td>0.0</td>\n",
       "      <td>3.0</td>\n",
       "      <td>35.000000</td>\n",
       "      <td>0.0</td>\n",
       "      <td>0.0</td>\n",
       "      <td>8.0500</td>\n",
       "      <td>0.0</td>\n",
       "      <td>1.0</td>\n",
       "      <td>0.0</td>\n",
       "      <td>...</td>\n",
       "      <td>0.0</td>\n",
       "      <td>0.0</td>\n",
       "      <td>0.0</td>\n",
       "      <td>0.0</td>\n",
       "      <td>1.0</td>\n",
       "      <td>0.0</td>\n",
       "      <td>0.0</td>\n",
       "      <td>0.0</td>\n",
       "      <td>0.0</td>\n",
       "      <td>0.0</td>\n",
       "    </tr>\n",
       "    <tr>\n",
       "      <th>5</th>\n",
       "      <td>6.0</td>\n",
       "      <td>0.0</td>\n",
       "      <td>3.0</td>\n",
       "      <td>0.986068</td>\n",
       "      <td>0.0</td>\n",
       "      <td>0.0</td>\n",
       "      <td>8.4583</td>\n",
       "      <td>0.0</td>\n",
       "      <td>1.0</td>\n",
       "      <td>0.0</td>\n",
       "      <td>...</td>\n",
       "      <td>0.0</td>\n",
       "      <td>0.0</td>\n",
       "      <td>0.0</td>\n",
       "      <td>0.0</td>\n",
       "      <td>1.0</td>\n",
       "      <td>0.0</td>\n",
       "      <td>0.0</td>\n",
       "      <td>0.0</td>\n",
       "      <td>0.0</td>\n",
       "      <td>0.0</td>\n",
       "    </tr>\n",
       "    <tr>\n",
       "      <th>6</th>\n",
       "      <td>7.0</td>\n",
       "      <td>0.0</td>\n",
       "      <td>1.0</td>\n",
       "      <td>54.000000</td>\n",
       "      <td>0.0</td>\n",
       "      <td>0.0</td>\n",
       "      <td>51.8625</td>\n",
       "      <td>0.0</td>\n",
       "      <td>1.0</td>\n",
       "      <td>0.0</td>\n",
       "      <td>...</td>\n",
       "      <td>0.0</td>\n",
       "      <td>0.0</td>\n",
       "      <td>0.0</td>\n",
       "      <td>0.0</td>\n",
       "      <td>1.0</td>\n",
       "      <td>0.0</td>\n",
       "      <td>0.0</td>\n",
       "      <td>0.0</td>\n",
       "      <td>0.0</td>\n",
       "      <td>0.0</td>\n",
       "    </tr>\n",
       "  </tbody>\n",
       "</table>\n",
       "<p>7 rows × 29 columns</p>\n",
       "</div>"
      ],
      "text/plain": [
       "   PassengerId  Survived  Pclass        Age  SibSp  Parch     Fare  \\\n",
       "0          1.0       0.0     3.0  22.000000    1.0    0.0   7.2500   \n",
       "1          2.0       1.0     1.0  38.000000    1.0    0.0  71.2833   \n",
       "2          3.0       1.0     3.0  26.000000    0.0    0.0   7.9250   \n",
       "3          4.0       1.0     1.0  35.000000    1.0    0.0  53.1000   \n",
       "4          5.0       0.0     3.0  35.000000    0.0    0.0   8.0500   \n",
       "5          6.0       0.0     3.0   0.986068    0.0    0.0   8.4583   \n",
       "6          7.0       0.0     1.0  54.000000    0.0    0.0  51.8625   \n",
       "\n",
       "   Sex_female  Sex_male  Embarked_C         ...          title_Master  \\\n",
       "0         0.0       1.0         0.0         ...                   0.0   \n",
       "1         1.0       0.0         1.0         ...                   0.0   \n",
       "2         1.0       0.0         0.0         ...                   0.0   \n",
       "3         1.0       0.0         0.0         ...                   0.0   \n",
       "4         0.0       1.0         0.0         ...                   0.0   \n",
       "5         0.0       1.0         0.0         ...                   0.0   \n",
       "6         0.0       1.0         0.0         ...                   0.0   \n",
       "\n",
       "   title_Miss  title_Mlle  title_Mme  title_Mr  title_Mrs  title_Ms  \\\n",
       "0         0.0         0.0        0.0       1.0        0.0       0.0   \n",
       "1         0.0         0.0        0.0       0.0        1.0       0.0   \n",
       "2         1.0         0.0        0.0       0.0        0.0       0.0   \n",
       "3         0.0         0.0        0.0       0.0        1.0       0.0   \n",
       "4         0.0         0.0        0.0       1.0        0.0       0.0   \n",
       "5         0.0         0.0        0.0       1.0        0.0       0.0   \n",
       "6         0.0         0.0        0.0       1.0        0.0       0.0   \n",
       "\n",
       "   title_Rev  title_Sir  title_the Countess  \n",
       "0        0.0        0.0                 0.0  \n",
       "1        0.0        0.0                 0.0  \n",
       "2        0.0        0.0                 0.0  \n",
       "3        0.0        0.0                 0.0  \n",
       "4        0.0        0.0                 0.0  \n",
       "5        0.0        0.0                 0.0  \n",
       "6        0.0        0.0                 0.0  \n",
       "\n",
       "[7 rows x 29 columns]"
      ]
     },
     "execution_count": 208,
     "metadata": {},
     "output_type": "execute_result"
    }
   ],
   "source": [
    "fill = SoftImpute()\n",
    "filled = fill.fit_transform(df_model)\n",
    "df_model = pd.DataFrame(filled, columns=df_model.columns.values)\n",
    "df_model.head(7)"
   ]
  },
  {
   "cell_type": "code",
   "execution_count": 209,
   "metadata": {},
   "outputs": [
    {
     "data": {
      "text/plain": [
       "0.7757847533632287"
      ]
     },
     "execution_count": 209,
     "metadata": {},
     "output_type": "execute_result"
    }
   ],
   "source": [
    "X_train, X_test, y_train, y_test = train_test_split(df_model.drop(\"Survived\",1),df_model.Survived, random_state = 42)\n",
    "sc = StandardScaler()\n",
    "X_train = sc.fit_transform(X_train)\n",
    "X_test = sc.transform(X_test)\n",
    "\n",
    "rfc = RandomForestClassifier()\n",
    "\n",
    "model=rfc.fit(X_train,y_train)\n",
    "pred_rfc = rfc.predict(X_test)\n",
    "pred_rfc_train = rfc.predict(X_train)\n",
    "model.score(X_test,y_test)"
   ]
  },
  {
   "cell_type": "code",
   "execution_count": 210,
   "metadata": {},
   "outputs": [
    {
     "data": {
      "text/plain": [
       "<matplotlib.axes._subplots.AxesSubplot at 0x7f62f453c9b0>"
      ]
     },
     "execution_count": 210,
     "metadata": {},
     "output_type": "execute_result"
    },
    {
     "data": {
      "image/png": "[encoded data removed]",
      "text/plain": [
       "<Figure size 432x288 with 1 Axes>"
      ]
     },
     "metadata": {},
     "output_type": "display_data"
    }
   ],
   "source": [
    "sns.set(style=\"darkgrid\")\n",
    "data = confusion_matrix(y_test,pred_rfc)\n",
    "sns.heatmap(data,annot = True, fmt='g', cbar=False)"
   ]
  },
  {
   "cell_type": "code",
   "execution_count": 211,
   "metadata": {},
   "outputs": [],
   "source": [
    "df_model = make_model_df(['Name','Ticket','known_age'])\n",
    "df_model.Age.where(df_model.Age>0,np.NaN,inplace=True) "
   ]
  },
  {
   "cell_type": "code",
   "execution_count": 212,
   "metadata": {},
   "outputs": [],
   "source": [
    "from fancyimpute import SimilarityWeightedAveraging"
   ]
  },
  {
   "cell_type": "code",
   "execution_count": 213,
   "metadata": {},
   "outputs": [
    {
     "data": {
      "text/html": [
       "<div>\n",
       "<style scoped>\n",
       "    .dataframe tbody tr th:only-of-type {\n",
       "        vertical-align: middle;\n",
       "    }\n",
       "\n",
       "    .dataframe tbody tr th {\n",
       "        vertical-align: top;\n",
       "    }\n",
       "\n",
       "    .dataframe thead th {\n",
       "        text-align: right;\n",
       "    }\n",
       "</style>\n",
       "<table border=\"1\" class=\"dataframe\">\n",
       "  <thead>\n",
       "    <tr style=\"text-align: right;\">\n",
       "      <th></th>\n",
       "      <th>PassengerId</th>\n",
       "      <th>Survived</th>\n",
       "      <th>Pclass</th>\n",
       "      <th>Age</th>\n",
       "      <th>SibSp</th>\n",
       "      <th>Parch</th>\n",
       "      <th>Fare</th>\n",
       "      <th>Sex_female</th>\n",
       "      <th>Sex_male</th>\n",
       "      <th>Embarked_C</th>\n",
       "      <th>...</th>\n",
       "      <th>title_Master</th>\n",
       "      <th>title_Miss</th>\n",
       "      <th>title_Mlle</th>\n",
       "      <th>title_Mme</th>\n",
       "      <th>title_Mr</th>\n",
       "      <th>title_Mrs</th>\n",
       "      <th>title_Ms</th>\n",
       "      <th>title_Rev</th>\n",
       "      <th>title_Sir</th>\n",
       "      <th>title_the Countess</th>\n",
       "    </tr>\n",
       "  </thead>\n",
       "  <tbody>\n",
       "    <tr>\n",
       "      <th>0</th>\n",
       "      <td>1.0</td>\n",
       "      <td>0.0</td>\n",
       "      <td>3.0</td>\n",
       "      <td>22.000000</td>\n",
       "      <td>1.0</td>\n",
       "      <td>0.0</td>\n",
       "      <td>7.2500</td>\n",
       "      <td>0.0</td>\n",
       "      <td>1.0</td>\n",
       "      <td>0.0</td>\n",
       "      <td>...</td>\n",
       "      <td>0.0</td>\n",
       "      <td>0.0</td>\n",
       "      <td>0.0</td>\n",
       "      <td>0.0</td>\n",
       "      <td>1.0</td>\n",
       "      <td>0.0</td>\n",
       "      <td>0.0</td>\n",
       "      <td>0.0</td>\n",
       "      <td>0.0</td>\n",
       "      <td>0.0</td>\n",
       "    </tr>\n",
       "    <tr>\n",
       "      <th>1</th>\n",
       "      <td>2.0</td>\n",
       "      <td>1.0</td>\n",
       "      <td>1.0</td>\n",
       "      <td>38.000000</td>\n",
       "      <td>1.0</td>\n",
       "      <td>0.0</td>\n",
       "      <td>71.2833</td>\n",
       "      <td>1.0</td>\n",
       "      <td>0.0</td>\n",
       "      <td>1.0</td>\n",
       "      <td>...</td>\n",
       "      <td>0.0</td>\n",
       "      <td>0.0</td>\n",
       "      <td>0.0</td>\n",
       "      <td>0.0</td>\n",
       "      <td>0.0</td>\n",
       "      <td>1.0</td>\n",
       "      <td>0.0</td>\n",
       "      <td>0.0</td>\n",
       "      <td>0.0</td>\n",
       "      <td>0.0</td>\n",
       "    </tr>\n",
       "    <tr>\n",
       "      <th>2</th>\n",
       "      <td>3.0</td>\n",
       "      <td>1.0</td>\n",
       "      <td>3.0</td>\n",
       "      <td>26.000000</td>\n",
       "      <td>0.0</td>\n",
       "      <td>0.0</td>\n",
       "      <td>7.9250</td>\n",
       "      <td>1.0</td>\n",
       "      <td>0.0</td>\n",
       "      <td>0.0</td>\n",
       "      <td>...</td>\n",
       "      <td>0.0</td>\n",
       "      <td>1.0</td>\n",
       "      <td>0.0</td>\n",
       "      <td>0.0</td>\n",
       "      <td>0.0</td>\n",
       "      <td>0.0</td>\n",
       "      <td>0.0</td>\n",
       "      <td>0.0</td>\n",
       "      <td>0.0</td>\n",
       "      <td>0.0</td>\n",
       "    </tr>\n",
       "    <tr>\n",
       "      <th>3</th>\n",
       "      <td>4.0</td>\n",
       "      <td>1.0</td>\n",
       "      <td>1.0</td>\n",
       "      <td>35.000000</td>\n",
       "      <td>1.0</td>\n",
       "      <td>0.0</td>\n",
       "      <td>53.1000</td>\n",
       "      <td>1.0</td>\n",
       "      <td>0.0</td>\n",
       "      <td>0.0</td>\n",
       "      <td>...</td>\n",
       "      <td>0.0</td>\n",
       "      <td>0.0</td>\n",
       "      <td>0.0</td>\n",
       "      <td>0.0</td>\n",
       "      <td>0.0</td>\n",
       "      <td>1.0</td>\n",
       "      <td>0.0</td>\n",
       "      <td>0.0</td>\n",
       "      <td>0.0</td>\n",
       "      <td>0.0</td>\n",
       "    </tr>\n",
       "    <tr>\n",
       "      <th>4</th>\n",
       "      <td>5.0</td>\n",
       "      <td>0.0</td>\n",
       "      <td>3.0</td>\n",
       "      <td>35.000000</td>\n",
       "      <td>0.0</td>\n",
       "      <td>0.0</td>\n",
       "      <td>8.0500</td>\n",
       "      <td>0.0</td>\n",
       "      <td>1.0</td>\n",
       "      <td>0.0</td>\n",
       "      <td>...</td>\n",
       "      <td>0.0</td>\n",
       "      <td>0.0</td>\n",
       "      <td>0.0</td>\n",
       "      <td>0.0</td>\n",
       "      <td>1.0</td>\n",
       "      <td>0.0</td>\n",
       "      <td>0.0</td>\n",
       "      <td>0.0</td>\n",
       "      <td>0.0</td>\n",
       "      <td>0.0</td>\n",
       "    </tr>\n",
       "    <tr>\n",
       "      <th>5</th>\n",
       "      <td>6.0</td>\n",
       "      <td>0.0</td>\n",
       "      <td>3.0</td>\n",
       "      <td>27.083962</td>\n",
       "      <td>0.0</td>\n",
       "      <td>0.0</td>\n",
       "      <td>8.4583</td>\n",
       "      <td>0.0</td>\n",
       "      <td>1.0</td>\n",
       "      <td>0.0</td>\n",
       "      <td>...</td>\n",
       "      <td>0.0</td>\n",
       "      <td>0.0</td>\n",
       "      <td>0.0</td>\n",
       "      <td>0.0</td>\n",
       "      <td>1.0</td>\n",
       "      <td>0.0</td>\n",
       "      <td>0.0</td>\n",
       "      <td>0.0</td>\n",
       "      <td>0.0</td>\n",
       "      <td>0.0</td>\n",
       "    </tr>\n",
       "    <tr>\n",
       "      <th>6</th>\n",
       "      <td>7.0</td>\n",
       "      <td>0.0</td>\n",
       "      <td>1.0</td>\n",
       "      <td>54.000000</td>\n",
       "      <td>0.0</td>\n",
       "      <td>0.0</td>\n",
       "      <td>51.8625</td>\n",
       "      <td>0.0</td>\n",
       "      <td>1.0</td>\n",
       "      <td>0.0</td>\n",
       "      <td>...</td>\n",
       "      <td>0.0</td>\n",
       "      <td>0.0</td>\n",
       "      <td>0.0</td>\n",
       "      <td>0.0</td>\n",
       "      <td>1.0</td>\n",
       "      <td>0.0</td>\n",
       "      <td>0.0</td>\n",
       "      <td>0.0</td>\n",
       "      <td>0.0</td>\n",
       "      <td>0.0</td>\n",
       "    </tr>\n",
       "  </tbody>\n",
       "</table>\n",
       "<p>7 rows × 29 columns</p>\n",
       "</div>"
      ],
      "text/plain": [
       "   PassengerId  Survived  Pclass        Age  SibSp  Parch     Fare  \\\n",
       "0          1.0       0.0     3.0  22.000000    1.0    0.0   7.2500   \n",
       "1          2.0       1.0     1.0  38.000000    1.0    0.0  71.2833   \n",
       "2          3.0       1.0     3.0  26.000000    0.0    0.0   7.9250   \n",
       "3          4.0       1.0     1.0  35.000000    1.0    0.0  53.1000   \n",
       "4          5.0       0.0     3.0  35.000000    0.0    0.0   8.0500   \n",
       "5          6.0       0.0     3.0  27.083962    0.0    0.0   8.4583   \n",
       "6          7.0       0.0     1.0  54.000000    0.0    0.0  51.8625   \n",
       "\n",
       "   Sex_female  Sex_male  Embarked_C         ...          title_Master  \\\n",
       "0         0.0       1.0         0.0         ...                   0.0   \n",
       "1         1.0       0.0         1.0         ...                   0.0   \n",
       "2         1.0       0.0         0.0         ...                   0.0   \n",
       "3         1.0       0.0         0.0         ...                   0.0   \n",
       "4         0.0       1.0         0.0         ...                   0.0   \n",
       "5         0.0       1.0         0.0         ...                   0.0   \n",
       "6         0.0       1.0         0.0         ...                   0.0   \n",
       "\n",
       "   title_Miss  title_Mlle  title_Mme  title_Mr  title_Mrs  title_Ms  \\\n",
       "0         0.0         0.0        0.0       1.0        0.0       0.0   \n",
       "1         0.0         0.0        0.0       0.0        1.0       0.0   \n",
       "2         1.0         0.0        0.0       0.0        0.0       0.0   \n",
       "3         0.0         0.0        0.0       0.0        1.0       0.0   \n",
       "4         0.0         0.0        0.0       1.0        0.0       0.0   \n",
       "5         0.0         0.0        0.0       1.0        0.0       0.0   \n",
       "6         0.0         0.0        0.0       1.0        0.0       0.0   \n",
       "\n",
       "   title_Rev  title_Sir  title_the Countess  \n",
       "0        0.0        0.0                 0.0  \n",
       "1        0.0        0.0                 0.0  \n",
       "2        0.0        0.0                 0.0  \n",
       "3        0.0        0.0                 0.0  \n",
       "4        0.0        0.0                 0.0  \n",
       "5        0.0        0.0                 0.0  \n",
       "6        0.0        0.0                 0.0  \n",
       "\n",
       "[7 rows x 29 columns]"
      ]
     },
     "execution_count": 213,
     "metadata": {},
     "output_type": "execute_result"
    }
   ],
   "source": [
    "fill = SimilarityWeightedAveraging()\n",
    "filled = fill.fit_transform(df_model)\n",
    "df_model = pd.DataFrame(filled, columns=df_model.columns.values)\n",
    "df_model.head(7)"
   ]
  },
  {
   "cell_type": "code",
   "execution_count": 214,
   "metadata": {},
   "outputs": [
    {
     "data": {
      "text/plain": [
       "0.7668161434977578"
      ]
     },
     "execution_count": 214,
     "metadata": {},
     "output_type": "execute_result"
    }
   ],
   "source": [
    "X_train, X_test, y_train, y_test = train_test_split(df_model.drop(\"Survived\",1),df_model.Survived, random_state = 42)\n",
    "sc = StandardScaler()\n",
    "X_train = sc.fit_transform(X_train)\n",
    "X_test = sc.transform(X_test)\n",
    "\n",
    "rfc = RandomForestClassifier()\n",
    "\n",
    "model=rfc.fit(X_train,y_train)\n",
    "pred_rfc = rfc.predict(X_test)\n",
    "pred_rfc_train = rfc.predict(X_train)\n",
    "model.score(X_test,y_test)"
   ]
  },
  {
   "cell_type": "code",
   "execution_count": 215,
   "metadata": {},
   "outputs": [
    {
     "data": {
      "text/plain": [
       "<matplotlib.axes._subplots.AxesSubplot at 0x7f62f44b3320>"
      ]
     },
     "execution_count": 215,
     "metadata": {},
     "output_type": "execute_result"
    },
    {
     "data": {
      "image/png": "[encoded data removed]",
      "text/plain": [
       "<Figure size 432x288 with 1 Axes>"
      ]
     },
     "metadata": {},
     "output_type": "display_data"
    }
   ],
   "source": [
    "sns.set(style=\"darkgrid\")\n",
    "data = confusion_matrix(y_test,pred_rfc)\n",
    "sns.heatmap(data,annot = True, fmt='g', cbar=False)"
   ]
  },
  {
   "cell_type": "code",
   "execution_count": 120,
   "metadata": {},
   "outputs": [],
   "source": [
    "df_model = make_model_df(['Name','Ticket','known_age'])\n",
    "df_model.Age.where(df_model.Age>0,np.NaN,inplace=True) "
   ]
  },
  {
   "cell_type": "code",
   "execution_count": 121,
   "metadata": {},
   "outputs": [],
   "source": [
    "from fancyimpute import IterativeSVD"
   ]
  },
  {
   "cell_type": "code",
   "execution_count": 122,
   "metadata": {},
   "outputs": [
    {
     "name": "stdout",
     "output_type": "stream",
     "text": [
      "[IterativeSVD] Iter 1: observed MAE=1.701285\n",
      "[IterativeSVD] Iter 2: observed MAE=0.695652\n",
      "[IterativeSVD] Iter 3: observed MAE=0.166814\n"
     ]
    },
    {
     "data": {
      "text/html": [
       "<div>\n",
       "<style scoped>\n",
       "    .dataframe tbody tr th:only-of-type {\n",
       "        vertical-align: middle;\n",
       "    }\n",
       "\n",
       "    .dataframe tbody tr th {\n",
       "        vertical-align: top;\n",
       "    }\n",
       "\n",
       "    .dataframe thead th {\n",
       "        text-align: right;\n",
       "    }\n",
       "</style>\n",
       "<table border=\"1\" class=\"dataframe\">\n",
       "  <thead>\n",
       "    <tr style=\"text-align: right;\">\n",
       "      <th></th>\n",
       "      <th>PassengerId</th>\n",
       "      <th>Survived</th>\n",
       "      <th>Pclass</th>\n",
       "      <th>Age</th>\n",
       "      <th>SibSp</th>\n",
       "      <th>Parch</th>\n",
       "      <th>Fare</th>\n",
       "      <th>Sex_female</th>\n",
       "      <th>Sex_male</th>\n",
       "      <th>Embarked_C</th>\n",
       "      <th>...</th>\n",
       "      <th>title_Master</th>\n",
       "      <th>title_Miss</th>\n",
       "      <th>title_Mlle</th>\n",
       "      <th>title_Mme</th>\n",
       "      <th>title_Mr</th>\n",
       "      <th>title_Mrs</th>\n",
       "      <th>title_Ms</th>\n",
       "      <th>title_Rev</th>\n",
       "      <th>title_Sir</th>\n",
       "      <th>title_the Countess</th>\n",
       "    </tr>\n",
       "  </thead>\n",
       "  <tbody>\n",
       "    <tr>\n",
       "      <th>0</th>\n",
       "      <td>1.0</td>\n",
       "      <td>0.0</td>\n",
       "      <td>3.0</td>\n",
       "      <td>22.000000</td>\n",
       "      <td>1.0</td>\n",
       "      <td>0.0</td>\n",
       "      <td>7.2500</td>\n",
       "      <td>0.0</td>\n",
       "      <td>1.0</td>\n",
       "      <td>0.0</td>\n",
       "      <td>...</td>\n",
       "      <td>0.0</td>\n",
       "      <td>0.0</td>\n",
       "      <td>0.0</td>\n",
       "      <td>0.0</td>\n",
       "      <td>1.0</td>\n",
       "      <td>0.0</td>\n",
       "      <td>0.0</td>\n",
       "      <td>0.0</td>\n",
       "      <td>0.0</td>\n",
       "      <td>0.0</td>\n",
       "    </tr>\n",
       "    <tr>\n",
       "      <th>1</th>\n",
       "      <td>2.0</td>\n",
       "      <td>1.0</td>\n",
       "      <td>1.0</td>\n",
       "      <td>38.000000</td>\n",
       "      <td>1.0</td>\n",
       "      <td>0.0</td>\n",
       "      <td>71.2833</td>\n",
       "      <td>1.0</td>\n",
       "      <td>0.0</td>\n",
       "      <td>1.0</td>\n",
       "      <td>...</td>\n",
       "      <td>0.0</td>\n",
       "      <td>0.0</td>\n",
       "      <td>0.0</td>\n",
       "      <td>0.0</td>\n",
       "      <td>0.0</td>\n",
       "      <td>1.0</td>\n",
       "      <td>0.0</td>\n",
       "      <td>0.0</td>\n",
       "      <td>0.0</td>\n",
       "      <td>0.0</td>\n",
       "    </tr>\n",
       "    <tr>\n",
       "      <th>2</th>\n",
       "      <td>3.0</td>\n",
       "      <td>1.0</td>\n",
       "      <td>3.0</td>\n",
       "      <td>26.000000</td>\n",
       "      <td>0.0</td>\n",
       "      <td>0.0</td>\n",
       "      <td>7.9250</td>\n",
       "      <td>1.0</td>\n",
       "      <td>0.0</td>\n",
       "      <td>0.0</td>\n",
       "      <td>...</td>\n",
       "      <td>0.0</td>\n",
       "      <td>1.0</td>\n",
       "      <td>0.0</td>\n",
       "      <td>0.0</td>\n",
       "      <td>0.0</td>\n",
       "      <td>0.0</td>\n",
       "      <td>0.0</td>\n",
       "      <td>0.0</td>\n",
       "      <td>0.0</td>\n",
       "      <td>0.0</td>\n",
       "    </tr>\n",
       "    <tr>\n",
       "      <th>3</th>\n",
       "      <td>4.0</td>\n",
       "      <td>1.0</td>\n",
       "      <td>1.0</td>\n",
       "      <td>35.000000</td>\n",
       "      <td>1.0</td>\n",
       "      <td>0.0</td>\n",
       "      <td>53.1000</td>\n",
       "      <td>1.0</td>\n",
       "      <td>0.0</td>\n",
       "      <td>0.0</td>\n",
       "      <td>...</td>\n",
       "      <td>0.0</td>\n",
       "      <td>0.0</td>\n",
       "      <td>0.0</td>\n",
       "      <td>0.0</td>\n",
       "      <td>0.0</td>\n",
       "      <td>1.0</td>\n",
       "      <td>0.0</td>\n",
       "      <td>0.0</td>\n",
       "      <td>0.0</td>\n",
       "      <td>0.0</td>\n",
       "    </tr>\n",
       "    <tr>\n",
       "      <th>4</th>\n",
       "      <td>5.0</td>\n",
       "      <td>0.0</td>\n",
       "      <td>3.0</td>\n",
       "      <td>35.000000</td>\n",
       "      <td>0.0</td>\n",
       "      <td>0.0</td>\n",
       "      <td>8.0500</td>\n",
       "      <td>0.0</td>\n",
       "      <td>1.0</td>\n",
       "      <td>0.0</td>\n",
       "      <td>...</td>\n",
       "      <td>0.0</td>\n",
       "      <td>0.0</td>\n",
       "      <td>0.0</td>\n",
       "      <td>0.0</td>\n",
       "      <td>1.0</td>\n",
       "      <td>0.0</td>\n",
       "      <td>0.0</td>\n",
       "      <td>0.0</td>\n",
       "      <td>0.0</td>\n",
       "      <td>0.0</td>\n",
       "    </tr>\n",
       "    <tr>\n",
       "      <th>5</th>\n",
       "      <td>6.0</td>\n",
       "      <td>0.0</td>\n",
       "      <td>3.0</td>\n",
       "      <td>1.200248</td>\n",
       "      <td>0.0</td>\n",
       "      <td>0.0</td>\n",
       "      <td>8.4583</td>\n",
       "      <td>0.0</td>\n",
       "      <td>1.0</td>\n",
       "      <td>0.0</td>\n",
       "      <td>...</td>\n",
       "      <td>0.0</td>\n",
       "      <td>0.0</td>\n",
       "      <td>0.0</td>\n",
       "      <td>0.0</td>\n",
       "      <td>1.0</td>\n",
       "      <td>0.0</td>\n",
       "      <td>0.0</td>\n",
       "      <td>0.0</td>\n",
       "      <td>0.0</td>\n",
       "      <td>0.0</td>\n",
       "    </tr>\n",
       "    <tr>\n",
       "      <th>6</th>\n",
       "      <td>7.0</td>\n",
       "      <td>0.0</td>\n",
       "      <td>1.0</td>\n",
       "      <td>54.000000</td>\n",
       "      <td>0.0</td>\n",
       "      <td>0.0</td>\n",
       "      <td>51.8625</td>\n",
       "      <td>0.0</td>\n",
       "      <td>1.0</td>\n",
       "      <td>0.0</td>\n",
       "      <td>...</td>\n",
       "      <td>0.0</td>\n",
       "      <td>0.0</td>\n",
       "      <td>0.0</td>\n",
       "      <td>0.0</td>\n",
       "      <td>1.0</td>\n",
       "      <td>0.0</td>\n",
       "      <td>0.0</td>\n",
       "      <td>0.0</td>\n",
       "      <td>0.0</td>\n",
       "      <td>0.0</td>\n",
       "    </tr>\n",
       "  </tbody>\n",
       "</table>\n",
       "<p>7 rows × 29 columns</p>\n",
       "</div>"
      ],
      "text/plain": [
       "   PassengerId  Survived  Pclass        Age  SibSp  Parch     Fare  \\\n",
       "0          1.0       0.0     3.0  22.000000    1.0    0.0   7.2500   \n",
       "1          2.0       1.0     1.0  38.000000    1.0    0.0  71.2833   \n",
       "2          3.0       1.0     3.0  26.000000    0.0    0.0   7.9250   \n",
       "3          4.0       1.0     1.0  35.000000    1.0    0.0  53.1000   \n",
       "4          5.0       0.0     3.0  35.000000    0.0    0.0   8.0500   \n",
       "5          6.0       0.0     3.0   1.200248    0.0    0.0   8.4583   \n",
       "6          7.0       0.0     1.0  54.000000    0.0    0.0  51.8625   \n",
       "\n",
       "   Sex_female  Sex_male  Embarked_C         ...          title_Master  \\\n",
       "0         0.0       1.0         0.0         ...                   0.0   \n",
       "1         1.0       0.0         1.0         ...                   0.0   \n",
       "2         1.0       0.0         0.0         ...                   0.0   \n",
       "3         1.0       0.0         0.0         ...                   0.0   \n",
       "4         0.0       1.0         0.0         ...                   0.0   \n",
       "5         0.0       1.0         0.0         ...                   0.0   \n",
       "6         0.0       1.0         0.0         ...                   0.0   \n",
       "\n",
       "   title_Miss  title_Mlle  title_Mme  title_Mr  title_Mrs  title_Ms  \\\n",
       "0         0.0         0.0        0.0       1.0        0.0       0.0   \n",
       "1         0.0         0.0        0.0       0.0        1.0       0.0   \n",
       "2         1.0         0.0        0.0       0.0        0.0       0.0   \n",
       "3         0.0         0.0        0.0       0.0        1.0       0.0   \n",
       "4         0.0         0.0        0.0       1.0        0.0       0.0   \n",
       "5         0.0         0.0        0.0       1.0        0.0       0.0   \n",
       "6         0.0         0.0        0.0       1.0        0.0       0.0   \n",
       "\n",
       "   title_Rev  title_Sir  title_the Countess  \n",
       "0        0.0        0.0                 0.0  \n",
       "1        0.0        0.0                 0.0  \n",
       "2        0.0        0.0                 0.0  \n",
       "3        0.0        0.0                 0.0  \n",
       "4        0.0        0.0                 0.0  \n",
       "5        0.0        0.0                 0.0  \n",
       "6        0.0        0.0                 0.0  \n",
       "\n",
       "[7 rows x 29 columns]"
      ]
     },
     "execution_count": 122,
     "metadata": {},
     "output_type": "execute_result"
    }
   ],
   "source": [
    "fill = IterativeSVD()\n",
    "filled = fill.fit_transform(df_model)\n",
    "df_model = pd.DataFrame(filled, columns=df_model.columns.values)\n",
    "df_model.head(7)"
   ]
  },
  {
   "cell_type": "code",
   "execution_count": 123,
   "metadata": {},
   "outputs": [
    {
     "data": {
      "text/plain": [
       "0.7802690582959642"
      ]
     },
     "execution_count": 123,
     "metadata": {},
     "output_type": "execute_result"
    }
   ],
   "source": [
    "X_train, X_test, y_train, y_test = train_test_split(df_model.drop(\"Survived\",1),df_model.Survived, random_state = 42)\n",
    "sc = StandardScaler()\n",
    "X_train = sc.fit_transform(X_train)\n",
    "X_test = sc.transform(X_test)\n",
    "\n",
    "rfc = RandomForestClassifier()\n",
    "\n",
    "model=rfc.fit(X_train,y_train)\n",
    "pred_rfc = rfc.predict(X_test)\n",
    "pred_rfc_train = rfc.predict(X_train)\n",
    "model.score(X_test,y_test)"
   ]
  },
  {
   "cell_type": "code",
   "execution_count": 124,
   "metadata": {},
   "outputs": [
    {
     "data": {
      "text/plain": [
       "<matplotlib.axes._subplots.AxesSubplot at 0x7f6310cfdf98>"
      ]
     },
     "execution_count": 124,
     "metadata": {},
     "output_type": "execute_result"
    },
    {
     "data": {
      "image/png": "[encoded data removed]",
      "text/plain": [
       "<Figure size 432x288 with 1 Axes>"
      ]
     },
     "metadata": {},
     "output_type": "display_data"
    }
   ],
   "source": [
    "sns.set(style=\"darkgrid\")\n",
    "data = confusion_matrix(y_test,pred_rfc)\n",
    "sns.heatmap(data,annot = True, fmt='g', cbar=False)"
   ]
  },
  {
   "cell_type": "code",
   "execution_count": 125,
   "metadata": {},
   "outputs": [],
   "source": [
    "df_model = make_model_df(['Name','Ticket','known_age'])\n",
    "df_model.Age.where(df_model.Age>0,np.NaN,inplace=True) "
   ]
  },
  {
   "cell_type": "code",
   "execution_count": 126,
   "metadata": {},
   "outputs": [],
   "source": [
    "from fancyimpute import KNN"
   ]
  },
  {
   "cell_type": "code",
   "execution_count": 127,
   "metadata": {
    "scrolled": true
   },
   "outputs": [
    {
     "name": "stdout",
     "output_type": "stream",
     "text": [
      "Imputing row 1/889 with 0 missing, elapsed time: 0.162\n",
      "Imputing row 101/889 with 1 missing, elapsed time: 0.163\n",
      "Imputing row 201/889 with 1 missing, elapsed time: 0.164\n",
      "Imputing row 301/889 with 1 missing, elapsed time: 0.164\n",
      "Imputing row 401/889 with 0 missing, elapsed time: 0.165\n",
      "Imputing row 501/889 with 0 missing, elapsed time: 0.166\n",
      "Imputing row 601/889 with 1 missing, elapsed time: 0.167\n",
      "Imputing row 701/889 with 0 missing, elapsed time: 0.167\n",
      "Imputing row 801/889 with 0 missing, elapsed time: 0.168\n"
     ]
    },
    {
     "data": {
      "text/html": [
       "<div>\n",
       "<style scoped>\n",
       "    .dataframe tbody tr th:only-of-type {\n",
       "        vertical-align: middle;\n",
       "    }\n",
       "\n",
       "    .dataframe tbody tr th {\n",
       "        vertical-align: top;\n",
       "    }\n",
       "\n",
       "    .dataframe thead th {\n",
       "        text-align: right;\n",
       "    }\n",
       "</style>\n",
       "<table border=\"1\" class=\"dataframe\">\n",
       "  <thead>\n",
       "    <tr style=\"text-align: right;\">\n",
       "      <th></th>\n",
       "      <th>PassengerId</th>\n",
       "      <th>Survived</th>\n",
       "      <th>Pclass</th>\n",
       "      <th>Age</th>\n",
       "      <th>SibSp</th>\n",
       "      <th>Parch</th>\n",
       "      <th>Fare</th>\n",
       "      <th>Sex_female</th>\n",
       "      <th>Sex_male</th>\n",
       "      <th>Embarked_C</th>\n",
       "      <th>...</th>\n",
       "      <th>title_Master</th>\n",
       "      <th>title_Miss</th>\n",
       "      <th>title_Mlle</th>\n",
       "      <th>title_Mme</th>\n",
       "      <th>title_Mr</th>\n",
       "      <th>title_Mrs</th>\n",
       "      <th>title_Ms</th>\n",
       "      <th>title_Rev</th>\n",
       "      <th>title_Sir</th>\n",
       "      <th>title_the Countess</th>\n",
       "    </tr>\n",
       "  </thead>\n",
       "  <tbody>\n",
       "    <tr>\n",
       "      <th>0</th>\n",
       "      <td>1.0</td>\n",
       "      <td>0.0</td>\n",
       "      <td>3.0</td>\n",
       "      <td>22.000000</td>\n",
       "      <td>1.0</td>\n",
       "      <td>0.0</td>\n",
       "      <td>7.2500</td>\n",
       "      <td>0.0</td>\n",
       "      <td>1.0</td>\n",
       "      <td>0.0</td>\n",
       "      <td>...</td>\n",
       "      <td>0.0</td>\n",
       "      <td>0.0</td>\n",
       "      <td>0.0</td>\n",
       "      <td>0.0</td>\n",
       "      <td>1.0</td>\n",
       "      <td>0.0</td>\n",
       "      <td>0.0</td>\n",
       "      <td>0.0</td>\n",
       "      <td>0.0</td>\n",
       "      <td>0.0</td>\n",
       "    </tr>\n",
       "    <tr>\n",
       "      <th>1</th>\n",
       "      <td>2.0</td>\n",
       "      <td>1.0</td>\n",
       "      <td>1.0</td>\n",
       "      <td>38.000000</td>\n",
       "      <td>1.0</td>\n",
       "      <td>0.0</td>\n",
       "      <td>71.2833</td>\n",
       "      <td>1.0</td>\n",
       "      <td>0.0</td>\n",
       "      <td>1.0</td>\n",
       "      <td>...</td>\n",
       "      <td>0.0</td>\n",
       "      <td>0.0</td>\n",
       "      <td>0.0</td>\n",
       "      <td>0.0</td>\n",
       "      <td>0.0</td>\n",
       "      <td>1.0</td>\n",
       "      <td>0.0</td>\n",
       "      <td>0.0</td>\n",
       "      <td>0.0</td>\n",
       "      <td>0.0</td>\n",
       "    </tr>\n",
       "    <tr>\n",
       "      <th>2</th>\n",
       "      <td>3.0</td>\n",
       "      <td>1.0</td>\n",
       "      <td>3.0</td>\n",
       "      <td>26.000000</td>\n",
       "      <td>0.0</td>\n",
       "      <td>0.0</td>\n",
       "      <td>7.9250</td>\n",
       "      <td>1.0</td>\n",
       "      <td>0.0</td>\n",
       "      <td>0.0</td>\n",
       "      <td>...</td>\n",
       "      <td>0.0</td>\n",
       "      <td>1.0</td>\n",
       "      <td>0.0</td>\n",
       "      <td>0.0</td>\n",
       "      <td>0.0</td>\n",
       "      <td>0.0</td>\n",
       "      <td>0.0</td>\n",
       "      <td>0.0</td>\n",
       "      <td>0.0</td>\n",
       "      <td>0.0</td>\n",
       "    </tr>\n",
       "    <tr>\n",
       "      <th>3</th>\n",
       "      <td>4.0</td>\n",
       "      <td>1.0</td>\n",
       "      <td>1.0</td>\n",
       "      <td>35.000000</td>\n",
       "      <td>1.0</td>\n",
       "      <td>0.0</td>\n",
       "      <td>53.1000</td>\n",
       "      <td>1.0</td>\n",
       "      <td>0.0</td>\n",
       "      <td>0.0</td>\n",
       "      <td>...</td>\n",
       "      <td>0.0</td>\n",
       "      <td>0.0</td>\n",
       "      <td>0.0</td>\n",
       "      <td>0.0</td>\n",
       "      <td>0.0</td>\n",
       "      <td>1.0</td>\n",
       "      <td>0.0</td>\n",
       "      <td>0.0</td>\n",
       "      <td>0.0</td>\n",
       "      <td>0.0</td>\n",
       "    </tr>\n",
       "    <tr>\n",
       "      <th>4</th>\n",
       "      <td>5.0</td>\n",
       "      <td>0.0</td>\n",
       "      <td>3.0</td>\n",
       "      <td>35.000000</td>\n",
       "      <td>0.0</td>\n",
       "      <td>0.0</td>\n",
       "      <td>8.0500</td>\n",
       "      <td>0.0</td>\n",
       "      <td>1.0</td>\n",
       "      <td>0.0</td>\n",
       "      <td>...</td>\n",
       "      <td>0.0</td>\n",
       "      <td>0.0</td>\n",
       "      <td>0.0</td>\n",
       "      <td>0.0</td>\n",
       "      <td>1.0</td>\n",
       "      <td>0.0</td>\n",
       "      <td>0.0</td>\n",
       "      <td>0.0</td>\n",
       "      <td>0.0</td>\n",
       "      <td>0.0</td>\n",
       "    </tr>\n",
       "    <tr>\n",
       "      <th>5</th>\n",
       "      <td>6.0</td>\n",
       "      <td>0.0</td>\n",
       "      <td>3.0</td>\n",
       "      <td>31.616715</td>\n",
       "      <td>0.0</td>\n",
       "      <td>0.0</td>\n",
       "      <td>8.4583</td>\n",
       "      <td>0.0</td>\n",
       "      <td>1.0</td>\n",
       "      <td>0.0</td>\n",
       "      <td>...</td>\n",
       "      <td>0.0</td>\n",
       "      <td>0.0</td>\n",
       "      <td>0.0</td>\n",
       "      <td>0.0</td>\n",
       "      <td>1.0</td>\n",
       "      <td>0.0</td>\n",
       "      <td>0.0</td>\n",
       "      <td>0.0</td>\n",
       "      <td>0.0</td>\n",
       "      <td>0.0</td>\n",
       "    </tr>\n",
       "    <tr>\n",
       "      <th>6</th>\n",
       "      <td>7.0</td>\n",
       "      <td>0.0</td>\n",
       "      <td>1.0</td>\n",
       "      <td>54.000000</td>\n",
       "      <td>0.0</td>\n",
       "      <td>0.0</td>\n",
       "      <td>51.8625</td>\n",
       "      <td>0.0</td>\n",
       "      <td>1.0</td>\n",
       "      <td>0.0</td>\n",
       "      <td>...</td>\n",
       "      <td>0.0</td>\n",
       "      <td>0.0</td>\n",
       "      <td>0.0</td>\n",
       "      <td>0.0</td>\n",
       "      <td>1.0</td>\n",
       "      <td>0.0</td>\n",
       "      <td>0.0</td>\n",
       "      <td>0.0</td>\n",
       "      <td>0.0</td>\n",
       "      <td>0.0</td>\n",
       "    </tr>\n",
       "  </tbody>\n",
       "</table>\n",
       "<p>7 rows × 29 columns</p>\n",
       "</div>"
      ],
      "text/plain": [
       "   PassengerId  Survived  Pclass        Age  SibSp  Parch     Fare  \\\n",
       "0          1.0       0.0     3.0  22.000000    1.0    0.0   7.2500   \n",
       "1          2.0       1.0     1.0  38.000000    1.0    0.0  71.2833   \n",
       "2          3.0       1.0     3.0  26.000000    0.0    0.0   7.9250   \n",
       "3          4.0       1.0     1.0  35.000000    1.0    0.0  53.1000   \n",
       "4          5.0       0.0     3.0  35.000000    0.0    0.0   8.0500   \n",
       "5          6.0       0.0     3.0  31.616715    0.0    0.0   8.4583   \n",
       "6          7.0       0.0     1.0  54.000000    0.0    0.0  51.8625   \n",
       "\n",
       "   Sex_female  Sex_male  Embarked_C         ...          title_Master  \\\n",
       "0         0.0       1.0         0.0         ...                   0.0   \n",
       "1         1.0       0.0         1.0         ...                   0.0   \n",
       "2         1.0       0.0         0.0         ...                   0.0   \n",
       "3         1.0       0.0         0.0         ...                   0.0   \n",
       "4         0.0       1.0         0.0         ...                   0.0   \n",
       "5         0.0       1.0         0.0         ...                   0.0   \n",
       "6         0.0       1.0         0.0         ...                   0.0   \n",
       "\n",
       "   title_Miss  title_Mlle  title_Mme  title_Mr  title_Mrs  title_Ms  \\\n",
       "0         0.0         0.0        0.0       1.0        0.0       0.0   \n",
       "1         0.0         0.0        0.0       0.0        1.0       0.0   \n",
       "2         1.0         0.0        0.0       0.0        0.0       0.0   \n",
       "3         0.0         0.0        0.0       0.0        1.0       0.0   \n",
       "4         0.0         0.0        0.0       1.0        0.0       0.0   \n",
       "5         0.0         0.0        0.0       1.0        0.0       0.0   \n",
       "6         0.0         0.0        0.0       1.0        0.0       0.0   \n",
       "\n",
       "   title_Rev  title_Sir  title_the Countess  \n",
       "0        0.0        0.0                 0.0  \n",
       "1        0.0        0.0                 0.0  \n",
       "2        0.0        0.0                 0.0  \n",
       "3        0.0        0.0                 0.0  \n",
       "4        0.0        0.0                 0.0  \n",
       "5        0.0        0.0                 0.0  \n",
       "6        0.0        0.0                 0.0  \n",
       "\n",
       "[7 rows x 29 columns]"
      ]
     },
     "execution_count": 127,
     "metadata": {},
     "output_type": "execute_result"
    }
   ],
   "source": [
    "fill = KNN()\n",
    "filled = fill.fit_transform(df_model)\n",
    "df_model = pd.DataFrame(filled, columns=df_model.columns.values)\n",
    "df_model.head(7)"
   ]
  },
  {
   "cell_type": "code",
   "execution_count": 128,
   "metadata": {},
   "outputs": [
    {
     "data": {
      "text/plain": [
       "0.7847533632286996"
      ]
     },
     "execution_count": 128,
     "metadata": {},
     "output_type": "execute_result"
    }
   ],
   "source": [
    "X_train, X_test, y_train, y_test = train_test_split(df_model.drop(\"Survived\",1),df_model.Survived, random_state = 42)\n",
    "sc = StandardScaler()\n",
    "X_train = sc.fit_transform(X_train)\n",
    "X_test = sc.transform(X_test)\n",
    "\n",
    "rfc = RandomForestClassifier()\n",
    "\n",
    "model=rfc.fit(X_train,y_train)\n",
    "pred_rfc = rfc.predict(X_test)\n",
    "pred_rfc_train = rfc.predict(X_train)\n",
    "model.score(X_test,y_test)"
   ]
  },
  {
   "cell_type": "code",
   "execution_count": 129,
   "metadata": {},
   "outputs": [
    {
     "data": {
      "text/plain": [
       "<matplotlib.axes._subplots.AxesSubplot at 0x7f62f4461780>"
      ]
     },
     "execution_count": 129,
     "metadata": {},
     "output_type": "execute_result"
    },
    {
     "data": {
      "image/png": "[encoded data removed]",
      "text/plain": [
       "<Figure size 432x288 with 1 Axes>"
      ]
     },
     "metadata": {},
     "output_type": "display_data"
    }
   ],
   "source": [
    "sns.set(style=\"darkgrid\")\n",
    "data = confusion_matrix(y_test,pred_rfc)\n",
    "sns.heatmap(data,annot = True, fmt='g', cbar=False)"
   ]
  },
  {
   "cell_type": "code",
   "execution_count": 130,
   "metadata": {},
   "outputs": [],
   "source": [
    "df_model = make_model_df(['Name','Ticket','known_age'])\n",
    "df_model.Age.where(df_model.Age>0,np.NaN,inplace=True)"
   ]
  },
  {
   "cell_type": "code",
   "execution_count": 131,
   "metadata": {},
   "outputs": [],
   "source": [
    "from fancyimpute import MatrixFactorization"
   ]
  },
  {
   "cell_type": "code",
   "execution_count": 132,
   "metadata": {},
   "outputs": [
    {
     "name": "stdout",
     "output_type": "stream",
     "text": [
      "Train on 23043 samples, validate on 2561 samples\n",
      "Epoch 1/10000\n",
      "23043/23043 [==============================] - 0s 16us/step - loss: 1.1661 - val_loss: 0.7050\n",
      "Epoch 2/10000\n",
      "23043/23043 [==============================] - 0s 0us/step - loss: 1.1641 - val_loss: 0.7045\n",
      "Epoch 3/10000\n",
      "23043/23043 [==============================] - 0s 0us/step - loss: 1.1626 - val_loss: 0.7040\n",
      "Epoch 4/10000\n",
      "23043/23043 [==============================] - 0s 1us/step - loss: 1.1612 - val_loss: 0.7035\n",
      "Epoch 5/10000\n",
      "23043/23043 [==============================] - 0s 1us/step - loss: 1.1598 - val_loss: 0.7031\n",
      "Epoch 6/10000\n",
      "23043/23043 [==============================] - 0s 1us/step - loss: 1.1584 - val_loss: 0.7026\n",
      "Epoch 7/10000\n",
      "23043/23043 [==============================] - 0s 1us/step - loss: 1.1570 - val_loss: 0.7020\n",
      "Epoch 8/10000\n",
      "23043/23043 [==============================] - 0s 1us/step - loss: 1.1554 - val_loss: 0.7015\n",
      "Epoch 9/10000\n",
      "23043/23043 [==============================] - 0s 1us/step - loss: 1.1538 - val_loss: 0.7010\n",
      "Epoch 10/10000\n",
      "23043/23043 [==============================] - 0s 1us/step - loss: 1.1523 - val_loss: 0.7005\n",
      "Epoch 11/10000\n",
      "23043/23043 [==============================] - 0s 1us/step - loss: 1.1508 - val_loss: 0.7000\n",
      "Epoch 12/10000\n",
      "23043/23043 [==============================] - 0s 1us/step - loss: 1.1493 - val_loss: 0.6995\n",
      "Epoch 13/10000\n",
      "23043/23043 [==============================] - 0s 1us/step - loss: 1.1478 - val_loss: 0.6989\n",
      "Epoch 14/10000\n",
      "23043/23043 [==============================] - 0s 1us/step - loss: 1.1462 - val_loss: 0.6984\n",
      "Epoch 15/10000\n",
      "23043/23043 [==============================] - 0s 1us/step - loss: 1.1447 - val_loss: 0.6979\n",
      "Epoch 16/10000\n",
      "23043/23043 [==============================] - 0s 1us/step - loss: 1.1430 - val_loss: 0.6974\n",
      "Epoch 17/10000\n",
      "23043/23043 [==============================] - 0s 1us/step - loss: 1.1414 - val_loss: 0.6968\n",
      "Epoch 18/10000\n",
      "23043/23043 [==============================] - 0s 1us/step - loss: 1.1398 - val_loss: 0.6963\n",
      "Epoch 19/10000\n",
      "23043/23043 [==============================] - 0s 1us/step - loss: 1.1383 - val_loss: 0.6958\n",
      "Epoch 20/10000\n",
      "23043/23043 [==============================] - 0s 1us/step - loss: 1.1367 - val_loss: 0.6953\n",
      "Epoch 21/10000\n",
      "23043/23043 [==============================] - 0s 1us/step - loss: 1.1351 - val_loss: 0.6948\n",
      "Epoch 22/10000\n",
      "23043/23043 [==============================] - 0s 1us/step - loss: 1.1336 - val_loss: 0.6943\n",
      "Epoch 23/10000\n",
      "23043/23043 [==============================] - 0s 1us/step - loss: 1.1321 - val_loss: 0.6938\n",
      "Epoch 24/10000\n",
      "23043/23043 [==============================] - 0s 1us/step - loss: 1.1305 - val_loss: 0.6933\n",
      "Epoch 25/10000\n",
      "23043/23043 [==============================] - 0s 1us/step - loss: 1.1290 - val_loss: 0.6928\n",
      "Epoch 26/10000\n",
      "23043/23043 [==============================] - 0s 1us/step - loss: 1.1275 - val_loss: 0.6923\n",
      "Epoch 27/10000\n",
      "23043/23043 [==============================] - 0s 1us/step - loss: 1.1260 - val_loss: 0.6918\n",
      "Epoch 28/10000\n",
      "23043/23043 [==============================] - 0s 1us/step - loss: 1.1245 - val_loss: 0.6913\n",
      "Epoch 29/10000\n",
      "23043/23043 [==============================] - 0s 1us/step - loss: 1.1230 - val_loss: 0.6908\n",
      "Epoch 30/10000\n",
      "23043/23043 [==============================] - 0s 1us/step - loss: 1.1215 - val_loss: 0.6903\n",
      "Epoch 31/10000\n",
      "23043/23043 [==============================] - 0s 1us/step - loss: 1.1200 - val_loss: 0.6899\n",
      "Epoch 32/10000\n",
      "23043/23043 [==============================] - 0s 1us/step - loss: 1.1186 - val_loss: 0.6894\n",
      "Epoch 33/10000\n",
      "23043/23043 [==============================] - 0s 1us/step - loss: 1.1171 - val_loss: 0.6889\n",
      "Epoch 34/10000\n",
      "23043/23043 [==============================] - 0s 1us/step - loss: 1.1157 - val_loss: 0.6885\n",
      "Epoch 35/10000\n",
      "23043/23043 [==============================] - 0s 1us/step - loss: 1.1143 - val_loss: 0.6880\n",
      "Epoch 36/10000\n",
      "23043/23043 [==============================] - 0s 1us/step - loss: 1.1128 - val_loss: 0.6876\n",
      "Epoch 37/10000\n",
      "23043/23043 [==============================] - 0s 1us/step - loss: 1.1114 - val_loss: 0.6871\n",
      "Epoch 38/10000\n",
      "23043/23043 [==============================] - 0s 1us/step - loss: 1.1100 - val_loss: 0.6867\n",
      "Epoch 39/10000\n",
      "23043/23043 [==============================] - 0s 1us/step - loss: 1.1086 - val_loss: 0.6862\n",
      "Epoch 40/10000\n",
      "23043/23043 [==============================] - 0s 1us/step - loss: 1.1073 - val_loss: 0.6858\n",
      "Epoch 41/10000\n",
      "23043/23043 [==============================] - 0s 1us/step - loss: 1.1059 - val_loss: 0.6854\n",
      "Epoch 42/10000\n",
      "23043/23043 [==============================] - 0s 1us/step - loss: 1.1045 - val_loss: 0.6849\n",
      "Epoch 43/10000\n",
      "23043/23043 [==============================] - 0s 1us/step - loss: 1.1032 - val_loss: 0.6845\n",
      "Epoch 44/10000\n",
      "23043/23043 [==============================] - 0s 1us/step - loss: 1.1018 - val_loss: 0.6841\n",
      "Epoch 45/10000\n",
      "23043/23043 [==============================] - 0s 1us/step - loss: 1.1005 - val_loss: 0.6837\n",
      "Epoch 46/10000\n",
      "23043/23043 [==============================] - 0s 1us/step - loss: 1.0992 - val_loss: 0.6832\n",
      "Epoch 47/10000\n",
      "23043/23043 [==============================] - 0s 1us/step - loss: 1.0979 - val_loss: 0.6828\n",
      "Epoch 48/10000\n",
      "23043/23043 [==============================] - 0s 1us/step - loss: 1.0966 - val_loss: 0.6824\n",
      "Epoch 49/10000\n",
      "23043/23043 [==============================] - 0s 1us/step - loss: 1.0953 - val_loss: 0.6820\n",
      "Epoch 50/10000\n",
      "23043/23043 [==============================] - 0s 1us/step - loss: 1.0940 - val_loss: 0.6816\n",
      "Epoch 51/10000\n",
      "23043/23043 [==============================] - 0s 1us/step - loss: 1.0927 - val_loss: 0.6812\n",
      "Epoch 52/10000\n",
      "23043/23043 [==============================] - 0s 1us/step - loss: 1.0914 - val_loss: 0.6808\n",
      "Epoch 53/10000\n",
      "23043/23043 [==============================] - 0s 1us/step - loss: 1.0902 - val_loss: 0.6804\n",
      "Epoch 54/10000\n",
      "23043/23043 [==============================] - 0s 1us/step - loss: 1.0889 - val_loss: 0.6800\n",
      "Epoch 55/10000\n",
      "23043/23043 [==============================] - 0s 1us/step - loss: 1.0877 - val_loss: 0.6796\n",
      "Epoch 56/10000\n",
      "23043/23043 [==============================] - 0s 1us/step - loss: 1.0864 - val_loss: 0.6792\n",
      "Epoch 57/10000\n",
      "23043/23043 [==============================] - 0s 1us/step - loss: 1.0852 - val_loss: 0.6788\n",
      "Epoch 58/10000\n",
      "23043/23043 [==============================] - 0s 1us/step - loss: 1.0839 - val_loss: 0.6784\n",
      "Epoch 59/10000\n",
      "23043/23043 [==============================] - 0s 1us/step - loss: 1.0827 - val_loss: 0.6780\n",
      "Epoch 60/10000\n",
      "23043/23043 [==============================] - 0s 1us/step - loss: 1.0815 - val_loss: 0.6776\n",
      "Epoch 61/10000\n",
      "23043/23043 [==============================] - 0s 1us/step - loss: 1.0803 - val_loss: 0.6772\n",
      "Epoch 62/10000\n",
      "23043/23043 [==============================] - 0s 1us/step - loss: 1.0791 - val_loss: 0.6768\n",
      "Epoch 63/10000\n",
      "23043/23043 [==============================] - 0s 1us/step - loss: 1.0779 - val_loss: 0.6764\n",
      "Epoch 64/10000\n",
      "23043/23043 [==============================] - 0s 1us/step - loss: 1.0767 - val_loss: 0.6760\n",
      "Epoch 65/10000\n",
      "23043/23043 [==============================] - 0s 1us/step - loss: 1.0755 - val_loss: 0.6756\n",
      "Epoch 66/10000\n",
      "23043/23043 [==============================] - 0s 1us/step - loss: 1.0743 - val_loss: 0.6752\n",
      "Epoch 67/10000\n",
      "23043/23043 [==============================] - 0s 1us/step - loss: 1.0731 - val_loss: 0.6748\n",
      "Epoch 68/10000\n",
      "23043/23043 [==============================] - 0s 1us/step - loss: 1.0719 - val_loss: 0.6744\n",
      "Epoch 69/10000\n",
      "23043/23043 [==============================] - 0s 0us/step - loss: 1.0707 - val_loss: 0.6740\n",
      "Epoch 70/10000\n",
      "23043/23043 [==============================] - 0s 1us/step - loss: 1.0696 - val_loss: 0.6736\n",
      "Epoch 71/10000\n",
      "23043/23043 [==============================] - 0s 1us/step - loss: 1.0684 - val_loss: 0.6732\n",
      "Epoch 72/10000\n",
      "23043/23043 [==============================] - 0s 1us/step - loss: 1.0672 - val_loss: 0.6728\n",
      "Epoch 73/10000\n",
      "23043/23043 [==============================] - 0s 1us/step - loss: 1.0661 - val_loss: 0.6724\n",
      "Epoch 74/10000\n",
      "23043/23043 [==============================] - 0s 1us/step - loss: 1.0649 - val_loss: 0.6720\n",
      "Epoch 75/10000\n",
      "23043/23043 [==============================] - 0s 1us/step - loss: 1.0638 - val_loss: 0.6716\n",
      "Epoch 76/10000\n",
      "23043/23043 [==============================] - 0s 1us/step - loss: 1.0626 - val_loss: 0.6711\n"
     ]
    },
    {
     "name": "stdout",
     "output_type": "stream",
     "text": [
      "Epoch 77/10000\n",
      "23043/23043 [==============================] - 0s 0us/step - loss: 1.0615 - val_loss: 0.6708\n",
      "Epoch 78/10000\n",
      "23043/23043 [==============================] - 0s 1us/step - loss: 1.0603 - val_loss: 0.6703\n",
      "Epoch 79/10000\n",
      "23043/23043 [==============================] - 0s 1us/step - loss: 1.0592 - val_loss: 0.6700\n",
      "Epoch 80/10000\n",
      "23043/23043 [==============================] - 0s 1us/step - loss: 1.0580 - val_loss: 0.6695\n",
      "Epoch 81/10000\n",
      "23043/23043 [==============================] - 0s 0us/step - loss: 1.0569 - val_loss: 0.6691\n",
      "Epoch 82/10000\n",
      "23043/23043 [==============================] - 0s 1us/step - loss: 1.0557 - val_loss: 0.6687\n",
      "Epoch 83/10000\n",
      "23043/23043 [==============================] - 0s 1us/step - loss: 1.0546 - val_loss: 0.6683\n",
      "Epoch 84/10000\n",
      "23043/23043 [==============================] - 0s 1us/step - loss: 1.0534 - val_loss: 0.6678\n",
      "Epoch 85/10000\n",
      "23043/23043 [==============================] - 0s 1us/step - loss: 1.0523 - val_loss: 0.6674\n",
      "Epoch 86/10000\n",
      "23043/23043 [==============================] - 0s 1us/step - loss: 1.0511 - val_loss: 0.6670\n",
      "Epoch 87/10000\n",
      "23043/23043 [==============================] - 0s 1us/step - loss: 1.0500 - val_loss: 0.6666\n",
      "Epoch 88/10000\n",
      "23043/23043 [==============================] - 0s 1us/step - loss: 1.0489 - val_loss: 0.6661\n",
      "Epoch 89/10000\n",
      "23043/23043 [==============================] - 0s 1us/step - loss: 1.0477 - val_loss: 0.6657\n",
      "Epoch 90/10000\n",
      "23043/23043 [==============================] - 0s 1us/step - loss: 1.0466 - val_loss: 0.6652\n",
      "Epoch 91/10000\n",
      "23043/23043 [==============================] - 0s 1us/step - loss: 1.0455 - val_loss: 0.6648\n",
      "Epoch 92/10000\n",
      "23043/23043 [==============================] - 0s 1us/step - loss: 1.0443 - val_loss: 0.6643\n",
      "Epoch 93/10000\n",
      "23043/23043 [==============================] - 0s 1us/step - loss: 1.0432 - val_loss: 0.6639\n",
      "Epoch 94/10000\n",
      "23043/23043 [==============================] - 0s 1us/step - loss: 1.0421 - val_loss: 0.6635\n",
      "Epoch 95/10000\n",
      "23043/23043 [==============================] - 0s 1us/step - loss: 1.0409 - val_loss: 0.6630\n",
      "Epoch 96/10000\n",
      "23043/23043 [==============================] - 0s 1us/step - loss: 1.0398 - val_loss: 0.6625\n",
      "Epoch 97/10000\n",
      "23043/23043 [==============================] - 0s 1us/step - loss: 1.0386 - val_loss: 0.6621\n",
      "Epoch 98/10000\n",
      "23043/23043 [==============================] - 0s 1us/step - loss: 1.0375 - val_loss: 0.6616\n",
      "Epoch 99/10000\n",
      "23043/23043 [==============================] - 0s 1us/step - loss: 1.0364 - val_loss: 0.6612\n",
      "Epoch 100/10000\n",
      "23043/23043 [==============================] - 0s 1us/step - loss: 1.0352 - val_loss: 0.6607\n",
      "Epoch 101/10000\n",
      "23043/23043 [==============================] - 0s 1us/step - loss: 1.0341 - val_loss: 0.6603\n",
      "Epoch 102/10000\n",
      "23043/23043 [==============================] - 0s 1us/step - loss: 1.0329 - val_loss: 0.6598\n",
      "Epoch 103/10000\n",
      "23043/23043 [==============================] - 0s 1us/step - loss: 1.0318 - val_loss: 0.6593\n",
      "Epoch 104/10000\n",
      "23043/23043 [==============================] - 0s 1us/step - loss: 1.0306 - val_loss: 0.6588\n",
      "Epoch 105/10000\n",
      "23043/23043 [==============================] - 0s 1us/step - loss: 1.0295 - val_loss: 0.6584\n",
      "Epoch 106/10000\n",
      "23043/23043 [==============================] - 0s 1us/step - loss: 1.0283 - val_loss: 0.6578\n",
      "Epoch 107/10000\n",
      "23043/23043 [==============================] - 0s 1us/step - loss: 1.0272 - val_loss: 0.6574\n",
      "Epoch 108/10000\n",
      "23043/23043 [==============================] - 0s 1us/step - loss: 1.0261 - val_loss: 0.6568\n",
      "Epoch 109/10000\n",
      "23043/23043 [==============================] - 0s 1us/step - loss: 1.0249 - val_loss: 0.6564\n",
      "Epoch 110/10000\n",
      "23043/23043 [==============================] - 0s 1us/step - loss: 1.0237 - val_loss: 0.6558\n",
      "Epoch 111/10000\n",
      "23043/23043 [==============================] - 0s 1us/step - loss: 1.0226 - val_loss: 0.6554\n",
      "Epoch 112/10000\n",
      "23043/23043 [==============================] - 0s 1us/step - loss: 1.0214 - val_loss: 0.6548\n",
      "Epoch 113/10000\n",
      "23043/23043 [==============================] - 0s 1us/step - loss: 1.0203 - val_loss: 0.6544\n",
      "Epoch 114/10000\n",
      "23043/23043 [==============================] - 0s 1us/step - loss: 1.0191 - val_loss: 0.6538\n",
      "Epoch 115/10000\n",
      "23043/23043 [==============================] - 0s 1us/step - loss: 1.0180 - val_loss: 0.6533\n",
      "Epoch 116/10000\n",
      "23043/23043 [==============================] - 0s 1us/step - loss: 1.0168 - val_loss: 0.6528\n",
      "Epoch 117/10000\n",
      "23043/23043 [==============================] - 0s 1us/step - loss: 1.0156 - val_loss: 0.6523\n",
      "Epoch 118/10000\n",
      "23043/23043 [==============================] - 0s 1us/step - loss: 1.0145 - val_loss: 0.6517\n",
      "Epoch 119/10000\n",
      "23043/23043 [==============================] - 0s 1us/step - loss: 1.0133 - val_loss: 0.6513\n",
      "Epoch 120/10000\n",
      "23043/23043 [==============================] - 0s 1us/step - loss: 1.0121 - val_loss: 0.6507\n",
      "Epoch 121/10000\n",
      "23043/23043 [==============================] - 0s 1us/step - loss: 1.0109 - val_loss: 0.6502\n",
      "Epoch 122/10000\n",
      "23043/23043 [==============================] - 0s 1us/step - loss: 1.0098 - val_loss: 0.6496\n",
      "Epoch 123/10000\n",
      "23043/23043 [==============================] - 0s 1us/step - loss: 1.0086 - val_loss: 0.6491\n",
      "Epoch 124/10000\n",
      "23043/23043 [==============================] - 0s 1us/step - loss: 1.0074 - val_loss: 0.6485\n",
      "Epoch 125/10000\n",
      "23043/23043 [==============================] - 0s 1us/step - loss: 1.0062 - val_loss: 0.6480\n",
      "Epoch 126/10000\n",
      "23043/23043 [==============================] - 0s 1us/step - loss: 1.0050 - val_loss: 0.6474\n",
      "Epoch 127/10000\n",
      "23043/23043 [==============================] - 0s 1us/step - loss: 1.0039 - val_loss: 0.6469\n",
      "Epoch 128/10000\n",
      "23043/23043 [==============================] - 0s 0us/step - loss: 1.0027 - val_loss: 0.6463\n",
      "Epoch 129/10000\n",
      "23043/23043 [==============================] - 0s 0us/step - loss: 1.0015 - val_loss: 0.6458\n",
      "Epoch 130/10000\n",
      "23043/23043 [==============================] - 0s 1us/step - loss: 1.0003 - val_loss: 0.6452\n",
      "Epoch 131/10000\n",
      "23043/23043 [==============================] - 0s 1us/step - loss: 0.9991 - val_loss: 0.6447\n",
      "Epoch 132/10000\n",
      "23043/23043 [==============================] - 0s 1us/step - loss: 0.9979 - val_loss: 0.6441\n",
      "Epoch 133/10000\n",
      "23043/23043 [==============================] - 0s 1us/step - loss: 0.9967 - val_loss: 0.6435\n",
      "Epoch 134/10000\n",
      "23043/23043 [==============================] - 0s 1us/step - loss: 0.9955 - val_loss: 0.6429\n",
      "Epoch 135/10000\n",
      "23043/23043 [==============================] - 0s 0us/step - loss: 0.9943 - val_loss: 0.6424\n",
      "Epoch 136/10000\n",
      "23043/23043 [==============================] - 0s 1us/step - loss: 0.9931 - val_loss: 0.6418\n",
      "Epoch 137/10000\n",
      "23043/23043 [==============================] - 0s 1us/step - loss: 0.9919 - val_loss: 0.6412\n",
      "Epoch 138/10000\n",
      "23043/23043 [==============================] - 0s 0us/step - loss: 0.9907 - val_loss: 0.6406\n",
      "Epoch 139/10000\n",
      "23043/23043 [==============================] - 0s 1us/step - loss: 0.9895 - val_loss: 0.6400\n",
      "Epoch 140/10000\n",
      "23043/23043 [==============================] - 0s 1us/step - loss: 0.9883 - val_loss: 0.6394\n",
      "Epoch 141/10000\n",
      "23043/23043 [==============================] - 0s 1us/step - loss: 0.9871 - val_loss: 0.6389\n",
      "Epoch 142/10000\n",
      "23043/23043 [==============================] - 0s 0us/step - loss: 0.9859 - val_loss: 0.6382\n",
      "Epoch 143/10000\n",
      "23043/23043 [==============================] - 0s 1us/step - loss: 0.9846 - val_loss: 0.6377\n",
      "Epoch 144/10000\n",
      "23043/23043 [==============================] - 0s 1us/step - loss: 0.9834 - val_loss: 0.6371\n",
      "Epoch 145/10000\n",
      "23043/23043 [==============================] - 0s 1us/step - loss: 0.9822 - val_loss: 0.6365\n",
      "Epoch 146/10000\n",
      "23043/23043 [==============================] - 0s 1us/step - loss: 0.9810 - val_loss: 0.6359\n",
      "Epoch 147/10000\n",
      "23043/23043 [==============================] - 0s 1us/step - loss: 0.9798 - val_loss: 0.6353\n",
      "Epoch 148/10000\n",
      "23043/23043 [==============================] - 0s 0us/step - loss: 0.9786 - val_loss: 0.6347\n",
      "Epoch 149/10000\n",
      "23043/23043 [==============================] - 0s 1us/step - loss: 0.9773 - val_loss: 0.6341\n",
      "Epoch 150/10000\n",
      "23043/23043 [==============================] - 0s 1us/step - loss: 0.9761 - val_loss: 0.6334\n",
      "Epoch 151/10000\n",
      "23043/23043 [==============================] - 0s 1us/step - loss: 0.9749 - val_loss: 0.6329\n",
      "Epoch 152/10000\n",
      "23043/23043 [==============================] - 0s 1us/step - loss: 0.9737 - val_loss: 0.6322\n"
     ]
    },
    {
     "name": "stdout",
     "output_type": "stream",
     "text": [
      "Epoch 153/10000\n",
      "23043/23043 [==============================] - 0s 1us/step - loss: 0.9724 - val_loss: 0.6317\n",
      "Epoch 154/10000\n",
      "23043/23043 [==============================] - 0s 1us/step - loss: 0.9712 - val_loss: 0.6310\n",
      "Epoch 155/10000\n",
      "23043/23043 [==============================] - 0s 1us/step - loss: 0.9700 - val_loss: 0.6304\n",
      "Epoch 156/10000\n",
      "23043/23043 [==============================] - 0s 1us/step - loss: 0.9687 - val_loss: 0.6298\n",
      "Epoch 157/10000\n",
      "23043/23043 [==============================] - 0s 1us/step - loss: 0.9675 - val_loss: 0.6292\n",
      "Epoch 158/10000\n",
      "23043/23043 [==============================] - 0s 1us/step - loss: 0.9663 - val_loss: 0.6285\n",
      "Epoch 159/10000\n",
      "23043/23043 [==============================] - 0s 1us/step - loss: 0.9650 - val_loss: 0.6280\n",
      "Epoch 160/10000\n",
      "23043/23043 [==============================] - 0s 1us/step - loss: 0.9638 - val_loss: 0.6273\n",
      "Epoch 161/10000\n",
      "23043/23043 [==============================] - 0s 1us/step - loss: 0.9626 - val_loss: 0.6267\n",
      "Epoch 162/10000\n",
      "23043/23043 [==============================] - 0s 1us/step - loss: 0.9613 - val_loss: 0.6261\n",
      "Epoch 163/10000\n",
      "23043/23043 [==============================] - 0s 1us/step - loss: 0.9601 - val_loss: 0.6255\n",
      "Epoch 164/10000\n",
      "23043/23043 [==============================] - 0s 1us/step - loss: 0.9589 - val_loss: 0.6248\n",
      "Epoch 165/10000\n",
      "23043/23043 [==============================] - 0s 1us/step - loss: 0.9576 - val_loss: 0.6243\n",
      "Epoch 166/10000\n",
      "23043/23043 [==============================] - 0s 1us/step - loss: 0.9564 - val_loss: 0.6236\n",
      "Epoch 167/10000\n",
      "23043/23043 [==============================] - 0s 1us/step - loss: 0.9552 - val_loss: 0.6230\n",
      "Epoch 168/10000\n",
      "23043/23043 [==============================] - 0s 1us/step - loss: 0.9539 - val_loss: 0.6224\n",
      "Epoch 169/10000\n",
      "23043/23043 [==============================] - 0s 1us/step - loss: 0.9527 - val_loss: 0.6218\n",
      "Epoch 170/10000\n",
      "23043/23043 [==============================] - 0s 1us/step - loss: 0.9515 - val_loss: 0.6211\n",
      "Epoch 171/10000\n",
      "23043/23043 [==============================] - 0s 1us/step - loss: 0.9502 - val_loss: 0.6206\n",
      "Epoch 172/10000\n",
      "23043/23043 [==============================] - 0s 1us/step - loss: 0.9490 - val_loss: 0.6199\n",
      "Epoch 173/10000\n",
      "23043/23043 [==============================] - 0s 1us/step - loss: 0.9478 - val_loss: 0.6193\n",
      "Epoch 174/10000\n",
      "23043/23043 [==============================] - 0s 1us/step - loss: 0.9465 - val_loss: 0.6187\n",
      "Epoch 175/10000\n",
      "23043/23043 [==============================] - 0s 1us/step - loss: 0.9453 - val_loss: 0.6181\n",
      "Epoch 176/10000\n",
      "23043/23043 [==============================] - 0s 1us/step - loss: 0.9441 - val_loss: 0.6174\n",
      "Epoch 177/10000\n",
      "23043/23043 [==============================] - 0s 1us/step - loss: 0.9428 - val_loss: 0.6169\n",
      "Epoch 178/10000\n",
      "23043/23043 [==============================] - 0s 1us/step - loss: 0.9416 - val_loss: 0.6162\n",
      "Epoch 179/10000\n",
      "23043/23043 [==============================] - 0s 1us/step - loss: 0.9404 - val_loss: 0.6156\n",
      "Epoch 180/10000\n",
      "23043/23043 [==============================] - 0s 1us/step - loss: 0.9391 - val_loss: 0.6150\n",
      "Epoch 181/10000\n",
      "23043/23043 [==============================] - 0s 1us/step - loss: 0.9379 - val_loss: 0.6144\n",
      "Epoch 182/10000\n",
      "23043/23043 [==============================] - 0s 1us/step - loss: 0.9367 - val_loss: 0.6138\n",
      "Epoch 183/10000\n",
      "23043/23043 [==============================] - 0s 1us/step - loss: 0.9355 - val_loss: 0.6132\n",
      "Epoch 184/10000\n",
      "23043/23043 [==============================] - 0s 1us/step - loss: 0.9342 - val_loss: 0.6126\n",
      "Epoch 185/10000\n",
      "23043/23043 [==============================] - 0s 1us/step - loss: 0.9330 - val_loss: 0.6120\n",
      "Epoch 186/10000\n",
      "23043/23043 [==============================] - 0s 1us/step - loss: 0.9318 - val_loss: 0.6114\n",
      "Epoch 187/10000\n",
      "23043/23043 [==============================] - 0s 1us/step - loss: 0.9306 - val_loss: 0.6108\n",
      "Epoch 188/10000\n",
      "23043/23043 [==============================] - 0s 1us/step - loss: 0.9293 - val_loss: 0.6102\n",
      "Epoch 189/10000\n",
      "23043/23043 [==============================] - 0s 1us/step - loss: 0.9281 - val_loss: 0.6096\n",
      "Epoch 190/10000\n",
      "23043/23043 [==============================] - 0s 1us/step - loss: 0.9269 - val_loss: 0.6090\n",
      "Epoch 191/10000\n",
      "23043/23043 [==============================] - 0s 1us/step - loss: 0.9257 - val_loss: 0.6084\n",
      "Epoch 192/10000\n",
      "23043/23043 [==============================] - 0s 1us/step - loss: 0.9245 - val_loss: 0.6078\n",
      "Epoch 193/10000\n",
      "23043/23043 [==============================] - 0s 1us/step - loss: 0.9232 - val_loss: 0.6072\n",
      "Epoch 194/10000\n",
      "23043/23043 [==============================] - 0s 1us/step - loss: 0.9220 - val_loss: 0.6066\n",
      "Epoch 195/10000\n",
      "23043/23043 [==============================] - 0s 1us/step - loss: 0.9208 - val_loss: 0.6061\n",
      "Epoch 196/10000\n",
      "23043/23043 [==============================] - 0s 1us/step - loss: 0.9196 - val_loss: 0.6054\n",
      "Epoch 197/10000\n",
      "23043/23043 [==============================] - 0s 1us/step - loss: 0.9184 - val_loss: 0.6049\n",
      "Epoch 198/10000\n",
      "23043/23043 [==============================] - 0s 1us/step - loss: 0.9172 - val_loss: 0.6043\n",
      "Epoch 199/10000\n",
      "23043/23043 [==============================] - 0s 1us/step - loss: 0.9160 - val_loss: 0.6037\n",
      "Epoch 200/10000\n",
      "23043/23043 [==============================] - 0s 1us/step - loss: 0.9148 - val_loss: 0.6031\n",
      "Epoch 201/10000\n",
      "23043/23043 [==============================] - 0s 1us/step - loss: 0.9136 - val_loss: 0.6026\n",
      "Epoch 202/10000\n",
      "23043/23043 [==============================] - 0s 1us/step - loss: 0.9124 - val_loss: 0.6020\n",
      "Epoch 203/10000\n",
      "23043/23043 [==============================] - 0s 1us/step - loss: 0.9112 - val_loss: 0.6015\n",
      "Epoch 204/10000\n",
      "23043/23043 [==============================] - 0s 1us/step - loss: 0.9100 - val_loss: 0.6009\n",
      "Epoch 205/10000\n",
      "23043/23043 [==============================] - 0s 1us/step - loss: 0.9088 - val_loss: 0.6003\n",
      "Epoch 206/10000\n",
      "23043/23043 [==============================] - 0s 1us/step - loss: 0.9076 - val_loss: 0.5997\n",
      "Epoch 207/10000\n",
      "23043/23043 [==============================] - 0s 1us/step - loss: 0.9064 - val_loss: 0.5992\n",
      "Epoch 208/10000\n",
      "23043/23043 [==============================] - 0s 1us/step - loss: 0.9052 - val_loss: 0.5986\n",
      "Epoch 209/10000\n",
      "23043/23043 [==============================] - 0s 1us/step - loss: 0.9041 - val_loss: 0.5981\n",
      "Epoch 210/10000\n",
      "23043/23043 [==============================] - 0s 1us/step - loss: 0.9029 - val_loss: 0.5975\n",
      "Epoch 211/10000\n",
      "23043/23043 [==============================] - 0s 1us/step - loss: 0.9017 - val_loss: 0.5970\n",
      "Epoch 212/10000\n",
      "23043/23043 [==============================] - 0s 1us/step - loss: 0.9005 - val_loss: 0.5964\n",
      "Epoch 213/10000\n",
      "23043/23043 [==============================] - 0s 1us/step - loss: 0.8993 - val_loss: 0.5959\n",
      "Epoch 214/10000\n",
      "23043/23043 [==============================] - 0s 1us/step - loss: 0.8982 - val_loss: 0.5954\n",
      "Epoch 215/10000\n",
      "23043/23043 [==============================] - 0s 0us/step - loss: 0.8970 - val_loss: 0.5949\n",
      "Epoch 216/10000\n",
      "23043/23043 [==============================] - 0s 1us/step - loss: 0.8958 - val_loss: 0.5943\n",
      "Epoch 217/10000\n",
      "23043/23043 [==============================] - 0s 1us/step - loss: 0.8947 - val_loss: 0.5938\n",
      "Epoch 218/10000\n",
      "23043/23043 [==============================] - 0s 1us/step - loss: 0.8935 - val_loss: 0.5932\n",
      "Epoch 219/10000\n",
      "23043/23043 [==============================] - 0s 1us/step - loss: 0.8923 - val_loss: 0.5928\n",
      "Epoch 220/10000\n",
      "23043/23043 [==============================] - 0s 1us/step - loss: 0.8912 - val_loss: 0.5922\n",
      "Epoch 221/10000\n",
      "23043/23043 [==============================] - 0s 1us/step - loss: 0.8900 - val_loss: 0.5917\n",
      "Epoch 222/10000\n",
      "23043/23043 [==============================] - 0s 0us/step - loss: 0.8889 - val_loss: 0.5912\n",
      "Epoch 223/10000\n",
      "23043/23043 [==============================] - 0s 0us/step - loss: 0.8877 - val_loss: 0.5907\n",
      "Epoch 224/10000\n",
      "23043/23043 [==============================] - 0s 1us/step - loss: 0.8866 - val_loss: 0.5902\n",
      "Epoch 225/10000\n",
      "23043/23043 [==============================] - 0s 1us/step - loss: 0.8854 - val_loss: 0.5897\n",
      "Epoch 226/10000\n",
      "23043/23043 [==============================] - 0s 0us/step - loss: 0.8843 - val_loss: 0.5891\n",
      "Epoch 227/10000\n",
      "23043/23043 [==============================] - 0s 1us/step - loss: 0.8831 - val_loss: 0.5887\n",
      "Epoch 228/10000\n",
      "23043/23043 [==============================] - 0s 1us/step - loss: 0.8820 - val_loss: 0.5882\n"
     ]
    },
    {
     "name": "stdout",
     "output_type": "stream",
     "text": [
      "Epoch 229/10000\n",
      "23043/23043 [==============================] - 0s 1us/step - loss: 0.8808 - val_loss: 0.5877\n",
      "Epoch 230/10000\n",
      "23043/23043 [==============================] - 0s 1us/step - loss: 0.8797 - val_loss: 0.5872\n",
      "Epoch 231/10000\n",
      "23043/23043 [==============================] - 0s 1us/step - loss: 0.8786 - val_loss: 0.5867\n",
      "Epoch 232/10000\n",
      "23043/23043 [==============================] - 0s 0us/step - loss: 0.8774 - val_loss: 0.5862\n",
      "Epoch 233/10000\n",
      "23043/23043 [==============================] - 0s 1us/step - loss: 0.8763 - val_loss: 0.5858\n",
      "Epoch 234/10000\n",
      "23043/23043 [==============================] - 0s 0us/step - loss: 0.8752 - val_loss: 0.5852\n",
      "Epoch 235/10000\n",
      "23043/23043 [==============================] - 0s 0us/step - loss: 0.8741 - val_loss: 0.5848\n",
      "Epoch 236/10000\n",
      "23043/23043 [==============================] - 0s 1us/step - loss: 0.8729 - val_loss: 0.5843\n",
      "Epoch 237/10000\n",
      "23043/23043 [==============================] - 0s 1us/step - loss: 0.8718 - val_loss: 0.5839\n",
      "Epoch 238/10000\n",
      "23043/23043 [==============================] - 0s 1us/step - loss: 0.8707 - val_loss: 0.5834\n",
      "Epoch 239/10000\n",
      "23043/23043 [==============================] - 0s 1us/step - loss: 0.8696 - val_loss: 0.5829\n",
      "Epoch 240/10000\n",
      "23043/23043 [==============================] - 0s 1us/step - loss: 0.8685 - val_loss: 0.5824\n",
      "Epoch 241/10000\n",
      "23043/23043 [==============================] - 0s 1us/step - loss: 0.8674 - val_loss: 0.5820\n",
      "Epoch 242/10000\n",
      "23043/23043 [==============================] - 0s 1us/step - loss: 0.8663 - val_loss: 0.5815\n",
      "Epoch 243/10000\n",
      "23043/23043 [==============================] - 0s 1us/step - loss: 0.8651 - val_loss: 0.5811\n",
      "Epoch 244/10000\n",
      "23043/23043 [==============================] - 0s 1us/step - loss: 0.8640 - val_loss: 0.5806\n",
      "Epoch 245/10000\n",
      "23043/23043 [==============================] - 0s 1us/step - loss: 0.8629 - val_loss: 0.5802\n",
      "Epoch 246/10000\n",
      "23043/23043 [==============================] - 0s 1us/step - loss: 0.8618 - val_loss: 0.5797\n",
      "Epoch 247/10000\n",
      "23043/23043 [==============================] - 0s 1us/step - loss: 0.8608 - val_loss: 0.5793\n",
      "Epoch 248/10000\n",
      "23043/23043 [==============================] - 0s 1us/step - loss: 0.8597 - val_loss: 0.5789\n",
      "Epoch 249/10000\n",
      "23043/23043 [==============================] - 0s 1us/step - loss: 0.8586 - val_loss: 0.5785\n",
      "Epoch 250/10000\n",
      "23043/23043 [==============================] - 0s 1us/step - loss: 0.8575 - val_loss: 0.5780\n",
      "Epoch 251/10000\n",
      "23043/23043 [==============================] - 0s 1us/step - loss: 0.8564 - val_loss: 0.5776\n",
      "Epoch 252/10000\n",
      "23043/23043 [==============================] - 0s 1us/step - loss: 0.8553 - val_loss: 0.5771\n",
      "Epoch 253/10000\n",
      "23043/23043 [==============================] - 0s 0us/step - loss: 0.8542 - val_loss: 0.5768\n",
      "Epoch 254/10000\n",
      "23043/23043 [==============================] - 0s 1us/step - loss: 0.8531 - val_loss: 0.5763\n",
      "Epoch 255/10000\n",
      "23043/23043 [==============================] - 0s 0us/step - loss: 0.8521 - val_loss: 0.5759\n",
      "Epoch 256/10000\n",
      "23043/23043 [==============================] - 0s 1us/step - loss: 0.8510 - val_loss: 0.5755\n",
      "Epoch 257/10000\n",
      "23043/23043 [==============================] - 0s 1us/step - loss: 0.8499 - val_loss: 0.5751\n",
      "Epoch 258/10000\n",
      "23043/23043 [==============================] - 0s 1us/step - loss: 0.8488 - val_loss: 0.5746\n",
      "Epoch 259/10000\n",
      "23043/23043 [==============================] - 0s 1us/step - loss: 0.8478 - val_loss: 0.5743\n",
      "Epoch 260/10000\n",
      "23043/23043 [==============================] - 0s 0us/step - loss: 0.8467 - val_loss: 0.5738\n",
      "Epoch 261/10000\n",
      "23043/23043 [==============================] - 0s 1us/step - loss: 0.8456 - val_loss: 0.5735\n",
      "Epoch 262/10000\n",
      "23043/23043 [==============================] - 0s 1us/step - loss: 0.8446 - val_loss: 0.5730\n",
      "Epoch 263/10000\n",
      "23043/23043 [==============================] - 0s 1us/step - loss: 0.8435 - val_loss: 0.5727\n",
      "Epoch 264/10000\n",
      "23043/23043 [==============================] - 0s 1us/step - loss: 0.8425 - val_loss: 0.5722\n",
      "Epoch 265/10000\n",
      "23043/23043 [==============================] - 0s 1us/step - loss: 0.8414 - val_loss: 0.5719\n",
      "Epoch 266/10000\n",
      "23043/23043 [==============================] - 0s 0us/step - loss: 0.8404 - val_loss: 0.5715\n",
      "Epoch 267/10000\n",
      "23043/23043 [==============================] - 0s 1us/step - loss: 0.8393 - val_loss: 0.5711\n",
      "Epoch 268/10000\n",
      "23043/23043 [==============================] - 0s 1us/step - loss: 0.8383 - val_loss: 0.5707\n",
      "Epoch 269/10000\n",
      "23043/23043 [==============================] - 0s 1us/step - loss: 0.8372 - val_loss: 0.5704\n",
      "Epoch 270/10000\n",
      "23043/23043 [==============================] - 0s 0us/step - loss: 0.8362 - val_loss: 0.5699\n",
      "Epoch 271/10000\n",
      "23043/23043 [==============================] - 0s 1us/step - loss: 0.8351 - val_loss: 0.5696\n",
      "Epoch 272/10000\n",
      "23043/23043 [==============================] - 0s 1us/step - loss: 0.8341 - val_loss: 0.5692\n",
      "Epoch 273/10000\n",
      "23043/23043 [==============================] - 0s 1us/step - loss: 0.8330 - val_loss: 0.5689\n",
      "Epoch 274/10000\n",
      "23043/23043 [==============================] - 0s 1us/step - loss: 0.8320 - val_loss: 0.5684\n",
      "Epoch 275/10000\n",
      "23043/23043 [==============================] - 0s 1us/step - loss: 0.8310 - val_loss: 0.5681\n",
      "Epoch 276/10000\n",
      "23043/23043 [==============================] - 0s 1us/step - loss: 0.8299 - val_loss: 0.5677\n",
      "Epoch 277/10000\n",
      "23043/23043 [==============================] - 0s 1us/step - loss: 0.8289 - val_loss: 0.5674\n",
      "Epoch 278/10000\n",
      "23043/23043 [==============================] - 0s 1us/step - loss: 0.8279 - val_loss: 0.5670\n",
      "Epoch 279/10000\n",
      "23043/23043 [==============================] - 0s 1us/step - loss: 0.8269 - val_loss: 0.5667\n",
      "Epoch 280/10000\n",
      "23043/23043 [==============================] - 0s 1us/step - loss: 0.8258 - val_loss: 0.5663\n",
      "Epoch 281/10000\n",
      "23043/23043 [==============================] - 0s 1us/step - loss: 0.8248 - val_loss: 0.5660\n",
      "Epoch 282/10000\n",
      "23043/23043 [==============================] - 0s 1us/step - loss: 0.8238 - val_loss: 0.5656\n",
      "Epoch 283/10000\n",
      "23043/23043 [==============================] - 0s 1us/step - loss: 0.8228 - val_loss: 0.5653\n",
      "Epoch 284/10000\n",
      "23043/23043 [==============================] - 0s 1us/step - loss: 0.8218 - val_loss: 0.5649\n",
      "Epoch 285/10000\n",
      "23043/23043 [==============================] - 0s 0us/step - loss: 0.8207 - val_loss: 0.5646\n",
      "Epoch 286/10000\n",
      "23043/23043 [==============================] - 0s 0us/step - loss: 0.8197 - val_loss: 0.5642\n",
      "Epoch 287/10000\n",
      "23043/23043 [==============================] - 0s 1us/step - loss: 0.8187 - val_loss: 0.5640\n",
      "Epoch 288/10000\n",
      "23043/23043 [==============================] - 0s 1us/step - loss: 0.8177 - val_loss: 0.5636\n",
      "Epoch 289/10000\n",
      "23043/23043 [==============================] - 0s 1us/step - loss: 0.8167 - val_loss: 0.5633\n",
      "Epoch 290/10000\n",
      "23043/23043 [==============================] - 0s 1us/step - loss: 0.8157 - val_loss: 0.5629\n",
      "Epoch 291/10000\n",
      "23043/23043 [==============================] - 0s 1us/step - loss: 0.8147 - val_loss: 0.5626\n",
      "Epoch 292/10000\n",
      "23043/23043 [==============================] - 0s 1us/step - loss: 0.8137 - val_loss: 0.5623\n",
      "Epoch 293/10000\n",
      "23043/23043 [==============================] - 0s 1us/step - loss: 0.8127 - val_loss: 0.5620\n",
      "Epoch 294/10000\n",
      "23043/23043 [==============================] - 0s 0us/step - loss: 0.8117 - val_loss: 0.5616\n",
      "Epoch 295/10000\n",
      "23043/23043 [==============================] - 0s 0us/step - loss: 0.8107 - val_loss: 0.5614\n",
      "Epoch 296/10000\n",
      "23043/23043 [==============================] - 0s 0us/step - loss: 0.8097 - val_loss: 0.5610\n",
      "Epoch 297/10000\n",
      "23043/23043 [==============================] - 0s 1us/step - loss: 0.8087 - val_loss: 0.5607\n",
      "Epoch 298/10000\n",
      "23043/23043 [==============================] - 0s 1us/step - loss: 0.8078 - val_loss: 0.5604\n",
      "Epoch 299/10000\n",
      "23043/23043 [==============================] - 0s 1us/step - loss: 0.8068 - val_loss: 0.5601\n",
      "Epoch 300/10000\n",
      "23043/23043 [==============================] - 0s 1us/step - loss: 0.8058 - val_loss: 0.5598\n",
      "Epoch 301/10000\n",
      "23043/23043 [==============================] - 0s 1us/step - loss: 0.8048 - val_loss: 0.5595\n",
      "Epoch 302/10000\n",
      "23043/23043 [==============================] - 0s 0us/step - loss: 0.8038 - val_loss: 0.5591\n",
      "Epoch 303/10000\n",
      "23043/23043 [==============================] - 0s 1us/step - loss: 0.8028 - val_loss: 0.5589\n",
      "Epoch 304/10000\n",
      "23043/23043 [==============================] - 0s 0us/step - loss: 0.8019 - val_loss: 0.5586\n"
     ]
    },
    {
     "name": "stdout",
     "output_type": "stream",
     "text": [
      "Epoch 305/10000\n",
      "23043/23043 [==============================] - 0s 1us/step - loss: 0.8009 - val_loss: 0.5583\n",
      "Epoch 306/10000\n",
      "23043/23043 [==============================] - 0s 1us/step - loss: 0.7999 - val_loss: 0.5580\n",
      "Epoch 307/10000\n",
      "23043/23043 [==============================] - 0s 0us/step - loss: 0.7990 - val_loss: 0.5577\n",
      "Epoch 308/10000\n",
      "23043/23043 [==============================] - 0s 1us/step - loss: 0.7980 - val_loss: 0.5574\n",
      "Epoch 309/10000\n",
      "23043/23043 [==============================] - 0s 1us/step - loss: 0.7970 - val_loss: 0.5572\n",
      "Epoch 310/10000\n",
      "23043/23043 [==============================] - 0s 1us/step - loss: 0.7961 - val_loss: 0.5568\n",
      "Epoch 311/10000\n",
      "23043/23043 [==============================] - 0s 0us/step - loss: 0.7951 - val_loss: 0.5566\n",
      "Epoch 312/10000\n",
      "23043/23043 [==============================] - 0s 1us/step - loss: 0.7941 - val_loss: 0.5563\n",
      "Epoch 313/10000\n",
      "23043/23043 [==============================] - 0s 1us/step - loss: 0.7932 - val_loss: 0.5560\n",
      "Epoch 314/10000\n",
      "23043/23043 [==============================] - 0s 1us/step - loss: 0.7922 - val_loss: 0.5557\n",
      "Epoch 315/10000\n",
      "23043/23043 [==============================] - 0s 1us/step - loss: 0.7913 - val_loss: 0.5555\n",
      "Epoch 316/10000\n",
      "23043/23043 [==============================] - 0s 1us/step - loss: 0.7903 - val_loss: 0.5552\n",
      "Epoch 317/10000\n",
      "23043/23043 [==============================] - 0s 1us/step - loss: 0.7894 - val_loss: 0.5549\n",
      "Epoch 318/10000\n",
      "23043/23043 [==============================] - 0s 1us/step - loss: 0.7884 - val_loss: 0.5546\n",
      "Epoch 319/10000\n",
      "23043/23043 [==============================] - 0s 1us/step - loss: 0.7875 - val_loss: 0.5544\n",
      "Epoch 320/10000\n",
      "23043/23043 [==============================] - 0s 1us/step - loss: 0.7865 - val_loss: 0.5541\n",
      "Epoch 321/10000\n",
      "23043/23043 [==============================] - 0s 1us/step - loss: 0.7856 - val_loss: 0.5539\n",
      "Epoch 322/10000\n",
      "23043/23043 [==============================] - 0s 1us/step - loss: 0.7846 - val_loss: 0.5536\n",
      "Epoch 323/10000\n",
      "23043/23043 [==============================] - 0s 1us/step - loss: 0.7837 - val_loss: 0.5534\n",
      "Epoch 324/10000\n",
      "23043/23043 [==============================] - 0s 1us/step - loss: 0.7827 - val_loss: 0.5530\n",
      "Epoch 325/10000\n",
      "23043/23043 [==============================] - 0s 1us/step - loss: 0.7818 - val_loss: 0.5528\n",
      "Epoch 326/10000\n",
      "23043/23043 [==============================] - 0s 1us/step - loss: 0.7809 - val_loss: 0.5525\n",
      "Epoch 327/10000\n",
      "23043/23043 [==============================] - 0s 1us/step - loss: 0.7799 - val_loss: 0.5523\n",
      "Epoch 328/10000\n",
      "23043/23043 [==============================] - 0s 1us/step - loss: 0.7790 - val_loss: 0.5520\n",
      "Epoch 329/10000\n",
      "23043/23043 [==============================] - 0s 1us/step - loss: 0.7781 - val_loss: 0.5518\n",
      "Epoch 330/10000\n",
      "23043/23043 [==============================] - 0s 1us/step - loss: 0.7772 - val_loss: 0.5515\n",
      "Epoch 331/10000\n",
      "23043/23043 [==============================] - 0s 1us/step - loss: 0.7762 - val_loss: 0.5514\n",
      "Epoch 332/10000\n",
      "23043/23043 [==============================] - 0s 1us/step - loss: 0.7753 - val_loss: 0.5511\n",
      "Epoch 333/10000\n",
      "23043/23043 [==============================] - 0s 1us/step - loss: 0.7744 - val_loss: 0.5509\n",
      "Epoch 334/10000\n",
      "23043/23043 [==============================] - 0s 1us/step - loss: 0.7735 - val_loss: 0.5506\n",
      "Epoch 335/10000\n",
      "23043/23043 [==============================] - 0s 1us/step - loss: 0.7726 - val_loss: 0.5504\n",
      "Epoch 336/10000\n",
      "23043/23043 [==============================] - 0s 1us/step - loss: 0.7716 - val_loss: 0.5501\n",
      "Epoch 337/10000\n",
      "23043/23043 [==============================] - 0s 1us/step - loss: 0.7707 - val_loss: 0.5499\n",
      "Epoch 338/10000\n",
      "23043/23043 [==============================] - 0s 1us/step - loss: 0.7698 - val_loss: 0.5496\n",
      "Epoch 339/10000\n",
      "23043/23043 [==============================] - 0s 1us/step - loss: 0.7689 - val_loss: 0.5495\n",
      "Epoch 340/10000\n",
      "23043/23043 [==============================] - 0s 1us/step - loss: 0.7680 - val_loss: 0.5492\n",
      "Epoch 341/10000\n",
      "23043/23043 [==============================] - 0s 1us/step - loss: 0.7671 - val_loss: 0.5490\n",
      "Epoch 342/10000\n",
      "23043/23043 [==============================] - 0s 1us/step - loss: 0.7662 - val_loss: 0.5487\n",
      "Epoch 343/10000\n",
      "23043/23043 [==============================] - 0s 1us/step - loss: 0.7653 - val_loss: 0.5486\n",
      "Epoch 344/10000\n",
      "23043/23043 [==============================] - 0s 1us/step - loss: 0.7644 - val_loss: 0.5483\n",
      "Epoch 345/10000\n",
      "23043/23043 [==============================] - 0s 1us/step - loss: 0.7635 - val_loss: 0.5481\n",
      "Epoch 346/10000\n",
      "23043/23043 [==============================] - 0s 1us/step - loss: 0.7626 - val_loss: 0.5479\n",
      "Epoch 347/10000\n",
      "23043/23043 [==============================] - 0s 1us/step - loss: 0.7617 - val_loss: 0.5477\n",
      "Epoch 348/10000\n",
      "23043/23043 [==============================] - 0s 1us/step - loss: 0.7608 - val_loss: 0.5474\n",
      "Epoch 349/10000\n",
      "23043/23043 [==============================] - 0s 0us/step - loss: 0.7599 - val_loss: 0.5473\n",
      "Epoch 350/10000\n",
      "23043/23043 [==============================] - 0s 1us/step - loss: 0.7590 - val_loss: 0.5470\n",
      "Epoch 351/10000\n",
      "23043/23043 [==============================] - 0s 1us/step - loss: 0.7581 - val_loss: 0.5468\n",
      "Epoch 352/10000\n",
      "23043/23043 [==============================] - 0s 1us/step - loss: 0.7573 - val_loss: 0.5466\n",
      "Epoch 353/10000\n",
      "23043/23043 [==============================] - 0s 1us/step - loss: 0.7564 - val_loss: 0.5464\n"
     ]
    },
    {
     "data": {
      "text/html": [
       "<div>\n",
       "<style scoped>\n",
       "    .dataframe tbody tr th:only-of-type {\n",
       "        vertical-align: middle;\n",
       "    }\n",
       "\n",
       "    .dataframe tbody tr th {\n",
       "        vertical-align: top;\n",
       "    }\n",
       "\n",
       "    .dataframe thead th {\n",
       "        text-align: right;\n",
       "    }\n",
       "</style>\n",
       "<table border=\"1\" class=\"dataframe\">\n",
       "  <thead>\n",
       "    <tr style=\"text-align: right;\">\n",
       "      <th></th>\n",
       "      <th>PassengerId</th>\n",
       "      <th>Survived</th>\n",
       "      <th>Pclass</th>\n",
       "      <th>Age</th>\n",
       "      <th>SibSp</th>\n",
       "      <th>Parch</th>\n",
       "      <th>Fare</th>\n",
       "      <th>Sex_female</th>\n",
       "      <th>Sex_male</th>\n",
       "      <th>Embarked_C</th>\n",
       "      <th>...</th>\n",
       "      <th>title_Master</th>\n",
       "      <th>title_Miss</th>\n",
       "      <th>title_Mlle</th>\n",
       "      <th>title_Mme</th>\n",
       "      <th>title_Mr</th>\n",
       "      <th>title_Mrs</th>\n",
       "      <th>title_Ms</th>\n",
       "      <th>title_Rev</th>\n",
       "      <th>title_Sir</th>\n",
       "      <th>title_the Countess</th>\n",
       "    </tr>\n",
       "  </thead>\n",
       "  <tbody>\n",
       "    <tr>\n",
       "      <th>0</th>\n",
       "      <td>1.0</td>\n",
       "      <td>0.0</td>\n",
       "      <td>3.0</td>\n",
       "      <td>22.000000</td>\n",
       "      <td>1.0</td>\n",
       "      <td>0.0</td>\n",
       "      <td>7.2500</td>\n",
       "      <td>0.0</td>\n",
       "      <td>1.0</td>\n",
       "      <td>0.0</td>\n",
       "      <td>...</td>\n",
       "      <td>0.0</td>\n",
       "      <td>0.0</td>\n",
       "      <td>0.0</td>\n",
       "      <td>0.0</td>\n",
       "      <td>1.0</td>\n",
       "      <td>0.0</td>\n",
       "      <td>0.0</td>\n",
       "      <td>0.0</td>\n",
       "      <td>0.0</td>\n",
       "      <td>0.0</td>\n",
       "    </tr>\n",
       "    <tr>\n",
       "      <th>1</th>\n",
       "      <td>2.0</td>\n",
       "      <td>1.0</td>\n",
       "      <td>1.0</td>\n",
       "      <td>38.000000</td>\n",
       "      <td>1.0</td>\n",
       "      <td>0.0</td>\n",
       "      <td>71.2833</td>\n",
       "      <td>1.0</td>\n",
       "      <td>0.0</td>\n",
       "      <td>1.0</td>\n",
       "      <td>...</td>\n",
       "      <td>0.0</td>\n",
       "      <td>0.0</td>\n",
       "      <td>0.0</td>\n",
       "      <td>0.0</td>\n",
       "      <td>0.0</td>\n",
       "      <td>1.0</td>\n",
       "      <td>0.0</td>\n",
       "      <td>0.0</td>\n",
       "      <td>0.0</td>\n",
       "      <td>0.0</td>\n",
       "    </tr>\n",
       "    <tr>\n",
       "      <th>2</th>\n",
       "      <td>3.0</td>\n",
       "      <td>1.0</td>\n",
       "      <td>3.0</td>\n",
       "      <td>26.000000</td>\n",
       "      <td>0.0</td>\n",
       "      <td>0.0</td>\n",
       "      <td>7.9250</td>\n",
       "      <td>1.0</td>\n",
       "      <td>0.0</td>\n",
       "      <td>0.0</td>\n",
       "      <td>...</td>\n",
       "      <td>0.0</td>\n",
       "      <td>1.0</td>\n",
       "      <td>0.0</td>\n",
       "      <td>0.0</td>\n",
       "      <td>0.0</td>\n",
       "      <td>0.0</td>\n",
       "      <td>0.0</td>\n",
       "      <td>0.0</td>\n",
       "      <td>0.0</td>\n",
       "      <td>0.0</td>\n",
       "    </tr>\n",
       "    <tr>\n",
       "      <th>3</th>\n",
       "      <td>4.0</td>\n",
       "      <td>1.0</td>\n",
       "      <td>1.0</td>\n",
       "      <td>35.000000</td>\n",
       "      <td>1.0</td>\n",
       "      <td>0.0</td>\n",
       "      <td>53.1000</td>\n",
       "      <td>1.0</td>\n",
       "      <td>0.0</td>\n",
       "      <td>0.0</td>\n",
       "      <td>...</td>\n",
       "      <td>0.0</td>\n",
       "      <td>0.0</td>\n",
       "      <td>0.0</td>\n",
       "      <td>0.0</td>\n",
       "      <td>0.0</td>\n",
       "      <td>1.0</td>\n",
       "      <td>0.0</td>\n",
       "      <td>0.0</td>\n",
       "      <td>0.0</td>\n",
       "      <td>0.0</td>\n",
       "    </tr>\n",
       "    <tr>\n",
       "      <th>4</th>\n",
       "      <td>5.0</td>\n",
       "      <td>0.0</td>\n",
       "      <td>3.0</td>\n",
       "      <td>35.000000</td>\n",
       "      <td>0.0</td>\n",
       "      <td>0.0</td>\n",
       "      <td>8.0500</td>\n",
       "      <td>0.0</td>\n",
       "      <td>1.0</td>\n",
       "      <td>0.0</td>\n",
       "      <td>...</td>\n",
       "      <td>0.0</td>\n",
       "      <td>0.0</td>\n",
       "      <td>0.0</td>\n",
       "      <td>0.0</td>\n",
       "      <td>1.0</td>\n",
       "      <td>0.0</td>\n",
       "      <td>0.0</td>\n",
       "      <td>0.0</td>\n",
       "      <td>0.0</td>\n",
       "      <td>0.0</td>\n",
       "    </tr>\n",
       "    <tr>\n",
       "      <th>5</th>\n",
       "      <td>6.0</td>\n",
       "      <td>0.0</td>\n",
       "      <td>3.0</td>\n",
       "      <td>24.326767</td>\n",
       "      <td>0.0</td>\n",
       "      <td>0.0</td>\n",
       "      <td>8.4583</td>\n",
       "      <td>0.0</td>\n",
       "      <td>1.0</td>\n",
       "      <td>0.0</td>\n",
       "      <td>...</td>\n",
       "      <td>0.0</td>\n",
       "      <td>0.0</td>\n",
       "      <td>0.0</td>\n",
       "      <td>0.0</td>\n",
       "      <td>1.0</td>\n",
       "      <td>0.0</td>\n",
       "      <td>0.0</td>\n",
       "      <td>0.0</td>\n",
       "      <td>0.0</td>\n",
       "      <td>0.0</td>\n",
       "    </tr>\n",
       "    <tr>\n",
       "      <th>6</th>\n",
       "      <td>7.0</td>\n",
       "      <td>0.0</td>\n",
       "      <td>1.0</td>\n",
       "      <td>54.000000</td>\n",
       "      <td>0.0</td>\n",
       "      <td>0.0</td>\n",
       "      <td>51.8625</td>\n",
       "      <td>0.0</td>\n",
       "      <td>1.0</td>\n",
       "      <td>0.0</td>\n",
       "      <td>...</td>\n",
       "      <td>0.0</td>\n",
       "      <td>0.0</td>\n",
       "      <td>0.0</td>\n",
       "      <td>0.0</td>\n",
       "      <td>1.0</td>\n",
       "      <td>0.0</td>\n",
       "      <td>0.0</td>\n",
       "      <td>0.0</td>\n",
       "      <td>0.0</td>\n",
       "      <td>0.0</td>\n",
       "    </tr>\n",
       "  </tbody>\n",
       "</table>\n",
       "<p>7 rows × 29 columns</p>\n",
       "</div>"
      ],
      "text/plain": [
       "   PassengerId  Survived  Pclass        Age  SibSp  Parch     Fare  \\\n",
       "0          1.0       0.0     3.0  22.000000    1.0    0.0   7.2500   \n",
       "1          2.0       1.0     1.0  38.000000    1.0    0.0  71.2833   \n",
       "2          3.0       1.0     3.0  26.000000    0.0    0.0   7.9250   \n",
       "3          4.0       1.0     1.0  35.000000    1.0    0.0  53.1000   \n",
       "4          5.0       0.0     3.0  35.000000    0.0    0.0   8.0500   \n",
       "5          6.0       0.0     3.0  24.326767    0.0    0.0   8.4583   \n",
       "6          7.0       0.0     1.0  54.000000    0.0    0.0  51.8625   \n",
       "\n",
       "   Sex_female  Sex_male  Embarked_C         ...          title_Master  \\\n",
       "0         0.0       1.0         0.0         ...                   0.0   \n",
       "1         1.0       0.0         1.0         ...                   0.0   \n",
       "2         1.0       0.0         0.0         ...                   0.0   \n",
       "3         1.0       0.0         0.0         ...                   0.0   \n",
       "4         0.0       1.0         0.0         ...                   0.0   \n",
       "5         0.0       1.0         0.0         ...                   0.0   \n",
       "6         0.0       1.0         0.0         ...                   0.0   \n",
       "\n",
       "   title_Miss  title_Mlle  title_Mme  title_Mr  title_Mrs  title_Ms  \\\n",
       "0         0.0         0.0        0.0       1.0        0.0       0.0   \n",
       "1         0.0         0.0        0.0       0.0        1.0       0.0   \n",
       "2         1.0         0.0        0.0       0.0        0.0       0.0   \n",
       "3         0.0         0.0        0.0       0.0        1.0       0.0   \n",
       "4         0.0         0.0        0.0       1.0        0.0       0.0   \n",
       "5         0.0         0.0        0.0       1.0        0.0       0.0   \n",
       "6         0.0         0.0        0.0       1.0        0.0       0.0   \n",
       "\n",
       "   title_Rev  title_Sir  title_the Countess  \n",
       "0        0.0        0.0                 0.0  \n",
       "1        0.0        0.0                 0.0  \n",
       "2        0.0        0.0                 0.0  \n",
       "3        0.0        0.0                 0.0  \n",
       "4        0.0        0.0                 0.0  \n",
       "5        0.0        0.0                 0.0  \n",
       "6        0.0        0.0                 0.0  \n",
       "\n",
       "[7 rows x 29 columns]"
      ]
     },
     "execution_count": 132,
     "metadata": {},
     "output_type": "execute_result"
    }
   ],
   "source": [
    "fill = MatrixFactorization()\n",
    "filled = fill.fit_transform(df_model)\n",
    "df_model = pd.DataFrame(filled, columns=df_model.columns.values)\n",
    "df_model.head(7)"
   ]
  },
  {
   "cell_type": "code",
   "execution_count": 133,
   "metadata": {},
   "outputs": [
    {
     "data": {
      "text/plain": [
       "0.7847533632286996"
      ]
     },
     "execution_count": 133,
     "metadata": {},
     "output_type": "execute_result"
    }
   ],
   "source": [
    "X_train, X_test, y_train, y_test = train_test_split(df_model.drop(\"Survived\",1),df_model.Survived, random_state = 42)\n",
    "sc = StandardScaler()\n",
    "X_train = sc.fit_transform(X_train)\n",
    "X_test = sc.transform(X_test)\n",
    "\n",
    "rfc = RandomForestClassifier()\n",
    "\n",
    "model=rfc.fit(X_train,y_train)\n",
    "pred_rfc = rfc.predict(X_test)\n",
    "pred_rfc_train = rfc.predict(X_train)\n",
    "model.score(X_test,y_test)"
   ]
  },
  {
   "cell_type": "code",
   "execution_count": 134,
   "metadata": {},
   "outputs": [
    {
     "data": {
      "text/plain": [
       "<matplotlib.axes._subplots.AxesSubplot at 0x7f63085adf28>"
      ]
     },
     "execution_count": 134,
     "metadata": {},
     "output_type": "execute_result"
    },
    {
     "data": {
      "image/png": "[encoded data removed]",
      "text/plain": [
       "<Figure size 432x288 with 1 Axes>"
      ]
     },
     "metadata": {},
     "output_type": "display_data"
    }
   ],
   "source": [
    "sns.set(style=\"darkgrid\")\n",
    "data = confusion_matrix(y_test,pred_rfc)\n",
    "sns.heatmap(data,annot = True, fmt='g', cbar=False)"
   ]
  },
  {
   "cell_type": "code",
   "execution_count": 135,
   "metadata": {},
   "outputs": [],
   "source": [
    "df_model = make_model_df(['Name','Ticket','known_age'])\n",
    "df_model.Age.where(df_model.Age>0,np.NaN,inplace=True)"
   ]
  },
  {
   "cell_type": "code",
   "execution_count": 136,
   "metadata": {},
   "outputs": [],
   "source": [
    "from fancyimpute import NuclearNormMinimization"
   ]
  },
  {
   "cell_type": "code",
   "execution_count": 137,
   "metadata": {},
   "outputs": [
    {
     "name": "stdout",
     "output_type": "stream",
     "text": [
      "----------------------------------------------------------------------------\n",
      "\tSCS v2.0.2 - Splitting Conic Solver\n",
      "\t(c) Brendan O'Donoghue, Stanford University, 2012-2017\n",
      "----------------------------------------------------------------------------\n",
      "Lin-sys: sparse-direct, nnz in A = 601934\n",
      "eps = 1.00e-05, alpha = 1.50, max_iters = 50000, normalize = 1, scale = 1.00\n",
      "acceleration_lookback = 20, rho_x = 1.00e-03\n",
      "Variables n = 473383, constraints m = 524945\n",
      "Cones:\tprimal zero / dual free vars: 25781\n",
      "\tlinear vars: 77343\n",
      "\tsd vars: 421821, sd blks: 1\n",
      "Setup time: 2.62e-01s\n",
      "----------------------------------------------------------------------------\n",
      " Iter | pri res | dua res | rel gap | pri obj | dua obj | kap/tau | time (s)\n",
      "----------------------------------------------------------------------------\n",
      "     0| 7.90e+21  6.75e+21  1.00e+00 -2.06e+27  2.18e+26  8.93e+26  5.89e-01 \n",
      "   100| 3.81e-03  3.13e-03  1.79e-03  1.76e+04  1.75e+04  1.91e-11  6.17e+01 \n",
      "   200| 6.86e-04  6.27e-04  4.17e-04  1.77e+04  1.77e+04  9.79e-11  1.21e+02 \n",
      "   300| 4.05e-04  3.01e-04  6.02e-05  1.77e+04  1.77e+04  1.90e-11  1.80e+02 \n",
      "   400| 1.66e-04  1.34e-04  1.91e-05  1.77e+04  1.77e+04  8.29e-12  2.38e+02 \n",
      "   500| 4.24e-05  3.57e-05  6.55e-07  1.77e+04  1.77e+04  2.53e-13  2.96e+02 \n",
      "   600| 8.04e-04  7.94e-04  1.39e-06  1.77e+04  1.77e+04  1.55e-11  3.53e+02 \n",
      "   700| 8.88e-05  7.89e-05  6.31e-07  1.77e+04  1.77e+04  2.81e-11  4.10e+02 \n",
      "   800| 3.51e-04  3.48e-04  8.13e-07  1.77e+04  1.77e+04  5.95e-12  4.67e+02 \n",
      "   900| 2.58e-04  2.54e-04  9.24e-07  1.77e+04  1.77e+04  1.90e-10  5.25e+02 \n",
      "  1000| 2.00e-04  2.00e-04  3.27e-07  1.77e+04  1.77e+04  5.09e-12  5.82e+02 \n",
      "  1100| 4.68e-04  4.65e-04  8.12e-06  1.77e+04  1.77e+04  3.98e-11  6.40e+02 \n",
      "  1200| 6.06e-05  5.19e-05  5.11e-07  1.77e+04  1.77e+04  3.18e-11  6.97e+02 \n",
      "  1300| 1.40e-05  1.29e-05  3.35e-07  1.77e+04  1.77e+04  4.53e-12  7.54e+02 \n",
      "  1400| 4.31e-05  4.10e-05  4.98e-07  1.77e+04  1.77e+04  5.42e-12  8.11e+02 \n",
      "  1500| 3.94e-05  3.93e-05  4.98e-07  1.77e+04  1.77e+04  1.25e-11  8.68e+02 \n",
      "  1600| 4.06e-05  3.70e-05  4.98e-07  1.77e+04  1.77e+04  1.88e-11  9.24e+02 \n",
      "  1700| 7.51e-05  6.72e-05  8.50e-07  1.77e+04  1.77e+04  3.44e-11  9.80e+02 \n",
      "  1800| 8.96e-05  8.76e-05  4.98e-07  1.77e+04  1.77e+04  8.27e-12  1.04e+03 \n",
      "  1840| 9.18e-06  8.53e-06  4.97e-07  1.77e+04  1.77e+04  1.23e-11  1.06e+03 \n",
      "----------------------------------------------------------------------------\n",
      "Status: Solved\n",
      "Timing: Solve time: 1.06e+03s\n",
      "\tLin-sys: nnz in L factor: 1625866, avg solve time: 9.98e-03s\n",
      "\tCones: avg projection time: 3.78e-01s\n",
      "\tAcceleration: avg step time: 1.51e-01s\n",
      "----------------------------------------------------------------------------\n",
      "Error metrics:\n",
      "dist(s, K) = 9.0343e-03, dist(y, K*) = 4.0327e-02, s'y/|s||y| = 5.1555e-12\n",
      "primal res: |Ax + s - b|_2 / (1 + |b|_2) = 9.1799e-06\n",
      "dual res:   |A'y + c|_2 / (1 + |c|_2) = 8.5325e-06\n",
      "rel gap:    |c'x + b'y| / (1 + |c'x| + |b'y|) = 4.9742e-07\n",
      "----------------------------------------------------------------------------\n",
      "c'x = 17668.6553, -b'y = 17668.6377\n",
      "============================================================================\n"
     ]
    },
    {
     "data": {
      "text/html": [
       "<div>\n",
       "<style scoped>\n",
       "    .dataframe tbody tr th:only-of-type {\n",
       "        vertical-align: middle;\n",
       "    }\n",
       "\n",
       "    .dataframe tbody tr th {\n",
       "        vertical-align: top;\n",
       "    }\n",
       "\n",
       "    .dataframe thead th {\n",
       "        text-align: right;\n",
       "    }\n",
       "</style>\n",
       "<table border=\"1\" class=\"dataframe\">\n",
       "  <thead>\n",
       "    <tr style=\"text-align: right;\">\n",
       "      <th></th>\n",
       "      <th>PassengerId</th>\n",
       "      <th>Survived</th>\n",
       "      <th>Pclass</th>\n",
       "      <th>Age</th>\n",
       "      <th>SibSp</th>\n",
       "      <th>Parch</th>\n",
       "      <th>Fare</th>\n",
       "      <th>Sex_female</th>\n",
       "      <th>Sex_male</th>\n",
       "      <th>Embarked_C</th>\n",
       "      <th>...</th>\n",
       "      <th>title_Master</th>\n",
       "      <th>title_Miss</th>\n",
       "      <th>title_Mlle</th>\n",
       "      <th>title_Mme</th>\n",
       "      <th>title_Mr</th>\n",
       "      <th>title_Mrs</th>\n",
       "      <th>title_Ms</th>\n",
       "      <th>title_Rev</th>\n",
       "      <th>title_Sir</th>\n",
       "      <th>title_the Countess</th>\n",
       "    </tr>\n",
       "  </thead>\n",
       "  <tbody>\n",
       "    <tr>\n",
       "      <th>0</th>\n",
       "      <td>1.0</td>\n",
       "      <td>0.0</td>\n",
       "      <td>3.0</td>\n",
       "      <td>22.000000</td>\n",
       "      <td>1.0</td>\n",
       "      <td>0.0</td>\n",
       "      <td>7.2500</td>\n",
       "      <td>0.0</td>\n",
       "      <td>1.0</td>\n",
       "      <td>0.0</td>\n",
       "      <td>...</td>\n",
       "      <td>0.0</td>\n",
       "      <td>0.0</td>\n",
       "      <td>0.0</td>\n",
       "      <td>0.0</td>\n",
       "      <td>1.0</td>\n",
       "      <td>0.0</td>\n",
       "      <td>0.0</td>\n",
       "      <td>0.0</td>\n",
       "      <td>0.0</td>\n",
       "      <td>0.0</td>\n",
       "    </tr>\n",
       "    <tr>\n",
       "      <th>1</th>\n",
       "      <td>2.0</td>\n",
       "      <td>1.0</td>\n",
       "      <td>1.0</td>\n",
       "      <td>38.000000</td>\n",
       "      <td>1.0</td>\n",
       "      <td>0.0</td>\n",
       "      <td>71.2833</td>\n",
       "      <td>1.0</td>\n",
       "      <td>0.0</td>\n",
       "      <td>1.0</td>\n",
       "      <td>...</td>\n",
       "      <td>0.0</td>\n",
       "      <td>0.0</td>\n",
       "      <td>0.0</td>\n",
       "      <td>0.0</td>\n",
       "      <td>0.0</td>\n",
       "      <td>1.0</td>\n",
       "      <td>0.0</td>\n",
       "      <td>0.0</td>\n",
       "      <td>0.0</td>\n",
       "      <td>0.0</td>\n",
       "    </tr>\n",
       "    <tr>\n",
       "      <th>2</th>\n",
       "      <td>3.0</td>\n",
       "      <td>1.0</td>\n",
       "      <td>3.0</td>\n",
       "      <td>26.000000</td>\n",
       "      <td>0.0</td>\n",
       "      <td>0.0</td>\n",
       "      <td>7.9250</td>\n",
       "      <td>1.0</td>\n",
       "      <td>0.0</td>\n",
       "      <td>0.0</td>\n",
       "      <td>...</td>\n",
       "      <td>0.0</td>\n",
       "      <td>1.0</td>\n",
       "      <td>0.0</td>\n",
       "      <td>0.0</td>\n",
       "      <td>0.0</td>\n",
       "      <td>0.0</td>\n",
       "      <td>0.0</td>\n",
       "      <td>0.0</td>\n",
       "      <td>0.0</td>\n",
       "      <td>0.0</td>\n",
       "    </tr>\n",
       "    <tr>\n",
       "      <th>3</th>\n",
       "      <td>4.0</td>\n",
       "      <td>1.0</td>\n",
       "      <td>1.0</td>\n",
       "      <td>35.000000</td>\n",
       "      <td>1.0</td>\n",
       "      <td>0.0</td>\n",
       "      <td>53.1000</td>\n",
       "      <td>1.0</td>\n",
       "      <td>0.0</td>\n",
       "      <td>0.0</td>\n",
       "      <td>...</td>\n",
       "      <td>0.0</td>\n",
       "      <td>0.0</td>\n",
       "      <td>0.0</td>\n",
       "      <td>0.0</td>\n",
       "      <td>0.0</td>\n",
       "      <td>1.0</td>\n",
       "      <td>0.0</td>\n",
       "      <td>0.0</td>\n",
       "      <td>0.0</td>\n",
       "      <td>0.0</td>\n",
       "    </tr>\n",
       "    <tr>\n",
       "      <th>4</th>\n",
       "      <td>5.0</td>\n",
       "      <td>0.0</td>\n",
       "      <td>3.0</td>\n",
       "      <td>35.000000</td>\n",
       "      <td>0.0</td>\n",
       "      <td>0.0</td>\n",
       "      <td>8.0500</td>\n",
       "      <td>0.0</td>\n",
       "      <td>1.0</td>\n",
       "      <td>0.0</td>\n",
       "      <td>...</td>\n",
       "      <td>0.0</td>\n",
       "      <td>0.0</td>\n",
       "      <td>0.0</td>\n",
       "      <td>0.0</td>\n",
       "      <td>1.0</td>\n",
       "      <td>0.0</td>\n",
       "      <td>0.0</td>\n",
       "      <td>0.0</td>\n",
       "      <td>0.0</td>\n",
       "      <td>0.0</td>\n",
       "    </tr>\n",
       "    <tr>\n",
       "      <th>5</th>\n",
       "      <td>6.0</td>\n",
       "      <td>0.0</td>\n",
       "      <td>3.0</td>\n",
       "      <td>2.629538</td>\n",
       "      <td>0.0</td>\n",
       "      <td>0.0</td>\n",
       "      <td>8.4583</td>\n",
       "      <td>0.0</td>\n",
       "      <td>1.0</td>\n",
       "      <td>0.0</td>\n",
       "      <td>...</td>\n",
       "      <td>0.0</td>\n",
       "      <td>0.0</td>\n",
       "      <td>0.0</td>\n",
       "      <td>0.0</td>\n",
       "      <td>1.0</td>\n",
       "      <td>0.0</td>\n",
       "      <td>0.0</td>\n",
       "      <td>0.0</td>\n",
       "      <td>0.0</td>\n",
       "      <td>0.0</td>\n",
       "    </tr>\n",
       "    <tr>\n",
       "      <th>6</th>\n",
       "      <td>7.0</td>\n",
       "      <td>0.0</td>\n",
       "      <td>1.0</td>\n",
       "      <td>54.000000</td>\n",
       "      <td>0.0</td>\n",
       "      <td>0.0</td>\n",
       "      <td>51.8625</td>\n",
       "      <td>0.0</td>\n",
       "      <td>1.0</td>\n",
       "      <td>0.0</td>\n",
       "      <td>...</td>\n",
       "      <td>0.0</td>\n",
       "      <td>0.0</td>\n",
       "      <td>0.0</td>\n",
       "      <td>0.0</td>\n",
       "      <td>1.0</td>\n",
       "      <td>0.0</td>\n",
       "      <td>0.0</td>\n",
       "      <td>0.0</td>\n",
       "      <td>0.0</td>\n",
       "      <td>0.0</td>\n",
       "    </tr>\n",
       "  </tbody>\n",
       "</table>\n",
       "<p>7 rows × 29 columns</p>\n",
       "</div>"
      ],
      "text/plain": [
       "   PassengerId  Survived  Pclass        Age  SibSp  Parch     Fare  \\\n",
       "0          1.0       0.0     3.0  22.000000    1.0    0.0   7.2500   \n",
       "1          2.0       1.0     1.0  38.000000    1.0    0.0  71.2833   \n",
       "2          3.0       1.0     3.0  26.000000    0.0    0.0   7.9250   \n",
       "3          4.0       1.0     1.0  35.000000    1.0    0.0  53.1000   \n",
       "4          5.0       0.0     3.0  35.000000    0.0    0.0   8.0500   \n",
       "5          6.0       0.0     3.0   2.629538    0.0    0.0   8.4583   \n",
       "6          7.0       0.0     1.0  54.000000    0.0    0.0  51.8625   \n",
       "\n",
       "   Sex_female  Sex_male  Embarked_C         ...          title_Master  \\\n",
       "0         0.0       1.0         0.0         ...                   0.0   \n",
       "1         1.0       0.0         1.0         ...                   0.0   \n",
       "2         1.0       0.0         0.0         ...                   0.0   \n",
       "3         1.0       0.0         0.0         ...                   0.0   \n",
       "4         0.0       1.0         0.0         ...                   0.0   \n",
       "5         0.0       1.0         0.0         ...                   0.0   \n",
       "6         0.0       1.0         0.0         ...                   0.0   \n",
       "\n",
       "   title_Miss  title_Mlle  title_Mme  title_Mr  title_Mrs  title_Ms  \\\n",
       "0         0.0         0.0        0.0       1.0        0.0       0.0   \n",
       "1         0.0         0.0        0.0       0.0        1.0       0.0   \n",
       "2         1.0         0.0        0.0       0.0        0.0       0.0   \n",
       "3         0.0         0.0        0.0       0.0        1.0       0.0   \n",
       "4         0.0         0.0        0.0       1.0        0.0       0.0   \n",
       "5         0.0         0.0        0.0       1.0        0.0       0.0   \n",
       "6         0.0         0.0        0.0       1.0        0.0       0.0   \n",
       "\n",
       "   title_Rev  title_Sir  title_the Countess  \n",
       "0        0.0        0.0                 0.0  \n",
       "1        0.0        0.0                 0.0  \n",
       "2        0.0        0.0                 0.0  \n",
       "3        0.0        0.0                 0.0  \n",
       "4        0.0        0.0                 0.0  \n",
       "5        0.0        0.0                 0.0  \n",
       "6        0.0        0.0                 0.0  \n",
       "\n",
       "[7 rows x 29 columns]"
      ]
     },
     "execution_count": 137,
     "metadata": {},
     "output_type": "execute_result"
    }
   ],
   "source": [
    "fill = NuclearNormMinimization()\n",
    "filled = fill.fit_transform(df_model)\n",
    "df_model = pd.DataFrame(filled, columns=df_model.columns.values)\n",
    "df_model.head(7)"
   ]
  },
  {
   "cell_type": "code",
   "execution_count": 138,
   "metadata": {},
   "outputs": [
    {
     "data": {
      "text/plain": [
       "0.7892376681614349"
      ]
     },
     "execution_count": 138,
     "metadata": {},
     "output_type": "execute_result"
    }
   ],
   "source": [
    "X_train, X_test, y_train, y_test = train_test_split(df_model.drop(\"Survived\",1),df_model.Survived, random_state = 42)\n",
    "sc = StandardScaler()\n",
    "X_train = sc.fit_transform(X_train)\n",
    "X_test = sc.transform(X_test)\n",
    "\n",
    "rfc = RandomForestClassifier()\n",
    "\n",
    "model=rfc.fit(X_train,y_train)\n",
    "pred_rfc = rfc.predict(X_test)\n",
    "pred_rfc_train = rfc.predict(X_train)\n",
    "model.score(X_test,y_test)"
   ]
  },
  {
   "cell_type": "code",
   "execution_count": 139,
   "metadata": {},
   "outputs": [
    {
     "data": {
      "text/plain": [
       "<matplotlib.axes._subplots.AxesSubplot at 0x7f6308503080>"
      ]
     },
     "execution_count": 139,
     "metadata": {},
     "output_type": "execute_result"
    },
    {
     "data": {
      "image/png": "[encoded data removed]",
      "text/plain": [
       "<Figure size 432x288 with 1 Axes>"
      ]
     },
     "metadata": {},
     "output_type": "display_data"
    }
   ],
   "source": [
    "sns.set(style=\"darkgrid\")\n",
    "data = confusion_matrix(y_test,pred_rfc)\n",
    "sns.heatmap(data,annot = True, fmt='g', cbar=False)"
   ]
  },
  {
   "cell_type": "code",
   "execution_count": null,
   "metadata": {},
   "outputs": [],
   "source": []
  }
 ],
 "metadata": {
  "kernelspec": {
   "display_name": "Python 3",
   "language": "python",
   "name": "python3"
  },
  "language_info": {
   "codemirror_mode": {
    "name": "ipython",
    "version": 3
   },
   "file_extension": ".py",
   "mimetype": "text/x-python",
   "name": "python",
   "nbconvert_exporter": "python",
   "pygments_lexer": "ipython3",
   "version": "3.6.5"
  }
 },
 "nbformat": 4,
 "nbformat_minor": 2
}
