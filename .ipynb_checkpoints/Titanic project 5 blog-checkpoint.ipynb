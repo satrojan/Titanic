{
 "cells": [
  {
   "cell_type": "markdown",
   "metadata": {},
   "source": [
    "| Variable | Definition                                 | Key                                                                                                                                                                                                |\n",
    "|----------|--------------------------------------------|----------------------------------------------------------------------------------------------------------------------------------------------------------------------------------------------------|\n",
    "| survival | Survival                                   | 0 = No, 1 = Yes                                                                                                                                                                                    |\n",
    "| pclass   | Ticket class                               | 1 = 1st, 2 = 2nd, 3 = 3rd  pclass : A proxy for socio-economic status (SES)  1st = Upper  2nd = Middle  3rd = Lower                                                                                |\n",
    "| sex      | Sex                                        |                                                                                                                                                                                                    |\n",
    "| Age      | Age in years                               | Age is fractional if less than 1. If the age is estimated, is it in the form of xx.5                                                                                                               |\n",
    "| sibsp    | # of siblings / spouses aboard the Titanic | The dataset defines family relations in this way...  Sibling = brother, sister, stepbrother, stepsister  Spouse = husband, wife (mistresses and fiancés were ignored)                              |\n",
    "| parch    | # of parents / children aboard the Titanic | The dataset defines family relations in this way...  Parent = mother, father  Child = daughter, son, stepdaughter, stepson  Some children travelled only with a nanny, therefore parch=0 for them. |\n",
    "| ticket   | Ticket number                              |                                                                                                                                                                                                    |\n",
    "| fare     | Passenger fare                             |                                                                                                                                                                                                    |\n",
    "| cabin    | Cabin number                               |                                                                                                                                                                                                    |\n",
    "| embarked | Port of Embarkation                        | C = Cherbourg, Q = Queenstown, S = Southampton                                                                                                                                                     |"
   ]
  },
  {
   "cell_type": "code",
   "execution_count": 1,
   "metadata": {},
   "outputs": [],
   "source": [
    "import pandas as pd\n",
    "import numpy as np\n",
    "import missingno as msno"
   ]
  },
  {
   "cell_type": "code",
   "execution_count": 2,
   "metadata": {},
   "outputs": [],
   "source": [
    "import matplotlib.pyplot as plt\n",
    "import seaborn as sns"
   ]
  },
  {
   "cell_type": "code",
   "execution_count": 3,
   "metadata": {},
   "outputs": [],
   "source": [
    "from sklearn.ensemble import RandomForestClassifier\n",
    "from sklearn.model_selection import cross_val_score"
   ]
  },
  {
   "cell_type": "code",
   "execution_count": 4,
   "metadata": {},
   "outputs": [],
   "source": [
    "from sklearn.model_selection import train_test_split"
   ]
  },
  {
   "cell_type": "code",
   "execution_count": 5,
   "metadata": {},
   "outputs": [],
   "source": [
    "from sklearn.preprocessing import StandardScaler"
   ]
  },
  {
   "cell_type": "code",
   "execution_count": 6,
   "metadata": {},
   "outputs": [],
   "source": [
    "from sklearn.metrics import confusion_matrix"
   ]
  },
  {
   "cell_type": "code",
   "execution_count": 7,
   "metadata": {},
   "outputs": [],
   "source": [
    "from IPython.core.interactiveshell import InteractiveShell\n",
    "InteractiveShell.ast_node_interactivity = \"all\""
   ]
  },
  {
   "cell_type": "code",
   "execution_count": 8,
   "metadata": {},
   "outputs": [],
   "source": [
    "sns.set(style=\"darkgrid\")\n",
    "sns.set(style=\"darkgrid\")"
   ]
  },
  {
   "cell_type": "code",
   "execution_count": 9,
   "metadata": {},
   "outputs": [],
   "source": [
    "df_test = pd.read_csv('./data/test.csv')\n",
    "df_train = pd.read_csv('./data/train.csv')"
   ]
  },
  {
   "cell_type": "code",
   "execution_count": 10,
   "metadata": {},
   "outputs": [
    {
     "data": {
      "text/plain": [
       "<matplotlib.axes._subplots.AxesSubplot at 0x7fb6b51fd358>"
      ]
     },
     "execution_count": 10,
     "metadata": {},
     "output_type": "execute_result"
    },
    {
     "data": {
      "image/png": "[encoded data removed]",
      "text/plain": [
       "<Figure size 1800x720 with 1 Axes>"
      ]
     },
     "metadata": {},
     "output_type": "display_data"
    }
   ],
   "source": [
    "msno.dendrogram(df_test)"
   ]
  },
  {
   "cell_type": "code",
   "execution_count": 11,
   "metadata": {},
   "outputs": [
    {
     "data": {
      "text/plain": [
       "<matplotlib.axes._subplots.AxesSubplot at 0x7fb6b36ef550>"
      ]
     },
     "execution_count": 11,
     "metadata": {},
     "output_type": "execute_result"
    },
    {
     "data": {
      "image/png": "[encoded data removed]",
      "text/plain": [
       "<Figure size 1728x720 with 3 Axes>"
      ]
     },
     "metadata": {},
     "output_type": "display_data"
    }
   ],
   "source": [
    "msno.bar(df_test)"
   ]
  },
  {
   "cell_type": "code",
   "execution_count": 12,
   "metadata": {
    "scrolled": true
   },
   "outputs": [
    {
     "data": {
      "text/plain": [
       "<matplotlib.axes._subplots.AxesSubplot at 0x7fb6b3605a20>"
      ]
     },
     "execution_count": 12,
     "metadata": {},
     "output_type": "execute_result"
    },
    {
     "data": {
      "image/png": "[encoded data removed]",
      "text/plain": [
       "<Figure size 1728x720 with 3 Axes>"
      ]
     },
     "metadata": {},
     "output_type": "display_data"
    }
   ],
   "source": [
    "msno.bar(df_train)"
   ]
  },
  {
   "cell_type": "code",
   "execution_count": 13,
   "metadata": {
    "scrolled": true
   },
   "outputs": [
    {
     "name": "stdout",
     "output_type": "stream",
     "text": [
      "<class 'pandas.core.frame.DataFrame'>\n",
      "RangeIndex: 418 entries, 0 to 417\n",
      "Data columns (total 11 columns):\n",
      "PassengerId    418 non-null int64\n",
      "Pclass         418 non-null int64\n",
      "Name           418 non-null object\n",
      "Sex            418 non-null object\n",
      "Age            332 non-null float64\n",
      "SibSp          418 non-null int64\n",
      "Parch          418 non-null int64\n",
      "Ticket         418 non-null object\n",
      "Fare           417 non-null float64\n",
      "Cabin          91 non-null object\n",
      "Embarked       418 non-null object\n",
      "dtypes: float64(2), int64(4), object(5)\n",
      "memory usage: 36.0+ KB\n"
     ]
    }
   ],
   "source": [
    "df_test.info()"
   ]
  },
  {
   "cell_type": "code",
   "execution_count": 14,
   "metadata": {},
   "outputs": [
    {
     "name": "stdout",
     "output_type": "stream",
     "text": [
      "<class 'pandas.core.frame.DataFrame'>\n",
      "RangeIndex: 891 entries, 0 to 890\n",
      "Data columns (total 12 columns):\n",
      "PassengerId    891 non-null int64\n",
      "Survived       891 non-null int64\n",
      "Pclass         891 non-null int64\n",
      "Name           891 non-null object\n",
      "Sex            891 non-null object\n",
      "Age            714 non-null float64\n",
      "SibSp          891 non-null int64\n",
      "Parch          891 non-null int64\n",
      "Ticket         891 non-null object\n",
      "Fare           891 non-null float64\n",
      "Cabin          204 non-null object\n",
      "Embarked       889 non-null object\n",
      "dtypes: float64(2), int64(5), object(5)\n",
      "memory usage: 83.6+ KB\n"
     ]
    }
   ],
   "source": [
    "df_train.info()"
   ]
  },
  {
   "cell_type": "markdown",
   "metadata": {},
   "source": [
    "I want to extract the titles of the passengers on the ship. To do this I created a simple regex function that got all the values between ', and '.' This should have created a column that contains all the titles from the name category."
   ]
  },
  {
   "cell_type": "code",
   "execution_count": 15,
   "metadata": {},
   "outputs": [],
   "source": [
    "import re\n",
    "str_srch = r',\\s(.*?)\\.' #get all values between ', ' and '.' "
   ]
  },
  {
   "cell_type": "code",
   "execution_count": 16,
   "metadata": {},
   "outputs": [],
   "source": [
    "df_train['title'] = [re.findall(str_srch,i) for i in df_train.Name.values]\n",
    "df_train.title = [df_train.title.values[i][0] for i in range(df_train.shape[0])] "
   ]
  },
  {
   "cell_type": "code",
   "execution_count": 17,
   "metadata": {},
   "outputs": [
    {
     "data": {
      "text/html": [
       "<div>\n",
       "<style scoped>\n",
       "    .dataframe tbody tr th:only-of-type {\n",
       "        vertical-align: middle;\n",
       "    }\n",
       "\n",
       "    .dataframe tbody tr th {\n",
       "        vertical-align: top;\n",
       "    }\n",
       "\n",
       "    .dataframe thead th {\n",
       "        text-align: right;\n",
       "    }\n",
       "</style>\n",
       "<table border=\"1\" class=\"dataframe\">\n",
       "  <thead>\n",
       "    <tr style=\"text-align: right;\">\n",
       "      <th></th>\n",
       "      <th>PassengerId</th>\n",
       "      <th>Survived</th>\n",
       "      <th>Pclass</th>\n",
       "      <th>Name</th>\n",
       "      <th>Sex</th>\n",
       "      <th>Age</th>\n",
       "      <th>SibSp</th>\n",
       "      <th>Parch</th>\n",
       "      <th>Ticket</th>\n",
       "      <th>Fare</th>\n",
       "      <th>Cabin</th>\n",
       "      <th>Embarked</th>\n",
       "      <th>title</th>\n",
       "    </tr>\n",
       "  </thead>\n",
       "  <tbody>\n",
       "    <tr>\n",
       "      <th>0</th>\n",
       "      <td>1</td>\n",
       "      <td>0</td>\n",
       "      <td>3</td>\n",
       "      <td>Braund, Mr. Owen Harris</td>\n",
       "      <td>male</td>\n",
       "      <td>22.0</td>\n",
       "      <td>1</td>\n",
       "      <td>0</td>\n",
       "      <td>A/5 21171</td>\n",
       "      <td>7.2500</td>\n",
       "      <td>NaN</td>\n",
       "      <td>S</td>\n",
       "      <td>Mr</td>\n",
       "    </tr>\n",
       "    <tr>\n",
       "      <th>1</th>\n",
       "      <td>2</td>\n",
       "      <td>1</td>\n",
       "      <td>1</td>\n",
       "      <td>Cumings, Mrs. John Bradley (Florence Briggs Th...</td>\n",
       "      <td>female</td>\n",
       "      <td>38.0</td>\n",
       "      <td>1</td>\n",
       "      <td>0</td>\n",
       "      <td>PC 17599</td>\n",
       "      <td>71.2833</td>\n",
       "      <td>C85</td>\n",
       "      <td>C</td>\n",
       "      <td>Mrs</td>\n",
       "    </tr>\n",
       "    <tr>\n",
       "      <th>2</th>\n",
       "      <td>3</td>\n",
       "      <td>1</td>\n",
       "      <td>3</td>\n",
       "      <td>Heikkinen, Miss. Laina</td>\n",
       "      <td>female</td>\n",
       "      <td>26.0</td>\n",
       "      <td>0</td>\n",
       "      <td>0</td>\n",
       "      <td>STON/O2. 3101282</td>\n",
       "      <td>7.9250</td>\n",
       "      <td>NaN</td>\n",
       "      <td>S</td>\n",
       "      <td>Miss</td>\n",
       "    </tr>\n",
       "    <tr>\n",
       "      <th>3</th>\n",
       "      <td>4</td>\n",
       "      <td>1</td>\n",
       "      <td>1</td>\n",
       "      <td>Futrelle, Mrs. Jacques Heath (Lily May Peel)</td>\n",
       "      <td>female</td>\n",
       "      <td>35.0</td>\n",
       "      <td>1</td>\n",
       "      <td>0</td>\n",
       "      <td>113803</td>\n",
       "      <td>53.1000</td>\n",
       "      <td>C123</td>\n",
       "      <td>S</td>\n",
       "      <td>Mrs</td>\n",
       "    </tr>\n",
       "    <tr>\n",
       "      <th>4</th>\n",
       "      <td>5</td>\n",
       "      <td>0</td>\n",
       "      <td>3</td>\n",
       "      <td>Allen, Mr. William Henry</td>\n",
       "      <td>male</td>\n",
       "      <td>35.0</td>\n",
       "      <td>0</td>\n",
       "      <td>0</td>\n",
       "      <td>373450</td>\n",
       "      <td>8.0500</td>\n",
       "      <td>NaN</td>\n",
       "      <td>S</td>\n",
       "      <td>Mr</td>\n",
       "    </tr>\n",
       "  </tbody>\n",
       "</table>\n",
       "</div>"
      ],
      "text/plain": [
       "   PassengerId  Survived  Pclass  \\\n",
       "0            1         0       3   \n",
       "1            2         1       1   \n",
       "2            3         1       3   \n",
       "3            4         1       1   \n",
       "4            5         0       3   \n",
       "\n",
       "                                                Name     Sex   Age  SibSp  \\\n",
       "0                            Braund, Mr. Owen Harris    male  22.0      1   \n",
       "1  Cumings, Mrs. John Bradley (Florence Briggs Th...  female  38.0      1   \n",
       "2                             Heikkinen, Miss. Laina  female  26.0      0   \n",
       "3       Futrelle, Mrs. Jacques Heath (Lily May Peel)  female  35.0      1   \n",
       "4                           Allen, Mr. William Henry    male  35.0      0   \n",
       "\n",
       "   Parch            Ticket     Fare Cabin Embarked title  \n",
       "0      0         A/5 21171   7.2500   NaN        S    Mr  \n",
       "1      0          PC 17599  71.2833   C85        C   Mrs  \n",
       "2      0  STON/O2. 3101282   7.9250   NaN        S  Miss  \n",
       "3      0            113803  53.1000  C123        S   Mrs  \n",
       "4      0            373450   8.0500   NaN        S    Mr  "
      ]
     },
     "execution_count": 17,
     "metadata": {},
     "output_type": "execute_result"
    }
   ],
   "source": [
    "df_train.head()"
   ]
  },
  {
   "cell_type": "code",
   "execution_count": 18,
   "metadata": {},
   "outputs": [],
   "source": [
    "#df_train.title.values #got 'em all"
   ]
  },
  {
   "cell_type": "code",
   "execution_count": 19,
   "metadata": {},
   "outputs": [],
   "source": [
    "df_test['title'] = [re.findall(str_srch,i) for i in df_test.Name.values]\n",
    "df_test.title = [df_test.title.values[i][0] for i in range(df_test.shape[0])] "
   ]
  },
  {
   "cell_type": "code",
   "execution_count": 20,
   "metadata": {},
   "outputs": [],
   "source": [
    "#df_test.title.values #here too"
   ]
  },
  {
   "cell_type": "markdown",
   "metadata": {},
   "source": [
    "In the test data there is one value missing from the 'Fair' column. This represents 0.23% of the data. Similarly, the 'Embarked'"
   ]
  },
  {
   "cell_type": "code",
   "execution_count": 21,
   "metadata": {},
   "outputs": [],
   "source": [
    "df_test.dropna(subset=['Fare'],inplace=True)\n",
    "df_train.dropna(subset=['Embarked'],inplace=True)"
   ]
  },
  {
   "cell_type": "markdown",
   "metadata": {},
   "source": [
    "The problem with the Cabin column is the opposite. Only 19% of the data is valid in the test dataframe and 23% is valid in the train dataframe. The solution here is to drop the entire column."
   ]
  },
  {
   "cell_type": "code",
   "execution_count": 22,
   "metadata": {},
   "outputs": [],
   "source": [
    "df_test.drop('Cabin', axis=1, inplace=True)\n",
    "df_train.drop('Cabin', axis=1, inplace=True)"
   ]
  },
  {
   "cell_type": "markdown",
   "metadata": {},
   "source": [
    "The age column is the most interesting. The test data and train sets both have about 80% of the data intact. This is enough to attempt to make valid guesses with the data to attempt to fill in the missing values. "
   ]
  },
  {
   "cell_type": "code",
   "execution_count": 23,
   "metadata": {},
   "outputs": [
    {
     "data": {
      "image/png": "[encoded data removed]",
      "text/plain": [
       "<Figure size 1800x720 with 2 Axes>"
      ]
     },
     "metadata": {},
     "output_type": "display_data"
    }
   ],
   "source": [
    "msno.matrix(df_test);"
   ]
  },
  {
   "cell_type": "code",
   "execution_count": 24,
   "metadata": {},
   "outputs": [
    {
     "data": {
      "image/png": "[encoded data removed]",
      "text/plain": [
       "<Figure size 1800x720 with 2 Axes>"
      ]
     },
     "metadata": {},
     "output_type": "display_data"
    }
   ],
   "source": [
    "msno.matrix(df_train);"
   ]
  },
  {
   "cell_type": "markdown",
   "metadata": {},
   "source": [
    "Looking at the mean values in both the test and train sets we see that the age values are almost identical coming in at about 30 years."
   ]
  },
  {
   "cell_type": "code",
   "execution_count": 25,
   "metadata": {},
   "outputs": [
    {
     "name": "stdout",
     "output_type": "stream",
     "text": [
      "30.181268882175228\n",
      "29.64209269662921\n"
     ]
    }
   ],
   "source": [
    "print(df_test.Age.mean())\n",
    "print(df_train.Age.mean())"
   ]
  },
  {
   "cell_type": "markdown",
   "metadata": {},
   "source": [
    "This does not appear when we seperate the data based on the passanger class. In both the test and train sets the mean age is abou 25 for trird class, 29 for second class and about 40 for third class."
   ]
  },
  {
   "cell_type": "code",
   "execution_count": 26,
   "metadata": {},
   "outputs": [
    {
     "name": "stdout",
     "output_type": "stream",
     "text": [
      "23.776413793103448\n",
      "28.7775\n",
      "40.91836734693877\n"
     ]
    }
   ],
   "source": [
    "print(df_test[df_test.Pclass==3].Age.mean())\n",
    "print(df_test[df_test.Pclass==2].Age.mean())\n",
    "print(df_test[df_test.Pclass==1].Age.mean())"
   ]
  },
  {
   "cell_type": "code",
   "execution_count": 27,
   "metadata": {},
   "outputs": [
    {
     "name": "stdout",
     "output_type": "stream",
     "text": [
      "25.14061971830986\n",
      "29.87763005780347\n",
      "38.10554347826087\n"
     ]
    }
   ],
   "source": [
    "print(df_train[df_train.Pclass==3].Age.mean())\n",
    "print(df_train[df_train.Pclass==2].Age.mean())\n",
    "print(df_train[df_train.Pclass==1].Age.mean())"
   ]
  },
  {
   "cell_type": "markdown",
   "metadata": {},
   "source": [
    "Looking at the mean age based on title we see that the test and train sets also show a string corrilation with people with the title of Master averaging under 10, people with the title of Miss appearing at about 21, people with the title of Ms and Mr appearing at about 32 and 37 respectively. "
   ]
  },
  {
   "cell_type": "code",
   "execution_count": 28,
   "metadata": {},
   "outputs": [
    {
     "name": "stdout",
     "output_type": "stream",
     "text": [
      "7.406470588235294\n",
      "31.843406593406595\n",
      "38.903225806451616\n",
      "21.774843750000002\n"
     ]
    }
   ],
   "source": [
    "print(df_test[df_test.title=='Master'].Age.mean())\n",
    "print(df_test[df_test.title=='Mr'].Age.mean())\n",
    "print(df_test[df_test.title=='Mrs'].Age.mean())\n",
    "print(df_test[df_test.title=='Miss'].Age.mean())"
   ]
  },
  {
   "cell_type": "code",
   "execution_count": 29,
   "metadata": {},
   "outputs": [
    {
     "name": "stdout",
     "output_type": "stream",
     "text": [
      "4.574166666666667\n",
      "32.368090452261306\n",
      "35.654205607476634\n",
      "21.662068965517243\n"
     ]
    }
   ],
   "source": [
    "print(df_train[df_train.title=='Master'].Age.mean())\n",
    "print(df_train[df_train.title=='Mr'].Age.mean())\n",
    "print(df_train[df_train.title=='Mrs'].Age.mean())\n",
    "print(df_train[df_train.title=='Miss'].Age.mean())"
   ]
  },
  {
   "cell_type": "markdown",
   "metadata": {},
   "source": [
    "The average age for location of people based on when they embarked is slightly higher from Cherbourg. I'm not sure it's signifigant for the model."
   ]
  },
  {
   "cell_type": "code",
   "execution_count": 30,
   "metadata": {},
   "outputs": [
    {
     "name": "stdout",
     "output_type": "stream",
     "text": [
      "29.318181818181817\n",
      "34.73780487804878\n",
      "28.61894273127753\n"
     ]
    }
   ],
   "source": [
    "print(df_test[df_test.Embarked=='Q'].Age.mean())\n",
    "print(df_test[df_test.Embarked=='C'].Age.mean())\n",
    "print(df_test[df_test.Embarked=='S'].Age.mean())"
   ]
  },
  {
   "cell_type": "markdown",
   "metadata": {},
   "source": [
    "I assume that the missing data is MCAR. I'm sure that there is no possibility that the missing data is not NMAR. There is no reason that the data would be purposefully hidden from us so the options are MCAR, where the data is missing simply because it was lost to time or the disaster, or MAR, the data is missing but it may be missing more from certain groups."
   ]
  },
  {
   "cell_type": "markdown",
   "metadata": {},
   "source": [
    "To check the type of missing data we will see if the variables we have are randomly distributed evenly between a dataset that has all values for age missing and a dataset that has all values filled. If both sets are approximately equal then we have MCAR. If not then we have MAR and must use imputation."
   ]
  },
  {
   "cell_type": "markdown",
   "metadata": {},
   "source": [
    "Let's create a new column to see if we have an age value and then run the data through seaborn to look at our data."
   ]
  },
  {
   "cell_type": "code",
   "execution_count": 31,
   "metadata": {},
   "outputs": [],
   "source": [
    "df_train.Age.fillna(0,inplace=True)\n",
    "df_test.Age.fillna(0,inplace=True)\n",
    "df_train['known_age']= np.where(df_train.Age==0,False,True)\n",
    "df_test['known_age']= np.where(df_test.Age==0,False,True)"
   ]
  },
  {
   "cell_type": "markdown",
   "metadata": {},
   "source": [
    "Merging the data togther. This is kept in a seperate dataframe to avoid conaminating the models."
   ]
  },
  {
   "cell_type": "code",
   "execution_count": 32,
   "metadata": {},
   "outputs": [
    {
     "data": {
      "text/plain": [
       "(1306, 13)"
      ]
     },
     "execution_count": 32,
     "metadata": {},
     "output_type": "execute_result"
    }
   ],
   "source": [
    "df_graph = pd.concat([df_train,df_test], sort = False)\n",
    "df_graph.shape"
   ]
  },
  {
   "cell_type": "code",
   "execution_count": 33,
   "metadata": {},
   "outputs": [],
   "source": [
    "df_graph.drop('Survived',axis =1,inplace=True)"
   ]
  },
  {
   "cell_type": "code",
   "execution_count": 34,
   "metadata": {},
   "outputs": [],
   "source": [
    "#df = df.drop(df[(df.score < 50) & (df.score > 20)].index)\n",
    "\n",
    "#df_graph.drop(df_graph[~(df_graph.title=='Mr')|~(df_graph.title=='Miss')|~(df_graph.title=='Mrs')|~(df_graph.title=='Master')].index)"
   ]
  },
  {
   "cell_type": "code",
   "execution_count": 35,
   "metadata": {},
   "outputs": [
    {
     "data": {
      "image/png": "[encoded data removed]",
      "text/plain": [
       "<Figure size 432x288 with 1 Axes>"
      ]
     },
     "metadata": {},
     "output_type": "display_data"
    }
   ],
   "source": [
    "sns.set(style=\"darkgrid\")\n",
    "ax =sns.countplot(x = 'Sex', hue = 'known_age',data = df_graph, orient='v')\n",
    "#ax =sns.countplot(x = 'Embarked', hue = 'known_age',data = df_graph, orient='v')"
   ]
  },
  {
   "cell_type": "code",
   "execution_count": 36,
   "metadata": {},
   "outputs": [
    {
     "data": {
      "image/png": "[encoded data removed]",
      "text/plain": [
       "<Figure size 432x288 with 1 Axes>"
      ]
     },
     "metadata": {},
     "output_type": "display_data"
    }
   ],
   "source": [
    "sns.set(style=\"darkgrid\")\n",
    "ax =sns.countplot(x = 'Pclass', hue = 'known_age',data = df_graph, orient='v')"
   ]
  },
  {
   "cell_type": "code",
   "execution_count": 37,
   "metadata": {},
   "outputs": [
    {
     "data": {
      "image/png": "[encoded data removed]",
      "text/plain": [
       "<Figure size 432x288 with 1 Axes>"
      ]
     },
     "metadata": {},
     "output_type": "display_data"
    }
   ],
   "source": [
    "sns.set(style=\"darkgrid\")\n",
    "ax =sns.countplot(x = 'title', hue = 'known_age',data = df_graph, orient='v')"
   ]
  },
  {
   "cell_type": "code",
   "execution_count": 38,
   "metadata": {},
   "outputs": [
    {
     "data": {
      "image/png": "[encoded data removed]",
      "text/plain": [
       "<Figure size 432x288 with 1 Axes>"
      ]
     },
     "metadata": {},
     "output_type": "display_data"
    }
   ],
   "source": [
    "sns.set(style=\"darkgrid\")\n",
    "ax =sns.countplot(x = 'Embarked', hue = 'known_age',data = df_graph, orient='v')"
   ]
  },
  {
   "cell_type": "markdown",
   "metadata": {},
   "source": [
    "Based on the above graphs the missing data does not appear to be completely random. In fact it appears to be strongly correlated with the values in Pclass, specifically with third class passengers. Given that the highest mortality rate was also in this group there is almost certainly a correlation that survival also factored into our knowledge of age."
   ]
  },
  {
   "cell_type": "markdown",
   "metadata": {},
   "source": [
    "I am going to create a model with Random Forest and dropping the age column. This will give us a baseline to work from. All models will have random state set to 42 to ensure that all models preform evenly. "
   ]
  },
  {
   "cell_type": "code",
   "execution_count": 39,
   "metadata": {},
   "outputs": [
    {
     "data": {
      "text/html": [
       "<div>\n",
       "<style scoped>\n",
       "    .dataframe tbody tr th:only-of-type {\n",
       "        vertical-align: middle;\n",
       "    }\n",
       "\n",
       "    .dataframe tbody tr th {\n",
       "        vertical-align: top;\n",
       "    }\n",
       "\n",
       "    .dataframe thead th {\n",
       "        text-align: right;\n",
       "    }\n",
       "</style>\n",
       "<table border=\"1\" class=\"dataframe\">\n",
       "  <thead>\n",
       "    <tr style=\"text-align: right;\">\n",
       "      <th></th>\n",
       "      <th>PassengerId</th>\n",
       "      <th>Survived</th>\n",
       "      <th>Pclass</th>\n",
       "      <th>Name</th>\n",
       "      <th>Sex</th>\n",
       "      <th>Age</th>\n",
       "      <th>SibSp</th>\n",
       "      <th>Parch</th>\n",
       "      <th>Ticket</th>\n",
       "      <th>Fare</th>\n",
       "      <th>Embarked</th>\n",
       "      <th>title</th>\n",
       "      <th>known_age</th>\n",
       "    </tr>\n",
       "  </thead>\n",
       "  <tbody>\n",
       "    <tr>\n",
       "      <th>0</th>\n",
       "      <td>1</td>\n",
       "      <td>0</td>\n",
       "      <td>3</td>\n",
       "      <td>Braund, Mr. Owen Harris</td>\n",
       "      <td>male</td>\n",
       "      <td>22.0</td>\n",
       "      <td>1</td>\n",
       "      <td>0</td>\n",
       "      <td>A/5 21171</td>\n",
       "      <td>7.2500</td>\n",
       "      <td>S</td>\n",
       "      <td>Mr</td>\n",
       "      <td>True</td>\n",
       "    </tr>\n",
       "    <tr>\n",
       "      <th>1</th>\n",
       "      <td>2</td>\n",
       "      <td>1</td>\n",
       "      <td>1</td>\n",
       "      <td>Cumings, Mrs. John Bradley (Florence Briggs Th...</td>\n",
       "      <td>female</td>\n",
       "      <td>38.0</td>\n",
       "      <td>1</td>\n",
       "      <td>0</td>\n",
       "      <td>PC 17599</td>\n",
       "      <td>71.2833</td>\n",
       "      <td>C</td>\n",
       "      <td>Mrs</td>\n",
       "      <td>True</td>\n",
       "    </tr>\n",
       "    <tr>\n",
       "      <th>2</th>\n",
       "      <td>3</td>\n",
       "      <td>1</td>\n",
       "      <td>3</td>\n",
       "      <td>Heikkinen, Miss. Laina</td>\n",
       "      <td>female</td>\n",
       "      <td>26.0</td>\n",
       "      <td>0</td>\n",
       "      <td>0</td>\n",
       "      <td>STON/O2. 3101282</td>\n",
       "      <td>7.9250</td>\n",
       "      <td>S</td>\n",
       "      <td>Miss</td>\n",
       "      <td>True</td>\n",
       "    </tr>\n",
       "    <tr>\n",
       "      <th>3</th>\n",
       "      <td>4</td>\n",
       "      <td>1</td>\n",
       "      <td>1</td>\n",
       "      <td>Futrelle, Mrs. Jacques Heath (Lily May Peel)</td>\n",
       "      <td>female</td>\n",
       "      <td>35.0</td>\n",
       "      <td>1</td>\n",
       "      <td>0</td>\n",
       "      <td>113803</td>\n",
       "      <td>53.1000</td>\n",
       "      <td>S</td>\n",
       "      <td>Mrs</td>\n",
       "      <td>True</td>\n",
       "    </tr>\n",
       "    <tr>\n",
       "      <th>4</th>\n",
       "      <td>5</td>\n",
       "      <td>0</td>\n",
       "      <td>3</td>\n",
       "      <td>Allen, Mr. William Henry</td>\n",
       "      <td>male</td>\n",
       "      <td>35.0</td>\n",
       "      <td>0</td>\n",
       "      <td>0</td>\n",
       "      <td>373450</td>\n",
       "      <td>8.0500</td>\n",
       "      <td>S</td>\n",
       "      <td>Mr</td>\n",
       "      <td>True</td>\n",
       "    </tr>\n",
       "  </tbody>\n",
       "</table>\n",
       "</div>"
      ],
      "text/plain": [
       "   PassengerId  Survived  Pclass  \\\n",
       "0            1         0       3   \n",
       "1            2         1       1   \n",
       "2            3         1       3   \n",
       "3            4         1       1   \n",
       "4            5         0       3   \n",
       "\n",
       "                                                Name     Sex   Age  SibSp  \\\n",
       "0                            Braund, Mr. Owen Harris    male  22.0      1   \n",
       "1  Cumings, Mrs. John Bradley (Florence Briggs Th...  female  38.0      1   \n",
       "2                             Heikkinen, Miss. Laina  female  26.0      0   \n",
       "3       Futrelle, Mrs. Jacques Heath (Lily May Peel)  female  35.0      1   \n",
       "4                           Allen, Mr. William Henry    male  35.0      0   \n",
       "\n",
       "   Parch            Ticket     Fare Embarked title  known_age  \n",
       "0      0         A/5 21171   7.2500        S    Mr       True  \n",
       "1      0          PC 17599  71.2833        C   Mrs       True  \n",
       "2      0  STON/O2. 3101282   7.9250        S  Miss       True  \n",
       "3      0            113803  53.1000        S   Mrs       True  \n",
       "4      0            373450   8.0500        S    Mr       True  "
      ]
     },
     "execution_count": 39,
     "metadata": {},
     "output_type": "execute_result"
    }
   ],
   "source": [
    "df_train.head()"
   ]
  },
  {
   "cell_type": "code",
   "execution_count": 40,
   "metadata": {},
   "outputs": [],
   "source": [
    "df_model=df_train.copy()"
   ]
  },
  {
   "cell_type": "code",
   "execution_count": 41,
   "metadata": {},
   "outputs": [],
   "source": [
    "def make_model_df(drop_names=[]):\n",
    "    df_model=df_train.copy()\n",
    "    df_model.drop(drop_names,axis=1,inplace=True)\n",
    "    df_model=pd.get_dummies(df_model, columns=df_model.select_dtypes('object').columns.values)\n",
    "    return df_model\n",
    "    "
   ]
  },
  {
   "cell_type": "code",
   "execution_count": 42,
   "metadata": {},
   "outputs": [],
   "source": [
    "df_model = make_model_df(['Name','Ticket','Age','known_age'])"
   ]
  },
  {
   "cell_type": "code",
   "execution_count": 43,
   "metadata": {},
   "outputs": [
    {
     "data": {
      "text/html": [
       "<div>\n",
       "<style scoped>\n",
       "    .dataframe tbody tr th:only-of-type {\n",
       "        vertical-align: middle;\n",
       "    }\n",
       "\n",
       "    .dataframe tbody tr th {\n",
       "        vertical-align: top;\n",
       "    }\n",
       "\n",
       "    .dataframe thead th {\n",
       "        text-align: right;\n",
       "    }\n",
       "</style>\n",
       "<table border=\"1\" class=\"dataframe\">\n",
       "  <thead>\n",
       "    <tr style=\"text-align: right;\">\n",
       "      <th></th>\n",
       "      <th>PassengerId</th>\n",
       "      <th>Survived</th>\n",
       "      <th>Pclass</th>\n",
       "      <th>SibSp</th>\n",
       "      <th>Parch</th>\n",
       "      <th>Fare</th>\n",
       "      <th>Sex_female</th>\n",
       "      <th>Sex_male</th>\n",
       "      <th>Embarked_C</th>\n",
       "      <th>Embarked_Q</th>\n",
       "      <th>...</th>\n",
       "      <th>title_Master</th>\n",
       "      <th>title_Miss</th>\n",
       "      <th>title_Mlle</th>\n",
       "      <th>title_Mme</th>\n",
       "      <th>title_Mr</th>\n",
       "      <th>title_Mrs</th>\n",
       "      <th>title_Ms</th>\n",
       "      <th>title_Rev</th>\n",
       "      <th>title_Sir</th>\n",
       "      <th>title_the Countess</th>\n",
       "    </tr>\n",
       "  </thead>\n",
       "  <tbody>\n",
       "    <tr>\n",
       "      <th>0</th>\n",
       "      <td>1</td>\n",
       "      <td>0</td>\n",
       "      <td>3</td>\n",
       "      <td>1</td>\n",
       "      <td>0</td>\n",
       "      <td>7.2500</td>\n",
       "      <td>0</td>\n",
       "      <td>1</td>\n",
       "      <td>0</td>\n",
       "      <td>0</td>\n",
       "      <td>...</td>\n",
       "      <td>0</td>\n",
       "      <td>0</td>\n",
       "      <td>0</td>\n",
       "      <td>0</td>\n",
       "      <td>1</td>\n",
       "      <td>0</td>\n",
       "      <td>0</td>\n",
       "      <td>0</td>\n",
       "      <td>0</td>\n",
       "      <td>0</td>\n",
       "    </tr>\n",
       "    <tr>\n",
       "      <th>1</th>\n",
       "      <td>2</td>\n",
       "      <td>1</td>\n",
       "      <td>1</td>\n",
       "      <td>1</td>\n",
       "      <td>0</td>\n",
       "      <td>71.2833</td>\n",
       "      <td>1</td>\n",
       "      <td>0</td>\n",
       "      <td>1</td>\n",
       "      <td>0</td>\n",
       "      <td>...</td>\n",
       "      <td>0</td>\n",
       "      <td>0</td>\n",
       "      <td>0</td>\n",
       "      <td>0</td>\n",
       "      <td>0</td>\n",
       "      <td>1</td>\n",
       "      <td>0</td>\n",
       "      <td>0</td>\n",
       "      <td>0</td>\n",
       "      <td>0</td>\n",
       "    </tr>\n",
       "    <tr>\n",
       "      <th>2</th>\n",
       "      <td>3</td>\n",
       "      <td>1</td>\n",
       "      <td>3</td>\n",
       "      <td>0</td>\n",
       "      <td>0</td>\n",
       "      <td>7.9250</td>\n",
       "      <td>1</td>\n",
       "      <td>0</td>\n",
       "      <td>0</td>\n",
       "      <td>0</td>\n",
       "      <td>...</td>\n",
       "      <td>0</td>\n",
       "      <td>1</td>\n",
       "      <td>0</td>\n",
       "      <td>0</td>\n",
       "      <td>0</td>\n",
       "      <td>0</td>\n",
       "      <td>0</td>\n",
       "      <td>0</td>\n",
       "      <td>0</td>\n",
       "      <td>0</td>\n",
       "    </tr>\n",
       "    <tr>\n",
       "      <th>3</th>\n",
       "      <td>4</td>\n",
       "      <td>1</td>\n",
       "      <td>1</td>\n",
       "      <td>1</td>\n",
       "      <td>0</td>\n",
       "      <td>53.1000</td>\n",
       "      <td>1</td>\n",
       "      <td>0</td>\n",
       "      <td>0</td>\n",
       "      <td>0</td>\n",
       "      <td>...</td>\n",
       "      <td>0</td>\n",
       "      <td>0</td>\n",
       "      <td>0</td>\n",
       "      <td>0</td>\n",
       "      <td>0</td>\n",
       "      <td>1</td>\n",
       "      <td>0</td>\n",
       "      <td>0</td>\n",
       "      <td>0</td>\n",
       "      <td>0</td>\n",
       "    </tr>\n",
       "    <tr>\n",
       "      <th>4</th>\n",
       "      <td>5</td>\n",
       "      <td>0</td>\n",
       "      <td>3</td>\n",
       "      <td>0</td>\n",
       "      <td>0</td>\n",
       "      <td>8.0500</td>\n",
       "      <td>0</td>\n",
       "      <td>1</td>\n",
       "      <td>0</td>\n",
       "      <td>0</td>\n",
       "      <td>...</td>\n",
       "      <td>0</td>\n",
       "      <td>0</td>\n",
       "      <td>0</td>\n",
       "      <td>0</td>\n",
       "      <td>1</td>\n",
       "      <td>0</td>\n",
       "      <td>0</td>\n",
       "      <td>0</td>\n",
       "      <td>0</td>\n",
       "      <td>0</td>\n",
       "    </tr>\n",
       "  </tbody>\n",
       "</table>\n",
       "<p>5 rows × 28 columns</p>\n",
       "</div>"
      ],
      "text/plain": [
       "   PassengerId  Survived  Pclass  SibSp  Parch     Fare  Sex_female  Sex_male  \\\n",
       "0            1         0       3      1      0   7.2500           0         1   \n",
       "1            2         1       1      1      0  71.2833           1         0   \n",
       "2            3         1       3      0      0   7.9250           1         0   \n",
       "3            4         1       1      1      0  53.1000           1         0   \n",
       "4            5         0       3      0      0   8.0500           0         1   \n",
       "\n",
       "   Embarked_C  Embarked_Q         ...          title_Master  title_Miss  \\\n",
       "0           0           0         ...                     0           0   \n",
       "1           1           0         ...                     0           0   \n",
       "2           0           0         ...                     0           1   \n",
       "3           0           0         ...                     0           0   \n",
       "4           0           0         ...                     0           0   \n",
       "\n",
       "   title_Mlle  title_Mme  title_Mr  title_Mrs  title_Ms  title_Rev  title_Sir  \\\n",
       "0           0          0         1          0         0          0          0   \n",
       "1           0          0         0          1         0          0          0   \n",
       "2           0          0         0          0         0          0          0   \n",
       "3           0          0         0          1         0          0          0   \n",
       "4           0          0         1          0         0          0          0   \n",
       "\n",
       "   title_the Countess  \n",
       "0                   0  \n",
       "1                   0  \n",
       "2                   0  \n",
       "3                   0  \n",
       "4                   0  \n",
       "\n",
       "[5 rows x 28 columns]"
      ]
     },
     "execution_count": 43,
     "metadata": {},
     "output_type": "execute_result"
    }
   ],
   "source": [
    "df_model.head()"
   ]
  },
  {
   "cell_type": "code",
   "execution_count": 44,
   "metadata": {},
   "outputs": [],
   "source": [
    "X_train, X_test, y_train, y_test = train_test_split(df_model.drop(\"Survived\",1),df_model.Survived, random_state = 42)"
   ]
  },
  {
   "cell_type": "code",
   "execution_count": 45,
   "metadata": {},
   "outputs": [],
   "source": [
    "sc = StandardScaler()\n",
    "X_train = sc.fit_transform(X_train)\n",
    "X_test = sc.transform(X_test)"
   ]
  },
  {
   "cell_type": "code",
   "execution_count": 46,
   "metadata": {},
   "outputs": [
    {
     "data": {
      "text/plain": [
       "0.7668161434977578"
      ]
     },
     "execution_count": 46,
     "metadata": {},
     "output_type": "execute_result"
    }
   ],
   "source": [
    "rfc = RandomForestClassifier()\n",
    "\n",
    "model=rfc.fit(X_train,y_train)\n",
    "pred_rfc = rfc.predict(X_test)\n",
    "pred_rfc_train = rfc.predict(X_train)\n",
    "model.score(X_test,y_test)"
   ]
  },
  {
   "cell_type": "code",
   "execution_count": 47,
   "metadata": {},
   "outputs": [],
   "source": [
    "data = confusion_matrix(y_test,pred_rfc)"
   ]
  },
  {
   "cell_type": "code",
   "execution_count": 48,
   "metadata": {},
   "outputs": [],
   "source": [
    "tn, fp, fn, tp = a=data.ravel()"
   ]
  },
  {
   "cell_type": "code",
   "execution_count": 49,
   "metadata": {},
   "outputs": [
    {
     "name": "stdout",
     "output_type": "stream",
     "text": [
      "117 24 28 54\n"
     ]
    }
   ],
   "source": [
    "print(tn, fp, fn, tp)"
   ]
  },
  {
   "cell_type": "code",
   "execution_count": 50,
   "metadata": {},
   "outputs": [
    {
     "data": {
      "text/plain": [
       "<matplotlib.axes._subplots.AxesSubplot at 0x7fb6a59f8828>"
      ]
     },
     "execution_count": 50,
     "metadata": {},
     "output_type": "execute_result"
    },
    {
     "data": {
      "image/png": "[encoded data removed]",
      "text/plain": [
       "<Figure size 432x288 with 1 Axes>"
      ]
     },
     "metadata": {},
     "output_type": "display_data"
    }
   ],
   "source": [
    "sns.set(style=\"darkgrid\")\n",
    "sns.heatmap(data,annot = True, fmt='g', cbar=False)"
   ]
  },
  {
   "cell_type": "markdown",
   "metadata": {},
   "source": [
    "This is our base with Mean Accuracy Score of .78, 25 false positives and 24 false negatives. "
   ]
  },
  {
   "cell_type": "markdown",
   "metadata": {},
   "source": [
    "The next step is to do a very simple form of impudence and applying the mean value to missing data."
   ]
  },
  {
   "cell_type": "code",
   "execution_count": 51,
   "metadata": {},
   "outputs": [],
   "source": [
    "df_model = make_model_df(['Name','Ticket','known_age'])"
   ]
  },
  {
   "cell_type": "code",
   "execution_count": 52,
   "metadata": {},
   "outputs": [],
   "source": [
    "df_model.Age.where(df_model.Age>0,np.NaN,inplace=True) "
   ]
  },
  {
   "cell_type": "code",
   "execution_count": 53,
   "metadata": {},
   "outputs": [
    {
     "data": {
      "text/plain": [
       "0    22.0\n",
       "1    38.0\n",
       "2    26.0\n",
       "3    35.0\n",
       "4    35.0\n",
       "5     NaN\n",
       "6    54.0\n",
       "Name: Age, dtype: float64"
      ]
     },
     "execution_count": 53,
     "metadata": {},
     "output_type": "execute_result"
    }
   ],
   "source": [
    "df_model.Age.head(7)"
   ]
  },
  {
   "cell_type": "code",
   "execution_count": 54,
   "metadata": {},
   "outputs": [
    {
     "name": "stderr",
     "output_type": "stream",
     "text": [
      "/home/steven/anaconda3/lib/python3.6/site-packages/h5py/__init__.py:36: FutureWarning: Conversion of the second argument of issubdtype from `float` to `np.floating` is deprecated. In future, it will be treated as `np.float64 == np.dtype(float).type`.\n",
      "  from ._conv import register_converters as _register_converters\n",
      "Using TensorFlow backend.\n"
     ]
    },
    {
     "name": "stdout",
     "output_type": "stream",
     "text": [
      "Couldn't import dot_parser, loading of dot files will not be possible.\n"
     ]
    }
   ],
   "source": [
    "from fancyimpute import SimpleFill"
   ]
  },
  {
   "cell_type": "code",
   "execution_count": 55,
   "metadata": {},
   "outputs": [],
   "source": [
    "fill = SimpleFill('mean',min_value=df_model.Age.min(),max_value=df_model.Age.max())"
   ]
  },
  {
   "cell_type": "code",
   "execution_count": 56,
   "metadata": {},
   "outputs": [],
   "source": [
    "filled = fill.fit_transform(df_model)"
   ]
  },
  {
   "cell_type": "code",
   "execution_count": 57,
   "metadata": {},
   "outputs": [],
   "source": [
    "df_model = pd.DataFrame(filled, columns=df_model.columns.values)"
   ]
  },
  {
   "cell_type": "code",
   "execution_count": 58,
   "metadata": {},
   "outputs": [
    {
     "data": {
      "text/html": [
       "<div>\n",
       "<style scoped>\n",
       "    .dataframe tbody tr th:only-of-type {\n",
       "        vertical-align: middle;\n",
       "    }\n",
       "\n",
       "    .dataframe tbody tr th {\n",
       "        vertical-align: top;\n",
       "    }\n",
       "\n",
       "    .dataframe thead th {\n",
       "        text-align: right;\n",
       "    }\n",
       "</style>\n",
       "<table border=\"1\" class=\"dataframe\">\n",
       "  <thead>\n",
       "    <tr style=\"text-align: right;\">\n",
       "      <th></th>\n",
       "      <th>PassengerId</th>\n",
       "      <th>Survived</th>\n",
       "      <th>Pclass</th>\n",
       "      <th>Age</th>\n",
       "      <th>SibSp</th>\n",
       "      <th>Parch</th>\n",
       "      <th>Fare</th>\n",
       "      <th>Sex_female</th>\n",
       "      <th>Sex_male</th>\n",
       "      <th>Embarked_C</th>\n",
       "      <th>...</th>\n",
       "      <th>title_Master</th>\n",
       "      <th>title_Miss</th>\n",
       "      <th>title_Mlle</th>\n",
       "      <th>title_Mme</th>\n",
       "      <th>title_Mr</th>\n",
       "      <th>title_Mrs</th>\n",
       "      <th>title_Ms</th>\n",
       "      <th>title_Rev</th>\n",
       "      <th>title_Sir</th>\n",
       "      <th>title_the Countess</th>\n",
       "    </tr>\n",
       "  </thead>\n",
       "  <tbody>\n",
       "    <tr>\n",
       "      <th>0</th>\n",
       "      <td>1.0</td>\n",
       "      <td>0.0</td>\n",
       "      <td>3.0</td>\n",
       "      <td>22.000000</td>\n",
       "      <td>1.0</td>\n",
       "      <td>0.0</td>\n",
       "      <td>7.2500</td>\n",
       "      <td>0.0</td>\n",
       "      <td>1.0</td>\n",
       "      <td>0.0</td>\n",
       "      <td>...</td>\n",
       "      <td>0.0</td>\n",
       "      <td>0.0</td>\n",
       "      <td>0.0</td>\n",
       "      <td>0.0</td>\n",
       "      <td>1.0</td>\n",
       "      <td>0.0</td>\n",
       "      <td>0.0</td>\n",
       "      <td>0.0</td>\n",
       "      <td>0.0</td>\n",
       "      <td>0.0</td>\n",
       "    </tr>\n",
       "    <tr>\n",
       "      <th>1</th>\n",
       "      <td>2.0</td>\n",
       "      <td>1.0</td>\n",
       "      <td>1.0</td>\n",
       "      <td>38.000000</td>\n",
       "      <td>1.0</td>\n",
       "      <td>0.0</td>\n",
       "      <td>71.2833</td>\n",
       "      <td>1.0</td>\n",
       "      <td>0.0</td>\n",
       "      <td>1.0</td>\n",
       "      <td>...</td>\n",
       "      <td>0.0</td>\n",
       "      <td>0.0</td>\n",
       "      <td>0.0</td>\n",
       "      <td>0.0</td>\n",
       "      <td>0.0</td>\n",
       "      <td>1.0</td>\n",
       "      <td>0.0</td>\n",
       "      <td>0.0</td>\n",
       "      <td>0.0</td>\n",
       "      <td>0.0</td>\n",
       "    </tr>\n",
       "    <tr>\n",
       "      <th>2</th>\n",
       "      <td>3.0</td>\n",
       "      <td>1.0</td>\n",
       "      <td>3.0</td>\n",
       "      <td>26.000000</td>\n",
       "      <td>0.0</td>\n",
       "      <td>0.0</td>\n",
       "      <td>7.9250</td>\n",
       "      <td>1.0</td>\n",
       "      <td>0.0</td>\n",
       "      <td>0.0</td>\n",
       "      <td>...</td>\n",
       "      <td>0.0</td>\n",
       "      <td>1.0</td>\n",
       "      <td>0.0</td>\n",
       "      <td>0.0</td>\n",
       "      <td>0.0</td>\n",
       "      <td>0.0</td>\n",
       "      <td>0.0</td>\n",
       "      <td>0.0</td>\n",
       "      <td>0.0</td>\n",
       "      <td>0.0</td>\n",
       "    </tr>\n",
       "    <tr>\n",
       "      <th>3</th>\n",
       "      <td>4.0</td>\n",
       "      <td>1.0</td>\n",
       "      <td>1.0</td>\n",
       "      <td>35.000000</td>\n",
       "      <td>1.0</td>\n",
       "      <td>0.0</td>\n",
       "      <td>53.1000</td>\n",
       "      <td>1.0</td>\n",
       "      <td>0.0</td>\n",
       "      <td>0.0</td>\n",
       "      <td>...</td>\n",
       "      <td>0.0</td>\n",
       "      <td>0.0</td>\n",
       "      <td>0.0</td>\n",
       "      <td>0.0</td>\n",
       "      <td>0.0</td>\n",
       "      <td>1.0</td>\n",
       "      <td>0.0</td>\n",
       "      <td>0.0</td>\n",
       "      <td>0.0</td>\n",
       "      <td>0.0</td>\n",
       "    </tr>\n",
       "    <tr>\n",
       "      <th>4</th>\n",
       "      <td>5.0</td>\n",
       "      <td>0.0</td>\n",
       "      <td>3.0</td>\n",
       "      <td>35.000000</td>\n",
       "      <td>0.0</td>\n",
       "      <td>0.0</td>\n",
       "      <td>8.0500</td>\n",
       "      <td>0.0</td>\n",
       "      <td>1.0</td>\n",
       "      <td>0.0</td>\n",
       "      <td>...</td>\n",
       "      <td>0.0</td>\n",
       "      <td>0.0</td>\n",
       "      <td>0.0</td>\n",
       "      <td>0.0</td>\n",
       "      <td>1.0</td>\n",
       "      <td>0.0</td>\n",
       "      <td>0.0</td>\n",
       "      <td>0.0</td>\n",
       "      <td>0.0</td>\n",
       "      <td>0.0</td>\n",
       "    </tr>\n",
       "    <tr>\n",
       "      <th>5</th>\n",
       "      <td>6.0</td>\n",
       "      <td>0.0</td>\n",
       "      <td>3.0</td>\n",
       "      <td>29.642093</td>\n",
       "      <td>0.0</td>\n",
       "      <td>0.0</td>\n",
       "      <td>8.4583</td>\n",
       "      <td>0.0</td>\n",
       "      <td>1.0</td>\n",
       "      <td>0.0</td>\n",
       "      <td>...</td>\n",
       "      <td>0.0</td>\n",
       "      <td>0.0</td>\n",
       "      <td>0.0</td>\n",
       "      <td>0.0</td>\n",
       "      <td>1.0</td>\n",
       "      <td>0.0</td>\n",
       "      <td>0.0</td>\n",
       "      <td>0.0</td>\n",
       "      <td>0.0</td>\n",
       "      <td>0.0</td>\n",
       "    </tr>\n",
       "    <tr>\n",
       "      <th>6</th>\n",
       "      <td>7.0</td>\n",
       "      <td>0.0</td>\n",
       "      <td>1.0</td>\n",
       "      <td>54.000000</td>\n",
       "      <td>0.0</td>\n",
       "      <td>0.0</td>\n",
       "      <td>51.8625</td>\n",
       "      <td>0.0</td>\n",
       "      <td>1.0</td>\n",
       "      <td>0.0</td>\n",
       "      <td>...</td>\n",
       "      <td>0.0</td>\n",
       "      <td>0.0</td>\n",
       "      <td>0.0</td>\n",
       "      <td>0.0</td>\n",
       "      <td>1.0</td>\n",
       "      <td>0.0</td>\n",
       "      <td>0.0</td>\n",
       "      <td>0.0</td>\n",
       "      <td>0.0</td>\n",
       "      <td>0.0</td>\n",
       "    </tr>\n",
       "  </tbody>\n",
       "</table>\n",
       "<p>7 rows × 29 columns</p>\n",
       "</div>"
      ],
      "text/plain": [
       "   PassengerId  Survived  Pclass        Age  SibSp  Parch     Fare  \\\n",
       "0          1.0       0.0     3.0  22.000000    1.0    0.0   7.2500   \n",
       "1          2.0       1.0     1.0  38.000000    1.0    0.0  71.2833   \n",
       "2          3.0       1.0     3.0  26.000000    0.0    0.0   7.9250   \n",
       "3          4.0       1.0     1.0  35.000000    1.0    0.0  53.1000   \n",
       "4          5.0       0.0     3.0  35.000000    0.0    0.0   8.0500   \n",
       "5          6.0       0.0     3.0  29.642093    0.0    0.0   8.4583   \n",
       "6          7.0       0.0     1.0  54.000000    0.0    0.0  51.8625   \n",
       "\n",
       "   Sex_female  Sex_male  Embarked_C         ...          title_Master  \\\n",
       "0         0.0       1.0         0.0         ...                   0.0   \n",
       "1         1.0       0.0         1.0         ...                   0.0   \n",
       "2         1.0       0.0         0.0         ...                   0.0   \n",
       "3         1.0       0.0         0.0         ...                   0.0   \n",
       "4         0.0       1.0         0.0         ...                   0.0   \n",
       "5         0.0       1.0         0.0         ...                   0.0   \n",
       "6         0.0       1.0         0.0         ...                   0.0   \n",
       "\n",
       "   title_Miss  title_Mlle  title_Mme  title_Mr  title_Mrs  title_Ms  \\\n",
       "0         0.0         0.0        0.0       1.0        0.0       0.0   \n",
       "1         0.0         0.0        0.0       0.0        1.0       0.0   \n",
       "2         1.0         0.0        0.0       0.0        0.0       0.0   \n",
       "3         0.0         0.0        0.0       0.0        1.0       0.0   \n",
       "4         0.0         0.0        0.0       1.0        0.0       0.0   \n",
       "5         0.0         0.0        0.0       1.0        0.0       0.0   \n",
       "6         0.0         0.0        0.0       1.0        0.0       0.0   \n",
       "\n",
       "   title_Rev  title_Sir  title_the Countess  \n",
       "0        0.0        0.0                 0.0  \n",
       "1        0.0        0.0                 0.0  \n",
       "2        0.0        0.0                 0.0  \n",
       "3        0.0        0.0                 0.0  \n",
       "4        0.0        0.0                 0.0  \n",
       "5        0.0        0.0                 0.0  \n",
       "6        0.0        0.0                 0.0  \n",
       "\n",
       "[7 rows x 29 columns]"
      ]
     },
     "execution_count": 58,
     "metadata": {},
     "output_type": "execute_result"
    }
   ],
   "source": [
    "df_model.head(7)"
   ]
  },
  {
   "cell_type": "code",
   "execution_count": 59,
   "metadata": {},
   "outputs": [
    {
     "data": {
      "text/plain": [
       "0.8071748878923767"
      ]
     },
     "execution_count": 59,
     "metadata": {},
     "output_type": "execute_result"
    }
   ],
   "source": [
    "X_train, X_test, y_train, y_test = train_test_split(df_model.drop(\"Survived\",1),df_model.Survived, random_state = 42)\n",
    "sc = StandardScaler()\n",
    "X_train = sc.fit_transform(X_train)\n",
    "X_test = sc.transform(X_test)\n",
    "\n",
    "rfc = RandomForestClassifier()\n",
    "\n",
    "model=rfc.fit(X_train,y_train)\n",
    "pred_rfc = rfc.predict(X_test)\n",
    "pred_rfc_train = rfc.predict(X_train)\n",
    "model.score(X_test,y_test)"
   ]
  },
  {
   "cell_type": "code",
   "execution_count": 60,
   "metadata": {},
   "outputs": [
    {
     "data": {
      "text/plain": [
       "<matplotlib.axes._subplots.AxesSubplot at 0x7fb6979ec588>"
      ]
     },
     "execution_count": 60,
     "metadata": {},
     "output_type": "execute_result"
    },
    {
     "data": {
      "image/png": "[encoded data removed]",
      "text/plain": [
       "<Figure size 432x288 with 1 Axes>"
      ]
     },
     "metadata": {},
     "output_type": "display_data"
    }
   ],
   "source": [
    "sns.set(style=\"darkgrid\")\n",
    "data = confusion_matrix(y_test,pred_rfc)\n",
    "sns.heatmap(data,annot = True, fmt='g', cbar=False)"
   ]
  },
  {
   "cell_type": "code",
   "execution_count": 61,
   "metadata": {},
   "outputs": [],
   "source": [
    "df_model = make_model_df(['Name','Ticket','known_age'])\n",
    "df_model.Age.where(df_model.Age>0,np.NaN,inplace=True) "
   ]
  },
  {
   "cell_type": "code",
   "execution_count": 62,
   "metadata": {},
   "outputs": [],
   "source": [
    "from fancyimpute import IterativeImputer"
   ]
  },
  {
   "cell_type": "code",
   "execution_count": 63,
   "metadata": {},
   "outputs": [],
   "source": [
    "def impute_data(df):\n",
    "    fill = IterativeImputer(min_value=df.Age.min(),\n",
    "                            max_value=df.Age.max(), \n",
    "                            sample_posterior=True,\n",
    "                            random_state=42)\n",
    "    filled = fill.fit_transform(df)\n",
    "    df = pd.DataFrame(filled, columns=df.columns.values)\n",
    "    #df_model.head(7)\n",
    "    return df"
   ]
  },
  {
   "cell_type": "code",
   "execution_count": 64,
   "metadata": {},
   "outputs": [],
   "source": [
    "df_0 = impute_data(df_model)\n",
    "df_1 = impute_data(df_model)\n",
    "df_2 = impute_data(df_model)\n",
    "df_3 = impute_data(df_model)\n",
    "df_4 = impute_data(df_model)\n",
    "df_5 = impute_data(df_model)\n",
    "df_6 = impute_data(df_model)\n",
    "df_7 = impute_data(df_model)\n",
    "df_8 = impute_data(df_model)\n",
    "df_9 = impute_data(df_model)"
   ]
  },
  {
   "cell_type": "code",
   "execution_count": 65,
   "metadata": {},
   "outputs": [],
   "source": [
    "def s_scale(df):\n",
    "    X_train, X_test, y_train, y_test = train_test_split(df.drop(\"Survived\",1),\n",
    "                                                        df.Survived, \n",
    "                                                        random_state = 42)\n",
    "    sc = StandardScaler()\n",
    "    X_train = sc.fit_transform(X_train)\n",
    "    X_test = sc.transform(X_test)\n",
    "    return X_train, X_test, y_train, y_test"
   ]
  },
  {
   "cell_type": "code",
   "execution_count": 66,
   "metadata": {},
   "outputs": [],
   "source": [
    "pred_rfc = []"
   ]
  },
  {
   "cell_type": "code",
   "execution_count": 67,
   "metadata": {},
   "outputs": [
    {
     "data": {
      "text/plain": [
       "0.7757847533632287"
      ]
     },
     "execution_count": 67,
     "metadata": {},
     "output_type": "execute_result"
    }
   ],
   "source": [
    "X_train, X_test, y_train, y_test = s_scale(df_0)\n",
    "rfc0 = RandomForestClassifier()\n",
    "model0=rfc0.fit(X_train,y_train)\n",
    "pred_rfc.append(rfc0.predict(X_test))\n",
    "model0.score(X_test,y_test)"
   ]
  },
  {
   "cell_type": "code",
   "execution_count": 68,
   "metadata": {},
   "outputs": [
    {
     "data": {
      "text/plain": [
       "0.7623318385650224"
      ]
     },
     "execution_count": 68,
     "metadata": {},
     "output_type": "execute_result"
    }
   ],
   "source": [
    "X_train, X_test, y_train, y_test = s_scale(df_1)\n",
    "rfc1 = RandomForestClassifier()\n",
    "model1=rfc1.fit(X_train,y_train)\n",
    "pred_rfc.append(rfc1.predict(X_test))\n",
    "model1.score(X_test,y_test)"
   ]
  },
  {
   "cell_type": "code",
   "execution_count": 69,
   "metadata": {},
   "outputs": [
    {
     "data": {
      "text/plain": [
       "0.7847533632286996"
      ]
     },
     "execution_count": 69,
     "metadata": {},
     "output_type": "execute_result"
    }
   ],
   "source": [
    "X_train, X_test, y_train, y_test = s_scale(df_2)\n",
    "rfc2 = RandomForestClassifier()\n",
    "model2=rfc2.fit(X_train,y_train)\n",
    "pred_rfc.append(rfc2.predict(X_test))\n",
    "model2.score(X_test,y_test)"
   ]
  },
  {
   "cell_type": "code",
   "execution_count": 70,
   "metadata": {},
   "outputs": [
    {
     "data": {
      "text/plain": [
       "0.7937219730941704"
      ]
     },
     "execution_count": 70,
     "metadata": {},
     "output_type": "execute_result"
    }
   ],
   "source": [
    "X_train, X_test, y_train, y_test = s_scale(df_3)\n",
    "rfc3 = RandomForestClassifier()\n",
    "model3=rfc3.fit(X_train,y_train)\n",
    "pred_rfc.append(rfc3.predict(X_test))\n",
    "model3.score(X_test,y_test)"
   ]
  },
  {
   "cell_type": "code",
   "execution_count": 71,
   "metadata": {},
   "outputs": [
    {
     "data": {
      "text/plain": [
       "0.7847533632286996"
      ]
     },
     "execution_count": 71,
     "metadata": {},
     "output_type": "execute_result"
    }
   ],
   "source": [
    "X_train, X_test, y_train, y_test = s_scale(df_4)\n",
    "rfc4 = RandomForestClassifier()\n",
    "model4=rfc4.fit(X_train,y_train)\n",
    "pred_rfc.append(rfc4.predict(X_test))\n",
    "model4.score(X_test,y_test)"
   ]
  },
  {
   "cell_type": "code",
   "execution_count": 72,
   "metadata": {},
   "outputs": [
    {
     "data": {
      "text/plain": [
       "0.7802690582959642"
      ]
     },
     "execution_count": 72,
     "metadata": {},
     "output_type": "execute_result"
    }
   ],
   "source": [
    "X_train, X_test, y_train, y_test = s_scale(df_5)\n",
    "rfc5 = RandomForestClassifier()\n",
    "model5=rfc5.fit(X_train,y_train)\n",
    "pred_rfc.append(rfc5.predict(X_test))\n",
    "model5.score(X_test,y_test)"
   ]
  },
  {
   "cell_type": "code",
   "execution_count": 73,
   "metadata": {},
   "outputs": [
    {
     "data": {
      "text/plain": [
       "0.7937219730941704"
      ]
     },
     "execution_count": 73,
     "metadata": {},
     "output_type": "execute_result"
    }
   ],
   "source": [
    "X_train, X_test, y_train, y_test = s_scale(df_6)\n",
    "rfc6 = RandomForestClassifier()\n",
    "model6=rfc6.fit(X_train,y_train)\n",
    "pred_rfc.append(rfc6.predict(X_test))\n",
    "model6.score(X_test,y_test)"
   ]
  },
  {
   "cell_type": "code",
   "execution_count": 74,
   "metadata": {},
   "outputs": [
    {
     "data": {
      "text/plain": [
       "0.8071748878923767"
      ]
     },
     "execution_count": 74,
     "metadata": {},
     "output_type": "execute_result"
    }
   ],
   "source": [
    "X_train, X_test, y_train, y_test = s_scale(df_7)\n",
    "rfc7 = RandomForestClassifier()\n",
    "model7=rfc7.fit(X_train,y_train)\n",
    "pred_rfc.append(rfc7.predict(X_test))\n",
    "model7.score(X_test,y_test)"
   ]
  },
  {
   "cell_type": "code",
   "execution_count": 75,
   "metadata": {},
   "outputs": [
    {
     "data": {
      "text/plain": [
       "0.8026905829596412"
      ]
     },
     "execution_count": 75,
     "metadata": {},
     "output_type": "execute_result"
    }
   ],
   "source": [
    "X_train, X_test, y_train, y_test = s_scale(df_8)\n",
    "rfc8 = RandomForestClassifier()\n",
    "model8=rfc8.fit(X_train,y_train)\n",
    "pred_rfc.append(rfc8.predict(X_test))\n",
    "model8.score(X_test,y_test)"
   ]
  },
  {
   "cell_type": "code",
   "execution_count": 76,
   "metadata": {},
   "outputs": [
    {
     "data": {
      "text/plain": [
       "0.7623318385650224"
      ]
     },
     "execution_count": 76,
     "metadata": {},
     "output_type": "execute_result"
    }
   ],
   "source": [
    "X_train, X_test, y_train, y_test = s_scale(df_9)\n",
    "rfc9 = RandomForestClassifier()\n",
    "model9=rfc9.fit(X_train,y_train)\n",
    "pred_rfc.append(rfc9.predict(X_test))\n",
    "model9.score(X_test,y_test)"
   ]
  },
  {
   "cell_type": "code",
   "execution_count": 77,
   "metadata": {},
   "outputs": [
    {
     "data": {
      "text/plain": [
       "[array([0., 1., 1., 0., 1., 0., 0., 0., 1., 1., 0., 1., 0., 0., 0., 0., 1.,\n",
       "        0., 0., 0., 0., 1., 0., 0., 0., 0., 0., 1., 0., 0., 1., 1., 0., 0.,\n",
       "        0., 0., 1., 1., 0., 0., 0., 1., 0., 0., 1., 0., 1., 0., 0., 1., 1.,\n",
       "        1., 0., 0., 1., 1., 0., 0., 1., 0., 0., 1., 1., 1., 1., 0., 0., 0.,\n",
       "        1., 1., 0., 1., 1., 0., 0., 1., 0., 0., 1., 1., 0., 1., 1., 0., 0.,\n",
       "        0., 0., 0., 0., 1., 0., 0., 0., 0., 0., 1., 0., 0., 1., 0., 0., 1.,\n",
       "        0., 0., 0., 0., 0., 1., 0., 0., 0., 0., 0., 1., 0., 0., 0., 0., 0.,\n",
       "        0., 1., 1., 0., 0., 1., 1., 0., 1., 1., 1., 1., 0., 0., 0., 0., 1.,\n",
       "        0., 1., 1., 1., 1., 0., 1., 0., 1., 0., 0., 1., 0., 1., 0., 1., 0.,\n",
       "        1., 0., 1., 1., 1., 0., 1., 0., 1., 0., 0., 0., 1., 1., 0., 0., 1.,\n",
       "        1., 1., 1., 0., 1., 0., 0., 1., 1., 1., 0., 0., 0., 0., 0., 0., 0.,\n",
       "        0., 0., 0., 0., 0., 0., 0., 0., 0., 0., 1., 0., 0., 0., 0., 0., 0.,\n",
       "        0., 0., 0., 0., 1., 0., 0., 1., 0., 1., 0., 0., 1., 0., 0., 0., 0.,\n",
       "        1., 1.]),\n",
       " array([0., 1., 0., 0., 1., 0., 0., 0., 1., 1., 0., 0., 0., 0., 0., 0., 0.,\n",
       "        0., 0., 0., 0., 1., 0., 0., 0., 1., 0., 1., 0., 0., 0., 1., 0., 0.,\n",
       "        0., 0., 1., 0., 0., 0., 0., 0., 0., 0., 1., 0., 1., 0., 0., 1., 1.,\n",
       "        1., 0., 0., 1., 1., 1., 0., 1., 0., 0., 1., 1., 1., 1., 0., 0., 1.,\n",
       "        1., 1., 0., 1., 1., 0., 0., 1., 0., 0., 1., 1., 0., 1., 1., 0., 0.,\n",
       "        0., 0., 0., 0., 1., 0., 0., 0., 0., 1., 0., 1., 0., 1., 0., 0., 1.,\n",
       "        0., 0., 0., 0., 0., 1., 0., 0., 0., 0., 0., 1., 0., 0., 0., 0., 0.,\n",
       "        0., 1., 1., 0., 0., 1., 1., 0., 1., 1., 0., 1., 0., 0., 0., 0., 1.,\n",
       "        0., 1., 0., 1., 1., 0., 1., 0., 1., 0., 0., 1., 0., 1., 0., 1., 0.,\n",
       "        1., 0., 1., 0., 1., 0., 1., 0., 1., 0., 0., 0., 1., 1., 0., 0., 1.,\n",
       "        1., 1., 1., 0., 1., 0., 0., 1., 1., 1., 0., 0., 0., 0., 0., 0., 0.,\n",
       "        0., 0., 0., 0., 0., 1., 0., 0., 0., 0., 1., 0., 0., 0., 0., 0., 0.,\n",
       "        0., 0., 0., 0., 1., 0., 0., 1., 0., 1., 1., 0., 1., 0., 0., 0., 0.,\n",
       "        1., 1.]),\n",
       " array([0., 1., 1., 0., 1., 0., 0., 0., 1., 1., 0., 0., 0., 0., 0., 0., 0.,\n",
       "        0., 0., 0., 0., 1., 0., 0., 0., 0., 0., 1., 0., 0., 0., 1., 0., 0.,\n",
       "        0., 0., 1., 0., 0., 0., 0., 0., 0., 0., 1., 0., 1., 0., 0., 1., 1.,\n",
       "        1., 0., 0., 1., 1., 1., 0., 0., 0., 0., 1., 1., 1., 1., 0., 0., 0.,\n",
       "        1., 1., 0., 1., 1., 0., 0., 1., 0., 0., 1., 1., 0., 1., 1., 1., 0.,\n",
       "        0., 0., 0., 0., 0., 0., 1., 0., 0., 1., 0., 0., 0., 1., 0., 0., 1.,\n",
       "        0., 0., 0., 0., 0., 1., 0., 0., 0., 0., 0., 1., 0., 0., 1., 0., 1.,\n",
       "        0., 1., 1., 0., 0., 1., 1., 0., 1., 1., 1., 1., 0., 0., 0., 0., 1.,\n",
       "        0., 1., 0., 1., 1., 0., 1., 0., 1., 0., 1., 1., 0., 1., 0., 1., 0.,\n",
       "        1., 0., 1., 0., 1., 0., 1., 0., 1., 0., 0., 0., 1., 1., 0., 0., 1.,\n",
       "        1., 1., 1., 0., 1., 0., 0., 1., 1., 1., 0., 0., 0., 0., 0., 0., 0.,\n",
       "        0., 0., 0., 0., 0., 1., 0., 0., 0., 0., 1., 0., 0., 0., 0., 0., 0.,\n",
       "        0., 0., 0., 0., 1., 0., 0., 1., 0., 1., 0., 0., 1., 0., 0., 0., 0.,\n",
       "        1., 1.]),\n",
       " array([0., 1., 1., 0., 1., 0., 0., 0., 1., 1., 0., 1., 0., 0., 0., 0., 0.,\n",
       "        0., 0., 0., 0., 1., 0., 0., 0., 0., 0., 1., 0., 0., 0., 1., 0., 1.,\n",
       "        0., 0., 1., 0., 0., 0., 0., 0., 0., 0., 1., 0., 1., 0., 0., 1., 1.,\n",
       "        1., 1., 0., 1., 1., 1., 0., 0., 0., 0., 1., 1., 0., 1., 0., 0., 0.,\n",
       "        1., 1., 0., 1., 1., 0., 0., 1., 0., 0., 1., 1., 0., 1., 1., 0., 0.,\n",
       "        0., 0., 0., 0., 1., 0., 0., 0., 0., 1., 1., 0., 0., 1., 0., 0., 1.,\n",
       "        0., 0., 0., 0., 0., 1., 0., 0., 0., 0., 0., 1., 0., 0., 0., 0., 1.,\n",
       "        0., 1., 1., 0., 0., 1., 1., 0., 1., 1., 0., 1., 0., 0., 0., 0., 1.,\n",
       "        0., 1., 1., 1., 1., 0., 1., 0., 1., 0., 0., 1., 0., 1., 0., 1., 0.,\n",
       "        1., 0., 1., 0., 1., 0., 1., 0., 1., 0., 0., 0., 1., 1., 0., 0., 1.,\n",
       "        1., 1., 1., 0., 1., 0., 0., 1., 1., 1., 0., 0., 0., 0., 0., 0., 0.,\n",
       "        0., 0., 0., 0., 0., 1., 0., 0., 0., 0., 1., 0., 0., 0., 0., 0., 0.,\n",
       "        0., 1., 0., 0., 1., 1., 0., 1., 0., 1., 0., 0., 1., 0., 0., 0., 0.,\n",
       "        1., 1.]),\n",
       " array([0., 1., 1., 0., 1., 0., 0., 0., 1., 1., 0., 0., 0., 0., 0., 0., 0.,\n",
       "        0., 0., 0., 0., 1., 0., 0., 0., 1., 1., 1., 0., 0., 0., 1., 0., 0.,\n",
       "        0., 0., 1., 1., 0., 0., 0., 0., 0., 0., 1., 0., 1., 0., 0., 1., 1.,\n",
       "        1., 0., 0., 1., 1., 1., 0., 0., 0., 0., 1., 1., 1., 1., 0., 0., 1.,\n",
       "        1., 1., 0., 1., 1., 0., 0., 1., 0., 0., 1., 1., 0., 1., 1., 0., 0.,\n",
       "        0., 0., 0., 0., 0., 0., 0., 0., 0., 1., 1., 0., 0., 1., 0., 0., 1.,\n",
       "        0., 0., 0., 0., 0., 1., 0., 0., 0., 0., 0., 1., 0., 0., 0., 0., 0.,\n",
       "        0., 1., 1., 0., 0., 1., 1., 0., 1., 0., 0., 1., 0., 0., 0., 0., 1.,\n",
       "        0., 1., 0., 1., 1., 0., 1., 0., 1., 0., 0., 1., 0., 1., 0., 1., 0.,\n",
       "        1., 0., 1., 0., 1., 0., 1., 0., 1., 0., 0., 0., 1., 1., 0., 0., 1.,\n",
       "        1., 1., 1., 0., 1., 0., 0., 1., 1., 1., 0., 0., 0., 0., 0., 0., 0.,\n",
       "        0., 0., 0., 0., 0., 1., 0., 0., 0., 0., 1., 0., 0., 0., 0., 0., 0.,\n",
       "        0., 0., 0., 0., 1., 0., 0., 1., 0., 1., 0., 0., 1., 0., 0., 0., 0.,\n",
       "        1., 1.]),\n",
       " array([0., 1., 1., 0., 1., 0., 0., 0., 1., 1., 0., 0., 0., 0., 0., 0., 0.,\n",
       "        0., 0., 0., 0., 1., 0., 0., 0., 0., 0., 1., 0., 0., 0., 1., 0., 1.,\n",
       "        0., 0., 1., 0., 1., 0., 0., 0., 0., 0., 1., 0., 1., 0., 0., 1., 1.,\n",
       "        1., 0., 0., 1., 1., 1., 0., 0., 0., 0., 1., 1., 1., 1., 0., 0., 1.,\n",
       "        1., 1., 0., 1., 1., 0., 1., 1., 0., 0., 1., 0., 0., 1., 1., 1., 0.,\n",
       "        0., 0., 0., 0., 1., 0., 0., 0., 0., 1., 1., 0., 0., 1., 0., 0., 1.,\n",
       "        0., 0., 0., 0., 1., 1., 0., 0., 0., 0., 0., 1., 0., 0., 0., 0., 0.,\n",
       "        0., 1., 1., 0., 0., 1., 1., 0., 1., 1., 0., 1., 0., 0., 0., 0., 1.,\n",
       "        0., 1., 0., 1., 1., 0., 1., 0., 1., 0., 0., 1., 0., 1., 0., 1., 0.,\n",
       "        1., 0., 1., 0., 0., 0., 1., 0., 1., 0., 0., 0., 1., 1., 0., 0., 1.,\n",
       "        1., 1., 1., 0., 1., 0., 0., 0., 1., 1., 0., 0., 0., 0., 0., 0., 0.,\n",
       "        0., 0., 0., 0., 0., 1., 0., 0., 0., 0., 1., 0., 0., 0., 0., 0., 0.,\n",
       "        0., 0., 0., 1., 1., 1., 0., 1., 0., 1., 1., 0., 1., 0., 0., 0., 1.,\n",
       "        1., 1.]),\n",
       " array([0., 1., 1., 0., 1., 0., 0., 0., 1., 1., 0., 0., 0., 0., 0., 0., 0.,\n",
       "        0., 0., 0., 0., 1., 0., 0., 0., 0., 0., 1., 0., 0., 0., 1., 0., 0.,\n",
       "        0., 0., 1., 1., 0., 0., 0., 0., 0., 0., 1., 0., 1., 0., 0., 1., 1.,\n",
       "        1., 1., 0., 1., 1., 1., 0., 0., 0., 0., 0., 1., 1., 1., 0., 0., 1.,\n",
       "        1., 1., 0., 1., 1., 0., 0., 1., 0., 0., 1., 1., 0., 1., 1., 0., 0.,\n",
       "        0., 0., 0., 0., 1., 0., 0., 0., 0., 1., 1., 0., 0., 1., 0., 0., 1.,\n",
       "        0., 0., 0., 0., 0., 1., 0., 0., 0., 0., 0., 1., 0., 0., 0., 0., 0.,\n",
       "        0., 1., 1., 0., 0., 1., 1., 0., 1., 1., 0., 1., 0., 0., 0., 0., 1.,\n",
       "        0., 1., 0., 1., 1., 0., 1., 0., 1., 0., 0., 1., 0., 1., 0., 1., 0.,\n",
       "        1., 0., 1., 0., 1., 0., 1., 0., 1., 0., 0., 0., 0., 1., 0., 0., 1.,\n",
       "        1., 1., 1., 0., 1., 0., 0., 1., 1., 1., 0., 0., 0., 0., 0., 0., 0.,\n",
       "        0., 0., 0., 0., 0., 1., 0., 0., 0., 0., 1., 0., 0., 0., 0., 0., 0.,\n",
       "        0., 0., 0., 0., 1., 1., 0., 1., 0., 1., 0., 0., 1., 0., 0., 0., 0.,\n",
       "        1., 1.]),\n",
       " array([0., 1., 1., 0., 1., 0., 0., 0., 1., 1., 0., 0., 0., 0., 0., 0., 0.,\n",
       "        0., 0., 0., 0., 1., 0., 0., 0., 0., 0., 1., 0., 0., 0., 1., 0., 0.,\n",
       "        0., 0., 1., 0., 0., 0., 0., 0., 0., 0., 1., 0., 1., 0., 0., 1., 1.,\n",
       "        1., 0., 0., 1., 1., 1., 0., 0., 0., 0., 0., 1., 0., 1., 0., 0., 1.,\n",
       "        1., 1., 0., 1., 1., 0., 1., 1., 0., 0., 1., 1., 0., 1., 1., 0., 0.,\n",
       "        0., 0., 0., 0., 0., 0., 0., 0., 0., 1., 1., 0., 0., 1., 0., 0., 1.,\n",
       "        0., 0., 0., 0., 0., 1., 0., 0., 0., 0., 0., 1., 0., 0., 0., 0., 0.,\n",
       "        0., 1., 1., 0., 0., 1., 1., 0., 1., 1., 0., 1., 0., 0., 0., 0., 1.,\n",
       "        0., 1., 0., 1., 1., 0., 1., 0., 1., 0., 0., 1., 0., 1., 0., 1., 0.,\n",
       "        1., 0., 1., 0., 0., 0., 1., 0., 1., 0., 0., 0., 0., 1., 0., 0., 1.,\n",
       "        1., 1., 1., 0., 1., 0., 0., 1., 1., 1., 0., 0., 0., 0., 0., 0., 0.,\n",
       "        0., 0., 0., 0., 0., 1., 0., 0., 0., 0., 1., 0., 0., 0., 0., 0., 0.,\n",
       "        0., 0., 0., 0., 1., 0., 0., 1., 0., 1., 0., 0., 1., 0., 0., 0., 0.,\n",
       "        1., 1.]),\n",
       " array([0., 1., 1., 0., 1., 0., 0., 0., 1., 1., 0., 1., 0., 0., 0., 0., 0.,\n",
       "        0., 0., 0., 0., 1., 0., 0., 0., 0., 0., 1., 0., 0., 0., 1., 0., 1.,\n",
       "        0., 0., 1., 0., 0., 0., 0., 0., 0., 0., 1., 0., 1., 0., 0., 1., 1.,\n",
       "        1., 1., 0., 1., 1., 1., 0., 0., 0., 0., 0., 1., 1., 1., 0., 0., 0.,\n",
       "        1., 1., 0., 1., 1., 0., 1., 1., 0., 0., 1., 1., 0., 1., 1., 1., 0.,\n",
       "        0., 0., 0., 0., 1., 0., 0., 0., 0., 1., 0., 0., 0., 1., 0., 0., 1.,\n",
       "        0., 0., 0., 0., 0., 1., 0., 0., 0., 0., 0., 1., 0., 0., 0., 0., 0.,\n",
       "        0., 1., 1., 0., 0., 1., 1., 0., 1., 1., 1., 1., 0., 0., 0., 0., 1.,\n",
       "        0., 1., 0., 1., 1., 0., 1., 0., 1., 0., 0., 1., 0., 1., 0., 1., 0.,\n",
       "        1., 0., 1., 0., 1., 0., 1., 0., 1., 0., 0., 0., 0., 1., 0., 0., 1.,\n",
       "        1., 1., 1., 0., 1., 0., 0., 1., 1., 1., 0., 0., 0., 0., 0., 0., 0.,\n",
       "        0., 0., 0., 0., 0., 1., 0., 0., 0., 0., 1., 0., 0., 0., 0., 0., 0.,\n",
       "        0., 1., 0., 0., 1., 1., 0., 1., 0., 1., 1., 0., 1., 0., 0., 0., 0.,\n",
       "        1., 1.]),\n",
       " array([0., 1., 1., 0., 1., 0., 0., 0., 1., 1., 0., 1., 0., 0., 0., 0., 1.,\n",
       "        0., 0., 0., 0., 1., 0., 0., 0., 0., 0., 1., 0., 0., 0., 1., 0., 1.,\n",
       "        0., 0., 1., 0., 0., 0., 0., 0., 0., 0., 0., 0., 1., 0., 0., 1., 1.,\n",
       "        1., 1., 0., 1., 1., 1., 0., 0., 0., 0., 1., 1., 1., 1., 0., 0., 1.,\n",
       "        1., 1., 0., 1., 1., 0., 0., 1., 0., 0., 1., 1., 0., 1., 1., 1., 0.,\n",
       "        0., 0., 0., 0., 0., 0., 0., 0., 0., 1., 1., 0., 0., 1., 0., 0., 1.,\n",
       "        0., 0., 0., 0., 0., 1., 0., 0., 0., 0., 0., 1., 0., 0., 0., 0., 0.,\n",
       "        0., 1., 1., 0., 0., 1., 1., 0., 1., 1., 1., 1., 0., 0., 0., 0., 1.,\n",
       "        0., 1., 1., 1., 1., 0., 1., 0., 1., 0., 0., 1., 0., 1., 0., 1., 0.,\n",
       "        1., 0., 1., 0., 1., 0., 1., 0., 1., 0., 0., 0., 1., 1., 0., 0., 1.,\n",
       "        1., 1., 1., 0., 1., 0., 0., 1., 1., 1., 0., 0., 0., 1., 0., 0., 0.,\n",
       "        0., 0., 0., 0., 0., 1., 0., 0., 0., 0., 1., 0., 0., 0., 0., 0., 0.,\n",
       "        0., 0., 0., 0., 1., 0., 0., 1., 0., 1., 0., 0., 1., 0., 0., 0., 0.,\n",
       "        1., 1.])]"
      ]
     },
     "execution_count": 77,
     "metadata": {},
     "output_type": "execute_result"
    }
   ],
   "source": [
    "pred_rfc"
   ]
  },
  {
   "cell_type": "code",
   "execution_count": 78,
   "metadata": {},
   "outputs": [
    {
     "data": {
      "text/plain": [
       "0"
      ]
     },
     "execution_count": 78,
     "metadata": {},
     "output_type": "execute_result"
    }
   ],
   "source": [
    "np.random.randint(0,2)"
   ]
  },
  {
   "cell_type": "code",
   "execution_count": 79,
   "metadata": {},
   "outputs": [],
   "source": [
    "preds=[]\n",
    "for i in range(len(pred_rfc[0])):\n",
    "    #print(i)\n",
    "    new_pred=0\n",
    "    for j in range(len(pred_rfc)):\n",
    "        new_pred +=pred_rfc[j][i]\n",
    "    if new_pred>5:\n",
    "        preds.append(1)\n",
    "    elif new_pred<5:\n",
    "        preds.append(0)\n",
    "    else:\n",
    "        preds.append(np.random.randint(0,2))\n",
    "preds = np.array(preds)"
   ]
  },
  {
   "cell_type": "code",
   "execution_count": 80,
   "metadata": {},
   "outputs": [
    {
     "data": {
      "text/plain": [
       "array([0, 1, 1, 0, 1, 0, 0, 0, 1, 1, 0, 0, 0, 0, 0, 0, 0, 0, 0, 0, 0, 1,\n",
       "       0, 0, 0, 0, 0, 1, 0, 0, 0, 1, 0, 0, 0, 0, 1, 0, 0, 0, 0, 0, 0, 0,\n",
       "       1, 0, 1, 0, 0, 1, 1, 1, 0, 0, 1, 1, 1, 0, 0, 0, 0, 1, 1, 1, 1, 0,\n",
       "       0, 1, 1, 1, 0, 1, 1, 0, 0, 1, 0, 0, 1, 1, 0, 1, 1, 0, 0, 0, 0, 0,\n",
       "       0, 1, 0, 0, 0, 0, 1, 1, 0, 0, 1, 0, 0, 1, 0, 0, 0, 0, 0, 1, 0, 0,\n",
       "       0, 0, 0, 1, 0, 0, 0, 0, 0, 0, 1, 1, 0, 0, 1, 1, 0, 1, 1, 0, 1, 0,\n",
       "       0, 0, 0, 1, 0, 1, 0, 1, 1, 0, 1, 0, 1, 0, 0, 1, 0, 1, 0, 1, 0, 1,\n",
       "       0, 1, 0, 1, 0, 1, 0, 1, 0, 0, 0, 1, 1, 0, 0, 1, 1, 1, 1, 0, 1, 0,\n",
       "       0, 1, 1, 1, 0, 0, 0, 0, 0, 0, 0, 0, 0, 0, 0, 0, 1, 0, 0, 0, 0, 1,\n",
       "       0, 0, 0, 0, 0, 0, 0, 0, 0, 0, 1, 0, 0, 1, 0, 1, 0, 0, 1, 0, 0, 0,\n",
       "       0, 1, 1])"
      ]
     },
     "execution_count": 80,
     "metadata": {},
     "output_type": "execute_result"
    }
   ],
   "source": [
    "preds"
   ]
  },
  {
   "cell_type": "code",
   "execution_count": 81,
   "metadata": {},
   "outputs": [
    {
     "data": {
      "text/plain": [
       "<matplotlib.axes._subplots.AxesSubplot at 0x7fb6979d1dd8>"
      ]
     },
     "execution_count": 81,
     "metadata": {},
     "output_type": "execute_result"
    },
    {
     "data": {
      "image/png": "[encoded data removed]",
      "text/plain": [
       "<Figure size 432x288 with 1 Axes>"
      ]
     },
     "metadata": {},
     "output_type": "display_data"
    }
   ],
   "source": [
    "sns.set(style=\"darkgrid\")\n",
    "data = confusion_matrix(y_test,preds)\n",
    "sns.heatmap(data,annot = True, fmt='g', cbar=False)"
   ]
  },
  {
   "cell_type": "code",
   "execution_count": 82,
   "metadata": {},
   "outputs": [],
   "source": [
    "df_model = make_model_df(['Name','Ticket','known_age'])\n",
    "df_model.Age.where(df_model.Age>0,np.NaN,inplace=True) "
   ]
  },
  {
   "cell_type": "code",
   "execution_count": 83,
   "metadata": {},
   "outputs": [],
   "source": [
    "from fancyimpute import SoftImpute"
   ]
  },
  {
   "cell_type": "code",
   "execution_count": 84,
   "metadata": {},
   "outputs": [
    {
     "name": "stdout",
     "output_type": "stream",
     "text": [
      "[SoftImpute] Max Singular Value of X_init = 15381.554173\n",
      "[SoftImpute] Iter 1: observed MAE=0.913454 rank=3\n",
      "[SoftImpute] Iter 2: observed MAE=0.926779 rank=3\n",
      "[SoftImpute] Iter 3: observed MAE=0.932875 rank=3\n",
      "[SoftImpute] Iter 4: observed MAE=0.935271 rank=3\n",
      "[SoftImpute] Iter 5: observed MAE=0.936062 rank=3\n",
      "[SoftImpute] Iter 6: observed MAE=0.936320 rank=3\n",
      "[SoftImpute] Iter 7: observed MAE=0.936405 rank=3\n",
      "[SoftImpute] Iter 8: observed MAE=0.936436 rank=3\n",
      "[SoftImpute] Iter 9: observed MAE=0.936449 rank=3\n",
      "[SoftImpute] Iter 10: observed MAE=0.936455 rank=3\n",
      "[SoftImpute] Iter 11: observed MAE=0.936458 rank=3\n",
      "[SoftImpute] Stopped after iteration 11 for lambda=307.631083\n"
     ]
    },
    {
     "data": {
      "text/html": [
       "<div>\n",
       "<style scoped>\n",
       "    .dataframe tbody tr th:only-of-type {\n",
       "        vertical-align: middle;\n",
       "    }\n",
       "\n",
       "    .dataframe tbody tr th {\n",
       "        vertical-align: top;\n",
       "    }\n",
       "\n",
       "    .dataframe thead th {\n",
       "        text-align: right;\n",
       "    }\n",
       "</style>\n",
       "<table border=\"1\" class=\"dataframe\">\n",
       "  <thead>\n",
       "    <tr style=\"text-align: right;\">\n",
       "      <th></th>\n",
       "      <th>PassengerId</th>\n",
       "      <th>Survived</th>\n",
       "      <th>Pclass</th>\n",
       "      <th>Age</th>\n",
       "      <th>SibSp</th>\n",
       "      <th>Parch</th>\n",
       "      <th>Fare</th>\n",
       "      <th>Sex_female</th>\n",
       "      <th>Sex_male</th>\n",
       "      <th>Embarked_C</th>\n",
       "      <th>...</th>\n",
       "      <th>title_Master</th>\n",
       "      <th>title_Miss</th>\n",
       "      <th>title_Mlle</th>\n",
       "      <th>title_Mme</th>\n",
       "      <th>title_Mr</th>\n",
       "      <th>title_Mrs</th>\n",
       "      <th>title_Ms</th>\n",
       "      <th>title_Rev</th>\n",
       "      <th>title_Sir</th>\n",
       "      <th>title_the Countess</th>\n",
       "    </tr>\n",
       "  </thead>\n",
       "  <tbody>\n",
       "    <tr>\n",
       "      <th>0</th>\n",
       "      <td>1.0</td>\n",
       "      <td>0.0</td>\n",
       "      <td>3.0</td>\n",
       "      <td>22.000000</td>\n",
       "      <td>1.0</td>\n",
       "      <td>0.0</td>\n",
       "      <td>7.2500</td>\n",
       "      <td>0.0</td>\n",
       "      <td>1.0</td>\n",
       "      <td>0.0</td>\n",
       "      <td>...</td>\n",
       "      <td>0.0</td>\n",
       "      <td>0.0</td>\n",
       "      <td>0.0</td>\n",
       "      <td>0.0</td>\n",
       "      <td>1.0</td>\n",
       "      <td>0.0</td>\n",
       "      <td>0.0</td>\n",
       "      <td>0.0</td>\n",
       "      <td>0.0</td>\n",
       "      <td>0.0</td>\n",
       "    </tr>\n",
       "    <tr>\n",
       "      <th>1</th>\n",
       "      <td>2.0</td>\n",
       "      <td>1.0</td>\n",
       "      <td>1.0</td>\n",
       "      <td>38.000000</td>\n",
       "      <td>1.0</td>\n",
       "      <td>0.0</td>\n",
       "      <td>71.2833</td>\n",
       "      <td>1.0</td>\n",
       "      <td>0.0</td>\n",
       "      <td>1.0</td>\n",
       "      <td>...</td>\n",
       "      <td>0.0</td>\n",
       "      <td>0.0</td>\n",
       "      <td>0.0</td>\n",
       "      <td>0.0</td>\n",
       "      <td>0.0</td>\n",
       "      <td>1.0</td>\n",
       "      <td>0.0</td>\n",
       "      <td>0.0</td>\n",
       "      <td>0.0</td>\n",
       "      <td>0.0</td>\n",
       "    </tr>\n",
       "    <tr>\n",
       "      <th>2</th>\n",
       "      <td>3.0</td>\n",
       "      <td>1.0</td>\n",
       "      <td>3.0</td>\n",
       "      <td>26.000000</td>\n",
       "      <td>0.0</td>\n",
       "      <td>0.0</td>\n",
       "      <td>7.9250</td>\n",
       "      <td>1.0</td>\n",
       "      <td>0.0</td>\n",
       "      <td>0.0</td>\n",
       "      <td>...</td>\n",
       "      <td>0.0</td>\n",
       "      <td>1.0</td>\n",
       "      <td>0.0</td>\n",
       "      <td>0.0</td>\n",
       "      <td>0.0</td>\n",
       "      <td>0.0</td>\n",
       "      <td>0.0</td>\n",
       "      <td>0.0</td>\n",
       "      <td>0.0</td>\n",
       "      <td>0.0</td>\n",
       "    </tr>\n",
       "    <tr>\n",
       "      <th>3</th>\n",
       "      <td>4.0</td>\n",
       "      <td>1.0</td>\n",
       "      <td>1.0</td>\n",
       "      <td>35.000000</td>\n",
       "      <td>1.0</td>\n",
       "      <td>0.0</td>\n",
       "      <td>53.1000</td>\n",
       "      <td>1.0</td>\n",
       "      <td>0.0</td>\n",
       "      <td>0.0</td>\n",
       "      <td>...</td>\n",
       "      <td>0.0</td>\n",
       "      <td>0.0</td>\n",
       "      <td>0.0</td>\n",
       "      <td>0.0</td>\n",
       "      <td>0.0</td>\n",
       "      <td>1.0</td>\n",
       "      <td>0.0</td>\n",
       "      <td>0.0</td>\n",
       "      <td>0.0</td>\n",
       "      <td>0.0</td>\n",
       "    </tr>\n",
       "    <tr>\n",
       "      <th>4</th>\n",
       "      <td>5.0</td>\n",
       "      <td>0.0</td>\n",
       "      <td>3.0</td>\n",
       "      <td>35.000000</td>\n",
       "      <td>0.0</td>\n",
       "      <td>0.0</td>\n",
       "      <td>8.0500</td>\n",
       "      <td>0.0</td>\n",
       "      <td>1.0</td>\n",
       "      <td>0.0</td>\n",
       "      <td>...</td>\n",
       "      <td>0.0</td>\n",
       "      <td>0.0</td>\n",
       "      <td>0.0</td>\n",
       "      <td>0.0</td>\n",
       "      <td>1.0</td>\n",
       "      <td>0.0</td>\n",
       "      <td>0.0</td>\n",
       "      <td>0.0</td>\n",
       "      <td>0.0</td>\n",
       "      <td>0.0</td>\n",
       "    </tr>\n",
       "    <tr>\n",
       "      <th>5</th>\n",
       "      <td>6.0</td>\n",
       "      <td>0.0</td>\n",
       "      <td>3.0</td>\n",
       "      <td>0.986068</td>\n",
       "      <td>0.0</td>\n",
       "      <td>0.0</td>\n",
       "      <td>8.4583</td>\n",
       "      <td>0.0</td>\n",
       "      <td>1.0</td>\n",
       "      <td>0.0</td>\n",
       "      <td>...</td>\n",
       "      <td>0.0</td>\n",
       "      <td>0.0</td>\n",
       "      <td>0.0</td>\n",
       "      <td>0.0</td>\n",
       "      <td>1.0</td>\n",
       "      <td>0.0</td>\n",
       "      <td>0.0</td>\n",
       "      <td>0.0</td>\n",
       "      <td>0.0</td>\n",
       "      <td>0.0</td>\n",
       "    </tr>\n",
       "    <tr>\n",
       "      <th>6</th>\n",
       "      <td>7.0</td>\n",
       "      <td>0.0</td>\n",
       "      <td>1.0</td>\n",
       "      <td>54.000000</td>\n",
       "      <td>0.0</td>\n",
       "      <td>0.0</td>\n",
       "      <td>51.8625</td>\n",
       "      <td>0.0</td>\n",
       "      <td>1.0</td>\n",
       "      <td>0.0</td>\n",
       "      <td>...</td>\n",
       "      <td>0.0</td>\n",
       "      <td>0.0</td>\n",
       "      <td>0.0</td>\n",
       "      <td>0.0</td>\n",
       "      <td>1.0</td>\n",
       "      <td>0.0</td>\n",
       "      <td>0.0</td>\n",
       "      <td>0.0</td>\n",
       "      <td>0.0</td>\n",
       "      <td>0.0</td>\n",
       "    </tr>\n",
       "  </tbody>\n",
       "</table>\n",
       "<p>7 rows × 29 columns</p>\n",
       "</div>"
      ],
      "text/plain": [
       "   PassengerId  Survived  Pclass        Age  SibSp  Parch     Fare  \\\n",
       "0          1.0       0.0     3.0  22.000000    1.0    0.0   7.2500   \n",
       "1          2.0       1.0     1.0  38.000000    1.0    0.0  71.2833   \n",
       "2          3.0       1.0     3.0  26.000000    0.0    0.0   7.9250   \n",
       "3          4.0       1.0     1.0  35.000000    1.0    0.0  53.1000   \n",
       "4          5.0       0.0     3.0  35.000000    0.0    0.0   8.0500   \n",
       "5          6.0       0.0     3.0   0.986068    0.0    0.0   8.4583   \n",
       "6          7.0       0.0     1.0  54.000000    0.0    0.0  51.8625   \n",
       "\n",
       "   Sex_female  Sex_male  Embarked_C         ...          title_Master  \\\n",
       "0         0.0       1.0         0.0         ...                   0.0   \n",
       "1         1.0       0.0         1.0         ...                   0.0   \n",
       "2         1.0       0.0         0.0         ...                   0.0   \n",
       "3         1.0       0.0         0.0         ...                   0.0   \n",
       "4         0.0       1.0         0.0         ...                   0.0   \n",
       "5         0.0       1.0         0.0         ...                   0.0   \n",
       "6         0.0       1.0         0.0         ...                   0.0   \n",
       "\n",
       "   title_Miss  title_Mlle  title_Mme  title_Mr  title_Mrs  title_Ms  \\\n",
       "0         0.0         0.0        0.0       1.0        0.0       0.0   \n",
       "1         0.0         0.0        0.0       0.0        1.0       0.0   \n",
       "2         1.0         0.0        0.0       0.0        0.0       0.0   \n",
       "3         0.0         0.0        0.0       0.0        1.0       0.0   \n",
       "4         0.0         0.0        0.0       1.0        0.0       0.0   \n",
       "5         0.0         0.0        0.0       1.0        0.0       0.0   \n",
       "6         0.0         0.0        0.0       1.0        0.0       0.0   \n",
       "\n",
       "   title_Rev  title_Sir  title_the Countess  \n",
       "0        0.0        0.0                 0.0  \n",
       "1        0.0        0.0                 0.0  \n",
       "2        0.0        0.0                 0.0  \n",
       "3        0.0        0.0                 0.0  \n",
       "4        0.0        0.0                 0.0  \n",
       "5        0.0        0.0                 0.0  \n",
       "6        0.0        0.0                 0.0  \n",
       "\n",
       "[7 rows x 29 columns]"
      ]
     },
     "execution_count": 84,
     "metadata": {},
     "output_type": "execute_result"
    }
   ],
   "source": [
    "fill = SoftImpute()\n",
    "filled = fill.fit_transform(df_model)\n",
    "df_model = pd.DataFrame(filled, columns=df_model.columns.values)\n",
    "df_model.head(7)"
   ]
  },
  {
   "cell_type": "code",
   "execution_count": 85,
   "metadata": {},
   "outputs": [
    {
     "data": {
      "text/plain": [
       "0.7847533632286996"
      ]
     },
     "execution_count": 85,
     "metadata": {},
     "output_type": "execute_result"
    }
   ],
   "source": [
    "X_train, X_test, y_train, y_test = train_test_split(df_model.drop(\"Survived\",1),df_model.Survived, random_state = 42)\n",
    "sc = StandardScaler()\n",
    "X_train = sc.fit_transform(X_train)\n",
    "X_test = sc.transform(X_test)\n",
    "\n",
    "rfc = RandomForestClassifier()\n",
    "\n",
    "model=rfc.fit(X_train,y_train)\n",
    "pred_rfc = rfc.predict(X_test)\n",
    "pred_rfc_train = rfc.predict(X_train)\n",
    "model.score(X_test,y_test)"
   ]
  },
  {
   "cell_type": "code",
   "execution_count": 86,
   "metadata": {},
   "outputs": [
    {
     "data": {
      "text/plain": [
       "<matplotlib.axes._subplots.AxesSubplot at 0x7fb696125be0>"
      ]
     },
     "execution_count": 86,
     "metadata": {},
     "output_type": "execute_result"
    },
    {
     "data": {
      "image/png": "[encoded data removed]",
      "text/plain": [
       "<Figure size 432x288 with 1 Axes>"
      ]
     },
     "metadata": {},
     "output_type": "display_data"
    }
   ],
   "source": [
    "sns.set(style=\"darkgrid\")\n",
    "data = confusion_matrix(y_test,pred_rfc)\n",
    "sns.heatmap(data,annot = True, fmt='g', cbar=False)"
   ]
  },
  {
   "cell_type": "code",
   "execution_count": 87,
   "metadata": {},
   "outputs": [],
   "source": [
    "df_model = make_model_df(['Name','Ticket','known_age'])\n",
    "df_model.Age.where(df_model.Age>0,np.NaN,inplace=True) "
   ]
  },
  {
   "cell_type": "code",
   "execution_count": 88,
   "metadata": {},
   "outputs": [],
   "source": [
    "from fancyimpute import SimilarityWeightedAveraging"
   ]
  },
  {
   "cell_type": "code",
   "execution_count": 89,
   "metadata": {},
   "outputs": [
    {
     "data": {
      "text/html": [
       "<div>\n",
       "<style scoped>\n",
       "    .dataframe tbody tr th:only-of-type {\n",
       "        vertical-align: middle;\n",
       "    }\n",
       "\n",
       "    .dataframe tbody tr th {\n",
       "        vertical-align: top;\n",
       "    }\n",
       "\n",
       "    .dataframe thead th {\n",
       "        text-align: right;\n",
       "    }\n",
       "</style>\n",
       "<table border=\"1\" class=\"dataframe\">\n",
       "  <thead>\n",
       "    <tr style=\"text-align: right;\">\n",
       "      <th></th>\n",
       "      <th>PassengerId</th>\n",
       "      <th>Survived</th>\n",
       "      <th>Pclass</th>\n",
       "      <th>Age</th>\n",
       "      <th>SibSp</th>\n",
       "      <th>Parch</th>\n",
       "      <th>Fare</th>\n",
       "      <th>Sex_female</th>\n",
       "      <th>Sex_male</th>\n",
       "      <th>Embarked_C</th>\n",
       "      <th>...</th>\n",
       "      <th>title_Master</th>\n",
       "      <th>title_Miss</th>\n",
       "      <th>title_Mlle</th>\n",
       "      <th>title_Mme</th>\n",
       "      <th>title_Mr</th>\n",
       "      <th>title_Mrs</th>\n",
       "      <th>title_Ms</th>\n",
       "      <th>title_Rev</th>\n",
       "      <th>title_Sir</th>\n",
       "      <th>title_the Countess</th>\n",
       "    </tr>\n",
       "  </thead>\n",
       "  <tbody>\n",
       "    <tr>\n",
       "      <th>0</th>\n",
       "      <td>1.0</td>\n",
       "      <td>0.0</td>\n",
       "      <td>3.0</td>\n",
       "      <td>22.000000</td>\n",
       "      <td>1.0</td>\n",
       "      <td>0.0</td>\n",
       "      <td>7.2500</td>\n",
       "      <td>0.0</td>\n",
       "      <td>1.0</td>\n",
       "      <td>0.0</td>\n",
       "      <td>...</td>\n",
       "      <td>0.0</td>\n",
       "      <td>0.0</td>\n",
       "      <td>0.0</td>\n",
       "      <td>0.0</td>\n",
       "      <td>1.0</td>\n",
       "      <td>0.0</td>\n",
       "      <td>0.0</td>\n",
       "      <td>0.0</td>\n",
       "      <td>0.0</td>\n",
       "      <td>0.0</td>\n",
       "    </tr>\n",
       "    <tr>\n",
       "      <th>1</th>\n",
       "      <td>2.0</td>\n",
       "      <td>1.0</td>\n",
       "      <td>1.0</td>\n",
       "      <td>38.000000</td>\n",
       "      <td>1.0</td>\n",
       "      <td>0.0</td>\n",
       "      <td>71.2833</td>\n",
       "      <td>1.0</td>\n",
       "      <td>0.0</td>\n",
       "      <td>1.0</td>\n",
       "      <td>...</td>\n",
       "      <td>0.0</td>\n",
       "      <td>0.0</td>\n",
       "      <td>0.0</td>\n",
       "      <td>0.0</td>\n",
       "      <td>0.0</td>\n",
       "      <td>1.0</td>\n",
       "      <td>0.0</td>\n",
       "      <td>0.0</td>\n",
       "      <td>0.0</td>\n",
       "      <td>0.0</td>\n",
       "    </tr>\n",
       "    <tr>\n",
       "      <th>2</th>\n",
       "      <td>3.0</td>\n",
       "      <td>1.0</td>\n",
       "      <td>3.0</td>\n",
       "      <td>26.000000</td>\n",
       "      <td>0.0</td>\n",
       "      <td>0.0</td>\n",
       "      <td>7.9250</td>\n",
       "      <td>1.0</td>\n",
       "      <td>0.0</td>\n",
       "      <td>0.0</td>\n",
       "      <td>...</td>\n",
       "      <td>0.0</td>\n",
       "      <td>1.0</td>\n",
       "      <td>0.0</td>\n",
       "      <td>0.0</td>\n",
       "      <td>0.0</td>\n",
       "      <td>0.0</td>\n",
       "      <td>0.0</td>\n",
       "      <td>0.0</td>\n",
       "      <td>0.0</td>\n",
       "      <td>0.0</td>\n",
       "    </tr>\n",
       "    <tr>\n",
       "      <th>3</th>\n",
       "      <td>4.0</td>\n",
       "      <td>1.0</td>\n",
       "      <td>1.0</td>\n",
       "      <td>35.000000</td>\n",
       "      <td>1.0</td>\n",
       "      <td>0.0</td>\n",
       "      <td>53.1000</td>\n",
       "      <td>1.0</td>\n",
       "      <td>0.0</td>\n",
       "      <td>0.0</td>\n",
       "      <td>...</td>\n",
       "      <td>0.0</td>\n",
       "      <td>0.0</td>\n",
       "      <td>0.0</td>\n",
       "      <td>0.0</td>\n",
       "      <td>0.0</td>\n",
       "      <td>1.0</td>\n",
       "      <td>0.0</td>\n",
       "      <td>0.0</td>\n",
       "      <td>0.0</td>\n",
       "      <td>0.0</td>\n",
       "    </tr>\n",
       "    <tr>\n",
       "      <th>4</th>\n",
       "      <td>5.0</td>\n",
       "      <td>0.0</td>\n",
       "      <td>3.0</td>\n",
       "      <td>35.000000</td>\n",
       "      <td>0.0</td>\n",
       "      <td>0.0</td>\n",
       "      <td>8.0500</td>\n",
       "      <td>0.0</td>\n",
       "      <td>1.0</td>\n",
       "      <td>0.0</td>\n",
       "      <td>...</td>\n",
       "      <td>0.0</td>\n",
       "      <td>0.0</td>\n",
       "      <td>0.0</td>\n",
       "      <td>0.0</td>\n",
       "      <td>1.0</td>\n",
       "      <td>0.0</td>\n",
       "      <td>0.0</td>\n",
       "      <td>0.0</td>\n",
       "      <td>0.0</td>\n",
       "      <td>0.0</td>\n",
       "    </tr>\n",
       "    <tr>\n",
       "      <th>5</th>\n",
       "      <td>6.0</td>\n",
       "      <td>0.0</td>\n",
       "      <td>3.0</td>\n",
       "      <td>27.083962</td>\n",
       "      <td>0.0</td>\n",
       "      <td>0.0</td>\n",
       "      <td>8.4583</td>\n",
       "      <td>0.0</td>\n",
       "      <td>1.0</td>\n",
       "      <td>0.0</td>\n",
       "      <td>...</td>\n",
       "      <td>0.0</td>\n",
       "      <td>0.0</td>\n",
       "      <td>0.0</td>\n",
       "      <td>0.0</td>\n",
       "      <td>1.0</td>\n",
       "      <td>0.0</td>\n",
       "      <td>0.0</td>\n",
       "      <td>0.0</td>\n",
       "      <td>0.0</td>\n",
       "      <td>0.0</td>\n",
       "    </tr>\n",
       "    <tr>\n",
       "      <th>6</th>\n",
       "      <td>7.0</td>\n",
       "      <td>0.0</td>\n",
       "      <td>1.0</td>\n",
       "      <td>54.000000</td>\n",
       "      <td>0.0</td>\n",
       "      <td>0.0</td>\n",
       "      <td>51.8625</td>\n",
       "      <td>0.0</td>\n",
       "      <td>1.0</td>\n",
       "      <td>0.0</td>\n",
       "      <td>...</td>\n",
       "      <td>0.0</td>\n",
       "      <td>0.0</td>\n",
       "      <td>0.0</td>\n",
       "      <td>0.0</td>\n",
       "      <td>1.0</td>\n",
       "      <td>0.0</td>\n",
       "      <td>0.0</td>\n",
       "      <td>0.0</td>\n",
       "      <td>0.0</td>\n",
       "      <td>0.0</td>\n",
       "    </tr>\n",
       "  </tbody>\n",
       "</table>\n",
       "<p>7 rows × 29 columns</p>\n",
       "</div>"
      ],
      "text/plain": [
       "   PassengerId  Survived  Pclass        Age  SibSp  Parch     Fare  \\\n",
       "0          1.0       0.0     3.0  22.000000    1.0    0.0   7.2500   \n",
       "1          2.0       1.0     1.0  38.000000    1.0    0.0  71.2833   \n",
       "2          3.0       1.0     3.0  26.000000    0.0    0.0   7.9250   \n",
       "3          4.0       1.0     1.0  35.000000    1.0    0.0  53.1000   \n",
       "4          5.0       0.0     3.0  35.000000    0.0    0.0   8.0500   \n",
       "5          6.0       0.0     3.0  27.083962    0.0    0.0   8.4583   \n",
       "6          7.0       0.0     1.0  54.000000    0.0    0.0  51.8625   \n",
       "\n",
       "   Sex_female  Sex_male  Embarked_C         ...          title_Master  \\\n",
       "0         0.0       1.0         0.0         ...                   0.0   \n",
       "1         1.0       0.0         1.0         ...                   0.0   \n",
       "2         1.0       0.0         0.0         ...                   0.0   \n",
       "3         1.0       0.0         0.0         ...                   0.0   \n",
       "4         0.0       1.0         0.0         ...                   0.0   \n",
       "5         0.0       1.0         0.0         ...                   0.0   \n",
       "6         0.0       1.0         0.0         ...                   0.0   \n",
       "\n",
       "   title_Miss  title_Mlle  title_Mme  title_Mr  title_Mrs  title_Ms  \\\n",
       "0         0.0         0.0        0.0       1.0        0.0       0.0   \n",
       "1         0.0         0.0        0.0       0.0        1.0       0.0   \n",
       "2         1.0         0.0        0.0       0.0        0.0       0.0   \n",
       "3         0.0         0.0        0.0       0.0        1.0       0.0   \n",
       "4         0.0         0.0        0.0       1.0        0.0       0.0   \n",
       "5         0.0         0.0        0.0       1.0        0.0       0.0   \n",
       "6         0.0         0.0        0.0       1.0        0.0       0.0   \n",
       "\n",
       "   title_Rev  title_Sir  title_the Countess  \n",
       "0        0.0        0.0                 0.0  \n",
       "1        0.0        0.0                 0.0  \n",
       "2        0.0        0.0                 0.0  \n",
       "3        0.0        0.0                 0.0  \n",
       "4        0.0        0.0                 0.0  \n",
       "5        0.0        0.0                 0.0  \n",
       "6        0.0        0.0                 0.0  \n",
       "\n",
       "[7 rows x 29 columns]"
      ]
     },
     "execution_count": 89,
     "metadata": {},
     "output_type": "execute_result"
    }
   ],
   "source": [
    "fill = SimilarityWeightedAveraging()\n",
    "filled = fill.fit_transform(df_model)\n",
    "df_model = pd.DataFrame(filled, columns=df_model.columns.values)\n",
    "df_model.head(7)"
   ]
  },
  {
   "cell_type": "code",
   "execution_count": 90,
   "metadata": {},
   "outputs": [
    {
     "data": {
      "text/plain": [
       "0.7937219730941704"
      ]
     },
     "execution_count": 90,
     "metadata": {},
     "output_type": "execute_result"
    }
   ],
   "source": [
    "X_train, X_test, y_train, y_test = train_test_split(df_model.drop(\"Survived\",1),df_model.Survived, random_state = 42)\n",
    "sc = StandardScaler()\n",
    "X_train = sc.fit_transform(X_train)\n",
    "X_test = sc.transform(X_test)\n",
    "\n",
    "rfc = RandomForestClassifier()\n",
    "\n",
    "model=rfc.fit(X_train,y_train)\n",
    "pred_rfc = rfc.predict(X_test)\n",
    "pred_rfc_train = rfc.predict(X_train)\n",
    "model.score(X_test,y_test)"
   ]
  },
  {
   "cell_type": "code",
   "execution_count": 91,
   "metadata": {},
   "outputs": [
    {
     "data": {
      "text/plain": [
       "<matplotlib.axes._subplots.AxesSubplot at 0x7fb6960ebd68>"
      ]
     },
     "execution_count": 91,
     "metadata": {},
     "output_type": "execute_result"
    },
    {
     "data": {
      "image/png": "[encoded data removed]",
      "text/plain": [
       "<Figure size 432x288 with 1 Axes>"
      ]
     },
     "metadata": {},
     "output_type": "display_data"
    }
   ],
   "source": [
    "sns.set(style=\"darkgrid\")\n",
    "data = confusion_matrix(y_test,pred_rfc)\n",
    "sns.heatmap(data,annot = True, fmt='g', cbar=False)"
   ]
  },
  {
   "cell_type": "code",
   "execution_count": 92,
   "metadata": {},
   "outputs": [],
   "source": [
    "df_model = make_model_df(['Name','Ticket','known_age'])\n",
    "df_model.Age.where(df_model.Age>0,np.NaN,inplace=True) "
   ]
  },
  {
   "cell_type": "code",
   "execution_count": 93,
   "metadata": {},
   "outputs": [],
   "source": [
    "from fancyimpute import IterativeSVD"
   ]
  },
  {
   "cell_type": "code",
   "execution_count": 94,
   "metadata": {},
   "outputs": [
    {
     "name": "stdout",
     "output_type": "stream",
     "text": [
      "[IterativeSVD] Iter 1: observed MAE=1.701285\n",
      "[IterativeSVD] Iter 2: observed MAE=0.695652\n",
      "[IterativeSVD] Iter 3: observed MAE=0.166814\n"
     ]
    },
    {
     "data": {
      "text/html": [
       "<div>\n",
       "<style scoped>\n",
       "    .dataframe tbody tr th:only-of-type {\n",
       "        vertical-align: middle;\n",
       "    }\n",
       "\n",
       "    .dataframe tbody tr th {\n",
       "        vertical-align: top;\n",
       "    }\n",
       "\n",
       "    .dataframe thead th {\n",
       "        text-align: right;\n",
       "    }\n",
       "</style>\n",
       "<table border=\"1\" class=\"dataframe\">\n",
       "  <thead>\n",
       "    <tr style=\"text-align: right;\">\n",
       "      <th></th>\n",
       "      <th>PassengerId</th>\n",
       "      <th>Survived</th>\n",
       "      <th>Pclass</th>\n",
       "      <th>Age</th>\n",
       "      <th>SibSp</th>\n",
       "      <th>Parch</th>\n",
       "      <th>Fare</th>\n",
       "      <th>Sex_female</th>\n",
       "      <th>Sex_male</th>\n",
       "      <th>Embarked_C</th>\n",
       "      <th>...</th>\n",
       "      <th>title_Master</th>\n",
       "      <th>title_Miss</th>\n",
       "      <th>title_Mlle</th>\n",
       "      <th>title_Mme</th>\n",
       "      <th>title_Mr</th>\n",
       "      <th>title_Mrs</th>\n",
       "      <th>title_Ms</th>\n",
       "      <th>title_Rev</th>\n",
       "      <th>title_Sir</th>\n",
       "      <th>title_the Countess</th>\n",
       "    </tr>\n",
       "  </thead>\n",
       "  <tbody>\n",
       "    <tr>\n",
       "      <th>0</th>\n",
       "      <td>1.0</td>\n",
       "      <td>0.0</td>\n",
       "      <td>3.0</td>\n",
       "      <td>22.000000</td>\n",
       "      <td>1.0</td>\n",
       "      <td>0.0</td>\n",
       "      <td>7.2500</td>\n",
       "      <td>0.0</td>\n",
       "      <td>1.0</td>\n",
       "      <td>0.0</td>\n",
       "      <td>...</td>\n",
       "      <td>0.0</td>\n",
       "      <td>0.0</td>\n",
       "      <td>0.0</td>\n",
       "      <td>0.0</td>\n",
       "      <td>1.0</td>\n",
       "      <td>0.0</td>\n",
       "      <td>0.0</td>\n",
       "      <td>0.0</td>\n",
       "      <td>0.0</td>\n",
       "      <td>0.0</td>\n",
       "    </tr>\n",
       "    <tr>\n",
       "      <th>1</th>\n",
       "      <td>2.0</td>\n",
       "      <td>1.0</td>\n",
       "      <td>1.0</td>\n",
       "      <td>38.000000</td>\n",
       "      <td>1.0</td>\n",
       "      <td>0.0</td>\n",
       "      <td>71.2833</td>\n",
       "      <td>1.0</td>\n",
       "      <td>0.0</td>\n",
       "      <td>1.0</td>\n",
       "      <td>...</td>\n",
       "      <td>0.0</td>\n",
       "      <td>0.0</td>\n",
       "      <td>0.0</td>\n",
       "      <td>0.0</td>\n",
       "      <td>0.0</td>\n",
       "      <td>1.0</td>\n",
       "      <td>0.0</td>\n",
       "      <td>0.0</td>\n",
       "      <td>0.0</td>\n",
       "      <td>0.0</td>\n",
       "    </tr>\n",
       "    <tr>\n",
       "      <th>2</th>\n",
       "      <td>3.0</td>\n",
       "      <td>1.0</td>\n",
       "      <td>3.0</td>\n",
       "      <td>26.000000</td>\n",
       "      <td>0.0</td>\n",
       "      <td>0.0</td>\n",
       "      <td>7.9250</td>\n",
       "      <td>1.0</td>\n",
       "      <td>0.0</td>\n",
       "      <td>0.0</td>\n",
       "      <td>...</td>\n",
       "      <td>0.0</td>\n",
       "      <td>1.0</td>\n",
       "      <td>0.0</td>\n",
       "      <td>0.0</td>\n",
       "      <td>0.0</td>\n",
       "      <td>0.0</td>\n",
       "      <td>0.0</td>\n",
       "      <td>0.0</td>\n",
       "      <td>0.0</td>\n",
       "      <td>0.0</td>\n",
       "    </tr>\n",
       "    <tr>\n",
       "      <th>3</th>\n",
       "      <td>4.0</td>\n",
       "      <td>1.0</td>\n",
       "      <td>1.0</td>\n",
       "      <td>35.000000</td>\n",
       "      <td>1.0</td>\n",
       "      <td>0.0</td>\n",
       "      <td>53.1000</td>\n",
       "      <td>1.0</td>\n",
       "      <td>0.0</td>\n",
       "      <td>0.0</td>\n",
       "      <td>...</td>\n",
       "      <td>0.0</td>\n",
       "      <td>0.0</td>\n",
       "      <td>0.0</td>\n",
       "      <td>0.0</td>\n",
       "      <td>0.0</td>\n",
       "      <td>1.0</td>\n",
       "      <td>0.0</td>\n",
       "      <td>0.0</td>\n",
       "      <td>0.0</td>\n",
       "      <td>0.0</td>\n",
       "    </tr>\n",
       "    <tr>\n",
       "      <th>4</th>\n",
       "      <td>5.0</td>\n",
       "      <td>0.0</td>\n",
       "      <td>3.0</td>\n",
       "      <td>35.000000</td>\n",
       "      <td>0.0</td>\n",
       "      <td>0.0</td>\n",
       "      <td>8.0500</td>\n",
       "      <td>0.0</td>\n",
       "      <td>1.0</td>\n",
       "      <td>0.0</td>\n",
       "      <td>...</td>\n",
       "      <td>0.0</td>\n",
       "      <td>0.0</td>\n",
       "      <td>0.0</td>\n",
       "      <td>0.0</td>\n",
       "      <td>1.0</td>\n",
       "      <td>0.0</td>\n",
       "      <td>0.0</td>\n",
       "      <td>0.0</td>\n",
       "      <td>0.0</td>\n",
       "      <td>0.0</td>\n",
       "    </tr>\n",
       "    <tr>\n",
       "      <th>5</th>\n",
       "      <td>6.0</td>\n",
       "      <td>0.0</td>\n",
       "      <td>3.0</td>\n",
       "      <td>1.200248</td>\n",
       "      <td>0.0</td>\n",
       "      <td>0.0</td>\n",
       "      <td>8.4583</td>\n",
       "      <td>0.0</td>\n",
       "      <td>1.0</td>\n",
       "      <td>0.0</td>\n",
       "      <td>...</td>\n",
       "      <td>0.0</td>\n",
       "      <td>0.0</td>\n",
       "      <td>0.0</td>\n",
       "      <td>0.0</td>\n",
       "      <td>1.0</td>\n",
       "      <td>0.0</td>\n",
       "      <td>0.0</td>\n",
       "      <td>0.0</td>\n",
       "      <td>0.0</td>\n",
       "      <td>0.0</td>\n",
       "    </tr>\n",
       "    <tr>\n",
       "      <th>6</th>\n",
       "      <td>7.0</td>\n",
       "      <td>0.0</td>\n",
       "      <td>1.0</td>\n",
       "      <td>54.000000</td>\n",
       "      <td>0.0</td>\n",
       "      <td>0.0</td>\n",
       "      <td>51.8625</td>\n",
       "      <td>0.0</td>\n",
       "      <td>1.0</td>\n",
       "      <td>0.0</td>\n",
       "      <td>...</td>\n",
       "      <td>0.0</td>\n",
       "      <td>0.0</td>\n",
       "      <td>0.0</td>\n",
       "      <td>0.0</td>\n",
       "      <td>1.0</td>\n",
       "      <td>0.0</td>\n",
       "      <td>0.0</td>\n",
       "      <td>0.0</td>\n",
       "      <td>0.0</td>\n",
       "      <td>0.0</td>\n",
       "    </tr>\n",
       "  </tbody>\n",
       "</table>\n",
       "<p>7 rows × 29 columns</p>\n",
       "</div>"
      ],
      "text/plain": [
       "   PassengerId  Survived  Pclass        Age  SibSp  Parch     Fare  \\\n",
       "0          1.0       0.0     3.0  22.000000    1.0    0.0   7.2500   \n",
       "1          2.0       1.0     1.0  38.000000    1.0    0.0  71.2833   \n",
       "2          3.0       1.0     3.0  26.000000    0.0    0.0   7.9250   \n",
       "3          4.0       1.0     1.0  35.000000    1.0    0.0  53.1000   \n",
       "4          5.0       0.0     3.0  35.000000    0.0    0.0   8.0500   \n",
       "5          6.0       0.0     3.0   1.200248    0.0    0.0   8.4583   \n",
       "6          7.0       0.0     1.0  54.000000    0.0    0.0  51.8625   \n",
       "\n",
       "   Sex_female  Sex_male  Embarked_C         ...          title_Master  \\\n",
       "0         0.0       1.0         0.0         ...                   0.0   \n",
       "1         1.0       0.0         1.0         ...                   0.0   \n",
       "2         1.0       0.0         0.0         ...                   0.0   \n",
       "3         1.0       0.0         0.0         ...                   0.0   \n",
       "4         0.0       1.0         0.0         ...                   0.0   \n",
       "5         0.0       1.0         0.0         ...                   0.0   \n",
       "6         0.0       1.0         0.0         ...                   0.0   \n",
       "\n",
       "   title_Miss  title_Mlle  title_Mme  title_Mr  title_Mrs  title_Ms  \\\n",
       "0         0.0         0.0        0.0       1.0        0.0       0.0   \n",
       "1         0.0         0.0        0.0       0.0        1.0       0.0   \n",
       "2         1.0         0.0        0.0       0.0        0.0       0.0   \n",
       "3         0.0         0.0        0.0       0.0        1.0       0.0   \n",
       "4         0.0         0.0        0.0       1.0        0.0       0.0   \n",
       "5         0.0         0.0        0.0       1.0        0.0       0.0   \n",
       "6         0.0         0.0        0.0       1.0        0.0       0.0   \n",
       "\n",
       "   title_Rev  title_Sir  title_the Countess  \n",
       "0        0.0        0.0                 0.0  \n",
       "1        0.0        0.0                 0.0  \n",
       "2        0.0        0.0                 0.0  \n",
       "3        0.0        0.0                 0.0  \n",
       "4        0.0        0.0                 0.0  \n",
       "5        0.0        0.0                 0.0  \n",
       "6        0.0        0.0                 0.0  \n",
       "\n",
       "[7 rows x 29 columns]"
      ]
     },
     "execution_count": 94,
     "metadata": {},
     "output_type": "execute_result"
    }
   ],
   "source": [
    "fill = IterativeSVD()\n",
    "filled = fill.fit_transform(df_model)\n",
    "df_model = pd.DataFrame(filled, columns=df_model.columns.values)\n",
    "df_model.head(7)"
   ]
  },
  {
   "cell_type": "code",
   "execution_count": 95,
   "metadata": {},
   "outputs": [
    {
     "data": {
      "text/plain": [
       "0.7982062780269058"
      ]
     },
     "execution_count": 95,
     "metadata": {},
     "output_type": "execute_result"
    }
   ],
   "source": [
    "X_train, X_test, y_train, y_test = train_test_split(df_model.drop(\"Survived\",1),df_model.Survived, random_state = 42)\n",
    "sc = StandardScaler()\n",
    "X_train = sc.fit_transform(X_train)\n",
    "X_test = sc.transform(X_test)\n",
    "\n",
    "rfc = RandomForestClassifier()\n",
    "\n",
    "model=rfc.fit(X_train,y_train)\n",
    "pred_rfc = rfc.predict(X_test)\n",
    "pred_rfc_train = rfc.predict(X_train)\n",
    "model.score(X_test,y_test)"
   ]
  },
  {
   "cell_type": "code",
   "execution_count": 96,
   "metadata": {},
   "outputs": [
    {
     "data": {
      "text/plain": [
       "<matplotlib.axes._subplots.AxesSubplot at 0x7fb69618cbe0>"
      ]
     },
     "execution_count": 96,
     "metadata": {},
     "output_type": "execute_result"
    },
    {
     "data": {
      "image/png": "[encoded data removed]",
      "text/plain": [
       "<Figure size 432x288 with 1 Axes>"
      ]
     },
     "metadata": {},
     "output_type": "display_data"
    }
   ],
   "source": [
    "sns.set(style=\"darkgrid\")\n",
    "data = confusion_matrix(y_test,pred_rfc)\n",
    "sns.heatmap(data,annot = True, fmt='g', cbar=False)"
   ]
  },
  {
   "cell_type": "code",
   "execution_count": 97,
   "metadata": {},
   "outputs": [],
   "source": [
    "df_model = make_model_df(['Name','Ticket','known_age'])\n",
    "df_model.Age.where(df_model.Age>0,np.NaN,inplace=True) "
   ]
  },
  {
   "cell_type": "code",
   "execution_count": 98,
   "metadata": {},
   "outputs": [],
   "source": [
    "from fancyimpute import KNN"
   ]
  },
  {
   "cell_type": "code",
   "execution_count": 99,
   "metadata": {
    "scrolled": true
   },
   "outputs": [
    {
     "name": "stdout",
     "output_type": "stream",
     "text": [
      "Imputing row 1/889 with 0 missing, elapsed time: 0.151\n",
      "Imputing row 101/889 with 1 missing, elapsed time: 0.152\n",
      "Imputing row 201/889 with 1 missing, elapsed time: 0.152\n",
      "Imputing row 301/889 with 1 missing, elapsed time: 0.153\n",
      "Imputing row 401/889 with 0 missing, elapsed time: 0.153\n",
      "Imputing row 501/889 with 0 missing, elapsed time: 0.154\n",
      "Imputing row 601/889 with 1 missing, elapsed time: 0.155\n",
      "Imputing row 701/889 with 0 missing, elapsed time: 0.155\n",
      "Imputing row 801/889 with 0 missing, elapsed time: 0.156\n"
     ]
    },
    {
     "data": {
      "text/html": [
       "<div>\n",
       "<style scoped>\n",
       "    .dataframe tbody tr th:only-of-type {\n",
       "        vertical-align: middle;\n",
       "    }\n",
       "\n",
       "    .dataframe tbody tr th {\n",
       "        vertical-align: top;\n",
       "    }\n",
       "\n",
       "    .dataframe thead th {\n",
       "        text-align: right;\n",
       "    }\n",
       "</style>\n",
       "<table border=\"1\" class=\"dataframe\">\n",
       "  <thead>\n",
       "    <tr style=\"text-align: right;\">\n",
       "      <th></th>\n",
       "      <th>PassengerId</th>\n",
       "      <th>Survived</th>\n",
       "      <th>Pclass</th>\n",
       "      <th>Age</th>\n",
       "      <th>SibSp</th>\n",
       "      <th>Parch</th>\n",
       "      <th>Fare</th>\n",
       "      <th>Sex_female</th>\n",
       "      <th>Sex_male</th>\n",
       "      <th>Embarked_C</th>\n",
       "      <th>...</th>\n",
       "      <th>title_Master</th>\n",
       "      <th>title_Miss</th>\n",
       "      <th>title_Mlle</th>\n",
       "      <th>title_Mme</th>\n",
       "      <th>title_Mr</th>\n",
       "      <th>title_Mrs</th>\n",
       "      <th>title_Ms</th>\n",
       "      <th>title_Rev</th>\n",
       "      <th>title_Sir</th>\n",
       "      <th>title_the Countess</th>\n",
       "    </tr>\n",
       "  </thead>\n",
       "  <tbody>\n",
       "    <tr>\n",
       "      <th>0</th>\n",
       "      <td>1.0</td>\n",
       "      <td>0.0</td>\n",
       "      <td>3.0</td>\n",
       "      <td>22.000000</td>\n",
       "      <td>1.0</td>\n",
       "      <td>0.0</td>\n",
       "      <td>7.2500</td>\n",
       "      <td>0.0</td>\n",
       "      <td>1.0</td>\n",
       "      <td>0.0</td>\n",
       "      <td>...</td>\n",
       "      <td>0.0</td>\n",
       "      <td>0.0</td>\n",
       "      <td>0.0</td>\n",
       "      <td>0.0</td>\n",
       "      <td>1.0</td>\n",
       "      <td>0.0</td>\n",
       "      <td>0.0</td>\n",
       "      <td>0.0</td>\n",
       "      <td>0.0</td>\n",
       "      <td>0.0</td>\n",
       "    </tr>\n",
       "    <tr>\n",
       "      <th>1</th>\n",
       "      <td>2.0</td>\n",
       "      <td>1.0</td>\n",
       "      <td>1.0</td>\n",
       "      <td>38.000000</td>\n",
       "      <td>1.0</td>\n",
       "      <td>0.0</td>\n",
       "      <td>71.2833</td>\n",
       "      <td>1.0</td>\n",
       "      <td>0.0</td>\n",
       "      <td>1.0</td>\n",
       "      <td>...</td>\n",
       "      <td>0.0</td>\n",
       "      <td>0.0</td>\n",
       "      <td>0.0</td>\n",
       "      <td>0.0</td>\n",
       "      <td>0.0</td>\n",
       "      <td>1.0</td>\n",
       "      <td>0.0</td>\n",
       "      <td>0.0</td>\n",
       "      <td>0.0</td>\n",
       "      <td>0.0</td>\n",
       "    </tr>\n",
       "    <tr>\n",
       "      <th>2</th>\n",
       "      <td>3.0</td>\n",
       "      <td>1.0</td>\n",
       "      <td>3.0</td>\n",
       "      <td>26.000000</td>\n",
       "      <td>0.0</td>\n",
       "      <td>0.0</td>\n",
       "      <td>7.9250</td>\n",
       "      <td>1.0</td>\n",
       "      <td>0.0</td>\n",
       "      <td>0.0</td>\n",
       "      <td>...</td>\n",
       "      <td>0.0</td>\n",
       "      <td>1.0</td>\n",
       "      <td>0.0</td>\n",
       "      <td>0.0</td>\n",
       "      <td>0.0</td>\n",
       "      <td>0.0</td>\n",
       "      <td>0.0</td>\n",
       "      <td>0.0</td>\n",
       "      <td>0.0</td>\n",
       "      <td>0.0</td>\n",
       "    </tr>\n",
       "    <tr>\n",
       "      <th>3</th>\n",
       "      <td>4.0</td>\n",
       "      <td>1.0</td>\n",
       "      <td>1.0</td>\n",
       "      <td>35.000000</td>\n",
       "      <td>1.0</td>\n",
       "      <td>0.0</td>\n",
       "      <td>53.1000</td>\n",
       "      <td>1.0</td>\n",
       "      <td>0.0</td>\n",
       "      <td>0.0</td>\n",
       "      <td>...</td>\n",
       "      <td>0.0</td>\n",
       "      <td>0.0</td>\n",
       "      <td>0.0</td>\n",
       "      <td>0.0</td>\n",
       "      <td>0.0</td>\n",
       "      <td>1.0</td>\n",
       "      <td>0.0</td>\n",
       "      <td>0.0</td>\n",
       "      <td>0.0</td>\n",
       "      <td>0.0</td>\n",
       "    </tr>\n",
       "    <tr>\n",
       "      <th>4</th>\n",
       "      <td>5.0</td>\n",
       "      <td>0.0</td>\n",
       "      <td>3.0</td>\n",
       "      <td>35.000000</td>\n",
       "      <td>0.0</td>\n",
       "      <td>0.0</td>\n",
       "      <td>8.0500</td>\n",
       "      <td>0.0</td>\n",
       "      <td>1.0</td>\n",
       "      <td>0.0</td>\n",
       "      <td>...</td>\n",
       "      <td>0.0</td>\n",
       "      <td>0.0</td>\n",
       "      <td>0.0</td>\n",
       "      <td>0.0</td>\n",
       "      <td>1.0</td>\n",
       "      <td>0.0</td>\n",
       "      <td>0.0</td>\n",
       "      <td>0.0</td>\n",
       "      <td>0.0</td>\n",
       "      <td>0.0</td>\n",
       "    </tr>\n",
       "    <tr>\n",
       "      <th>5</th>\n",
       "      <td>6.0</td>\n",
       "      <td>0.0</td>\n",
       "      <td>3.0</td>\n",
       "      <td>31.616715</td>\n",
       "      <td>0.0</td>\n",
       "      <td>0.0</td>\n",
       "      <td>8.4583</td>\n",
       "      <td>0.0</td>\n",
       "      <td>1.0</td>\n",
       "      <td>0.0</td>\n",
       "      <td>...</td>\n",
       "      <td>0.0</td>\n",
       "      <td>0.0</td>\n",
       "      <td>0.0</td>\n",
       "      <td>0.0</td>\n",
       "      <td>1.0</td>\n",
       "      <td>0.0</td>\n",
       "      <td>0.0</td>\n",
       "      <td>0.0</td>\n",
       "      <td>0.0</td>\n",
       "      <td>0.0</td>\n",
       "    </tr>\n",
       "    <tr>\n",
       "      <th>6</th>\n",
       "      <td>7.0</td>\n",
       "      <td>0.0</td>\n",
       "      <td>1.0</td>\n",
       "      <td>54.000000</td>\n",
       "      <td>0.0</td>\n",
       "      <td>0.0</td>\n",
       "      <td>51.8625</td>\n",
       "      <td>0.0</td>\n",
       "      <td>1.0</td>\n",
       "      <td>0.0</td>\n",
       "      <td>...</td>\n",
       "      <td>0.0</td>\n",
       "      <td>0.0</td>\n",
       "      <td>0.0</td>\n",
       "      <td>0.0</td>\n",
       "      <td>1.0</td>\n",
       "      <td>0.0</td>\n",
       "      <td>0.0</td>\n",
       "      <td>0.0</td>\n",
       "      <td>0.0</td>\n",
       "      <td>0.0</td>\n",
       "    </tr>\n",
       "  </tbody>\n",
       "</table>\n",
       "<p>7 rows × 29 columns</p>\n",
       "</div>"
      ],
      "text/plain": [
       "   PassengerId  Survived  Pclass        Age  SibSp  Parch     Fare  \\\n",
       "0          1.0       0.0     3.0  22.000000    1.0    0.0   7.2500   \n",
       "1          2.0       1.0     1.0  38.000000    1.0    0.0  71.2833   \n",
       "2          3.0       1.0     3.0  26.000000    0.0    0.0   7.9250   \n",
       "3          4.0       1.0     1.0  35.000000    1.0    0.0  53.1000   \n",
       "4          5.0       0.0     3.0  35.000000    0.0    0.0   8.0500   \n",
       "5          6.0       0.0     3.0  31.616715    0.0    0.0   8.4583   \n",
       "6          7.0       0.0     1.0  54.000000    0.0    0.0  51.8625   \n",
       "\n",
       "   Sex_female  Sex_male  Embarked_C         ...          title_Master  \\\n",
       "0         0.0       1.0         0.0         ...                   0.0   \n",
       "1         1.0       0.0         1.0         ...                   0.0   \n",
       "2         1.0       0.0         0.0         ...                   0.0   \n",
       "3         1.0       0.0         0.0         ...                   0.0   \n",
       "4         0.0       1.0         0.0         ...                   0.0   \n",
       "5         0.0       1.0         0.0         ...                   0.0   \n",
       "6         0.0       1.0         0.0         ...                   0.0   \n",
       "\n",
       "   title_Miss  title_Mlle  title_Mme  title_Mr  title_Mrs  title_Ms  \\\n",
       "0         0.0         0.0        0.0       1.0        0.0       0.0   \n",
       "1         0.0         0.0        0.0       0.0        1.0       0.0   \n",
       "2         1.0         0.0        0.0       0.0        0.0       0.0   \n",
       "3         0.0         0.0        0.0       0.0        1.0       0.0   \n",
       "4         0.0         0.0        0.0       1.0        0.0       0.0   \n",
       "5         0.0         0.0        0.0       1.0        0.0       0.0   \n",
       "6         0.0         0.0        0.0       1.0        0.0       0.0   \n",
       "\n",
       "   title_Rev  title_Sir  title_the Countess  \n",
       "0        0.0        0.0                 0.0  \n",
       "1        0.0        0.0                 0.0  \n",
       "2        0.0        0.0                 0.0  \n",
       "3        0.0        0.0                 0.0  \n",
       "4        0.0        0.0                 0.0  \n",
       "5        0.0        0.0                 0.0  \n",
       "6        0.0        0.0                 0.0  \n",
       "\n",
       "[7 rows x 29 columns]"
      ]
     },
     "execution_count": 99,
     "metadata": {},
     "output_type": "execute_result"
    }
   ],
   "source": [
    "fill = KNN()\n",
    "filled = fill.fit_transform(df_model)\n",
    "df_model = pd.DataFrame(filled, columns=df_model.columns.values)\n",
    "df_model.head(7)"
   ]
  },
  {
   "cell_type": "code",
   "execution_count": 100,
   "metadata": {},
   "outputs": [
    {
     "data": {
      "text/plain": [
       "0.7937219730941704"
      ]
     },
     "execution_count": 100,
     "metadata": {},
     "output_type": "execute_result"
    }
   ],
   "source": [
    "X_train, X_test, y_train, y_test = train_test_split(df_model.drop(\"Survived\",1),df_model.Survived, random_state = 42)\n",
    "sc = StandardScaler()\n",
    "X_train = sc.fit_transform(X_train)\n",
    "X_test = sc.transform(X_test)\n",
    "\n",
    "rfc = RandomForestClassifier()\n",
    "\n",
    "model=rfc.fit(X_train,y_train)\n",
    "pred_rfc = rfc.predict(X_test)\n",
    "pred_rfc_train = rfc.predict(X_train)\n",
    "model.score(X_test,y_test)"
   ]
  },
  {
   "cell_type": "code",
   "execution_count": 101,
   "metadata": {},
   "outputs": [
    {
     "data": {
      "text/plain": [
       "<matplotlib.axes._subplots.AxesSubplot at 0x7fb6858877b8>"
      ]
     },
     "execution_count": 101,
     "metadata": {},
     "output_type": "execute_result"
    },
    {
     "data": {
      "image/png": "[encoded data removed]",
      "text/plain": [
       "<Figure size 432x288 with 1 Axes>"
      ]
     },
     "metadata": {},
     "output_type": "display_data"
    }
   ],
   "source": [
    "sns.set(style=\"darkgrid\")\n",
    "data = confusion_matrix(y_test,pred_rfc)\n",
    "sns.heatmap(data,annot = True, fmt='g', cbar=False)"
   ]
  },
  {
   "cell_type": "code",
   "execution_count": 102,
   "metadata": {},
   "outputs": [],
   "source": [
    "df_model = make_model_df(['Name','Ticket','known_age'])\n",
    "df_model.Age.where(df_model.Age>0,np.NaN,inplace=True)"
   ]
  },
  {
   "cell_type": "code",
   "execution_count": 103,
   "metadata": {},
   "outputs": [],
   "source": [
    "from fancyimpute import MatrixFactorization"
   ]
  },
  {
   "cell_type": "code",
   "execution_count": 104,
   "metadata": {},
   "outputs": [
    {
     "name": "stdout",
     "output_type": "stream",
     "text": [
      "Train on 23043 samples, validate on 2561 samples\n",
      "Epoch 1/10000\n",
      "23043/23043 [==============================] - 0s 16us/step - loss: 1.1389 - val_loss: 0.8889\n",
      "Epoch 2/10000\n",
      "23043/23043 [==============================] - 0s 0us/step - loss: 1.1369 - val_loss: 0.8883\n",
      "Epoch 3/10000\n",
      "23043/23043 [==============================] - 0s 0us/step - loss: 1.1355 - val_loss: 0.8878\n",
      "Epoch 4/10000\n",
      "23043/23043 [==============================] - 0s 0us/step - loss: 1.1342 - val_loss: 0.8873\n",
      "Epoch 5/10000\n",
      "23043/23043 [==============================] - 0s 1us/step - loss: 1.1329 - val_loss: 0.8868\n",
      "Epoch 6/10000\n",
      "23043/23043 [==============================] - 0s 1us/step - loss: 1.1315 - val_loss: 0.8863\n",
      "Epoch 7/10000\n",
      "23043/23043 [==============================] - 0s 1us/step - loss: 1.1301 - val_loss: 0.8857\n",
      "Epoch 8/10000\n",
      "23043/23043 [==============================] - 0s 1us/step - loss: 1.1286 - val_loss: 0.8852\n",
      "Epoch 9/10000\n",
      "23043/23043 [==============================] - 0s 1us/step - loss: 1.1272 - val_loss: 0.8847\n",
      "Epoch 10/10000\n",
      "23043/23043 [==============================] - 0s 1us/step - loss: 1.1257 - val_loss: 0.8841\n",
      "Epoch 11/10000\n",
      "23043/23043 [==============================] - 0s 1us/step - loss: 1.1242 - val_loss: 0.8836\n",
      "Epoch 12/10000\n",
      "23043/23043 [==============================] - 0s 1us/step - loss: 1.1227 - val_loss: 0.8830\n",
      "Epoch 13/10000\n",
      "23043/23043 [==============================] - 0s 1us/step - loss: 1.1212 - val_loss: 0.8825\n",
      "Epoch 14/10000\n",
      "23043/23043 [==============================] - 0s 1us/step - loss: 1.1197 - val_loss: 0.8819\n",
      "Epoch 15/10000\n",
      "23043/23043 [==============================] - 0s 1us/step - loss: 1.1182 - val_loss: 0.8814\n",
      "Epoch 16/10000\n",
      "23043/23043 [==============================] - 0s 1us/step - loss: 1.1167 - val_loss: 0.8808\n",
      "Epoch 17/10000\n",
      "23043/23043 [==============================] - 0s 1us/step - loss: 1.1152 - val_loss: 0.8803\n",
      "Epoch 18/10000\n",
      "23043/23043 [==============================] - 0s 1us/step - loss: 1.1137 - val_loss: 0.8798\n",
      "Epoch 19/10000\n",
      "23043/23043 [==============================] - 0s 1us/step - loss: 1.1122 - val_loss: 0.8792\n",
      "Epoch 20/10000\n",
      "23043/23043 [==============================] - 0s 1us/step - loss: 1.1107 - val_loss: 0.8787\n",
      "Epoch 21/10000\n",
      "23043/23043 [==============================] - 0s 1us/step - loss: 1.1092 - val_loss: 0.8782\n",
      "Epoch 22/10000\n",
      "23043/23043 [==============================] - 0s 1us/step - loss: 1.1077 - val_loss: 0.8777\n",
      "Epoch 23/10000\n",
      "23043/23043 [==============================] - 0s 1us/step - loss: 1.1062 - val_loss: 0.8772\n",
      "Epoch 24/10000\n",
      "23043/23043 [==============================] - 0s 1us/step - loss: 1.1048 - val_loss: 0.8766\n",
      "Epoch 25/10000\n",
      "23043/23043 [==============================] - 0s 1us/step - loss: 1.1033 - val_loss: 0.8761\n",
      "Epoch 26/10000\n",
      "23043/23043 [==============================] - 0s 0us/step - loss: 1.1019 - val_loss: 0.8756\n",
      "Epoch 27/10000\n",
      "23043/23043 [==============================] - 0s 1us/step - loss: 1.1004 - val_loss: 0.8751\n",
      "Epoch 28/10000\n",
      "23043/23043 [==============================] - 0s 1us/step - loss: 1.0990 - val_loss: 0.8746\n",
      "Epoch 29/10000\n",
      "23043/23043 [==============================] - 0s 1us/step - loss: 1.0976 - val_loss: 0.8741\n",
      "Epoch 30/10000\n",
      "23043/23043 [==============================] - 0s 1us/step - loss: 1.0961 - val_loss: 0.8736\n",
      "Epoch 31/10000\n",
      "23043/23043 [==============================] - 0s 1us/step - loss: 1.0947 - val_loss: 0.8732\n",
      "Epoch 32/10000\n",
      "23043/23043 [==============================] - 0s 1us/step - loss: 1.0933 - val_loss: 0.8727\n",
      "Epoch 33/10000\n",
      "23043/23043 [==============================] - 0s 1us/step - loss: 1.0919 - val_loss: 0.8722\n",
      "Epoch 34/10000\n",
      "23043/23043 [==============================] - 0s 1us/step - loss: 1.0906 - val_loss: 0.8717\n",
      "Epoch 35/10000\n",
      "23043/23043 [==============================] - 0s 1us/step - loss: 1.0892 - val_loss: 0.8713\n",
      "Epoch 36/10000\n",
      "23043/23043 [==============================] - 0s 1us/step - loss: 1.0878 - val_loss: 0.8708\n",
      "Epoch 37/10000\n",
      "23043/23043 [==============================] - 0s 1us/step - loss: 1.0865 - val_loss: 0.8703\n",
      "Epoch 38/10000\n",
      "23043/23043 [==============================] - 0s 1us/step - loss: 1.0852 - val_loss: 0.8699\n",
      "Epoch 39/10000\n",
      "23043/23043 [==============================] - 0s 1us/step - loss: 1.0838 - val_loss: 0.8694\n",
      "Epoch 40/10000\n",
      "23043/23043 [==============================] - 0s 1us/step - loss: 1.0825 - val_loss: 0.8690\n",
      "Epoch 41/10000\n",
      "23043/23043 [==============================] - 0s 1us/step - loss: 1.0812 - val_loss: 0.8685\n",
      "Epoch 42/10000\n",
      "23043/23043 [==============================] - 0s 1us/step - loss: 1.0799 - val_loss: 0.8681\n",
      "Epoch 43/10000\n",
      "23043/23043 [==============================] - 0s 1us/step - loss: 1.0786 - val_loss: 0.8677\n",
      "Epoch 44/10000\n",
      "23043/23043 [==============================] - 0s 0us/step - loss: 1.0773 - val_loss: 0.8672\n",
      "Epoch 45/10000\n",
      "23043/23043 [==============================] - 0s 0us/step - loss: 1.0761 - val_loss: 0.8668\n",
      "Epoch 46/10000\n",
      "23043/23043 [==============================] - 0s 1us/step - loss: 1.0748 - val_loss: 0.8664\n",
      "Epoch 47/10000\n",
      "23043/23043 [==============================] - 0s 1us/step - loss: 1.0735 - val_loss: 0.8660\n",
      "Epoch 48/10000\n",
      "23043/23043 [==============================] - 0s 1us/step - loss: 1.0723 - val_loss: 0.8655\n",
      "Epoch 49/10000\n",
      "23043/23043 [==============================] - 0s 1us/step - loss: 1.0710 - val_loss: 0.8651\n",
      "Epoch 50/10000\n",
      "23043/23043 [==============================] - 0s 1us/step - loss: 1.0698 - val_loss: 0.8647\n",
      "Epoch 51/10000\n",
      "23043/23043 [==============================] - 0s 1us/step - loss: 1.0686 - val_loss: 0.8643\n",
      "Epoch 52/10000\n",
      "23043/23043 [==============================] - 0s 0us/step - loss: 1.0674 - val_loss: 0.8639\n",
      "Epoch 53/10000\n",
      "23043/23043 [==============================] - 0s 1us/step - loss: 1.0661 - val_loss: 0.8635\n",
      "Epoch 54/10000\n",
      "23043/23043 [==============================] - 0s 0us/step - loss: 1.0649 - val_loss: 0.8631\n",
      "Epoch 55/10000\n",
      "23043/23043 [==============================] - 0s 1us/step - loss: 1.0637 - val_loss: 0.8627\n",
      "Epoch 56/10000\n",
      "23043/23043 [==============================] - 0s 1us/step - loss: 1.0625 - val_loss: 0.8623\n",
      "Epoch 57/10000\n",
      "23043/23043 [==============================] - 0s 1us/step - loss: 1.0614 - val_loss: 0.8620\n",
      "Epoch 58/10000\n",
      "23043/23043 [==============================] - 0s 1us/step - loss: 1.0602 - val_loss: 0.8615\n",
      "Epoch 59/10000\n",
      "23043/23043 [==============================] - 0s 1us/step - loss: 1.0590 - val_loss: 0.8612\n",
      "Epoch 60/10000\n",
      "23043/23043 [==============================] - 0s 0us/step - loss: 1.0578 - val_loss: 0.8608\n",
      "Epoch 61/10000\n",
      "23043/23043 [==============================] - 0s 1us/step - loss: 1.0567 - val_loss: 0.8604\n",
      "Epoch 62/10000\n",
      "23043/23043 [==============================] - 0s 0us/step - loss: 1.0555 - val_loss: 0.8600\n",
      "Epoch 63/10000\n",
      "23043/23043 [==============================] - 0s 0us/step - loss: 1.0544 - val_loss: 0.8597\n",
      "Epoch 64/10000\n",
      "23043/23043 [==============================] - 0s 1us/step - loss: 1.0532 - val_loss: 0.8593\n",
      "Epoch 65/10000\n",
      "23043/23043 [==============================] - 0s 1us/step - loss: 1.0521 - val_loss: 0.8589\n",
      "Epoch 66/10000\n",
      "23043/23043 [==============================] - 0s 0us/step - loss: 1.0509 - val_loss: 0.8585\n",
      "Epoch 67/10000\n",
      "23043/23043 [==============================] - 0s 1us/step - loss: 1.0498 - val_loss: 0.8582\n",
      "Epoch 68/10000\n",
      "23043/23043 [==============================] - 0s 1us/step - loss: 1.0487 - val_loss: 0.8578\n",
      "Epoch 69/10000\n",
      "23043/23043 [==============================] - 0s 1us/step - loss: 1.0475 - val_loss: 0.8574\n",
      "Epoch 70/10000\n",
      "23043/23043 [==============================] - 0s 1us/step - loss: 1.0464 - val_loss: 0.8571\n",
      "Epoch 71/10000\n",
      "23043/23043 [==============================] - 0s 1us/step - loss: 1.0453 - val_loss: 0.8567\n",
      "Epoch 72/10000\n",
      "23043/23043 [==============================] - 0s 1us/step - loss: 1.0442 - val_loss: 0.8563\n",
      "Epoch 73/10000\n",
      "23043/23043 [==============================] - 0s 1us/step - loss: 1.0431 - val_loss: 0.8560\n",
      "Epoch 74/10000\n",
      "23043/23043 [==============================] - 0s 1us/step - loss: 1.0420 - val_loss: 0.8556\n",
      "Epoch 75/10000\n",
      "23043/23043 [==============================] - 0s 1us/step - loss: 1.0408 - val_loss: 0.8552\n",
      "Epoch 76/10000\n",
      "23043/23043 [==============================] - 0s 1us/step - loss: 1.0397 - val_loss: 0.8549\n"
     ]
    },
    {
     "name": "stdout",
     "output_type": "stream",
     "text": [
      "Epoch 77/10000\n",
      "23043/23043 [==============================] - 0s 1us/step - loss: 1.0386 - val_loss: 0.8545\n",
      "Epoch 78/10000\n",
      "23043/23043 [==============================] - 0s 1us/step - loss: 1.0375 - val_loss: 0.8541\n",
      "Epoch 79/10000\n",
      "23043/23043 [==============================] - 0s 1us/step - loss: 1.0364 - val_loss: 0.8538\n",
      "Epoch 80/10000\n",
      "23043/23043 [==============================] - 0s 1us/step - loss: 1.0353 - val_loss: 0.8534\n",
      "Epoch 81/10000\n",
      "23043/23043 [==============================] - 0s 1us/step - loss: 1.0342 - val_loss: 0.8531\n",
      "Epoch 82/10000\n",
      "23043/23043 [==============================] - 0s 1us/step - loss: 1.0332 - val_loss: 0.8527\n",
      "Epoch 83/10000\n",
      "23043/23043 [==============================] - 0s 1us/step - loss: 1.0321 - val_loss: 0.8524\n",
      "Epoch 84/10000\n",
      "23043/23043 [==============================] - 0s 1us/step - loss: 1.0310 - val_loss: 0.8520\n",
      "Epoch 85/10000\n",
      "23043/23043 [==============================] - 0s 1us/step - loss: 1.0299 - val_loss: 0.8516\n",
      "Epoch 86/10000\n",
      "23043/23043 [==============================] - 0s 1us/step - loss: 1.0288 - val_loss: 0.8513\n",
      "Epoch 87/10000\n",
      "23043/23043 [==============================] - 0s 1us/step - loss: 1.0277 - val_loss: 0.8509\n",
      "Epoch 88/10000\n",
      "23043/23043 [==============================] - 0s 1us/step - loss: 1.0267 - val_loss: 0.8505\n",
      "Epoch 89/10000\n",
      "23043/23043 [==============================] - 0s 1us/step - loss: 1.0256 - val_loss: 0.8502\n",
      "Epoch 90/10000\n",
      "23043/23043 [==============================] - 0s 1us/step - loss: 1.0245 - val_loss: 0.8498\n",
      "Epoch 91/10000\n",
      "23043/23043 [==============================] - 0s 1us/step - loss: 1.0234 - val_loss: 0.8495\n",
      "Epoch 92/10000\n",
      "23043/23043 [==============================] - 0s 1us/step - loss: 1.0223 - val_loss: 0.8491\n",
      "Epoch 93/10000\n",
      "23043/23043 [==============================] - 0s 1us/step - loss: 1.0213 - val_loss: 0.8487\n",
      "Epoch 94/10000\n",
      "23043/23043 [==============================] - 0s 1us/step - loss: 1.0202 - val_loss: 0.8484\n",
      "Epoch 95/10000\n",
      "23043/23043 [==============================] - 0s 1us/step - loss: 1.0191 - val_loss: 0.8480\n",
      "Epoch 96/10000\n",
      "23043/23043 [==============================] - 0s 1us/step - loss: 1.0180 - val_loss: 0.8476\n",
      "Epoch 97/10000\n",
      "23043/23043 [==============================] - 0s 1us/step - loss: 1.0169 - val_loss: 0.8473\n",
      "Epoch 98/10000\n",
      "23043/23043 [==============================] - 0s 1us/step - loss: 1.0159 - val_loss: 0.8469\n",
      "Epoch 99/10000\n",
      "23043/23043 [==============================] - 0s 1us/step - loss: 1.0148 - val_loss: 0.8465\n",
      "Epoch 100/10000\n",
      "23043/23043 [==============================] - 0s 1us/step - loss: 1.0137 - val_loss: 0.8461\n",
      "Epoch 101/10000\n",
      "23043/23043 [==============================] - 0s 1us/step - loss: 1.0126 - val_loss: 0.8458\n",
      "Epoch 102/10000\n",
      "23043/23043 [==============================] - 0s 1us/step - loss: 1.0116 - val_loss: 0.8454\n",
      "Epoch 103/10000\n",
      "23043/23043 [==============================] - 0s 1us/step - loss: 1.0105 - val_loss: 0.8450\n",
      "Epoch 104/10000\n",
      "23043/23043 [==============================] - 0s 1us/step - loss: 1.0094 - val_loss: 0.8446\n",
      "Epoch 105/10000\n",
      "23043/23043 [==============================] - 0s 1us/step - loss: 1.0083 - val_loss: 0.8443\n",
      "Epoch 106/10000\n",
      "23043/23043 [==============================] - 0s 1us/step - loss: 1.0072 - val_loss: 0.8439\n",
      "Epoch 107/10000\n",
      "23043/23043 [==============================] - 0s 1us/step - loss: 1.0061 - val_loss: 0.8435\n",
      "Epoch 108/10000\n",
      "23043/23043 [==============================] - 0s 1us/step - loss: 1.0051 - val_loss: 0.8431\n",
      "Epoch 109/10000\n",
      "23043/23043 [==============================] - 0s 1us/step - loss: 1.0040 - val_loss: 0.8427\n",
      "Epoch 110/10000\n",
      "23043/23043 [==============================] - 0s 1us/step - loss: 1.0029 - val_loss: 0.8423\n",
      "Epoch 111/10000\n",
      "23043/23043 [==============================] - 0s 1us/step - loss: 1.0018 - val_loss: 0.8420\n",
      "Epoch 112/10000\n",
      "23043/23043 [==============================] - 0s 1us/step - loss: 1.0007 - val_loss: 0.8416\n",
      "Epoch 113/10000\n",
      "23043/23043 [==============================] - 0s 1us/step - loss: 0.9996 - val_loss: 0.8412\n",
      "Epoch 114/10000\n",
      "23043/23043 [==============================] - 0s 1us/step - loss: 0.9985 - val_loss: 0.8408\n",
      "Epoch 115/10000\n",
      "23043/23043 [==============================] - 0s 1us/step - loss: 0.9974 - val_loss: 0.8404\n",
      "Epoch 116/10000\n",
      "23043/23043 [==============================] - 0s 1us/step - loss: 0.9963 - val_loss: 0.8400\n",
      "Epoch 117/10000\n",
      "23043/23043 [==============================] - 0s 1us/step - loss: 0.9952 - val_loss: 0.8396\n",
      "Epoch 118/10000\n",
      "23043/23043 [==============================] - 0s 1us/step - loss: 0.9941 - val_loss: 0.8392\n",
      "Epoch 119/10000\n",
      "23043/23043 [==============================] - 0s 1us/step - loss: 0.9930 - val_loss: 0.8388\n",
      "Epoch 120/10000\n",
      "23043/23043 [==============================] - 0s 1us/step - loss: 0.9919 - val_loss: 0.8383\n",
      "Epoch 121/10000\n",
      "23043/23043 [==============================] - 0s 1us/step - loss: 0.9908 - val_loss: 0.8379\n",
      "Epoch 122/10000\n",
      "23043/23043 [==============================] - 0s 1us/step - loss: 0.9897 - val_loss: 0.8375\n",
      "Epoch 123/10000\n",
      "23043/23043 [==============================] - 0s 1us/step - loss: 0.9886 - val_loss: 0.8371\n",
      "Epoch 124/10000\n",
      "23043/23043 [==============================] - 0s 1us/step - loss: 0.9875 - val_loss: 0.8367\n",
      "Epoch 125/10000\n",
      "23043/23043 [==============================] - 0s 1us/step - loss: 0.9864 - val_loss: 0.8363\n",
      "Epoch 126/10000\n",
      "23043/23043 [==============================] - 0s 1us/step - loss: 0.9853 - val_loss: 0.8359\n",
      "Epoch 127/10000\n",
      "23043/23043 [==============================] - 0s 1us/step - loss: 0.9841 - val_loss: 0.8354\n",
      "Epoch 128/10000\n",
      "23043/23043 [==============================] - 0s 1us/step - loss: 0.9830 - val_loss: 0.8350\n",
      "Epoch 129/10000\n",
      "23043/23043 [==============================] - 0s 1us/step - loss: 0.9819 - val_loss: 0.8346\n",
      "Epoch 130/10000\n",
      "23043/23043 [==============================] - 0s 1us/step - loss: 0.9808 - val_loss: 0.8342\n",
      "Epoch 131/10000\n",
      "23043/23043 [==============================] - 0s 1us/step - loss: 0.9796 - val_loss: 0.8337\n",
      "Epoch 132/10000\n",
      "23043/23043 [==============================] - 0s 1us/step - loss: 0.9785 - val_loss: 0.8333\n",
      "Epoch 133/10000\n",
      "23043/23043 [==============================] - 0s 1us/step - loss: 0.9774 - val_loss: 0.8329\n",
      "Epoch 134/10000\n",
      "23043/23043 [==============================] - 0s 1us/step - loss: 0.9763 - val_loss: 0.8324\n",
      "Epoch 135/10000\n",
      "23043/23043 [==============================] - 0s 1us/step - loss: 0.9751 - val_loss: 0.8320\n",
      "Epoch 136/10000\n",
      "23043/23043 [==============================] - 0s 1us/step - loss: 0.9740 - val_loss: 0.8315\n",
      "Epoch 137/10000\n",
      "23043/23043 [==============================] - 0s 1us/step - loss: 0.9728 - val_loss: 0.8311\n",
      "Epoch 138/10000\n",
      "23043/23043 [==============================] - 0s 1us/step - loss: 0.9717 - val_loss: 0.8307\n",
      "Epoch 139/10000\n",
      "23043/23043 [==============================] - 0s 1us/step - loss: 0.9705 - val_loss: 0.8302\n",
      "Epoch 140/10000\n",
      "23043/23043 [==============================] - 0s 1us/step - loss: 0.9694 - val_loss: 0.8298\n",
      "Epoch 141/10000\n",
      "23043/23043 [==============================] - 0s 1us/step - loss: 0.9683 - val_loss: 0.8293\n",
      "Epoch 142/10000\n",
      "23043/23043 [==============================] - 0s 1us/step - loss: 0.9671 - val_loss: 0.8289\n",
      "Epoch 143/10000\n",
      "23043/23043 [==============================] - 0s 1us/step - loss: 0.9659 - val_loss: 0.8284\n",
      "Epoch 144/10000\n",
      "23043/23043 [==============================] - 0s 1us/step - loss: 0.9648 - val_loss: 0.8280\n",
      "Epoch 145/10000\n",
      "23043/23043 [==============================] - 0s 1us/step - loss: 0.9636 - val_loss: 0.8275\n",
      "Epoch 146/10000\n",
      "23043/23043 [==============================] - 0s 1us/step - loss: 0.9625 - val_loss: 0.8271\n",
      "Epoch 147/10000\n",
      "23043/23043 [==============================] - 0s 1us/step - loss: 0.9613 - val_loss: 0.8266\n",
      "Epoch 148/10000\n",
      "23043/23043 [==============================] - 0s 1us/step - loss: 0.9602 - val_loss: 0.8261\n",
      "Epoch 149/10000\n",
      "23043/23043 [==============================] - 0s 1us/step - loss: 0.9590 - val_loss: 0.8257\n",
      "Epoch 150/10000\n",
      "23043/23043 [==============================] - 0s 1us/step - loss: 0.9578 - val_loss: 0.8252\n",
      "Epoch 151/10000\n",
      "23043/23043 [==============================] - 0s 1us/step - loss: 0.9567 - val_loss: 0.8248\n",
      "Epoch 152/10000\n",
      "23043/23043 [==============================] - 0s 0us/step - loss: 0.9555 - val_loss: 0.8243\n"
     ]
    },
    {
     "name": "stdout",
     "output_type": "stream",
     "text": [
      "Epoch 153/10000\n",
      "23043/23043 [==============================] - 0s 1us/step - loss: 0.9543 - val_loss: 0.8238\n",
      "Epoch 154/10000\n",
      "23043/23043 [==============================] - 0s 1us/step - loss: 0.9531 - val_loss: 0.8234\n",
      "Epoch 155/10000\n",
      "23043/23043 [==============================] - 0s 1us/step - loss: 0.9520 - val_loss: 0.8229\n",
      "Epoch 156/10000\n",
      "23043/23043 [==============================] - 0s 1us/step - loss: 0.9508 - val_loss: 0.8224\n",
      "Epoch 157/10000\n",
      "23043/23043 [==============================] - 0s 1us/step - loss: 0.9496 - val_loss: 0.8220\n",
      "Epoch 158/10000\n",
      "23043/23043 [==============================] - 0s 1us/step - loss: 0.9484 - val_loss: 0.8215\n",
      "Epoch 159/10000\n",
      "23043/23043 [==============================] - 0s 1us/step - loss: 0.9472 - val_loss: 0.8210\n",
      "Epoch 160/10000\n",
      "23043/23043 [==============================] - 0s 1us/step - loss: 0.9460 - val_loss: 0.8205\n",
      "Epoch 161/10000\n",
      "23043/23043 [==============================] - 0s 1us/step - loss: 0.9449 - val_loss: 0.8201\n",
      "Epoch 162/10000\n",
      "23043/23043 [==============================] - 0s 1us/step - loss: 0.9437 - val_loss: 0.8196\n",
      "Epoch 163/10000\n",
      "23043/23043 [==============================] - 0s 1us/step - loss: 0.9425 - val_loss: 0.8191\n",
      "Epoch 164/10000\n",
      "23043/23043 [==============================] - 0s 1us/step - loss: 0.9413 - val_loss: 0.8186\n",
      "Epoch 165/10000\n",
      "23043/23043 [==============================] - 0s 1us/step - loss: 0.9401 - val_loss: 0.8182\n",
      "Epoch 166/10000\n",
      "23043/23043 [==============================] - 0s 1us/step - loss: 0.9389 - val_loss: 0.8177\n",
      "Epoch 167/10000\n",
      "23043/23043 [==============================] - 0s 1us/step - loss: 0.9377 - val_loss: 0.8172\n",
      "Epoch 168/10000\n",
      "23043/23043 [==============================] - 0s 1us/step - loss: 0.9365 - val_loss: 0.8167\n",
      "Epoch 169/10000\n",
      "23043/23043 [==============================] - 0s 1us/step - loss: 0.9353 - val_loss: 0.8163\n",
      "Epoch 170/10000\n",
      "23043/23043 [==============================] - 0s 1us/step - loss: 0.9341 - val_loss: 0.8158\n",
      "Epoch 171/10000\n",
      "23043/23043 [==============================] - 0s 1us/step - loss: 0.9329 - val_loss: 0.8153\n",
      "Epoch 172/10000\n",
      "23043/23043 [==============================] - 0s 1us/step - loss: 0.9317 - val_loss: 0.8148\n",
      "Epoch 173/10000\n",
      "23043/23043 [==============================] - 0s 1us/step - loss: 0.9305 - val_loss: 0.8143\n",
      "Epoch 174/10000\n",
      "23043/23043 [==============================] - 0s 1us/step - loss: 0.9293 - val_loss: 0.8138\n",
      "Epoch 175/10000\n",
      "23043/23043 [==============================] - 0s 1us/step - loss: 0.9281 - val_loss: 0.8134\n",
      "Epoch 176/10000\n",
      "23043/23043 [==============================] - 0s 1us/step - loss: 0.9269 - val_loss: 0.8129\n",
      "Epoch 177/10000\n",
      "23043/23043 [==============================] - 0s 1us/step - loss: 0.9257 - val_loss: 0.8124\n",
      "Epoch 178/10000\n",
      "23043/23043 [==============================] - 0s 1us/step - loss: 0.9245 - val_loss: 0.8119\n",
      "Epoch 179/10000\n",
      "23043/23043 [==============================] - 0s 1us/step - loss: 0.9233 - val_loss: 0.8115\n",
      "Epoch 180/10000\n",
      "23043/23043 [==============================] - 0s 1us/step - loss: 0.9221 - val_loss: 0.8110\n",
      "Epoch 181/10000\n",
      "23043/23043 [==============================] - 0s 1us/step - loss: 0.9209 - val_loss: 0.8105\n",
      "Epoch 182/10000\n",
      "23043/23043 [==============================] - 0s 1us/step - loss: 0.9197 - val_loss: 0.8100\n",
      "Epoch 183/10000\n",
      "23043/23043 [==============================] - 0s 1us/step - loss: 0.9184 - val_loss: 0.8095\n",
      "Epoch 184/10000\n",
      "23043/23043 [==============================] - 0s 1us/step - loss: 0.9172 - val_loss: 0.8090\n",
      "Epoch 185/10000\n",
      "23043/23043 [==============================] - 0s 0us/step - loss: 0.9160 - val_loss: 0.8086\n",
      "Epoch 186/10000\n",
      "23043/23043 [==============================] - 0s 0us/step - loss: 0.9148 - val_loss: 0.8081\n",
      "Epoch 187/10000\n",
      "23043/23043 [==============================] - 0s 0us/step - loss: 0.9136 - val_loss: 0.8076\n",
      "Epoch 188/10000\n",
      "23043/23043 [==============================] - 0s 0us/step - loss: 0.9124 - val_loss: 0.8071\n",
      "Epoch 189/10000\n",
      "23043/23043 [==============================] - 0s 0us/step - loss: 0.9112 - val_loss: 0.8067\n",
      "Epoch 190/10000\n",
      "23043/23043 [==============================] - 0s 1us/step - loss: 0.9100 - val_loss: 0.8062\n",
      "Epoch 191/10000\n",
      "23043/23043 [==============================] - 0s 1us/step - loss: 0.9088 - val_loss: 0.8057\n",
      "Epoch 192/10000\n",
      "23043/23043 [==============================] - 0s 0us/step - loss: 0.9075 - val_loss: 0.8052\n",
      "Epoch 193/10000\n",
      "23043/23043 [==============================] - 0s 0us/step - loss: 0.9063 - val_loss: 0.8048\n",
      "Epoch 194/10000\n",
      "23043/23043 [==============================] - 0s 0us/step - loss: 0.9051 - val_loss: 0.8043\n",
      "Epoch 195/10000\n",
      "23043/23043 [==============================] - 0s 0us/step - loss: 0.9039 - val_loss: 0.8038\n",
      "Epoch 196/10000\n",
      "23043/23043 [==============================] - 0s 0us/step - loss: 0.9027 - val_loss: 0.8033\n",
      "Epoch 197/10000\n",
      "23043/23043 [==============================] - 0s 0us/step - loss: 0.9015 - val_loss: 0.8029\n",
      "Epoch 198/10000\n",
      "23043/23043 [==============================] - 0s 0us/step - loss: 0.9003 - val_loss: 0.8024\n",
      "Epoch 199/10000\n",
      "23043/23043 [==============================] - 0s 1us/step - loss: 0.8991 - val_loss: 0.8020\n",
      "Epoch 200/10000\n",
      "23043/23043 [==============================] - 0s 0us/step - loss: 0.8979 - val_loss: 0.8015\n",
      "Epoch 201/10000\n",
      "23043/23043 [==============================] - 0s 0us/step - loss: 0.8967 - val_loss: 0.8010\n",
      "Epoch 202/10000\n",
      "23043/23043 [==============================] - 0s 0us/step - loss: 0.8955 - val_loss: 0.8005\n",
      "Epoch 203/10000\n",
      "23043/23043 [==============================] - 0s 1us/step - loss: 0.8943 - val_loss: 0.8001\n",
      "Epoch 204/10000\n",
      "23043/23043 [==============================] - 0s 0us/step - loss: 0.8931 - val_loss: 0.7996\n",
      "Epoch 205/10000\n",
      "23043/23043 [==============================] - 0s 0us/step - loss: 0.8919 - val_loss: 0.7992\n",
      "Epoch 206/10000\n",
      "23043/23043 [==============================] - 0s 0us/step - loss: 0.8907 - val_loss: 0.7987\n",
      "Epoch 207/10000\n",
      "23043/23043 [==============================] - 0s 0us/step - loss: 0.8895 - val_loss: 0.7983\n",
      "Epoch 208/10000\n",
      "23043/23043 [==============================] - 0s 1us/step - loss: 0.8883 - val_loss: 0.7978\n",
      "Epoch 209/10000\n",
      "23043/23043 [==============================] - 0s 1us/step - loss: 0.8871 - val_loss: 0.7974\n",
      "Epoch 210/10000\n",
      "23043/23043 [==============================] - 0s 1us/step - loss: 0.8859 - val_loss: 0.7969\n",
      "Epoch 211/10000\n",
      "23043/23043 [==============================] - 0s 1us/step - loss: 0.8847 - val_loss: 0.7965\n",
      "Epoch 212/10000\n",
      "23043/23043 [==============================] - 0s 1us/step - loss: 0.8835 - val_loss: 0.7960\n",
      "Epoch 213/10000\n",
      "23043/23043 [==============================] - 0s 1us/step - loss: 0.8823 - val_loss: 0.7956\n",
      "Epoch 214/10000\n",
      "23043/23043 [==============================] - 0s 1us/step - loss: 0.8811 - val_loss: 0.7951\n",
      "Epoch 215/10000\n",
      "23043/23043 [==============================] - 0s 1us/step - loss: 0.8799 - val_loss: 0.7947\n",
      "Epoch 216/10000\n",
      "23043/23043 [==============================] - 0s 1us/step - loss: 0.8787 - val_loss: 0.7943\n",
      "Epoch 217/10000\n",
      "23043/23043 [==============================] - 0s 1us/step - loss: 0.8775 - val_loss: 0.7938\n",
      "Epoch 218/10000\n",
      "23043/23043 [==============================] - 0s 1us/step - loss: 0.8763 - val_loss: 0.7934\n",
      "Epoch 219/10000\n",
      "23043/23043 [==============================] - 0s 0us/step - loss: 0.8751 - val_loss: 0.7930\n",
      "Epoch 220/10000\n",
      "23043/23043 [==============================] - 0s 0us/step - loss: 0.8740 - val_loss: 0.7925\n",
      "Epoch 221/10000\n",
      "23043/23043 [==============================] - 0s 1us/step - loss: 0.8728 - val_loss: 0.7921\n",
      "Epoch 222/10000\n",
      "23043/23043 [==============================] - 0s 1us/step - loss: 0.8716 - val_loss: 0.7917\n",
      "Epoch 223/10000\n",
      "23043/23043 [==============================] - 0s 1us/step - loss: 0.8704 - val_loss: 0.7913\n",
      "Epoch 224/10000\n",
      "23043/23043 [==============================] - 0s 1us/step - loss: 0.8692 - val_loss: 0.7908\n",
      "Epoch 225/10000\n",
      "23043/23043 [==============================] - 0s 1us/step - loss: 0.8681 - val_loss: 0.7904\n",
      "Epoch 226/10000\n",
      "23043/23043 [==============================] - 0s 1us/step - loss: 0.8669 - val_loss: 0.7900\n",
      "Epoch 227/10000\n",
      "23043/23043 [==============================] - 0s 1us/step - loss: 0.8657 - val_loss: 0.7896\n",
      "Epoch 228/10000\n",
      "23043/23043 [==============================] - 0s 1us/step - loss: 0.8645 - val_loss: 0.7892\n"
     ]
    },
    {
     "name": "stdout",
     "output_type": "stream",
     "text": [
      "Epoch 229/10000\n",
      "23043/23043 [==============================] - 0s 1us/step - loss: 0.8634 - val_loss: 0.7888\n",
      "Epoch 230/10000\n",
      "23043/23043 [==============================] - 0s 1us/step - loss: 0.8622 - val_loss: 0.7884\n",
      "Epoch 231/10000\n",
      "23043/23043 [==============================] - 0s 1us/step - loss: 0.8610 - val_loss: 0.7880\n",
      "Epoch 232/10000\n",
      "23043/23043 [==============================] - 0s 1us/step - loss: 0.8599 - val_loss: 0.7876\n",
      "Epoch 233/10000\n",
      "23043/23043 [==============================] - 0s 1us/step - loss: 0.8587 - val_loss: 0.7872\n",
      "Epoch 234/10000\n",
      "23043/23043 [==============================] - 0s 1us/step - loss: 0.8575 - val_loss: 0.7868\n",
      "Epoch 235/10000\n",
      "23043/23043 [==============================] - 0s 1us/step - loss: 0.8564 - val_loss: 0.7864\n",
      "Epoch 236/10000\n",
      "23043/23043 [==============================] - 0s 1us/step - loss: 0.8552 - val_loss: 0.7860\n",
      "Epoch 237/10000\n",
      "23043/23043 [==============================] - 0s 1us/step - loss: 0.8541 - val_loss: 0.7856\n",
      "Epoch 238/10000\n",
      "23043/23043 [==============================] - 0s 1us/step - loss: 0.8529 - val_loss: 0.7852\n",
      "Epoch 239/10000\n",
      "23043/23043 [==============================] - 0s 1us/step - loss: 0.8518 - val_loss: 0.7848\n",
      "Epoch 240/10000\n",
      "23043/23043 [==============================] - 0s 1us/step - loss: 0.8506 - val_loss: 0.7845\n",
      "Epoch 241/10000\n",
      "23043/23043 [==============================] - 0s 1us/step - loss: 0.8495 - val_loss: 0.7841\n",
      "Epoch 242/10000\n",
      "23043/23043 [==============================] - 0s 1us/step - loss: 0.8483 - val_loss: 0.7837\n",
      "Epoch 243/10000\n",
      "23043/23043 [==============================] - 0s 1us/step - loss: 0.8472 - val_loss: 0.7833\n",
      "Epoch 244/10000\n",
      "23043/23043 [==============================] - 0s 1us/step - loss: 0.8461 - val_loss: 0.7830\n",
      "Epoch 245/10000\n",
      "23043/23043 [==============================] - 0s 1us/step - loss: 0.8449 - val_loss: 0.7826\n",
      "Epoch 246/10000\n",
      "23043/23043 [==============================] - 0s 1us/step - loss: 0.8438 - val_loss: 0.7822\n",
      "Epoch 247/10000\n",
      "23043/23043 [==============================] - 0s 1us/step - loss: 0.8427 - val_loss: 0.7819\n",
      "Epoch 248/10000\n",
      "23043/23043 [==============================] - 0s 1us/step - loss: 0.8415 - val_loss: 0.7815\n",
      "Epoch 249/10000\n",
      "23043/23043 [==============================] - 0s 1us/step - loss: 0.8404 - val_loss: 0.7812\n",
      "Epoch 250/10000\n",
      "23043/23043 [==============================] - 0s 1us/step - loss: 0.8393 - val_loss: 0.7808\n",
      "Epoch 251/10000\n",
      "23043/23043 [==============================] - 0s 1us/step - loss: 0.8381 - val_loss: 0.7805\n",
      "Epoch 252/10000\n",
      "23043/23043 [==============================] - 0s 1us/step - loss: 0.8370 - val_loss: 0.7801\n",
      "Epoch 253/10000\n",
      "23043/23043 [==============================] - 0s 1us/step - loss: 0.8359 - val_loss: 0.7798\n",
      "Epoch 254/10000\n",
      "23043/23043 [==============================] - 0s 1us/step - loss: 0.8348 - val_loss: 0.7794\n",
      "Epoch 255/10000\n",
      "23043/23043 [==============================] - 0s 1us/step - loss: 0.8337 - val_loss: 0.7791\n",
      "Epoch 256/10000\n",
      "23043/23043 [==============================] - 0s 1us/step - loss: 0.8325 - val_loss: 0.7787\n",
      "Epoch 257/10000\n",
      "23043/23043 [==============================] - 0s 1us/step - loss: 0.8314 - val_loss: 0.7784\n",
      "Epoch 258/10000\n",
      "23043/23043 [==============================] - 0s 1us/step - loss: 0.8303 - val_loss: 0.7780\n",
      "Epoch 259/10000\n",
      "23043/23043 [==============================] - 0s 1us/step - loss: 0.8292 - val_loss: 0.7777\n",
      "Epoch 260/10000\n",
      "23043/23043 [==============================] - 0s 1us/step - loss: 0.8281 - val_loss: 0.7774\n",
      "Epoch 261/10000\n",
      "23043/23043 [==============================] - 0s 1us/step - loss: 0.8270 - val_loss: 0.7771\n",
      "Epoch 262/10000\n",
      "23043/23043 [==============================] - 0s 1us/step - loss: 0.8259 - val_loss: 0.7767\n",
      "Epoch 263/10000\n",
      "23043/23043 [==============================] - 0s 1us/step - loss: 0.8248 - val_loss: 0.7764\n",
      "Epoch 264/10000\n",
      "23043/23043 [==============================] - 0s 1us/step - loss: 0.8237 - val_loss: 0.7761\n",
      "Epoch 265/10000\n",
      "23043/23043 [==============================] - 0s 0us/step - loss: 0.8226 - val_loss: 0.7758\n",
      "Epoch 266/10000\n",
      "23043/23043 [==============================] - 0s 1us/step - loss: 0.8215 - val_loss: 0.7755\n",
      "Epoch 267/10000\n",
      "23043/23043 [==============================] - 0s 1us/step - loss: 0.8204 - val_loss: 0.7752\n",
      "Epoch 268/10000\n",
      "23043/23043 [==============================] - 0s 1us/step - loss: 0.8193 - val_loss: 0.7748\n",
      "Epoch 269/10000\n",
      "23043/23043 [==============================] - 0s 1us/step - loss: 0.8183 - val_loss: 0.7746\n",
      "Epoch 270/10000\n",
      "23043/23043 [==============================] - 0s 1us/step - loss: 0.8172 - val_loss: 0.7742\n",
      "Epoch 271/10000\n",
      "23043/23043 [==============================] - 0s 1us/step - loss: 0.8161 - val_loss: 0.7739\n",
      "Epoch 272/10000\n",
      "23043/23043 [==============================] - 0s 1us/step - loss: 0.8150 - val_loss: 0.7736\n",
      "Epoch 273/10000\n",
      "23043/23043 [==============================] - 0s 1us/step - loss: 0.8139 - val_loss: 0.7733\n",
      "Epoch 274/10000\n",
      "23043/23043 [==============================] - 0s 1us/step - loss: 0.8129 - val_loss: 0.7730\n",
      "Epoch 275/10000\n",
      "23043/23043 [==============================] - 0s 1us/step - loss: 0.8118 - val_loss: 0.7728\n",
      "Epoch 276/10000\n",
      "23043/23043 [==============================] - 0s 1us/step - loss: 0.8107 - val_loss: 0.7725\n",
      "Epoch 277/10000\n",
      "23043/23043 [==============================] - 0s 1us/step - loss: 0.8097 - val_loss: 0.7722\n",
      "Epoch 278/10000\n",
      "23043/23043 [==============================] - 0s 1us/step - loss: 0.8086 - val_loss: 0.7719\n",
      "Epoch 279/10000\n",
      "23043/23043 [==============================] - 0s 1us/step - loss: 0.8075 - val_loss: 0.7716\n",
      "Epoch 280/10000\n",
      "23043/23043 [==============================] - 0s 1us/step - loss: 0.8065 - val_loss: 0.7713\n",
      "Epoch 281/10000\n",
      "23043/23043 [==============================] - 0s 1us/step - loss: 0.8054 - val_loss: 0.7711\n",
      "Epoch 282/10000\n",
      "23043/23043 [==============================] - 0s 1us/step - loss: 0.8044 - val_loss: 0.7708\n",
      "Epoch 283/10000\n",
      "23043/23043 [==============================] - 0s 1us/step - loss: 0.8033 - val_loss: 0.7705\n",
      "Epoch 284/10000\n",
      "23043/23043 [==============================] - 0s 1us/step - loss: 0.8023 - val_loss: 0.7702\n",
      "Epoch 285/10000\n",
      "23043/23043 [==============================] - 0s 1us/step - loss: 0.8012 - val_loss: 0.7700\n",
      "Epoch 286/10000\n",
      "23043/23043 [==============================] - 0s 0us/step - loss: 0.8002 - val_loss: 0.7697\n",
      "Epoch 287/10000\n",
      "23043/23043 [==============================] - 0s 1us/step - loss: 0.7991 - val_loss: 0.7694\n",
      "Epoch 288/10000\n",
      "23043/23043 [==============================] - 0s 1us/step - loss: 0.7981 - val_loss: 0.7692\n",
      "Epoch 289/10000\n",
      "23043/23043 [==============================] - 0s 1us/step - loss: 0.7971 - val_loss: 0.7689\n",
      "Epoch 290/10000\n",
      "23043/23043 [==============================] - 0s 1us/step - loss: 0.7960 - val_loss: 0.7687\n",
      "Epoch 291/10000\n",
      "23043/23043 [==============================] - 0s 1us/step - loss: 0.7950 - val_loss: 0.7684\n",
      "Epoch 292/10000\n",
      "23043/23043 [==============================] - 0s 1us/step - loss: 0.7939 - val_loss: 0.7681\n",
      "Epoch 293/10000\n",
      "23043/23043 [==============================] - 0s 1us/step - loss: 0.7929 - val_loss: 0.7679\n",
      "Epoch 294/10000\n",
      "23043/23043 [==============================] - 0s 1us/step - loss: 0.7919 - val_loss: 0.7676\n",
      "Epoch 295/10000\n",
      "23043/23043 [==============================] - 0s 1us/step - loss: 0.7909 - val_loss: 0.7674\n",
      "Epoch 296/10000\n",
      "23043/23043 [==============================] - 0s 1us/step - loss: 0.7898 - val_loss: 0.7672\n",
      "Epoch 297/10000\n",
      "23043/23043 [==============================] - 0s 1us/step - loss: 0.7888 - val_loss: 0.7669\n",
      "Epoch 298/10000\n",
      "23043/23043 [==============================] - 0s 1us/step - loss: 0.7878 - val_loss: 0.7667\n",
      "Epoch 299/10000\n",
      "23043/23043 [==============================] - 0s 1us/step - loss: 0.7868 - val_loss: 0.7664\n",
      "Epoch 300/10000\n",
      "23043/23043 [==============================] - 0s 1us/step - loss: 0.7858 - val_loss: 0.7662\n",
      "Epoch 301/10000\n",
      "23043/23043 [==============================] - 0s 1us/step - loss: 0.7848 - val_loss: 0.7660\n",
      "Epoch 302/10000\n",
      "23043/23043 [==============================] - 0s 1us/step - loss: 0.7838 - val_loss: 0.7657\n",
      "Epoch 303/10000\n",
      "23043/23043 [==============================] - 0s 1us/step - loss: 0.7827 - val_loss: 0.7655\n",
      "Epoch 304/10000\n",
      "23043/23043 [==============================] - 0s 1us/step - loss: 0.7817 - val_loss: 0.7653\n"
     ]
    },
    {
     "name": "stdout",
     "output_type": "stream",
     "text": [
      "Epoch 305/10000\n",
      "23043/23043 [==============================] - 0s 0us/step - loss: 0.7807 - val_loss: 0.7651\n",
      "Epoch 306/10000\n",
      "23043/23043 [==============================] - 0s 0us/step - loss: 0.7797 - val_loss: 0.7648\n",
      "Epoch 307/10000\n",
      "23043/23043 [==============================] - 0s 1us/step - loss: 0.7787 - val_loss: 0.7646\n",
      "Epoch 308/10000\n",
      "23043/23043 [==============================] - 0s 1us/step - loss: 0.7777 - val_loss: 0.7644\n",
      "Epoch 309/10000\n",
      "23043/23043 [==============================] - 0s 1us/step - loss: 0.7768 - val_loss: 0.7642\n",
      "Epoch 310/10000\n",
      "23043/23043 [==============================] - 0s 1us/step - loss: 0.7758 - val_loss: 0.7640\n",
      "Epoch 311/10000\n",
      "23043/23043 [==============================] - 0s 1us/step - loss: 0.7748 - val_loss: 0.7638\n",
      "Epoch 312/10000\n",
      "23043/23043 [==============================] - 0s 1us/step - loss: 0.7738 - val_loss: 0.7635\n",
      "Epoch 313/10000\n",
      "23043/23043 [==============================] - 0s 1us/step - loss: 0.7728 - val_loss: 0.7633\n",
      "Epoch 314/10000\n",
      "23043/23043 [==============================] - 0s 1us/step - loss: 0.7718 - val_loss: 0.7631\n",
      "Epoch 315/10000\n",
      "23043/23043 [==============================] - 0s 1us/step - loss: 0.7708 - val_loss: 0.7629\n",
      "Epoch 316/10000\n",
      "23043/23043 [==============================] - 0s 1us/step - loss: 0.7699 - val_loss: 0.7627\n",
      "Epoch 317/10000\n",
      "23043/23043 [==============================] - 0s 1us/step - loss: 0.7689 - val_loss: 0.7625\n",
      "Epoch 318/10000\n",
      "23043/23043 [==============================] - 0s 1us/step - loss: 0.7679 - val_loss: 0.7623\n",
      "Epoch 319/10000\n",
      "23043/23043 [==============================] - 0s 1us/step - loss: 0.7669 - val_loss: 0.7621\n"
     ]
    },
    {
     "data": {
      "text/html": [
       "<div>\n",
       "<style scoped>\n",
       "    .dataframe tbody tr th:only-of-type {\n",
       "        vertical-align: middle;\n",
       "    }\n",
       "\n",
       "    .dataframe tbody tr th {\n",
       "        vertical-align: top;\n",
       "    }\n",
       "\n",
       "    .dataframe thead th {\n",
       "        text-align: right;\n",
       "    }\n",
       "</style>\n",
       "<table border=\"1\" class=\"dataframe\">\n",
       "  <thead>\n",
       "    <tr style=\"text-align: right;\">\n",
       "      <th></th>\n",
       "      <th>PassengerId</th>\n",
       "      <th>Survived</th>\n",
       "      <th>Pclass</th>\n",
       "      <th>Age</th>\n",
       "      <th>SibSp</th>\n",
       "      <th>Parch</th>\n",
       "      <th>Fare</th>\n",
       "      <th>Sex_female</th>\n",
       "      <th>Sex_male</th>\n",
       "      <th>Embarked_C</th>\n",
       "      <th>...</th>\n",
       "      <th>title_Master</th>\n",
       "      <th>title_Miss</th>\n",
       "      <th>title_Mlle</th>\n",
       "      <th>title_Mme</th>\n",
       "      <th>title_Mr</th>\n",
       "      <th>title_Mrs</th>\n",
       "      <th>title_Ms</th>\n",
       "      <th>title_Rev</th>\n",
       "      <th>title_Sir</th>\n",
       "      <th>title_the Countess</th>\n",
       "    </tr>\n",
       "  </thead>\n",
       "  <tbody>\n",
       "    <tr>\n",
       "      <th>0</th>\n",
       "      <td>1.0</td>\n",
       "      <td>0.0</td>\n",
       "      <td>3.0</td>\n",
       "      <td>22.000000</td>\n",
       "      <td>1.0</td>\n",
       "      <td>0.0</td>\n",
       "      <td>7.2500</td>\n",
       "      <td>0.0</td>\n",
       "      <td>1.0</td>\n",
       "      <td>0.0</td>\n",
       "      <td>...</td>\n",
       "      <td>0.0</td>\n",
       "      <td>0.0</td>\n",
       "      <td>0.0</td>\n",
       "      <td>0.0</td>\n",
       "      <td>1.0</td>\n",
       "      <td>0.0</td>\n",
       "      <td>0.0</td>\n",
       "      <td>0.0</td>\n",
       "      <td>0.0</td>\n",
       "      <td>0.0</td>\n",
       "    </tr>\n",
       "    <tr>\n",
       "      <th>1</th>\n",
       "      <td>2.0</td>\n",
       "      <td>1.0</td>\n",
       "      <td>1.0</td>\n",
       "      <td>38.000000</td>\n",
       "      <td>1.0</td>\n",
       "      <td>0.0</td>\n",
       "      <td>71.2833</td>\n",
       "      <td>1.0</td>\n",
       "      <td>0.0</td>\n",
       "      <td>1.0</td>\n",
       "      <td>...</td>\n",
       "      <td>0.0</td>\n",
       "      <td>0.0</td>\n",
       "      <td>0.0</td>\n",
       "      <td>0.0</td>\n",
       "      <td>0.0</td>\n",
       "      <td>1.0</td>\n",
       "      <td>0.0</td>\n",
       "      <td>0.0</td>\n",
       "      <td>0.0</td>\n",
       "      <td>0.0</td>\n",
       "    </tr>\n",
       "    <tr>\n",
       "      <th>2</th>\n",
       "      <td>3.0</td>\n",
       "      <td>1.0</td>\n",
       "      <td>3.0</td>\n",
       "      <td>26.000000</td>\n",
       "      <td>0.0</td>\n",
       "      <td>0.0</td>\n",
       "      <td>7.9250</td>\n",
       "      <td>1.0</td>\n",
       "      <td>0.0</td>\n",
       "      <td>0.0</td>\n",
       "      <td>...</td>\n",
       "      <td>0.0</td>\n",
       "      <td>1.0</td>\n",
       "      <td>0.0</td>\n",
       "      <td>0.0</td>\n",
       "      <td>0.0</td>\n",
       "      <td>0.0</td>\n",
       "      <td>0.0</td>\n",
       "      <td>0.0</td>\n",
       "      <td>0.0</td>\n",
       "      <td>0.0</td>\n",
       "    </tr>\n",
       "    <tr>\n",
       "      <th>3</th>\n",
       "      <td>4.0</td>\n",
       "      <td>1.0</td>\n",
       "      <td>1.0</td>\n",
       "      <td>35.000000</td>\n",
       "      <td>1.0</td>\n",
       "      <td>0.0</td>\n",
       "      <td>53.1000</td>\n",
       "      <td>1.0</td>\n",
       "      <td>0.0</td>\n",
       "      <td>0.0</td>\n",
       "      <td>...</td>\n",
       "      <td>0.0</td>\n",
       "      <td>0.0</td>\n",
       "      <td>0.0</td>\n",
       "      <td>0.0</td>\n",
       "      <td>0.0</td>\n",
       "      <td>1.0</td>\n",
       "      <td>0.0</td>\n",
       "      <td>0.0</td>\n",
       "      <td>0.0</td>\n",
       "      <td>0.0</td>\n",
       "    </tr>\n",
       "    <tr>\n",
       "      <th>4</th>\n",
       "      <td>5.0</td>\n",
       "      <td>0.0</td>\n",
       "      <td>3.0</td>\n",
       "      <td>35.000000</td>\n",
       "      <td>0.0</td>\n",
       "      <td>0.0</td>\n",
       "      <td>8.0500</td>\n",
       "      <td>0.0</td>\n",
       "      <td>1.0</td>\n",
       "      <td>0.0</td>\n",
       "      <td>...</td>\n",
       "      <td>0.0</td>\n",
       "      <td>0.0</td>\n",
       "      <td>0.0</td>\n",
       "      <td>0.0</td>\n",
       "      <td>1.0</td>\n",
       "      <td>0.0</td>\n",
       "      <td>0.0</td>\n",
       "      <td>0.0</td>\n",
       "      <td>0.0</td>\n",
       "      <td>0.0</td>\n",
       "    </tr>\n",
       "    <tr>\n",
       "      <th>5</th>\n",
       "      <td>6.0</td>\n",
       "      <td>0.0</td>\n",
       "      <td>3.0</td>\n",
       "      <td>23.979451</td>\n",
       "      <td>0.0</td>\n",
       "      <td>0.0</td>\n",
       "      <td>8.4583</td>\n",
       "      <td>0.0</td>\n",
       "      <td>1.0</td>\n",
       "      <td>0.0</td>\n",
       "      <td>...</td>\n",
       "      <td>0.0</td>\n",
       "      <td>0.0</td>\n",
       "      <td>0.0</td>\n",
       "      <td>0.0</td>\n",
       "      <td>1.0</td>\n",
       "      <td>0.0</td>\n",
       "      <td>0.0</td>\n",
       "      <td>0.0</td>\n",
       "      <td>0.0</td>\n",
       "      <td>0.0</td>\n",
       "    </tr>\n",
       "    <tr>\n",
       "      <th>6</th>\n",
       "      <td>7.0</td>\n",
       "      <td>0.0</td>\n",
       "      <td>1.0</td>\n",
       "      <td>54.000000</td>\n",
       "      <td>0.0</td>\n",
       "      <td>0.0</td>\n",
       "      <td>51.8625</td>\n",
       "      <td>0.0</td>\n",
       "      <td>1.0</td>\n",
       "      <td>0.0</td>\n",
       "      <td>...</td>\n",
       "      <td>0.0</td>\n",
       "      <td>0.0</td>\n",
       "      <td>0.0</td>\n",
       "      <td>0.0</td>\n",
       "      <td>1.0</td>\n",
       "      <td>0.0</td>\n",
       "      <td>0.0</td>\n",
       "      <td>0.0</td>\n",
       "      <td>0.0</td>\n",
       "      <td>0.0</td>\n",
       "    </tr>\n",
       "  </tbody>\n",
       "</table>\n",
       "<p>7 rows × 29 columns</p>\n",
       "</div>"
      ],
      "text/plain": [
       "   PassengerId  Survived  Pclass        Age  SibSp  Parch     Fare  \\\n",
       "0          1.0       0.0     3.0  22.000000    1.0    0.0   7.2500   \n",
       "1          2.0       1.0     1.0  38.000000    1.0    0.0  71.2833   \n",
       "2          3.0       1.0     3.0  26.000000    0.0    0.0   7.9250   \n",
       "3          4.0       1.0     1.0  35.000000    1.0    0.0  53.1000   \n",
       "4          5.0       0.0     3.0  35.000000    0.0    0.0   8.0500   \n",
       "5          6.0       0.0     3.0  23.979451    0.0    0.0   8.4583   \n",
       "6          7.0       0.0     1.0  54.000000    0.0    0.0  51.8625   \n",
       "\n",
       "   Sex_female  Sex_male  Embarked_C         ...          title_Master  \\\n",
       "0         0.0       1.0         0.0         ...                   0.0   \n",
       "1         1.0       0.0         1.0         ...                   0.0   \n",
       "2         1.0       0.0         0.0         ...                   0.0   \n",
       "3         1.0       0.0         0.0         ...                   0.0   \n",
       "4         0.0       1.0         0.0         ...                   0.0   \n",
       "5         0.0       1.0         0.0         ...                   0.0   \n",
       "6         0.0       1.0         0.0         ...                   0.0   \n",
       "\n",
       "   title_Miss  title_Mlle  title_Mme  title_Mr  title_Mrs  title_Ms  \\\n",
       "0         0.0         0.0        0.0       1.0        0.0       0.0   \n",
       "1         0.0         0.0        0.0       0.0        1.0       0.0   \n",
       "2         1.0         0.0        0.0       0.0        0.0       0.0   \n",
       "3         0.0         0.0        0.0       0.0        1.0       0.0   \n",
       "4         0.0         0.0        0.0       1.0        0.0       0.0   \n",
       "5         0.0         0.0        0.0       1.0        0.0       0.0   \n",
       "6         0.0         0.0        0.0       1.0        0.0       0.0   \n",
       "\n",
       "   title_Rev  title_Sir  title_the Countess  \n",
       "0        0.0        0.0                 0.0  \n",
       "1        0.0        0.0                 0.0  \n",
       "2        0.0        0.0                 0.0  \n",
       "3        0.0        0.0                 0.0  \n",
       "4        0.0        0.0                 0.0  \n",
       "5        0.0        0.0                 0.0  \n",
       "6        0.0        0.0                 0.0  \n",
       "\n",
       "[7 rows x 29 columns]"
      ]
     },
     "execution_count": 104,
     "metadata": {},
     "output_type": "execute_result"
    }
   ],
   "source": [
    "fill = MatrixFactorization()\n",
    "filled = fill.fit_transform(df_model)\n",
    "df_model = pd.DataFrame(filled, columns=df_model.columns.values)\n",
    "df_model.head(7)"
   ]
  },
  {
   "cell_type": "code",
   "execution_count": 105,
   "metadata": {},
   "outputs": [
    {
     "data": {
      "text/plain": [
       "0.7847533632286996"
      ]
     },
     "execution_count": 105,
     "metadata": {},
     "output_type": "execute_result"
    }
   ],
   "source": [
    "X_train, X_test, y_train, y_test = train_test_split(df_model.drop(\"Survived\",1),df_model.Survived, random_state = 42)\n",
    "sc = StandardScaler()\n",
    "X_train = sc.fit_transform(X_train)\n",
    "X_test = sc.transform(X_test)\n",
    "\n",
    "rfc = RandomForestClassifier()\n",
    "\n",
    "model=rfc.fit(X_train,y_train)\n",
    "pred_rfc = rfc.predict(X_test)\n",
    "pred_rfc_train = rfc.predict(X_train)\n",
    "model.score(X_test,y_test)"
   ]
  },
  {
   "cell_type": "code",
   "execution_count": 106,
   "metadata": {},
   "outputs": [
    {
     "data": {
      "text/plain": [
       "<matplotlib.axes._subplots.AxesSubplot at 0x7fb68c72a978>"
      ]
     },
     "execution_count": 106,
     "metadata": {},
     "output_type": "execute_result"
    },
    {
     "data": {
      "image/png": "[encoded data removed]",
      "text/plain": [
       "<Figure size 432x288 with 1 Axes>"
      ]
     },
     "metadata": {},
     "output_type": "display_data"
    }
   ],
   "source": [
    "sns.set(style=\"darkgrid\")\n",
    "data = confusion_matrix(y_test,pred_rfc)\n",
    "sns.heatmap(data,annot = True, fmt='g', cbar=False)"
   ]
  },
  {
   "cell_type": "code",
   "execution_count": 107,
   "metadata": {},
   "outputs": [],
   "source": [
    "df_model = make_model_df(['Name','Ticket','known_age'])\n",
    "df_model.Age.where(df_model.Age>0,np.NaN,inplace=True)"
   ]
  },
  {
   "cell_type": "code",
   "execution_count": 108,
   "metadata": {},
   "outputs": [],
   "source": [
    "from fancyimpute import NuclearNormMinimization"
   ]
  },
  {
   "cell_type": "code",
   "execution_count": 109,
   "metadata": {},
   "outputs": [
    {
     "name": "stdout",
     "output_type": "stream",
     "text": [
      "----------------------------------------------------------------------------\n",
      "\tSCS v2.0.2 - Splitting Conic Solver\n",
      "\t(c) Brendan O'Donoghue, Stanford University, 2012-2017\n",
      "----------------------------------------------------------------------------\n",
      "Lin-sys: sparse-direct, nnz in A = 601934\n",
      "eps = 1.00e-05, alpha = 1.50, max_iters = 50000, normalize = 1, scale = 1.00\n",
      "acceleration_lookback = 20, rho_x = 1.00e-03\n",
      "Variables n = 473383, constraints m = 524945\n",
      "Cones:\tprimal zero / dual free vars: 25781\n",
      "\tlinear vars: 77343\n",
      "\tsd vars: 421821, sd blks: 1\n",
      "Setup time: 2.84e-01s\n",
      "----------------------------------------------------------------------------\n",
      " Iter | pri res | dua res | rel gap | pri obj | dua obj | kap/tau | time (s)\n",
      "----------------------------------------------------------------------------\n",
      "     0| 7.90e+21  6.75e+21  1.00e+00 -2.06e+27  2.18e+26  8.93e+26  6.67e-01 \n",
      "   100| 3.81e-03  3.13e-03  1.79e-03  1.76e+04  1.75e+04  1.91e-11  6.61e+01 \n",
      "   200| 6.86e-04  6.27e-04  4.17e-04  1.77e+04  1.77e+04  9.79e-11  1.27e+02 \n",
      "   300| 4.05e-04  3.01e-04  6.02e-05  1.77e+04  1.77e+04  1.90e-11  1.88e+02 \n",
      "   400| 1.66e-04  1.34e-04  1.91e-05  1.77e+04  1.77e+04  8.29e-12  2.50e+02 \n",
      "   500| 4.24e-05  3.57e-05  6.55e-07  1.77e+04  1.77e+04  2.53e-13  3.10e+02 \n",
      "   600| 8.04e-04  7.94e-04  1.39e-06  1.77e+04  1.77e+04  1.55e-11  3.70e+02 \n",
      "   700| 8.88e-05  7.89e-05  6.31e-07  1.77e+04  1.77e+04  2.81e-11  4.30e+02 \n",
      "   800| 3.51e-04  3.48e-04  8.13e-07  1.77e+04  1.77e+04  5.95e-12  4.87e+02 \n",
      "   900| 2.58e-04  2.54e-04  9.24e-07  1.77e+04  1.77e+04  1.90e-10  5.47e+02 \n",
      "  1000| 2.00e-04  2.00e-04  3.27e-07  1.77e+04  1.77e+04  5.09e-12  6.13e+02 \n",
      "  1100| 4.68e-04  4.65e-04  8.12e-06  1.77e+04  1.77e+04  3.98e-11  6.69e+02 \n",
      "  1200| 6.06e-05  5.19e-05  5.11e-07  1.77e+04  1.77e+04  3.18e-11  7.26e+02 \n",
      "  1300| 1.40e-05  1.29e-05  3.35e-07  1.77e+04  1.77e+04  4.53e-12  7.82e+02 \n",
      "  1400| 4.31e-05  4.10e-05  4.98e-07  1.77e+04  1.77e+04  5.42e-12  8.37e+02 \n",
      "  1500| 3.94e-05  3.93e-05  4.98e-07  1.77e+04  1.77e+04  1.25e-11  8.93e+02 \n",
      "  1600| 4.06e-05  3.70e-05  4.98e-07  1.77e+04  1.77e+04  1.88e-11  9.48e+02 \n",
      "  1700| 7.51e-05  6.72e-05  8.50e-07  1.77e+04  1.77e+04  3.44e-11  1.01e+03 \n",
      "  1800| 8.96e-05  8.76e-05  4.98e-07  1.77e+04  1.77e+04  8.27e-12  1.07e+03 \n",
      "  1840| 9.18e-06  8.53e-06  4.97e-07  1.77e+04  1.77e+04  1.23e-11  1.09e+03 \n",
      "----------------------------------------------------------------------------\n",
      "Status: Solved\n",
      "Timing: Solve time: 1.09e+03s\n",
      "\tLin-sys: nnz in L factor: 1625866, avg solve time: 1.09e-02s\n",
      "\tCones: avg projection time: 4.05e-01s\n",
      "\tAcceleration: avg step time: 1.42e-01s\n",
      "----------------------------------------------------------------------------\n",
      "Error metrics:\n",
      "dist(s, K) = 9.0343e-03, dist(y, K*) = 4.0327e-02, s'y/|s||y| = 5.1555e-12\n",
      "primal res: |Ax + s - b|_2 / (1 + |b|_2) = 9.1799e-06\n",
      "dual res:   |A'y + c|_2 / (1 + |c|_2) = 8.5325e-06\n",
      "rel gap:    |c'x + b'y| / (1 + |c'x| + |b'y|) = 4.9742e-07\n",
      "----------------------------------------------------------------------------\n",
      "c'x = 17668.6553, -b'y = 17668.6377\n",
      "============================================================================\n"
     ]
    },
    {
     "data": {
      "text/html": [
       "<div>\n",
       "<style scoped>\n",
       "    .dataframe tbody tr th:only-of-type {\n",
       "        vertical-align: middle;\n",
       "    }\n",
       "\n",
       "    .dataframe tbody tr th {\n",
       "        vertical-align: top;\n",
       "    }\n",
       "\n",
       "    .dataframe thead th {\n",
       "        text-align: right;\n",
       "    }\n",
       "</style>\n",
       "<table border=\"1\" class=\"dataframe\">\n",
       "  <thead>\n",
       "    <tr style=\"text-align: right;\">\n",
       "      <th></th>\n",
       "      <th>PassengerId</th>\n",
       "      <th>Survived</th>\n",
       "      <th>Pclass</th>\n",
       "      <th>Age</th>\n",
       "      <th>SibSp</th>\n",
       "      <th>Parch</th>\n",
       "      <th>Fare</th>\n",
       "      <th>Sex_female</th>\n",
       "      <th>Sex_male</th>\n",
       "      <th>Embarked_C</th>\n",
       "      <th>...</th>\n",
       "      <th>title_Master</th>\n",
       "      <th>title_Miss</th>\n",
       "      <th>title_Mlle</th>\n",
       "      <th>title_Mme</th>\n",
       "      <th>title_Mr</th>\n",
       "      <th>title_Mrs</th>\n",
       "      <th>title_Ms</th>\n",
       "      <th>title_Rev</th>\n",
       "      <th>title_Sir</th>\n",
       "      <th>title_the Countess</th>\n",
       "    </tr>\n",
       "  </thead>\n",
       "  <tbody>\n",
       "    <tr>\n",
       "      <th>0</th>\n",
       "      <td>1.0</td>\n",
       "      <td>0.0</td>\n",
       "      <td>3.0</td>\n",
       "      <td>22.000000</td>\n",
       "      <td>1.0</td>\n",
       "      <td>0.0</td>\n",
       "      <td>7.2500</td>\n",
       "      <td>0.0</td>\n",
       "      <td>1.0</td>\n",
       "      <td>0.0</td>\n",
       "      <td>...</td>\n",
       "      <td>0.0</td>\n",
       "      <td>0.0</td>\n",
       "      <td>0.0</td>\n",
       "      <td>0.0</td>\n",
       "      <td>1.0</td>\n",
       "      <td>0.0</td>\n",
       "      <td>0.0</td>\n",
       "      <td>0.0</td>\n",
       "      <td>0.0</td>\n",
       "      <td>0.0</td>\n",
       "    </tr>\n",
       "    <tr>\n",
       "      <th>1</th>\n",
       "      <td>2.0</td>\n",
       "      <td>1.0</td>\n",
       "      <td>1.0</td>\n",
       "      <td>38.000000</td>\n",
       "      <td>1.0</td>\n",
       "      <td>0.0</td>\n",
       "      <td>71.2833</td>\n",
       "      <td>1.0</td>\n",
       "      <td>0.0</td>\n",
       "      <td>1.0</td>\n",
       "      <td>...</td>\n",
       "      <td>0.0</td>\n",
       "      <td>0.0</td>\n",
       "      <td>0.0</td>\n",
       "      <td>0.0</td>\n",
       "      <td>0.0</td>\n",
       "      <td>1.0</td>\n",
       "      <td>0.0</td>\n",
       "      <td>0.0</td>\n",
       "      <td>0.0</td>\n",
       "      <td>0.0</td>\n",
       "    </tr>\n",
       "    <tr>\n",
       "      <th>2</th>\n",
       "      <td>3.0</td>\n",
       "      <td>1.0</td>\n",
       "      <td>3.0</td>\n",
       "      <td>26.000000</td>\n",
       "      <td>0.0</td>\n",
       "      <td>0.0</td>\n",
       "      <td>7.9250</td>\n",
       "      <td>1.0</td>\n",
       "      <td>0.0</td>\n",
       "      <td>0.0</td>\n",
       "      <td>...</td>\n",
       "      <td>0.0</td>\n",
       "      <td>1.0</td>\n",
       "      <td>0.0</td>\n",
       "      <td>0.0</td>\n",
       "      <td>0.0</td>\n",
       "      <td>0.0</td>\n",
       "      <td>0.0</td>\n",
       "      <td>0.0</td>\n",
       "      <td>0.0</td>\n",
       "      <td>0.0</td>\n",
       "    </tr>\n",
       "    <tr>\n",
       "      <th>3</th>\n",
       "      <td>4.0</td>\n",
       "      <td>1.0</td>\n",
       "      <td>1.0</td>\n",
       "      <td>35.000000</td>\n",
       "      <td>1.0</td>\n",
       "      <td>0.0</td>\n",
       "      <td>53.1000</td>\n",
       "      <td>1.0</td>\n",
       "      <td>0.0</td>\n",
       "      <td>0.0</td>\n",
       "      <td>...</td>\n",
       "      <td>0.0</td>\n",
       "      <td>0.0</td>\n",
       "      <td>0.0</td>\n",
       "      <td>0.0</td>\n",
       "      <td>0.0</td>\n",
       "      <td>1.0</td>\n",
       "      <td>0.0</td>\n",
       "      <td>0.0</td>\n",
       "      <td>0.0</td>\n",
       "      <td>0.0</td>\n",
       "    </tr>\n",
       "    <tr>\n",
       "      <th>4</th>\n",
       "      <td>5.0</td>\n",
       "      <td>0.0</td>\n",
       "      <td>3.0</td>\n",
       "      <td>35.000000</td>\n",
       "      <td>0.0</td>\n",
       "      <td>0.0</td>\n",
       "      <td>8.0500</td>\n",
       "      <td>0.0</td>\n",
       "      <td>1.0</td>\n",
       "      <td>0.0</td>\n",
       "      <td>...</td>\n",
       "      <td>0.0</td>\n",
       "      <td>0.0</td>\n",
       "      <td>0.0</td>\n",
       "      <td>0.0</td>\n",
       "      <td>1.0</td>\n",
       "      <td>0.0</td>\n",
       "      <td>0.0</td>\n",
       "      <td>0.0</td>\n",
       "      <td>0.0</td>\n",
       "      <td>0.0</td>\n",
       "    </tr>\n",
       "    <tr>\n",
       "      <th>5</th>\n",
       "      <td>6.0</td>\n",
       "      <td>0.0</td>\n",
       "      <td>3.0</td>\n",
       "      <td>2.629538</td>\n",
       "      <td>0.0</td>\n",
       "      <td>0.0</td>\n",
       "      <td>8.4583</td>\n",
       "      <td>0.0</td>\n",
       "      <td>1.0</td>\n",
       "      <td>0.0</td>\n",
       "      <td>...</td>\n",
       "      <td>0.0</td>\n",
       "      <td>0.0</td>\n",
       "      <td>0.0</td>\n",
       "      <td>0.0</td>\n",
       "      <td>1.0</td>\n",
       "      <td>0.0</td>\n",
       "      <td>0.0</td>\n",
       "      <td>0.0</td>\n",
       "      <td>0.0</td>\n",
       "      <td>0.0</td>\n",
       "    </tr>\n",
       "    <tr>\n",
       "      <th>6</th>\n",
       "      <td>7.0</td>\n",
       "      <td>0.0</td>\n",
       "      <td>1.0</td>\n",
       "      <td>54.000000</td>\n",
       "      <td>0.0</td>\n",
       "      <td>0.0</td>\n",
       "      <td>51.8625</td>\n",
       "      <td>0.0</td>\n",
       "      <td>1.0</td>\n",
       "      <td>0.0</td>\n",
       "      <td>...</td>\n",
       "      <td>0.0</td>\n",
       "      <td>0.0</td>\n",
       "      <td>0.0</td>\n",
       "      <td>0.0</td>\n",
       "      <td>1.0</td>\n",
       "      <td>0.0</td>\n",
       "      <td>0.0</td>\n",
       "      <td>0.0</td>\n",
       "      <td>0.0</td>\n",
       "      <td>0.0</td>\n",
       "    </tr>\n",
       "  </tbody>\n",
       "</table>\n",
       "<p>7 rows × 29 columns</p>\n",
       "</div>"
      ],
      "text/plain": [
       "   PassengerId  Survived  Pclass        Age  SibSp  Parch     Fare  \\\n",
       "0          1.0       0.0     3.0  22.000000    1.0    0.0   7.2500   \n",
       "1          2.0       1.0     1.0  38.000000    1.0    0.0  71.2833   \n",
       "2          3.0       1.0     3.0  26.000000    0.0    0.0   7.9250   \n",
       "3          4.0       1.0     1.0  35.000000    1.0    0.0  53.1000   \n",
       "4          5.0       0.0     3.0  35.000000    0.0    0.0   8.0500   \n",
       "5          6.0       0.0     3.0   2.629538    0.0    0.0   8.4583   \n",
       "6          7.0       0.0     1.0  54.000000    0.0    0.0  51.8625   \n",
       "\n",
       "   Sex_female  Sex_male  Embarked_C         ...          title_Master  \\\n",
       "0         0.0       1.0         0.0         ...                   0.0   \n",
       "1         1.0       0.0         1.0         ...                   0.0   \n",
       "2         1.0       0.0         0.0         ...                   0.0   \n",
       "3         1.0       0.0         0.0         ...                   0.0   \n",
       "4         0.0       1.0         0.0         ...                   0.0   \n",
       "5         0.0       1.0         0.0         ...                   0.0   \n",
       "6         0.0       1.0         0.0         ...                   0.0   \n",
       "\n",
       "   title_Miss  title_Mlle  title_Mme  title_Mr  title_Mrs  title_Ms  \\\n",
       "0         0.0         0.0        0.0       1.0        0.0       0.0   \n",
       "1         0.0         0.0        0.0       0.0        1.0       0.0   \n",
       "2         1.0         0.0        0.0       0.0        0.0       0.0   \n",
       "3         0.0         0.0        0.0       0.0        1.0       0.0   \n",
       "4         0.0         0.0        0.0       1.0        0.0       0.0   \n",
       "5         0.0         0.0        0.0       1.0        0.0       0.0   \n",
       "6         0.0         0.0        0.0       1.0        0.0       0.0   \n",
       "\n",
       "   title_Rev  title_Sir  title_the Countess  \n",
       "0        0.0        0.0                 0.0  \n",
       "1        0.0        0.0                 0.0  \n",
       "2        0.0        0.0                 0.0  \n",
       "3        0.0        0.0                 0.0  \n",
       "4        0.0        0.0                 0.0  \n",
       "5        0.0        0.0                 0.0  \n",
       "6        0.0        0.0                 0.0  \n",
       "\n",
       "[7 rows x 29 columns]"
      ]
     },
     "execution_count": 109,
     "metadata": {},
     "output_type": "execute_result"
    }
   ],
   "source": [
    "fill = NuclearNormMinimization()\n",
    "filled = fill.fit_transform(df_model)\n",
    "df_model = pd.DataFrame(filled, columns=df_model.columns.values)\n",
    "df_model.head(7)"
   ]
  },
  {
   "cell_type": "code",
   "execution_count": 110,
   "metadata": {},
   "outputs": [
    {
     "data": {
      "text/plain": [
       "0.7892376681614349"
      ]
     },
     "execution_count": 110,
     "metadata": {},
     "output_type": "execute_result"
    }
   ],
   "source": [
    "X_train, X_test, y_train, y_test = train_test_split(df_model.drop(\"Survived\",1),df_model.Survived, random_state = 42)\n",
    "sc = StandardScaler()\n",
    "X_train = sc.fit_transform(X_train)\n",
    "X_test = sc.transform(X_test)\n",
    "\n",
    "rfc = RandomForestClassifier()\n",
    "\n",
    "model=rfc.fit(X_train,y_train)\n",
    "pred_rfc = rfc.predict(X_test)\n",
    "pred_rfc_train = rfc.predict(X_train)\n",
    "model.score(X_test,y_test)"
   ]
  },
  {
   "cell_type": "code",
   "execution_count": 111,
   "metadata": {},
   "outputs": [
    {
     "data": {
      "text/plain": [
       "<matplotlib.axes._subplots.AxesSubplot at 0x7fb68c7c4278>"
      ]
     },
     "execution_count": 111,
     "metadata": {},
     "output_type": "execute_result"
    },
    {
     "data": {
      "image/png": "[encoded data removed]",
      "text/plain": [
       "<Figure size 432x288 with 1 Axes>"
      ]
     },
     "metadata": {},
     "output_type": "display_data"
    }
   ],
   "source": [
    "sns.set(style=\"darkgrid\")\n",
    "data = confusion_matrix(y_test,pred_rfc)\n",
    "sns.heatmap(data,annot = True, fmt='g', cbar=False)"
   ]
  },
  {
   "cell_type": "code",
   "execution_count": null,
   "metadata": {},
   "outputs": [],
   "source": []
  }
 ],
 "metadata": {
  "kernelspec": {
   "display_name": "Python 3",
   "language": "python",
   "name": "python3"
  },
  "language_info": {
   "codemirror_mode": {
    "name": "ipython",
    "version": 3
   },
   "file_extension": ".py",
   "mimetype": "text/x-python",
   "name": "python",
   "nbconvert_exporter": "python",
   "pygments_lexer": "ipython3",
   "version": "3.6.5"
  }
 },
 "nbformat": 4,
 "nbformat_minor": 2
}
